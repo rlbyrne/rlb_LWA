{
 "cells": [
  {
   "cell_type": "code",
   "execution_count": 7,
   "metadata": {},
   "outputs": [
    {
     "name": "stdout",
     "output_type": "stream",
     "text": [
      "WARNING: SSINS import failed. Some functionality will be unavailable.\n"
     ]
    }
   ],
   "source": [
    "import pyuvdata\n",
    "import numpy as np\n",
    "import sys\n",
    "sys.path.append(\"/opt/devel/rbyrne/rlb_LWA/LWA_data_preprocessing\")\n",
    "import LWA_preprocessing"
   ]
  },
  {
   "cell_type": "code",
   "execution_count": 2,
   "metadata": {},
   "outputs": [],
   "source": [
    "calfits_file = \"/lustre/rbyrne/2024-03-03/20240303_093000-093151_41MHz_reprocess_Dec2024.calfits\"\n",
    "data_filepath = \"/lustre/rbyrne/2024-03-03/20240303_093000-093151_41MHz_reprocess_Dec2024.ms\"\n",
    "model_file_name = data_filepath.replace(\".ms\", \"_model.ms\")"
   ]
  },
  {
   "cell_type": "code",
   "execution_count": 3,
   "metadata": {},
   "outputs": [],
   "source": [
    "flag_ants = [\n",
    "    \"LWA009\",\n",
    "    \"LWA041\",\n",
    "    \"LWA044\",\n",
    "    \"LWA052\",\n",
    "    \"LWA058\",\n",
    "    \"LWA076\",\n",
    "    \"LWA095\",\n",
    "    \"LWA105\",\n",
    "    \"LWA111\",\n",
    "    \"LWA120\",\n",
    "    \"LWA124\",\n",
    "    \"LWA138\",\n",
    "    \"LWA150\",\n",
    "    \"LWA159\",\n",
    "    \"LWA191\",\n",
    "    \"LWA204\",\n",
    "    \"LWA208\",\n",
    "    \"LWA209\",\n",
    "    \"LWA232\",\n",
    "    \"LWA234\",\n",
    "    \"LWA255\",\n",
    "    \"LWA267\",\n",
    "    \"LWA280\",\n",
    "    \"LWA288\",\n",
    "    \"LWA292\",\n",
    "    \"LWA302\",\n",
    "    \"LWA307\",\n",
    "    \"LWA309\",\n",
    "    \"LWA310\",\n",
    "    \"LWA314\",\n",
    "    \"LWA325\",\n",
    "    \"LWA341\",\n",
    "    \"LWA352\",\n",
    "    \"LWA364\",\n",
    "    \"LWA365\",\n",
    "]"
   ]
  },
  {
   "cell_type": "code",
   "execution_count": 4,
   "metadata": {},
   "outputs": [
    {
     "name": "stdout",
     "output_type": "stream",
     "text": [
      "Reading file /lustre/rbyrne/2024-03-03/20240303_093000-093151_41MHz_reprocess_Dec2024.ms.\n"
     ]
    },
    {
     "name": "stderr",
     "output_type": "stream",
     "text": [
      "The uvw_array does not match the expected values given the antenna positions. The largest discrepancy is 4024.7789143058576 meters. This is a fairly common situation but might indicate an error in the antenna positions, the uvws or the phasing.\n",
      "Recalculating uvw_array without adjusting visibility phases -- this can introduce significant errors if used incorrectly.\n"
     ]
    }
   ],
   "source": [
    "uv = pyuvdata.UVData()\n",
    "print(f\"Reading file {data_filepath}.\")\n",
    "uv.read(data_filepath, data_column=\"DATA\")\n",
    "uv.set_uvws_from_antenna_positions(update_vis=False)\n",
    "uv.data_array = np.conj(uv.data_array)\n",
    "uv.phase_to_time(np.mean(uv.time_array))"
   ]
  },
  {
   "cell_type": "code",
   "execution_count": 8,
   "metadata": {},
   "outputs": [],
   "source": [
    "# Flag outriggers\n",
    "LWA_preprocessing.flag_outriggers(\n",
    "    uv,\n",
    "    inplace=True,\n",
    "    remove_outriggers=True,\n",
    ")"
   ]
  },
  {
   "cell_type": "code",
   "execution_count": 9,
   "metadata": {},
   "outputs": [],
   "source": [
    "# Flag antennas\n",
    "LWA_preprocessing.flag_antennas(\n",
    "    uv,\n",
    "    antenna_names=flag_ants,\n",
    "    flag_pol=\"all\",  # Options are \"all\", \"X\", \"Y\", \"XX\", \"YY\", \"XY\", or \"YX\"\n",
    "    inplace=True,\n",
    ")"
   ]
  },
  {
   "cell_type": "code",
   "execution_count": 10,
   "metadata": {},
   "outputs": [
    {
     "name": "stderr",
     "output_type": "stream",
     "text": [
      "gain_scale is not set, so there is no way to know what the resulting units are. For now, we assume that `gain_scale` matches whatever is on the UVData object (i.e. we do not change its units). Furthermore, all corrections concerning the pol_convention will be ignored.\n",
      "pol_convention is not specified on the UVCal object, and uvc_pol_convention was not specified. Tentatively assuming that the UVCal and UVData objects (implicitly) have the same convention.\n",
      "Neither uvd_pol_convention nor uvc_pol_convention are specified, so the resulting UVData object will have ambiguous convention. \n",
      "Times do not match between UVData and UVCal but time_check is False, so calibration will be applied anyway.\n",
      "UVData object does not have `x_orientation` specified but UVCal does. Matching based on `x` and `y` only \n",
      "antnums_to_baseline: found antenna numbers > 255, using 2048 baseline indexing.\n",
      "Found antenna numbers > 255 in this data set. This is permitted by UVFITS standards, but may cause the `importuvfits` utility within CASA to crash. If attempting to use this data set in CASA, consider using the measurement set writer method (`write_ms`) instead.\n"
     ]
    }
   ],
   "source": [
    "# Calibrate\n",
    "cal = pyuvdata.UVCal()\n",
    "cal.read_calfits(calfits_file)\n",
    "pyuvdata.utils.uvcalibrate(uv, cal, inplace=True, time_check=False)\n",
    "uv.write_uvfits(data_filepath.replace(\".ms\", \"_calibrated_core.uvfits\"))"
   ]
  },
  {
   "cell_type": "code",
   "execution_count": 11,
   "metadata": {},
   "outputs": [
    {
     "name": "stdout",
     "output_type": "stream",
     "text": [
      "Reading file /lustre/rbyrne/2024-03-03/20240303_093000-093151_41MHz_reprocess_Dec2024_model.ms.\n"
     ]
    },
    {
     "name": "stderr",
     "output_type": "stream",
     "text": [
      "The uvw_array does not match the expected values given the antenna positions. The largest discrepancy is 1.9095988568870794 meters. This is a fairly common situation but might indicate an error in the antenna positions, the uvws or the phasing.\n",
      "The entry name zenith_at_jd2460372.896482 is not unique inside the phase center catalog, adding anyways.\n",
      "The provided name zenith_at_jd2460372.896482 is already used but has different parameters. Adding another entry with the same name but a different ID and parameters.\n",
      "antnums_to_baseline: found antenna numbers > 255, using 2048 baseline indexing.\n",
      "Found antenna numbers > 255 in this data set. This is permitted by UVFITS standards, but may cause the `importuvfits` utility within CASA to crash. If attempting to use this data set in CASA, consider using the measurement set writer method (`write_ms`) instead.\n"
     ]
    }
   ],
   "source": [
    "model_uv = pyuvdata.UVData()\n",
    "print(f\"Reading file {model_file_name}.\")\n",
    "model_uv.read(model_file_name)\n",
    "model_uv.phase_to_time(np.mean(uv.time_array))\n",
    "# Flag outriggers\n",
    "LWA_preprocessing.flag_outriggers(\n",
    "    model_uv,\n",
    "    inplace=True,\n",
    "    remove_outriggers=True,\n",
    ")\n",
    "model_uv.write_uvfits(model_file_name.replace(\".ms\", \"_core.uvfits\"))"
   ]
  },
  {
   "cell_type": "code",
   "execution_count": 31,
   "metadata": {},
   "outputs": [
    {
     "name": "stderr",
     "output_type": "stream",
     "text": [
      "Keyword observer in _extra_keywords is different in the two objects. Taking the first object's entry.\n"
     ]
    }
   ],
   "source": [
    "uv.filename = [\"\"]\n",
    "model_uv.filename = [\"\"]\n",
    "uv.sum_vis(model_uv, difference=True, inplace=True, override_params=[\n",
    "    \"scan_number_array\", \"phase_center_id_array\", \"telescope\", \"phase_center_catalog\", \"filename\", \"phase_center_app_dec\", \"nsample_array\", \"integration_time\", \"phase_center_frame_pa\", \"flag_array\", \"uvw_array\", \"lst_array\", \"phase_center_app_ra\"\n",
    "])"
   ]
  },
  {
   "cell_type": "code",
   "execution_count": 32,
   "metadata": {},
   "outputs": [
    {
     "name": "stderr",
     "output_type": "stream",
     "text": [
      "antnums_to_baseline: found antenna numbers > 255, using 2048 baseline indexing.\n",
      "Found antenna numbers > 255 in this data set. This is permitted by UVFITS standards, but may cause the `importuvfits` utility within CASA to crash. If attempting to use this data set in CASA, consider using the measurement set writer method (`write_ms`) instead.\n"
     ]
    }
   ],
   "source": [
    "uv.write_uvfits(data_filepath.replace(\".ms\", \"_calibrated_res_core.uvfits\"))"
   ]
  },
  {
   "cell_type": "code",
   "execution_count": null,
   "metadata": {},
   "outputs": [],
   "source": []
  }
 ],
 "metadata": {
  "kernelspec": {
   "display_name": "py310",
   "language": "python",
   "name": "python3"
  },
  "language_info": {
   "codemirror_mode": {
    "name": "ipython",
    "version": 3
   },
   "file_extension": ".py",
   "mimetype": "text/x-python",
   "name": "python",
   "nbconvert_exporter": "python",
   "pygments_lexer": "ipython3",
   "version": "3.10.14"
  }
 },
 "nbformat": 4,
 "nbformat_minor": 2
}
