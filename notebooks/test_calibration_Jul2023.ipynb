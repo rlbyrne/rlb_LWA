{
 "cells": [
  {
   "cell_type": "code",
   "execution_count": 1,
   "id": "0119033b",
   "metadata": {},
   "outputs": [],
   "source": [
    "import numpy as np\n",
    "import pyuvdata\n",
    "import newcal\n",
    "import importlib\n",
    "importlib.reload(newcal)\n",
    "from newcal import calibration_optimization\n",
    "importlib.reload(calibration_optimization)\n",
    "from newcal import calibration_wrappers\n",
    "importlib.reload(calibration_wrappers)\n",
    "from newcal import cost_function_calculations\n",
    "importlib.reload(cost_function_calculations)\n",
    "import time\n",
    "import sympy"
   ]
  },
  {
   "cell_type": "code",
   "execution_count": 11,
   "id": "1620b190",
   "metadata": {},
   "outputs": [],
   "source": [
    "data = pyuvdata.UVData()\n",
    "data.read(\"/Users/ruby/Astro/test_calibration_Jul2023/20230309_225134_73MHz.ms\")"
   ]
  },
  {
   "cell_type": "code",
   "execution_count": 12,
   "id": "2add4121",
   "metadata": {},
   "outputs": [],
   "source": [
    "model = pyuvdata.UVData()\n",
    "model.read(\"/Users/ruby/Astro/test_calibration_Jul2023/20230309_225134_73MHz_model.uvfits\")"
   ]
  },
  {
   "cell_type": "code",
   "execution_count": 13,
   "id": "1d4cf958",
   "metadata": {},
   "outputs": [],
   "source": [
    "data.select(freq_chans=[90])\n",
    "model.select(freq_chans=[90])"
   ]
  },
  {
   "cell_type": "code",
   "execution_count": 14,
   "id": "6fb294b3",
   "metadata": {},
   "outputs": [
    {
     "name": "stderr",
     "output_type": "stream",
     "text": [
      "divide by zero encountered in true_divide\n"
     ]
    }
   ],
   "source": [
    "(\n",
    "    gains_init,\n",
    "    Nants,\n",
    "    Nbls,\n",
    "    Ntimes,\n",
    "    Nfreqs,\n",
    "    N_feed_pols,\n",
    "    model_visibilities,\n",
    "    data_visibilities,\n",
    "    visibility_weights,\n",
    "    gains_exp_mat_1,\n",
    "    gains_exp_mat_2,\n",
    "    antenna_names,\n",
    ") = calibration_wrappers.uvdata_calibration_setup(\n",
    "    data,\n",
    "    model,\n",
    "    gain_init_calfile=None,\n",
    "    gain_init_stddev=0.0,\n",
    "    N_feed_pols=2,\n",
    "    min_cal_baseline=30,\n",
    ")"
   ]
  },
  {
   "cell_type": "code",
   "execution_count": 35,
   "id": "35792494",
   "metadata": {},
   "outputs": [
    {
     "name": "stdout",
     "output_type": "stream",
     "text": [
      "Optimization terminated successfully.\n",
      "         Current function value: 814791605889.980713\n",
      "         Iterations: 48\n",
      "         Function evaluations: 68\n",
      "         Gradient evaluations: 68\n",
      "         Hessian evaluations: 48\n",
      "Optimization terminated successfully.\n",
      "Optimization time: 0.8184708674748739 minutes\n",
      "Optimization terminated successfully.\n",
      "         Current function value: 655482456364.638672\n",
      "         Iterations: 31\n",
      "         Function evaluations: 36\n",
      "         Gradient evaluations: 36\n",
      "         Hessian evaluations: 31\n",
      "Optimization terminated successfully.\n",
      "Optimization time: 0.46125821272532147 minutes\n",
      "Optimization time: 1 frequency channels in 1.307828466097514 minutes\n",
      "78.47061896324158\n"
     ]
    }
   ],
   "source": [
    "start_time = time.time()\n",
    "gains_fit = calibration_wrappers.calibration_per_pol(\n",
    "    gains_init,\n",
    "    Nants,\n",
    "    Nbls,\n",
    "    Nfreqs,\n",
    "    N_feed_pols,\n",
    "    model_visibilities,\n",
    "    data_visibilities,\n",
    "    visibility_weights,\n",
    "    gains_exp_mat_1,\n",
    "    gains_exp_mat_2,\n",
    "    100,\n",
    "    xtol=1e-3,\n",
    "    parallel=False,\n",
    "    verbose=True,\n",
    ")\n",
    "print(time.time() - start_time)"
   ]
  },
  {
   "cell_type": "code",
   "execution_count": 7,
   "id": "e922178a",
   "metadata": {},
   "outputs": [
    {
     "name": "stdout",
     "output_type": "stream",
     "text": [
      "17159110543298.645\n"
     ]
    }
   ],
   "source": [
    "initial_cost = cost_function_calculations.cost_function_single_pol(\n",
    "    gains_init[:, 0, 0],\n",
    "    model_visibilities[:, :, 0, 0],\n",
    "    data_visibilities[:, :, 0, 0],\n",
    "    visibility_weights[:, :, 0, 0],\n",
    "    gains_exp_mat_1,\n",
    "    gains_exp_mat_2,\n",
    "    100,\n",
    ")\n",
    "print(initial_cost)"
   ]
  },
  {
   "cell_type": "code",
   "execution_count": 29,
   "id": "2fb57da3",
   "metadata": {},
   "outputs": [
    {
     "name": "stdout",
     "output_type": "stream",
     "text": [
      "0.2766449451446533\n"
     ]
    }
   ],
   "source": [
    "gains_init_flattened = np.stack(\n",
    "    (np.real(gains_init[:,0,0]), np.imag(gains_init[:,0,0])),\n",
    "    axis=0,\n",
    ").flatten()\n",
    "start_time = time.time()\n",
    "cost = calibration_optimization.cost_function_single_pol_wrapper(\n",
    "    gains_init_flattened,\n",
    "    Nants,\n",
    "    Nbls,\n",
    "    model_visibilities[:, :, 0, 0],\n",
    "    data_visibilities[:, :, 0, 0],\n",
    "    visibility_weights[:, :, 0, 0],\n",
    "    gains_exp_mat_1,\n",
    "    gains_exp_mat_2,\n",
    "    100,\n",
    ")\n",
    "print(time.time() - start_time)"
   ]
  },
  {
   "cell_type": "code",
   "execution_count": 32,
   "id": "543547c6",
   "metadata": {},
   "outputs": [
    {
     "name": "stdout",
     "output_type": "stream",
     "text": [
      "0.6730918884277344\n"
     ]
    }
   ],
   "source": [
    "start_time = time.time()\n",
    "jac = calibration_optimization.jacobian_single_pol_wrapper(\n",
    "    gains_init_flattened,\n",
    "    Nants,\n",
    "    Nbls,\n",
    "    model_visibilities[:, :, 0, 0],\n",
    "    data_visibilities[:, :, 0, 0],\n",
    "    visibility_weights[:, :, 0, 0],\n",
    "    gains_exp_mat_1,\n",
    "    gains_exp_mat_2,\n",
    "    100,\n",
    ")\n",
    "print(time.time() - start_time)"
   ]
  },
  {
   "cell_type": "code",
   "execution_count": 33,
   "id": "44c7c8ec",
   "metadata": {},
   "outputs": [
    {
     "name": "stdout",
     "output_type": "stream",
     "text": [
      "0.6498711109161377\n"
     ]
    }
   ],
   "source": [
    "start_time = time.time()\n",
    "hess = calibration_optimization.hessian_single_pol_wrapper(\n",
    "    gains_init_flattened,\n",
    "    Nants,\n",
    "    Nbls,\n",
    "    model_visibilities[:, :, 0, 0],\n",
    "    data_visibilities[:, :, 0, 0],\n",
    "    visibility_weights[:, :, 0, 0],\n",
    "    gains_exp_mat_1,\n",
    "    gains_exp_mat_2,\n",
    "    100,\n",
    ")\n",
    "print(time.time() - start_time)"
   ]
  },
  {
   "cell_type": "code",
   "execution_count": 3,
   "id": "a213bdf3",
   "metadata": {},
   "outputs": [
    {
     "data": {
      "text/plain": [
       "(Matrix([\n",
       " [1],\n",
       " [0]]),\n",
       " (0,))"
      ]
     },
     "execution_count": 3,
     "metadata": {},
     "output_type": "execute_result"
    }
   ],
   "source": [
    "sympy.Matrix([[2],[4]]).rref()"
   ]
  },
  {
   "cell_type": "code",
   "execution_count": null,
   "id": "de4580dd",
   "metadata": {},
   "outputs": [],
   "source": []
  }
 ],
 "metadata": {
  "kernelspec": {
   "display_name": "Python 3 (ipykernel)",
   "language": "python",
   "name": "python3"
  },
  "language_info": {
   "codemirror_mode": {
    "name": "ipython",
    "version": 3
   },
   "file_extension": ".py",
   "mimetype": "text/x-python",
   "name": "python",
   "nbconvert_exporter": "python",
   "pygments_lexer": "ipython3",
   "version": "3.8.8"
  }
 },
 "nbformat": 4,
 "nbformat_minor": 5
}
