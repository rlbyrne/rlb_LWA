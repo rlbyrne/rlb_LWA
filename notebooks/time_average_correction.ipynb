{
 "cells": [
  {
   "cell_type": "code",
   "execution_count": 1,
   "id": "8882a5ee",
   "metadata": {},
   "outputs": [],
   "source": [
    "import pyuvdata\n",
    "import numpy as np\n",
    "import matplotlib.pyplot as plt"
   ]
  },
  {
   "cell_type": "code",
   "execution_count": 2,
   "id": "a3d51f29",
   "metadata": {},
   "outputs": [],
   "source": [
    "path = '/Users/ruby/Astro/LWA_pyuvsim_simulations'\n",
    "sim_version = '100ms_sim'\n",
    "filename = f'OVRO-LWA_{sim_version}_results.uvfits'"
   ]
  },
  {
   "cell_type": "code",
   "execution_count": 3,
   "id": "a8877a70",
   "metadata": {},
   "outputs": [
    {
     "name": "stderr",
     "output_type": "stream",
     "text": [
      "Fixing auto-correlations to be be real-only, after some imaginary values were detected in data_array.\n"
     ]
    }
   ],
   "source": [
    "uv_unphased = pyuvdata.UVData()\n",
    "uv_unphased.read_uvfits(f\"{path}/{filename}\")\n",
    "uv_unphased.unphase_to_drift()"
   ]
  },
  {
   "cell_type": "code",
   "execution_count": 4,
   "id": "c778240d",
   "metadata": {},
   "outputs": [],
   "source": [
    "times = sorted(list(set(uv_unphased.time_array)))\n",
    "center_time = times[int(np.floor(len(times)/2))]\n",
    "uv_phased = uv_unphased.copy()\n",
    "uv_phased.phase_to_time(center_time)"
   ]
  },
  {
   "cell_type": "code",
   "execution_count": 5,
   "id": "0c61031b",
   "metadata": {},
   "outputs": [],
   "source": [
    "uv_center_time = uv_unphased.copy()\n",
    "uv_center_time.select(times=center_time)\n",
    "uv_center_time.phase_to_time(center_time)"
   ]
  },
  {
   "cell_type": "code",
   "execution_count": 6,
   "id": "246846f5",
   "metadata": {},
   "outputs": [],
   "source": [
    "# Ensure ordering matches\n",
    "if np.max(np.abs(uv_unphased.baseline_array - uv_phased.baseline_array)) > 0.0:\n",
    "    uv_unphased.reorder_blts()\n",
    "    uv_phased.reorder_blts()\n",
    "if np.max(np.abs(uv_unphased.freq_array - uv_phased.freq_array)) > 0.0:\n",
    "    uv_unphased.reorder_freqs(channel_order=\"freq\")\n",
    "    uv_phased.reorder_freqs(channel_order=\"freq\")"
   ]
  },
  {
   "cell_type": "code",
   "execution_count": 7,
   "id": "c00642e2",
   "metadata": {},
   "outputs": [
    {
     "name": "stdout",
     "output_type": "stream",
     "text": [
      "Data are in drift mode and allow_drift is True, so resampling will be done without phasing.\n"
     ]
    }
   ],
   "source": [
    "uv_phase_vals = uv_unphased.copy()\n",
    "uv_phase_vals.data_array = uv_unphased.data_array/uv_phased.data_array\n",
    "uv_phase_vals.downsample_in_time(n_times_to_avg=uv_phase_vals.Ntimes, allow_drift=True)"
   ]
  },
  {
   "cell_type": "code",
   "execution_count": 8,
   "id": "ffc616e0",
   "metadata": {},
   "outputs": [
    {
     "name": "stdout",
     "output_type": "stream",
     "text": [
      "Data are in drift mode and allow_drift is True, so resampling will be done without phasing.\n"
     ]
    }
   ],
   "source": [
    "uv_unphased.downsample_in_time(n_times_to_avg=uv_unphased.Ntimes, allow_drift=True)"
   ]
  },
  {
   "cell_type": "code",
   "execution_count": 9,
   "id": "4d28fedd",
   "metadata": {},
   "outputs": [],
   "source": [
    "uv_corrected = uv_unphased.copy()\n",
    "uv_corrected.data_array /= uv_phase_vals.data_array"
   ]
  },
  {
   "cell_type": "code",
   "execution_count": 10,
   "id": "f4991aec",
   "metadata": {},
   "outputs": [],
   "source": [
    "uv_corrected.phase_to_time(center_time)"
   ]
  },
  {
   "cell_type": "code",
   "execution_count": 11,
   "id": "f5663472",
   "metadata": {},
   "outputs": [],
   "source": [
    "uv_phased.downsample_in_time(n_times_to_avg=uv_phased.Ntimes)"
   ]
  },
  {
   "cell_type": "code",
   "execution_count": 12,
   "id": "6fc1326a",
   "metadata": {},
   "outputs": [],
   "source": [
    "nbins = 40\n",
    "bin_edges = np.linspace(0, 2400, num=nbins+1)"
   ]
  },
  {
   "cell_type": "code",
   "execution_count": 13,
   "id": "f1a55988",
   "metadata": {},
   "outputs": [],
   "source": [
    "def histogram_bls(uv, bin_edges):\n",
    "    nbins = len(bin_edges)-1\n",
    "    avg_amps = np.zeros(nbins, dtype=float)\n",
    "    for bin_ind in range(nbins):\n",
    "        bl_lengths = np.sqrt(np.sum(uv.uvw_array**2, axis=1))\n",
    "        use_bls = np.intersect1d(np.where(bl_lengths>bin_edges[bin_ind])[0], np.where(bl_lengths<bin_edges[bin_ind+1])[0])\n",
    "        if len(use_bls) > 0:\n",
    "            avg_amps_val = np.mean(np.abs(uv.data_array[use_bls, :, :, :]))\n",
    "            avg_amps[bin_ind] = avg_amps_val\n",
    "    return avg_amps"
   ]
  },
  {
   "cell_type": "code",
   "execution_count": 19,
   "id": "25d60c90",
   "metadata": {
    "scrolled": true
   },
   "outputs": [
    {
     "data": {
      "image/png": "[encoded data removed]",
      "text/plain": [
       "<Figure size 432x288 with 1 Axes>"
      ]
     },
     "metadata": {
      "needs_background": "light"
     },
     "output_type": "display_data"
    }
   ],
   "source": [
    "uv_correction_diff = uv_center_time.copy()\n",
    "uv_correction_diff.data_array -= uv_corrected.data_array\n",
    "correction_diff = histogram_bls(uv_correction_diff, bin_edges)\n",
    "\n",
    "uv_unphased_diff = uv_center_time.copy()\n",
    "uv_unphased_diff.data_array -= uv_unphased.data_array\n",
    "unphased_diff = histogram_bls(uv_unphased_diff, bin_edges)\n",
    "\n",
    "uv_phased_diff = uv_center_time.copy()\n",
    "uv_phased_diff.data_array -= uv_phased.data_array\n",
    "phased_diff = histogram_bls(uv_phased_diff, bin_edges)\n",
    "\n",
    "plt.plot(bin_edges[:-1], correction_diff, color='orange')\n",
    "plt.plot(bin_edges[:-1], unphased_diff, color='magenta')\n",
    "plt.plot(bin_edges[:-1], phased_diff, '--', color='blue')\n",
    "\n",
    "plt.xlabel(\"Baseline Length (m)\")\n",
    "plt.ylabel(\"Avg. Vis. Diff. (Jy)\")\n",
    "plt.xlim([0,np.max(bin_edges)])\n",
    "plt.ylim([0,2500])\n",
    "plt.title(\"10s Simulation\")\n",
    "plt.legend(['|Corrected-True|','|Unphased-True|','|Phased-True|'])\n",
    "plt.savefig(f\"{path}/{sim_version}_correction_plot.png\", dpi=400, facecolor='white')\n",
    "plt.show()"
   ]
  },
  {
   "cell_type": "code",
   "execution_count": 15,
   "id": "cf1aafbb",
   "metadata": {},
   "outputs": [],
   "source": [
    "def calc_fractional_error(uv_in, uv_true, bin_edges):\n",
    "    uv = uv_true.copy()\n",
    "    uv.data_array -= uv_in.data_array\n",
    "    \n",
    "    nbins = len(bin_edges)-1\n",
    "    avg_amps = np.zeros(nbins, dtype=float)\n",
    "    for bin_ind in range(nbins):\n",
    "        bl_lengths = np.sqrt(np.sum(uv.uvw_array**2, axis=1))\n",
    "        use_bls = np.intersect1d(np.where(bl_lengths>bin_edges[bin_ind])[0], np.where(bl_lengths<bin_edges[bin_ind+1])[0])\n",
    "        if len(use_bls) > 0:\n",
    "            avg_amps_val = np.mean(np.abs(uv.data_array[use_bls, :, :, :]))/np.mean(np.abs(uv_true.data_array[use_bls, :, :, :]))\n",
    "            avg_amps[bin_ind] = avg_amps_val\n",
    "    return avg_amps"
   ]
  },
  {
   "cell_type": "code",
   "execution_count": 22,
   "id": "dcdca797",
   "metadata": {},
   "outputs": [
    {
     "data": {
      "image/png": "[encoded data removed]",
      "text/plain": [
       "<Figure size 432x288 with 1 Axes>"
      ]
     },
     "metadata": {
      "needs_background": "light"
     },
     "output_type": "display_data"
    }
   ],
   "source": [
    "correction_diff = calc_fractional_error(uv_corrected, uv_center_time, bin_edges)\n",
    "\n",
    "unphased_diff = calc_fractional_error(uv_unphased, uv_center_time, bin_edges)\n",
    "\n",
    "phased_diff = calc_fractional_error(uv_phased, uv_center_time, bin_edges)\n",
    "\n",
    "plt.plot(bin_edges[:-1], correction_diff, color='orange')\n",
    "plt.plot(bin_edges[:-1], unphased_diff, color='magenta')\n",
    "plt.plot(bin_edges[:-1], phased_diff, '--', color='blue')\n",
    "\n",
    "plt.xlabel(\"Baseline Length (m)\")\n",
    "plt.ylabel(\"|Avg. Vis. Diff.|/|Avg. True Vis.|\")\n",
    "plt.xlim([0,np.max(bin_edges)])\n",
    "plt.ylim([0,1.1])\n",
    "plt.title(\"10s Simulation\")\n",
    "plt.legend(['|Corrected-True|','|Unphased-True|','|Phased-True|'])\n",
    "plt.savefig(f\"{path}/{sim_version}_frac_correction_plot.png\", dpi=400, facecolor='white')\n",
    "plt.show()"
   ]
  },
  {
   "cell_type": "code",
   "execution_count": 17,
   "id": "d232de16",
   "metadata": {},
   "outputs": [
    {
     "data": {
      "image/png": "[encoded data removed]",
      "text/plain": [
       "<Figure size 432x288 with 1 Axes>"
      ]
     },
     "metadata": {
      "needs_background": "light"
     },
     "output_type": "display_data"
    }
   ],
   "source": [
    "decorr_frac = uv_phase_vals.copy()\n",
    "decorr_frac.data_array = 1.-uv_phase_vals.data_array\n",
    "phase_vals = histogram_bls(decorr_frac, bin_edges)\n",
    "\n",
    "plt.plot(bin_edges[:-1], phase_vals, color='black')\n",
    "\n",
    "plt.xlabel(\"Baseline Length (m)\")\n",
    "plt.ylabel(\"Avg. Decorr. Frac.\")\n",
    "plt.xlim([0,np.max(bin_edges)])\n",
    "plt.ylim([0,1.1])\n",
    "plt.title(\"1h Simulation\")\n",
    "#plt.savefig(f\"{path}/{sim_version}_correction_plot.png\", dpi=400)\n",
    "plt.show()"
   ]
  },
  {
   "cell_type": "code",
   "execution_count": 18,
   "id": "1b19d247",
   "metadata": {},
   "outputs": [
    {
     "name": "stderr",
     "output_type": "stream",
     "text": [
      "antnums_to_baseline: found antenna numbers > 256, using 2048 baseline indexing. Beware compatibility with CASA etc\n",
      "Found antenna numbers > 256 in this data set. This is permitted by UVFITS standards, but may cause the `importuvfits` utility within CASA to crash. If attempting to use this data set in CASA, consider using the measurement set writer method (`write_ms`) instead.\n"
     ]
    }
   ],
   "source": [
    "uv_corrected.write_uvfits(f\"{path}/OVRO-LWA_{sim_version}_corrected.uvfits\")"
   ]
  },
  {
   "cell_type": "code",
   "execution_count": null,
   "id": "fee017d3",
   "metadata": {},
   "outputs": [],
   "source": []
  }
 ],
 "metadata": {
  "kernelspec": {
   "display_name": "Python 3 (ipykernel)",
   "language": "python",
   "name": "python3"
  },
  "language_info": {
   "codemirror_mode": {
    "name": "ipython",
    "version": 3
   },
   "file_extension": ".py",
   "mimetype": "text/x-python",
   "name": "python",
   "nbconvert_exporter": "python",
   "pygments_lexer": "ipython3",
   "version": "3.8.8"
  }
 },
 "nbformat": 4,
 "nbformat_minor": 5
}
