{
 "cells": [
  {
   "cell_type": "code",
   "execution_count": 1,
   "id": "7893bf7c-86e9-4cd5-b867-83028403dd83",
   "metadata": {
    "tags": []
   },
   "outputs": [],
   "source": [
    "%matplotlib inline"
   ]
  },
  {
   "cell_type": "code",
   "execution_count": 2,
   "id": "758297b6-46ca-4149-9b4b-fb6db0930538",
   "metadata": {
    "tags": []
   },
   "outputs": [],
   "source": [
    "from pathlib import Path\n",
    "\n",
    "import numpy as np\n",
    "from astropy import units\n",
    "from astropy.coordinates import AltAz, EarthLocation\n",
    "from astropy.time import Time, TimezoneInfo\n",
    "from astropy.visualization import quantity_support\n",
    "from astropy.units import Quantity\n",
    "\n",
    "from matplotlib import pyplot as plt\n",
    "from matplotlib.colors import Normalize, LogNorm\n",
    "from tqdm.notebook import tqdm\n",
    "\n",
    "from pyradiosky import SkyModel\n",
    "from pyuvdata import UVBeam, UVData\n",
    "from pyuvdata import utils as uvutils\n",
    "import pyuvdata\n",
    "from matvis import conversions, simulate_vis"
   ]
  },
  {
   "cell_type": "code",
   "execution_count": 3,
   "id": "95d530bc-f547-44c8-a79f-2b2703434acc",
   "metadata": {
    "tags": []
   },
   "outputs": [],
   "source": [
    "quantity_support();"
   ]
  },
  {
   "cell_type": "code",
   "execution_count": 4,
   "id": "a48decc8-9d2e-4439-940b-4b4d67b542fc",
   "metadata": {
    "tags": []
   },
   "outputs": [],
   "source": [
    "beam_file = Path(\"/Users/ruby/Astro/rlb_LWA/LWAbeam_2015.fits\")\n",
    "source_list = Path(\"/Users/ruby/Astro/mmode_maps_eastwood/ovro_lwa_sky_map_46.992MHz_nside128.skyh5\")\n",
    "# source_list = Path(\"/home/mkolopanis/simulations/catalogs/cyg_cas.skyh5\")"
   ]
  },
  {
   "cell_type": "code",
   "execution_count": 5,
   "id": "14ba9604-0255-4893-8922-fd5e669a0765",
   "metadata": {
    "tags": []
   },
   "outputs": [],
   "source": [
    "uvb = UVBeam.from_file(beam_file)\n",
    "if uvb.freq_interp_kind is None:\n",
    "    uvb.freq_interp_kind = \"linear\"\n",
    "if uvb.feed_array[0].lower() == \"e\":\n",
    "    pol_mapping = {\n",
    "        v: k for k, v in uvutils._x_orientation_rep_dict(uvb.x_orientation).items()\n",
    "    }\n",
    "    uvb.feed_array = np.array([pol_mapping[feed.lower()] for feed in uvb.feed_array])"
   ]
  },
  {
   "cell_type": "code",
   "execution_count": 6,
   "id": "b5eca3ac-53eb-4631-a64f-2e2ff5ed6639",
   "metadata": {
    "tags": []
   },
   "outputs": [],
   "source": [
    "uvb = uvb.interp(\n",
    "    uvb.axis1_array,\n",
    "    np.concatenate([[0], uvb.axis2_array]),\n",
    "    new_object=True,\n",
    "    az_za_grid=True,\n",
    ")"
   ]
  },
  {
   "cell_type": "code",
   "execution_count": 7,
   "id": "ee6b4b78-bfe3-4bd9-b5ea-ea42cc670d9c",
   "metadata": {
    "tags": []
   },
   "outputs": [
    {
     "name": "stderr",
     "output_type": "stream",
     "text": [
      "The uvw_array does not match the expected values given the antenna positions. The largest discrepancy is 7.707953018755234 meters. This is a fairly common situation but might indicate an error in the antenna positions, the uvws or the phasing.\n"
     ]
    }
   ],
   "source": [
    "uvd = UVData.from_file(\n",
    "    \"/Users/ruby/Astro/cal46_time11_conj.ms\",\n",
    "    read_data=False,\n",
    "    use_future_array_shapes=True,\n",
    ")"
   ]
  },
  {
   "cell_type": "code",
   "execution_count": 8,
   "id": "d5398714-200c-4f00-8812-6adc8d82033b",
   "metadata": {},
   "outputs": [
    {
     "name": "stdout",
     "output_type": "stream",
     "text": [
      "True\n"
     ]
    }
   ],
   "source": [
    "print(uvd.telescope_name == \"OVRO_MMA\")"
   ]
  },
  {
   "cell_type": "code",
   "execution_count": 9,
   "id": "bc5a0b31-c86d-428d-b1a3-909cf153013b",
   "metadata": {},
   "outputs": [
    {
     "name": "stdout",
     "output_type": "stream",
     "text": [
      "[-2409247.20369628 -4477889.56236559  3839327.82827939]\n",
      "[-2409316.83374267 -4477802.55448293  3839384.22255595]\n",
      "[-2409247.20369628 -4477889.56236559  3839327.82827939]\n"
     ]
    },
    {
     "name": "stderr",
     "output_type": "stream",
     "text": [
      "telescope_location, telescope_name are not set or are being overwritten. Using known values for OVRO-LWA.\n"
     ]
    }
   ],
   "source": [
    "# Correct telescope location\n",
    "telescope = pyuvdata.telescopes.get_telescope(\"OVRO-LWA\")\n",
    "print(telescope.telescope_location)\n",
    "print(uvd.telescope_location)\n",
    "uvd.telescope_name = \"OVRO-LWA\"\n",
    "uvd.set_telescope_params(overwrite=True, warn=True)\n",
    "print(uvd.telescope_location)"
   ]
  },
  {
   "cell_type": "code",
   "execution_count": 10,
   "id": "9baf1b37-6569-4f21-8f09-73b443d9726c",
   "metadata": {
    "tags": []
   },
   "outputs": [],
   "source": [
    "antpos, ants = uvd.get_ENU_antpos()\n",
    "antpos = {a: pos for (a, pos) in zip(ants, antpos)}\n",
    "uvdata_antpos = {int(a): tuple(pos) for (a, pos) in zip(ants, uvd.antenna_positions)}"
   ]
  },
  {
   "cell_type": "code",
   "execution_count": 11,
   "id": "b81208b4-ace5-4d24-bf56-9510146b85ca",
   "metadata": {
    "tags": []
   },
   "outputs": [],
   "source": [
    "beams = [uvb]\n",
    "beam_ids = np.zeros(len(antpos), dtype=np.uint8)"
   ]
  },
  {
   "cell_type": "code",
   "execution_count": 12,
   "id": "9e2e7120-de9c-4e36-a1ca-513dc0263b29",
   "metadata": {
    "tags": []
   },
   "outputs": [],
   "source": [
    "model = SkyModel.from_skyh5(source_list)\n",
    "model.at_frequencies(Quantity(uvd.freq_array, \"Hz\"))"
   ]
  },
  {
   "cell_type": "code",
   "execution_count": 13,
   "id": "0ec8fb5a-b4db-445b-aaf3-50c606b63ae1",
   "metadata": {
    "tags": []
   },
   "outputs": [
    {
     "data": {
      "text/plain": [
       "array([45554687.5    , 45578613.28125, 45602539.0625 , 45626464.84375,\n",
       "       45650390.625  , 45674316.40625, 45698242.1875 , 45722167.96875,\n",
       "       45746093.75   , 45770019.53125, 45793945.3125 , 45817871.09375,\n",
       "       45841796.875  , 45865722.65625, 45889648.4375 , 45913574.21875,\n",
       "       45937500.     , 45961425.78125, 45985351.5625 , 46009277.34375,\n",
       "       46033203.125  , 46057128.90625, 46081054.6875 , 46104980.46875,\n",
       "       46128906.25   , 46152832.03125, 46176757.8125 , 46200683.59375,\n",
       "       46224609.375  , 46248535.15625, 46272460.9375 , 46296386.71875,\n",
       "       46320312.5    , 46344238.28125, 46368164.0625 , 46392089.84375,\n",
       "       46416015.625  , 46439941.40625, 46463867.1875 , 46487792.96875,\n",
       "       46511718.75   , 46535644.53125, 46559570.3125 , 46583496.09375,\n",
       "       46607421.875  , 46631347.65625, 46655273.4375 , 46679199.21875,\n",
       "       46703125.     , 46727050.78125, 46750976.5625 , 46774902.34375,\n",
       "       46798828.125  , 46822753.90625, 46846679.6875 , 46870605.46875,\n",
       "       46894531.25   , 46918457.03125, 46942382.8125 , 46966308.59375,\n",
       "       46990234.375  , 47014160.15625, 47038085.9375 , 47062011.71875,\n",
       "       47085937.5    , 47109863.28125, 47133789.0625 , 47157714.84375,\n",
       "       47181640.625  , 47205566.40625, 47229492.1875 , 47253417.96875,\n",
       "       47277343.75   , 47301269.53125, 47325195.3125 , 47349121.09375,\n",
       "       47373046.875  , 47396972.65625, 47420898.4375 , 47444824.21875,\n",
       "       47468750.     , 47492675.78125, 47516601.5625 , 47540527.34375,\n",
       "       47564453.125  , 47588378.90625, 47612304.6875 , 47636230.46875,\n",
       "       47660156.25   , 47684082.03125, 47708007.8125 , 47731933.59375,\n",
       "       47755859.375  , 47779785.15625, 47803710.9375 , 47827636.71875,\n",
       "       47851562.5    , 47875488.28125, 47899414.0625 , 47923339.84375,\n",
       "       47947265.625  , 47971191.40625, 47995117.1875 , 48019042.96875,\n",
       "       48042968.75   , 48066894.53125, 48090820.3125 , 48114746.09375,\n",
       "       48138671.875  , 48162597.65625, 48186523.4375 , 48210449.21875,\n",
       "       48234375.     , 48258300.78125, 48282226.5625 , 48306152.34375,\n",
       "       48330078.125  , 48354003.90625, 48377929.6875 , 48401855.46875,\n",
       "       48425781.25   , 48449707.03125, 48473632.8125 , 48497558.59375,\n",
       "       48521484.375  , 48545410.15625, 48569335.9375 , 48593261.71875,\n",
       "       48617187.5    , 48641113.28125, 48665039.0625 , 48688964.84375,\n",
       "       48712890.625  , 48736816.40625, 48760742.1875 , 48784667.96875,\n",
       "       48808593.75   , 48832519.53125, 48856445.3125 , 48880371.09375,\n",
       "       48904296.875  , 48928222.65625, 48952148.4375 , 48976074.21875,\n",
       "       49000000.     , 49023925.78125, 49047851.5625 , 49071777.34375,\n",
       "       49095703.125  , 49119628.90625, 49143554.6875 , 49167480.46875,\n",
       "       49191406.25   , 49215332.03125, 49239257.8125 , 49263183.59375,\n",
       "       49287109.375  , 49311035.15625, 49334960.9375 , 49358886.71875,\n",
       "       49382812.5    , 49406738.28125, 49430664.0625 , 49454589.84375,\n",
       "       49478515.625  , 49502441.40625, 49526367.1875 , 49550292.96875,\n",
       "       49574218.75   , 49598144.53125, 49622070.3125 , 49645996.09375,\n",
       "       49669921.875  , 49693847.65625, 49717773.4375 , 49741699.21875,\n",
       "       49765625.     , 49789550.78125, 49813476.5625 , 49837402.34375,\n",
       "       49861328.125  , 49885253.90625, 49909179.6875 , 49933105.46875,\n",
       "       49957031.25   , 49980957.03125, 50004882.8125 , 50028808.59375,\n",
       "       50052734.375  , 50076660.15625, 50100585.9375 , 50124511.71875])"
      ]
     },
     "execution_count": 13,
     "metadata": {},
     "output_type": "execute_result"
    }
   ],
   "source": [
    "uvd.freq_array"
   ]
  },
  {
   "cell_type": "code",
   "execution_count": null,
   "id": "6fc9437d-bee9-41d0-b5f5-a68fbbdf9d71",
   "metadata": {},
   "outputs": [],
   "source": []
  },
  {
   "cell_type": "markdown",
   "id": "ca92c865-1b94-45d4-9cf4-758695deba7f",
   "metadata": {
    "execution": {
     "iopub.execute_input": "2023-10-30T18:53:24.657373Z",
     "iopub.status.busy": "2023-10-30T18:53:24.656949Z",
     "iopub.status.idle": "2023-10-30T18:53:24.660848Z",
     "shell.execute_reply": "2023-10-30T18:53:24.660567Z",
     "shell.execute_reply.started": "2023-10-30T18:53:24.657359Z"
    }
   },
   "source": [
    "data_files = sorted(\n",
    "    map(str, Path(\"/data10/rbyrne/20230523/\").glob(\"20230523_104458_*MHz.ms\"))\n",
    ")\n",
    "data_files[6:]"
   ]
  },
  {
   "cell_type": "markdown",
   "id": "6881d538-3497-4b38-b85a-09f4c1f67447",
   "metadata": {
    "execution": {
     "iopub.execute_input": "2023-10-27T22:42:50.376856Z",
     "iopub.status.busy": "2023-10-27T22:42:50.376614Z",
     "iopub.status.idle": "2023-10-27T22:43:02.343388Z",
     "shell.execute_reply": "2023-10-27T22:43:02.342839Z",
     "shell.execute_reply.started": "2023-10-27T22:42:50.376840Z"
    }
   },
   "source": [
    "uvd = UVData.from_file(data_files[6], read_data=False, use_future_array_shapes=True)\n",
    "uvd._uvw_array.tols = (0, 0.0015)\n",
    "for cnt in range(7, len(data_files)):\n",
    "    uvd2 = UVData.from_file(\n",
    "        data_files[cnt], read_data=False, use_future_array_shapes=True\n",
    "    )\n",
    "    uvd.fast_concat(uvd2, axis=\"freq\", inplace=True)"
   ]
  },
  {
   "cell_type": "code",
   "execution_count": 14,
   "id": "e59dc105-2b81-4f2d-9b09-764721d84a55",
   "metadata": {
    "tags": []
   },
   "outputs": [
    {
     "data": {
      "text/plain": [
       "'\\nuvd = uvd.select(\\n    frequencies=uvd.freq_array[\\n        np.logical_and(\\n            np.logical_and(\\n                uvd.freq_array >= uvb.freq_array.min(),\\n                uvd.freq_array <= uvb.freq_array.max(),\\n            ),\\n            # specify the freqs here (18,41) MHz low band (41-87) high band\\n            np.logical_and(\\n                np.logical_and(\\n                    uvd.freq_array >= 40e6,\\n                    uvd.freq_array <= 88e6,\\n                ),\\n                np.logical_and(\\n                    uvd.freq_array >= model.freq_array.min().to_value(\"Hz\"),\\n                    uvd.freq_array <= model.freq_array.max().to_value(\"Hz\"),\\n                ),\\n            ),\\n        )\\n    ],\\n    inplace=False,\\n)\\n'"
      ]
     },
     "execution_count": 14,
     "metadata": {},
     "output_type": "execute_result"
    }
   ],
   "source": [
    "\"\"\"\n",
    "uvd = uvd.select(\n",
    "    frequencies=uvd.freq_array[\n",
    "        np.logical_and(\n",
    "            np.logical_and(\n",
    "                uvd.freq_array >= uvb.freq_array.min(),\n",
    "                uvd.freq_array <= uvb.freq_array.max(),\n",
    "            ),\n",
    "            # specify the freqs here (18,41) MHz low band (41-87) high band\n",
    "            np.logical_and(\n",
    "                np.logical_and(\n",
    "                    uvd.freq_array >= 40e6,\n",
    "                    uvd.freq_array <= 88e6,\n",
    "                ),\n",
    "                np.logical_and(\n",
    "                    uvd.freq_array >= model.freq_array.min().to_value(\"Hz\"),\n",
    "                    uvd.freq_array <= model.freq_array.max().to_value(\"Hz\"),\n",
    "                ),\n",
    "            ),\n",
    "        )\n",
    "    ],\n",
    "    inplace=False,\n",
    ")\n",
    "\"\"\""
   ]
  },
  {
   "cell_type": "code",
   "execution_count": 15,
   "id": "53825eac-9a99-4dc1-a62c-9722a932fda5",
   "metadata": {
    "tags": []
   },
   "outputs": [],
   "source": [
    "lat, lon, alt = uvd.telescope_location_lat_lon_alt_degrees\n",
    "location = EarthLocation.from_geodetic(lat=lat, lon=lon, height=alt)"
   ]
  },
  {
   "cell_type": "code",
   "execution_count": 16,
   "id": "1367dcd5-2b28-488b-bc3d-e89382eb0ac8",
   "metadata": {
    "tags": []
   },
   "outputs": [],
   "source": [
    "#obstime = Time(\"2023-09-07T10:59:21Z\", format=\"isot\", scale=\"utc\", location=location)\n",
    "# obstime = Time(\"2023-09-07T08:59:21Z\", format=\"isot\", scale=\"utc\", location=location)\n",
    "obstime = Time(np.mean(uvd.time_array), format=\"jd\", scale=\"utc\", location=location)\n",
    "tz = TimezoneInfo(utc_offset=-7 * units.hour, dst=1 * units.hour)\n",
    "lst = obstime.sidereal_time(\"apparent\")"
   ]
  },
  {
   "cell_type": "code",
   "execution_count": 17,
   "id": "14c0eb8a-32f4-40f7-8706-80265e9d7472",
   "metadata": {
    "tags": []
   },
   "outputs": [
    {
     "data": {
      "text/plain": [
       "'2023-12-21T21:01:10.356314-07:00'"
      ]
     },
     "execution_count": 17,
     "metadata": {},
     "output_type": "execute_result"
    }
   ],
   "source": [
    "localtime = obstime.to_datetime(tz)\n",
    "localtime.isoformat()"
   ]
  },
  {
   "cell_type": "code",
   "execution_count": 18,
   "id": "bcbf7cf9-bf02-4e21-bfc1-8953d64e6ca3",
   "metadata": {
    "tags": []
   },
   "outputs": [],
   "source": [
    "model.update_positions(obstime, location)"
   ]
  },
  {
   "cell_type": "code",
   "execution_count": 19,
   "id": "cad2e3ed-554d-4bb8-8c6f-9019429d6727",
   "metadata": {
    "tags": []
   },
   "outputs": [
    {
     "data": {
      "text/plain": [
       "32.47112674328893"
      ]
     },
     "execution_count": 19,
     "metadata": {},
     "output_type": "execute_result"
    }
   ],
   "source": [
    "obstime.sidereal_time(\"apparent\").deg"
   ]
  },
  {
   "cell_type": "code",
   "execution_count": 20,
   "id": "2871bbec-9738-43f3-82ea-269d52223a1e",
   "metadata": {},
   "outputs": [
    {
     "data": {
      "image/png": "[encoded data removed]",
      "text/plain": [
       "<Figure size 640x480 with 1 Axes>"
      ]
     },
     "metadata": {},
     "output_type": "display_data"
    }
   ],
   "source": [
    "fig, ax = plt.subplots(1, subplot_kw={\"projection\": \"polar\"})\n",
    "ax.plot(\n",
    "    model.alt_az[1, model.above_horizon],\n",
    "    # plot 90 - altitude becase 0 should be zenith but default matpltolib will but horizon at 0\n",
    "    # since 0 altitude is the horizon\n",
    "    np.pi / 2 - model.alt_az[0, model.above_horizon],\n",
    "    \"C0.\",\n",
    ")\n",
    "ax.set_xlabel(\"az [deg]\")\n",
    "ax.set_ylabel(\"alt [deg]\")\n",
    "ax.set_theta_zero_location(\"N\")\n",
    "ax.set_theta_direction(-1)  # clockwise\n",
    "ax.grid(True)\n",
    "ax.set_title(\"Full Catalog\")\n",
    "# ax.set_ylabel('Time', color='crimson')\n",
    "ax.tick_params(axis=\"y\", colors=\"crimson\")\n",
    "ax.set_ylim([0, np.pi / 2]);"
   ]
  },
  {
   "cell_type": "code",
   "execution_count": 21,
   "id": "dd64e728-9da6-4e2c-9988-7a10102e0a8c",
   "metadata": {},
   "outputs": [],
   "source": [
    "model.cut_nonrising(telescope_latitude=location.lat, inplace=True)\n",
    "# model.select(max_brightness=1000 * units.Jy, inplace=True)"
   ]
  },
  {
   "cell_type": "code",
   "execution_count": 22,
   "id": "bd8e7b3f-bbbc-4438-9309-652a22a4f0c2",
   "metadata": {},
   "outputs": [],
   "source": [
    "model.healpix_to_point()"
   ]
  },
  {
   "cell_type": "code",
   "execution_count": 23,
   "id": "1d687a5c-c3a2-4a7e-a939-b043b36ddb38",
   "metadata": {},
   "outputs": [],
   "source": [
    "model.at_frequencies(uvd.freq_array * units.Hz, inplace=True)"
   ]
  },
  {
   "cell_type": "code",
   "execution_count": 24,
   "id": "a35345a0-35f3-4c75-a019-5bace4af4182",
   "metadata": {},
   "outputs": [],
   "source": [
    "empty_sources = np.nonzero(np.all(np.isclose(model.stokes[0], 0 ), axis=0))[0]\n",
    "neg_sources = np.nonzero(np.all(model.stokes[0] <0 , axis=0))[0]"
   ]
  },
  {
   "cell_type": "code",
   "execution_count": 25,
   "id": "90355471-9a73-47c2-9428-d749efd0036f",
   "metadata": {},
   "outputs": [],
   "source": [
    "sources_to_keep  = np.setdiff1d(np.arange(model.Ncomponents), empty_sources)"
   ]
  },
  {
   "cell_type": "code",
   "execution_count": 26,
   "id": "ab53b368-f32f-4ca7-bef1-00005830bddb",
   "metadata": {},
   "outputs": [],
   "source": [
    "model.select(component_inds=sources_to_keep,inplace=True)"
   ]
  },
  {
   "cell_type": "code",
   "execution_count": 27,
   "id": "9c4395af-9294-417d-8332-5521d862b618",
   "metadata": {},
   "outputs": [],
   "source": [
    "stokes_factor = np.abs(model.stokes[0].min()) + 0.01 * units.Jy"
   ]
  },
  {
   "cell_type": "code",
   "execution_count": 28,
   "id": "b4f56cc3-d228-48cc-96a0-4924e4cf4814",
   "metadata": {},
   "outputs": [
    {
     "data": {
      "text/plain": [
       "(<Quantity 30.65482592 Jy>, <Quantity -30.64482592 Jy>)"
      ]
     },
     "execution_count": 28,
     "metadata": {},
     "output_type": "execute_result"
    }
   ],
   "source": [
    "stokes_factor, model.stokes[0].min()"
   ]
  },
  {
   "cell_type": "code",
   "execution_count": 29,
   "id": "e67690cc-90d5-4a8b-ae25-33ac234f2168",
   "metadata": {},
   "outputs": [],
   "source": [
    "# move the minimum to be positive flux, so we can not get NaNs in a sqrt\n",
    "model.stokes += stokes_factor"
   ]
  },
  {
   "cell_type": "code",
   "execution_count": 30,
   "id": "556b714c-1f3e-47e6-a96c-245a3a50e124",
   "metadata": {},
   "outputs": [
    {
     "data": {
      "text/latex": [
       "$0.01 \\; \\mathrm{Jy}$"
      ],
      "text/plain": [
       "<Quantity 0.01 Jy>"
      ]
     },
     "execution_count": 30,
     "metadata": {},
     "output_type": "execute_result"
    }
   ],
   "source": [
    " model.stokes[0].min()"
   ]
  },
  {
   "cell_type": "code",
   "execution_count": 31,
   "id": "f6f5566f-8b25-40a0-9d66-89a40c7c92a7",
   "metadata": {},
   "outputs": [
    {
     "data": {
      "image/png": "[encoded data removed]",
      "text/plain": [
       "<Figure size 640x480 with 2 Axes>"
      ]
     },
     "metadata": {},
     "output_type": "display_data"
    }
   ],
   "source": [
    "fig, ax = plt.subplots(1, subplot_kw={\"projection\": \"polar\"})\n",
    "im = ax.scatter(\n",
    "    model.alt_az[1, model.above_horizon],\n",
    "    # plot 90 - altitude becase 0 should be zenith but default matpltolib will but horizon at 0\n",
    "    # since 0 altitude is the horizon\n",
    "    np.pi / 2 - model.alt_az[0, model.above_horizon],\n",
    "    c=model.stokes[0, 0, model.above_horizon],\n",
    "    marker='^',\n",
    "    s=5,\n",
    "    cmap=\"gray_r\",\n",
    "    norm=LogNorm(vmin=0.01, vmax=3),\n",
    ");\n",
    "fig.colorbar(im);\n",
    "ax.set_xlabel(\"az [deg]\")\n",
    "ax.set_ylabel(\"alt [deg]\")\n",
    "ax.set_theta_zero_location(\"N\")\n",
    "# ax.set_theta_direction(-1)  # clockwise\n",
    "ax.set_theta_direction(1);  # counter clockwise\n",
    "ax.grid(True);\n",
    "ax.set_title(\"Downselected\");\n",
    "# ax.set_ylabel('Zenith Angle', color='crimson')\n",
    "ax.tick_params(axis=\"y\", colors=\"crimson\");\n",
    "ax.set_ylim([0, np.pi / 2]);"
   ]
  },
  {
   "cell_type": "code",
   "execution_count": null,
   "id": "66e7a2f5-0afd-435d-8c3e-7b0962b06c9b",
   "metadata": {
    "slideshow": {
     "slide_type": ""
    },
    "tags": []
   },
   "outputs": [
    {
     "data": {
      "application/vnd.jupyter.widget-view+json": {
       "model_id": "1fb73afa214247c59ef7a1cc20c5aeba",
       "version_major": 2,
       "version_minor": 0
      },
      "text/plain": [
       "Sources:   0%|          | 0/50 [00:00<?, ?it/s]"
      ]
     },
     "metadata": {},
     "output_type": "display_data"
    },
    {
     "data": {
      "application/vnd.jupyter.widget-view+json": {
       "model_id": "",
       "version_major": 2,
       "version_minor": 0
      },
      "text/plain": [
       "Freqs:   0%|          | 0/5 [00:00<?, ?it/s]"
      ]
     },
     "metadata": {},
     "output_type": "display_data"
    },
    {
     "data": {
      "application/vnd.jupyter.widget-view+json": {
       "model_id": "",
       "version_major": 2,
       "version_minor": 0
      },
      "text/plain": [
       "Freqs:   0%|          | 0/5 [00:00<?, ?it/s]"
      ]
     },
     "metadata": {},
     "output_type": "display_data"
    },
    {
     "data": {
      "application/vnd.jupyter.widget-view+json": {
       "model_id": "",
       "version_major": 2,
       "version_minor": 0
      },
      "text/plain": [
       "Freqs:   0%|          | 0/5 [00:00<?, ?it/s]"
      ]
     },
     "metadata": {},
     "output_type": "display_data"
    },
    {
     "data": {
      "application/vnd.jupyter.widget-view+json": {
       "model_id": "",
       "version_major": 2,
       "version_minor": 0
      },
      "text/plain": [
       "Freqs:   0%|          | 0/5 [00:00<?, ?it/s]"
      ]
     },
     "metadata": {},
     "output_type": "display_data"
    },
    {
     "data": {
      "application/vnd.jupyter.widget-view+json": {
       "model_id": "",
       "version_major": 2,
       "version_minor": 0
      },
      "text/plain": [
       "Freqs:   0%|          | 0/5 [00:00<?, ?it/s]"
      ]
     },
     "metadata": {},
     "output_type": "display_data"
    },
    {
     "data": {
      "application/vnd.jupyter.widget-view+json": {
       "model_id": "",
       "version_major": 2,
       "version_minor": 0
      },
      "text/plain": [
       "Freqs:   0%|          | 0/5 [00:00<?, ?it/s]"
      ]
     },
     "metadata": {},
     "output_type": "display_data"
    },
    {
     "data": {
      "application/vnd.jupyter.widget-view+json": {
       "model_id": "",
       "version_major": 2,
       "version_minor": 0
      },
      "text/plain": [
       "Freqs:   0%|          | 0/5 [00:00<?, ?it/s]"
      ]
     },
     "metadata": {},
     "output_type": "display_data"
    },
    {
     "data": {
      "application/vnd.jupyter.widget-view+json": {
       "model_id": "",
       "version_major": 2,
       "version_minor": 0
      },
      "text/plain": [
       "Freqs:   0%|          | 0/5 [00:00<?, ?it/s]"
      ]
     },
     "metadata": {},
     "output_type": "display_data"
    },
    {
     "data": {
      "application/vnd.jupyter.widget-view+json": {
       "model_id": "",
       "version_major": 2,
       "version_minor": 0
      },
      "text/plain": [
       "Freqs:   0%|          | 0/5 [00:00<?, ?it/s]"
      ]
     },
     "metadata": {},
     "output_type": "display_data"
    },
    {
     "data": {
      "application/vnd.jupyter.widget-view+json": {
       "model_id": "",
       "version_major": 2,
       "version_minor": 0
      },
      "text/plain": [
       "Freqs:   0%|          | 0/5 [00:00<?, ?it/s]"
      ]
     },
     "metadata": {},
     "output_type": "display_data"
    },
    {
     "data": {
      "application/vnd.jupyter.widget-view+json": {
       "model_id": "",
       "version_major": 2,
       "version_minor": 0
      },
      "text/plain": [
       "Freqs:   0%|          | 0/5 [00:00<?, ?it/s]"
      ]
     },
     "metadata": {},
     "output_type": "display_data"
    },
    {
     "data": {
      "application/vnd.jupyter.widget-view+json": {
       "model_id": "",
       "version_major": 2,
       "version_minor": 0
      },
      "text/plain": [
       "Freqs:   0%|          | 0/5 [00:00<?, ?it/s]"
      ]
     },
     "metadata": {},
     "output_type": "display_data"
    },
    {
     "data": {
      "application/vnd.jupyter.widget-view+json": {
       "model_id": "",
       "version_major": 2,
       "version_minor": 0
      },
      "text/plain": [
       "Freqs:   0%|          | 0/5 [00:00<?, ?it/s]"
      ]
     },
     "metadata": {},
     "output_type": "display_data"
    },
    {
     "data": {
      "application/vnd.jupyter.widget-view+json": {
       "model_id": "",
       "version_major": 2,
       "version_minor": 0
      },
      "text/plain": [
       "Freqs:   0%|          | 0/5 [00:00<?, ?it/s]"
      ]
     },
     "metadata": {},
     "output_type": "display_data"
    },
    {
     "data": {
      "application/vnd.jupyter.widget-view+json": {
       "model_id": "",
       "version_major": 2,
       "version_minor": 0
      },
      "text/plain": [
       "Freqs:   0%|          | 0/5 [00:00<?, ?it/s]"
      ]
     },
     "metadata": {},
     "output_type": "display_data"
    },
    {
     "data": {
      "application/vnd.jupyter.widget-view+json": {
       "model_id": "",
       "version_major": 2,
       "version_minor": 0
      },
      "text/plain": [
       "Freqs:   0%|          | 0/5 [00:00<?, ?it/s]"
      ]
     },
     "metadata": {},
     "output_type": "display_data"
    },
    {
     "data": {
      "application/vnd.jupyter.widget-view+json": {
       "model_id": "",
       "version_major": 2,
       "version_minor": 0
      },
      "text/plain": [
       "Freqs:   0%|          | 0/5 [00:00<?, ?it/s]"
      ]
     },
     "metadata": {},
     "output_type": "display_data"
    },
    {
     "data": {
      "application/vnd.jupyter.widget-view+json": {
       "model_id": "",
       "version_major": 2,
       "version_minor": 0
      },
      "text/plain": [
       "Freqs:   0%|          | 0/5 [00:00<?, ?it/s]"
      ]
     },
     "metadata": {},
     "output_type": "display_data"
    },
    {
     "data": {
      "application/vnd.jupyter.widget-view+json": {
       "model_id": "",
       "version_major": 2,
       "version_minor": 0
      },
      "text/plain": [
       "Freqs:   0%|          | 0/5 [00:00<?, ?it/s]"
      ]
     },
     "metadata": {},
     "output_type": "display_data"
    },
    {
     "data": {
      "application/vnd.jupyter.widget-view+json": {
       "model_id": "",
       "version_major": 2,
       "version_minor": 0
      },
      "text/plain": [
       "Freqs:   0%|          | 0/5 [00:00<?, ?it/s]"
      ]
     },
     "metadata": {},
     "output_type": "display_data"
    },
    {
     "data": {
      "application/vnd.jupyter.widget-view+json": {
       "model_id": "",
       "version_major": 2,
       "version_minor": 0
      },
      "text/plain": [
       "Freqs:   0%|          | 0/5 [00:00<?, ?it/s]"
      ]
     },
     "metadata": {},
     "output_type": "display_data"
    },
    {
     "data": {
      "application/vnd.jupyter.widget-view+json": {
       "model_id": "",
       "version_major": 2,
       "version_minor": 0
      },
      "text/plain": [
       "Freqs:   0%|          | 0/5 [00:00<?, ?it/s]"
      ]
     },
     "metadata": {},
     "output_type": "display_data"
    },
    {
     "data": {
      "application/vnd.jupyter.widget-view+json": {
       "model_id": "",
       "version_major": 2,
       "version_minor": 0
      },
      "text/plain": [
       "Freqs:   0%|          | 0/5 [00:00<?, ?it/s]"
      ]
     },
     "metadata": {},
     "output_type": "display_data"
    },
    {
     "data": {
      "application/vnd.jupyter.widget-view+json": {
       "model_id": "",
       "version_major": 2,
       "version_minor": 0
      },
      "text/plain": [
       "Freqs:   0%|          | 0/5 [00:00<?, ?it/s]"
      ]
     },
     "metadata": {},
     "output_type": "display_data"
    },
    {
     "data": {
      "application/vnd.jupyter.widget-view+json": {
       "model_id": "",
       "version_major": 2,
       "version_minor": 0
      },
      "text/plain": [
       "Freqs:   0%|          | 0/5 [00:00<?, ?it/s]"
      ]
     },
     "metadata": {},
     "output_type": "display_data"
    },
    {
     "data": {
      "application/vnd.jupyter.widget-view+json": {
       "model_id": "",
       "version_major": 2,
       "version_minor": 0
      },
      "text/plain": [
       "Freqs:   0%|          | 0/5 [00:00<?, ?it/s]"
      ]
     },
     "metadata": {},
     "output_type": "display_data"
    },
    {
     "data": {
      "application/vnd.jupyter.widget-view+json": {
       "model_id": "",
       "version_major": 2,
       "version_minor": 0
      },
      "text/plain": [
       "Freqs:   0%|          | 0/5 [00:00<?, ?it/s]"
      ]
     },
     "metadata": {},
     "output_type": "display_data"
    },
    {
     "data": {
      "application/vnd.jupyter.widget-view+json": {
       "model_id": "",
       "version_major": 2,
       "version_minor": 0
      },
      "text/plain": [
       "Freqs:   0%|          | 0/5 [00:00<?, ?it/s]"
      ]
     },
     "metadata": {},
     "output_type": "display_data"
    },
    {
     "data": {
      "application/vnd.jupyter.widget-view+json": {
       "model_id": "",
       "version_major": 2,
       "version_minor": 0
      },
      "text/plain": [
       "Freqs:   0%|          | 0/5 [00:00<?, ?it/s]"
      ]
     },
     "metadata": {},
     "output_type": "display_data"
    },
    {
     "data": {
      "application/vnd.jupyter.widget-view+json": {
       "model_id": "",
       "version_major": 2,
       "version_minor": 0
      },
      "text/plain": [
       "Freqs:   0%|          | 0/5 [00:00<?, ?it/s]"
      ]
     },
     "metadata": {},
     "output_type": "display_data"
    },
    {
     "data": {
      "application/vnd.jupyter.widget-view+json": {
       "model_id": "4c35f13fe295426ba2a6a0da5318c696",
       "version_major": 2,
       "version_minor": 0
      },
      "text/plain": [
       "Freqs:   0%|          | 0/5 [00:00<?, ?it/s]"
      ]
     },
     "metadata": {},
     "output_type": "display_data"
    }
   ],
   "source": [
    "vis_full = np.zeros(\n",
    "    (uvd.freq_array.size, 1, len(antpos), len(antpos)), dtype=np.complex64\n",
    ")\n",
    "\n",
    "for components in tqdm(\n",
    "    np.array_split(np.arange(model.Ncomponents), 50), position=1, desc=\"Sources\"\n",
    "):\n",
    "    m2 = model.select(component_inds=components, inplace=False)\n",
    "    ra_new, dec_new = conversions.equatorial_to_eci_coords(\n",
    "        m2.ra.rad, m2.dec.rad, obstime, location, unit=\"rad\", frame=\"icrs\"\n",
    "    )\n",
    "    assert np.all(m2.stokes[0] > 0), \"Found sources with negative flux\"\n",
    "           \n",
    "    for freq_inds in tqdm(\n",
    "        np.array_split(np.arange(uvd.freq_array.size), 5),\n",
    "        position=0,\n",
    "        desc=\"Freqs\",\n",
    "        leave=False,\n",
    "    ):\n",
    "        freqs = uvd.freq_array[freq_inds]\n",
    "\n",
    "        m3 = m2.at_frequencies(freqs * units.Hz, inplace=False)\n",
    "        m3.stokes[0] = stokes_factor\n",
    "        \n",
    "        vis_full[freq_inds] += simulate_vis(\n",
    "            ants=antpos,\n",
    "            fluxes=m3.stokes[0].T.to_value(\"Jy\"),\n",
    "            ra=ra_new,\n",
    "            dec=dec_new,\n",
    "            freqs=freqs,\n",
    "            lsts=np.array([lst.to_value(\"rad\")]),\n",
    "            beams=beams,\n",
    "            beam_idx=beam_ids,\n",
    "            polarized=False,\n",
    "            precision=2,\n",
    "            latitude=location.lat.rad,\n",
    "            use_gpu=False,\n",
    "        )"
   ]
  },
  {
   "cell_type": "code",
   "execution_count": 32,
   "id": "6df34491-58a5-4d6f-827e-7e9e4738b206",
   "metadata": {},
   "outputs": [
    {
     "data": {
      "text/plain": [
       "False"
      ]
     },
     "execution_count": 32,
     "metadata": {},
     "output_type": "execute_result"
    }
   ],
   "source": [
    "np.all(np.isnan(vis_full))"
   ]
  },
  {
   "cell_type": "code",
   "execution_count": 33,
   "id": "f21c3163-94ca-459b-9adc-2c5ce75d0659",
   "metadata": {},
   "outputs": [
    {
     "data": {
      "text/plain": [
       "'Array of the visibility data, shape: (Nblts, 1, Nfreqs, Npols) or (Nblts, Nfreqs, Npols) if future_array_shapes=True, type = complex float, in units of self.vis_units.'"
      ]
     },
     "execution_count": 33,
     "metadata": {},
     "output_type": "execute_result"
    }
   ],
   "source": [
    "uvd._data_array.description"
   ]
  },
  {
   "cell_type": "code",
   "execution_count": 34,
   "id": "7f65bf24-b653-45a9-a765-2d575e1b3d71",
   "metadata": {},
   "outputs": [],
   "source": [
    "antpairs = np.array([(a1, a2) for a1 in antpos.keys() for a2 in antpos.keys()])"
   ]
  },
  {
   "cell_type": "code",
   "execution_count": 35,
   "id": "87499b6b-13c2-4eb7-8d74-3e4b02dca71d",
   "metadata": {},
   "outputs": [
    {
     "data": {
      "text/plain": [
       "(123904, 1, 192)"
      ]
     },
     "execution_count": 35,
     "metadata": {},
     "output_type": "execute_result"
    }
   ],
   "source": [
    "vis_full.reshape((uvd.Nfreqs, 1, len(antpos) * len(antpos))).transpose([2,1,0]).shape"
   ]
  },
  {
   "cell_type": "code",
   "execution_count": 36,
   "id": "039365a6-dc78-47c4-aa75-6b84df0926b2",
   "metadata": {},
   "outputs": [
    {
     "name": "stderr",
     "output_type": "stream",
     "text": [
      "integration_time not provided, and cannot be inferred from time_array, setting to 1 second\n"
     ]
    }
   ],
   "source": [
    "uvd_out = UVData.new(\n",
    "    freq_array=uvd.freq_array,\n",
    "    # really it is I but this makes casa easier\n",
    "    polarization_array=[\"xx\"],\n",
    "    antenna_positions=uvdata_antpos,\n",
    "    telescope_location=location,\n",
    "    telescope_name=\"OVRO-LWA\",\n",
    "    times=np.array([obstime.jd]),\n",
    "    antpairs=antpairs,\n",
    "    data_array=vis_full.reshape((uvd.Nfreqs, 1, len(antpos) * len(antpos))).transpose([2,0,1])\n",
    ")\n",
    "uvd_out.telescope_location = np.array(uvd_out.telescope_location)"
   ]
  },
  {
   "cell_type": "code",
   "execution_count": 37,
   "id": "0f6e4cd2-06b7-4620-b0ea-d58dde2c7f61",
   "metadata": {},
   "outputs": [
    {
     "name": "stdout",
     "output_type": "stream",
     "text": [
      "ls: /home/mkolopanis/ovro: No such file or directory\n"
     ]
    }
   ],
   "source": [
    "!ls /home/mkolopanis/ovro"
   ]
  },
  {
   "cell_type": "code",
   "execution_count": 38,
   "id": "d1e38d67-0279-465e-87ac-18f3deddeb7d",
   "metadata": {},
   "outputs": [
    {
     "ename": "FileNotFoundError",
     "evalue": "[Errno 2] Unable to synchronously create file (unable to open file: name = '/home/mkolopanis/ovro/mmode_flux_offset.uvh5', errno = 2, error message = 'No such file or directory', flags = 13, o_flags = 602)",
     "output_type": "error",
     "traceback": [
      "\u001b[0;31m---------------------------------------------------------------------------\u001b[0m",
      "\u001b[0;31mFileNotFoundError\u001b[0m                         Traceback (most recent call last)",
      "Cell \u001b[0;32mIn[38], line 1\u001b[0m\n\u001b[0;32m----> 1\u001b[0m \u001b[43muvd_out\u001b[49m\u001b[38;5;241;43m.\u001b[39;49m\u001b[43mwrite_uvh5\u001b[49m\u001b[43m(\u001b[49m\n\u001b[1;32m      2\u001b[0m \u001b[43m    \u001b[49m\u001b[38;5;124;43m\"\u001b[39;49m\u001b[38;5;124;43m/home/mkolopanis/ovro/mmode_flux_offset.uvh5\u001b[39;49m\u001b[38;5;124;43m\"\u001b[39;49m\u001b[43m,\u001b[49m\n\u001b[1;32m      3\u001b[0m \u001b[43m    \u001b[49m\u001b[43mfix_autos\u001b[49m\u001b[38;5;241;43m=\u001b[39;49m\u001b[38;5;28;43;01mTrue\u001b[39;49;00m\u001b[43m,\u001b[49m\n\u001b[1;32m      4\u001b[0m \u001b[43m    \u001b[49m\u001b[43mclobber\u001b[49m\u001b[38;5;241;43m=\u001b[39;49m\u001b[38;5;28;43;01mTrue\u001b[39;49;00m\u001b[43m,\u001b[49m\n\u001b[1;32m      5\u001b[0m \u001b[43m)\u001b[49m\n",
      "File \u001b[0;32m~/opt/anaconda3/envs/py310/lib/python3.10/site-packages/pyuvdata/uvdata/uvdata.py:13117\u001b[0m, in \u001b[0;36mUVData.write_uvh5\u001b[0;34m(self, filename, clobber, chunks, data_compression, flags_compression, nsample_compression, data_write_dtype, run_check, check_extra, run_check_acceptability, strict_uvw_antpos_check, check_autos, fix_autos)\u001b[0m\n\u001b[1;32m  13110\u001b[0m     \u001b[38;5;28;01mraise\u001b[39;00m \u001b[38;5;167;01mValueError\u001b[39;00m(\n\u001b[1;32m  13111\u001b[0m         \u001b[38;5;124m\"\u001b[39m\u001b[38;5;124mCannot write out metadata only objects to a uvh5 file. To initialize \u001b[39m\u001b[38;5;124m\"\u001b[39m\n\u001b[1;32m  13112\u001b[0m         \u001b[38;5;124m\"\u001b[39m\u001b[38;5;124ma uvh5 file for partial writing, use the `initialize_uvh5_file` \u001b[39m\u001b[38;5;124m\"\u001b[39m\n\u001b[1;32m  13113\u001b[0m         \u001b[38;5;124m\"\u001b[39m\u001b[38;5;124mmethod.\u001b[39m\u001b[38;5;124m\"\u001b[39m\n\u001b[1;32m  13114\u001b[0m     )\n\u001b[1;32m  13116\u001b[0m uvh5_obj \u001b[38;5;241m=\u001b[39m \u001b[38;5;28mself\u001b[39m\u001b[38;5;241m.\u001b[39m_convert_to_filetype(\u001b[38;5;124m\"\u001b[39m\u001b[38;5;124muvh5\u001b[39m\u001b[38;5;124m\"\u001b[39m)\n\u001b[0;32m> 13117\u001b[0m \u001b[43muvh5_obj\u001b[49m\u001b[38;5;241;43m.\u001b[39;49m\u001b[43mwrite_uvh5\u001b[49m\u001b[43m(\u001b[49m\n\u001b[1;32m  13118\u001b[0m \u001b[43m    \u001b[49m\u001b[43mfilename\u001b[49m\u001b[43m,\u001b[49m\n\u001b[1;32m  13119\u001b[0m \u001b[43m    \u001b[49m\u001b[43mclobber\u001b[49m\u001b[38;5;241;43m=\u001b[39;49m\u001b[43mclobber\u001b[49m\u001b[43m,\u001b[49m\n\u001b[1;32m  13120\u001b[0m \u001b[43m    \u001b[49m\u001b[43mchunks\u001b[49m\u001b[38;5;241;43m=\u001b[39;49m\u001b[43mchunks\u001b[49m\u001b[43m,\u001b[49m\n\u001b[1;32m  13121\u001b[0m \u001b[43m    \u001b[49m\u001b[43mdata_compression\u001b[49m\u001b[38;5;241;43m=\u001b[39;49m\u001b[43mdata_compression\u001b[49m\u001b[43m,\u001b[49m\n\u001b[1;32m  13122\u001b[0m \u001b[43m    \u001b[49m\u001b[43mflags_compression\u001b[49m\u001b[38;5;241;43m=\u001b[39;49m\u001b[43mflags_compression\u001b[49m\u001b[43m,\u001b[49m\n\u001b[1;32m  13123\u001b[0m \u001b[43m    \u001b[49m\u001b[43mnsample_compression\u001b[49m\u001b[38;5;241;43m=\u001b[39;49m\u001b[43mnsample_compression\u001b[49m\u001b[43m,\u001b[49m\n\u001b[1;32m  13124\u001b[0m \u001b[43m    \u001b[49m\u001b[43mdata_write_dtype\u001b[49m\u001b[38;5;241;43m=\u001b[39;49m\u001b[43mdata_write_dtype\u001b[49m\u001b[43m,\u001b[49m\n\u001b[1;32m  13125\u001b[0m \u001b[43m    \u001b[49m\u001b[43mrun_check\u001b[49m\u001b[38;5;241;43m=\u001b[39;49m\u001b[43mrun_check\u001b[49m\u001b[43m,\u001b[49m\n\u001b[1;32m  13126\u001b[0m \u001b[43m    \u001b[49m\u001b[43mcheck_extra\u001b[49m\u001b[38;5;241;43m=\u001b[39;49m\u001b[43mcheck_extra\u001b[49m\u001b[43m,\u001b[49m\n\u001b[1;32m  13127\u001b[0m \u001b[43m    \u001b[49m\u001b[43mrun_check_acceptability\u001b[49m\u001b[38;5;241;43m=\u001b[39;49m\u001b[43mrun_check_acceptability\u001b[49m\u001b[43m,\u001b[49m\n\u001b[1;32m  13128\u001b[0m \u001b[43m    \u001b[49m\u001b[43mstrict_uvw_antpos_check\u001b[49m\u001b[38;5;241;43m=\u001b[39;49m\u001b[43mstrict_uvw_antpos_check\u001b[49m\u001b[43m,\u001b[49m\n\u001b[1;32m  13129\u001b[0m \u001b[43m    \u001b[49m\u001b[43mcheck_autos\u001b[49m\u001b[38;5;241;43m=\u001b[39;49m\u001b[43mcheck_autos\u001b[49m\u001b[43m,\u001b[49m\n\u001b[1;32m  13130\u001b[0m \u001b[43m    \u001b[49m\u001b[43mfix_autos\u001b[49m\u001b[38;5;241;43m=\u001b[39;49m\u001b[43mfix_autos\u001b[49m\u001b[43m,\u001b[49m\n\u001b[1;32m  13131\u001b[0m \u001b[43m\u001b[49m\u001b[43m)\u001b[49m\n\u001b[1;32m  13132\u001b[0m \u001b[38;5;28;01mdel\u001b[39;00m uvh5_obj\n",
      "File \u001b[0;32m~/opt/anaconda3/envs/py310/lib/python3.10/site-packages/pyuvdata/uvdata/uvh5.py:1818\u001b[0m, in \u001b[0;36mUVH5.write_uvh5\u001b[0;34m(self, filename, clobber, chunks, data_compression, flags_compression, nsample_compression, data_write_dtype, add_to_history, run_check, check_extra, run_check_acceptability, strict_uvw_antpos_check, check_autos, fix_autos)\u001b[0m\n\u001b[1;32m   1815\u001b[0m data_compression, data_compression_opts \u001b[38;5;241m=\u001b[39m _get_compression(data_compression)\n\u001b[1;32m   1817\u001b[0m \u001b[38;5;66;03m# open file for writing\u001b[39;00m\n\u001b[0;32m-> 1818\u001b[0m \u001b[38;5;28;01mwith\u001b[39;00m \u001b[43mh5py\u001b[49m\u001b[38;5;241;43m.\u001b[39;49m\u001b[43mFile\u001b[49m\u001b[43m(\u001b[49m\u001b[43mfilename\u001b[49m\u001b[43m,\u001b[49m\u001b[43m \u001b[49m\u001b[38;5;124;43m\"\u001b[39;49m\u001b[38;5;124;43mw\u001b[39;49m\u001b[38;5;124;43m\"\u001b[39;49m\u001b[43m)\u001b[49m \u001b[38;5;28;01mas\u001b[39;00m f:\n\u001b[1;32m   1819\u001b[0m     \u001b[38;5;66;03m# write header\u001b[39;00m\n\u001b[1;32m   1820\u001b[0m     header \u001b[38;5;241m=\u001b[39m f\u001b[38;5;241m.\u001b[39mcreate_group(\u001b[38;5;124m\"\u001b[39m\u001b[38;5;124mHeader\u001b[39m\u001b[38;5;124m\"\u001b[39m)\n\u001b[1;32m   1821\u001b[0m     \u001b[38;5;28mself\u001b[39m\u001b[38;5;241m.\u001b[39m_write_header(header)\n",
      "File \u001b[0;32m~/opt/anaconda3/envs/py310/lib/python3.10/site-packages/h5py/_hl/files.py:562\u001b[0m, in \u001b[0;36mFile.__init__\u001b[0;34m(self, name, mode, driver, libver, userblock_size, swmr, rdcc_nslots, rdcc_nbytes, rdcc_w0, track_order, fs_strategy, fs_persist, fs_threshold, fs_page_size, page_buf_size, min_meta_keep, min_raw_keep, locking, alignment_threshold, alignment_interval, meta_block_size, **kwds)\u001b[0m\n\u001b[1;32m    553\u001b[0m     fapl \u001b[38;5;241m=\u001b[39m make_fapl(driver, libver, rdcc_nslots, rdcc_nbytes, rdcc_w0,\n\u001b[1;32m    554\u001b[0m                      locking, page_buf_size, min_meta_keep, min_raw_keep,\n\u001b[1;32m    555\u001b[0m                      alignment_threshold\u001b[38;5;241m=\u001b[39malignment_threshold,\n\u001b[1;32m    556\u001b[0m                      alignment_interval\u001b[38;5;241m=\u001b[39malignment_interval,\n\u001b[1;32m    557\u001b[0m                      meta_block_size\u001b[38;5;241m=\u001b[39mmeta_block_size,\n\u001b[1;32m    558\u001b[0m                      \u001b[38;5;241m*\u001b[39m\u001b[38;5;241m*\u001b[39mkwds)\n\u001b[1;32m    559\u001b[0m     fcpl \u001b[38;5;241m=\u001b[39m make_fcpl(track_order\u001b[38;5;241m=\u001b[39mtrack_order, fs_strategy\u001b[38;5;241m=\u001b[39mfs_strategy,\n\u001b[1;32m    560\u001b[0m                      fs_persist\u001b[38;5;241m=\u001b[39mfs_persist, fs_threshold\u001b[38;5;241m=\u001b[39mfs_threshold,\n\u001b[1;32m    561\u001b[0m                      fs_page_size\u001b[38;5;241m=\u001b[39mfs_page_size)\n\u001b[0;32m--> 562\u001b[0m     fid \u001b[38;5;241m=\u001b[39m \u001b[43mmake_fid\u001b[49m\u001b[43m(\u001b[49m\u001b[43mname\u001b[49m\u001b[43m,\u001b[49m\u001b[43m \u001b[49m\u001b[43mmode\u001b[49m\u001b[43m,\u001b[49m\u001b[43m \u001b[49m\u001b[43muserblock_size\u001b[49m\u001b[43m,\u001b[49m\u001b[43m \u001b[49m\u001b[43mfapl\u001b[49m\u001b[43m,\u001b[49m\u001b[43m \u001b[49m\u001b[43mfcpl\u001b[49m\u001b[43m,\u001b[49m\u001b[43m \u001b[49m\u001b[43mswmr\u001b[49m\u001b[38;5;241;43m=\u001b[39;49m\u001b[43mswmr\u001b[49m\u001b[43m)\u001b[49m\n\u001b[1;32m    564\u001b[0m \u001b[38;5;28;01mif\u001b[39;00m \u001b[38;5;28misinstance\u001b[39m(libver, \u001b[38;5;28mtuple\u001b[39m):\n\u001b[1;32m    565\u001b[0m     \u001b[38;5;28mself\u001b[39m\u001b[38;5;241m.\u001b[39m_libver \u001b[38;5;241m=\u001b[39m libver\n",
      "File \u001b[0;32m~/opt/anaconda3/envs/py310/lib/python3.10/site-packages/h5py/_hl/files.py:241\u001b[0m, in \u001b[0;36mmake_fid\u001b[0;34m(name, mode, userblock_size, fapl, fcpl, swmr)\u001b[0m\n\u001b[1;32m    239\u001b[0m     fid \u001b[38;5;241m=\u001b[39m h5f\u001b[38;5;241m.\u001b[39mcreate(name, h5f\u001b[38;5;241m.\u001b[39mACC_EXCL, fapl\u001b[38;5;241m=\u001b[39mfapl, fcpl\u001b[38;5;241m=\u001b[39mfcpl)\n\u001b[1;32m    240\u001b[0m \u001b[38;5;28;01melif\u001b[39;00m mode \u001b[38;5;241m==\u001b[39m \u001b[38;5;124m'\u001b[39m\u001b[38;5;124mw\u001b[39m\u001b[38;5;124m'\u001b[39m:\n\u001b[0;32m--> 241\u001b[0m     fid \u001b[38;5;241m=\u001b[39m \u001b[43mh5f\u001b[49m\u001b[38;5;241;43m.\u001b[39;49m\u001b[43mcreate\u001b[49m\u001b[43m(\u001b[49m\u001b[43mname\u001b[49m\u001b[43m,\u001b[49m\u001b[43m \u001b[49m\u001b[43mh5f\u001b[49m\u001b[38;5;241;43m.\u001b[39;49m\u001b[43mACC_TRUNC\u001b[49m\u001b[43m,\u001b[49m\u001b[43m \u001b[49m\u001b[43mfapl\u001b[49m\u001b[38;5;241;43m=\u001b[39;49m\u001b[43mfapl\u001b[49m\u001b[43m,\u001b[49m\u001b[43m \u001b[49m\u001b[43mfcpl\u001b[49m\u001b[38;5;241;43m=\u001b[39;49m\u001b[43mfcpl\u001b[49m\u001b[43m)\u001b[49m\n\u001b[1;32m    242\u001b[0m \u001b[38;5;28;01melif\u001b[39;00m mode \u001b[38;5;241m==\u001b[39m \u001b[38;5;124m'\u001b[39m\u001b[38;5;124ma\u001b[39m\u001b[38;5;124m'\u001b[39m:\n\u001b[1;32m    243\u001b[0m     \u001b[38;5;66;03m# Open in append mode (read/write).\u001b[39;00m\n\u001b[1;32m    244\u001b[0m     \u001b[38;5;66;03m# If that fails, create a new file only if it won't clobber an\u001b[39;00m\n\u001b[1;32m    245\u001b[0m     \u001b[38;5;66;03m# existing one (ACC_EXCL)\u001b[39;00m\n\u001b[1;32m    246\u001b[0m     \u001b[38;5;28;01mtry\u001b[39;00m:\n",
      "File \u001b[0;32mh5py/_objects.pyx:54\u001b[0m, in \u001b[0;36mh5py._objects.with_phil.wrapper\u001b[0;34m()\u001b[0m\n",
      "File \u001b[0;32mh5py/_objects.pyx:55\u001b[0m, in \u001b[0;36mh5py._objects.with_phil.wrapper\u001b[0;34m()\u001b[0m\n",
      "File \u001b[0;32mh5py/h5f.pyx:122\u001b[0m, in \u001b[0;36mh5py.h5f.create\u001b[0;34m()\u001b[0m\n",
      "\u001b[0;31mFileNotFoundError\u001b[0m: [Errno 2] Unable to synchronously create file (unable to open file: name = '/home/mkolopanis/ovro/mmode_flux_offset.uvh5', errno = 2, error message = 'No such file or directory', flags = 13, o_flags = 602)"
     ]
    }
   ],
   "source": [
    "uvd_out.write_uvh5(\n",
    "    \"/home/mkolopanis/ovro/mmode_flux_offset.uvh5\",\n",
    "    fix_autos=True,\n",
    "    clobber=True,\n",
    ")"
   ]
  },
  {
   "cell_type": "code",
   "execution_count": null,
   "id": "49054ca3-13ad-4dd9-b87e-76328834fe71",
   "metadata": {},
   "outputs": [],
   "source": [
    "UVData.from_file(\"/home/mkolopanis/simulations/mmode_one_time_high_band.uvh5\").write_ms(\n",
    "    \"/home/mkolopanis/simulations/mmode_one_time_high_band.ms\",\n",
    "    clobber=True,\n",
    "    force_phase=True,\n",
    ")"
   ]
  },
  {
   "cell_type": "code",
   "execution_count": null,
   "id": "4aef9f35-b16e-497f-b2d0-5205710de92c",
   "metadata": {},
   "outputs": [],
   "source": [
    "!!OPENBLAS_NUM_THREADS=1 /opt/bin/wsclean -multiscale -multiscale-scale-bias 0.8 -pol XX -size 4096 4096 -scale 0.03125 -niter 0  -mgain 0.85 -weight briggs 0 -name mmode_one_time_high_band mmode_one_time_high_band.ms/"
   ]
  },
  {
   "cell_type": "code",
   "execution_count": null,
   "id": "5fbd942b-67fe-4b03-8afd-743a2420c793",
   "metadata": {},
   "outputs": [],
   "source": [
    "!ls -lthra"
   ]
  },
  {
   "cell_type": "code",
   "execution_count": null,
   "id": "f7ee7595-7454-47c6-9041-d4d6cde4a369",
   "metadata": {},
   "outputs": [],
   "source": []
  }
 ],
 "metadata": {
  "kernelspec": {
   "display_name": "Python 3 (ipykernel)",
   "language": "python",
   "name": "python3"
  },
  "language_info": {
   "codemirror_mode": {
    "name": "ipython",
    "version": 3
   },
   "file_extension": ".py",
   "mimetype": "text/x-python",
   "name": "python",
   "nbconvert_exporter": "python",
   "pygments_lexer": "ipython3",
   "version": "3.10.14"
  }
 },
 "nbformat": 4,
 "nbformat_minor": 5
}
