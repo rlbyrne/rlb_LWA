{
 "cells": [
  {
   "cell_type": "code",
   "execution_count": 1,
   "metadata": {},
   "outputs": [
    {
     "name": "stdout",
     "output_type": "stream",
     "text": [
      "Read antpos from etcd\n"
     ]
    }
   ],
   "source": [
    "import numpy as np\n",
    "from lwa_antpos import reading, mapping\n",
    "from lwa_f import snap2_fengine, snap2_feng_etcd_client\n",
    "import matplotlib\n",
    "import matplotlib.pyplot as plt\n",
    "from datetime import datetime"
   ]
  },
  {
   "cell_type": "code",
   "execution_count": 2,
   "metadata": {},
   "outputs": [],
   "source": [
    "import pyuvdata"
   ]
  },
  {
   "cell_type": "code",
   "execution_count": 3,
   "metadata": {},
   "outputs": [
    {
     "name": "stdout",
     "output_type": "stream",
     "text": [
      "2021-09-29 22:46:44,838 - lwa_f.blocks.block:snap01 - WARNING -  - hostname (10.40.0.157) couldn't be turned into integer serial\n",
      "2021-09-29 22:46:45,141 - lwa_f.blocks.block:snap01 - INFO - adc - Detected FMC ADC board on port 0\n",
      "2021-09-29 22:46:45,384 - lwa_f.blocks.block:snap01 - INFO - adc - Detected FMC ADC board on port 1\n"
     ]
    }
   ],
   "source": [
    "snap2names = ['snap01']\n",
    "for snap2name in snap2names:\n",
    "    snap2num = int(snap2name.lstrip('snap'))\n",
    "    lwa_f = snap2_fengine.Snap2Fengine(snap2name)"
   ]
  },
  {
   "cell_type": "code",
   "execution_count": 4,
   "metadata": {},
   "outputs": [],
   "source": [
    "pol_block = 0\n",
    "spec = lwa_f.autocorr.get_new_spectra(pol_block)"
   ]
  },
  {
   "cell_type": "code",
   "execution_count": 5,
   "metadata": {},
   "outputs": [
    {
     "name": "stdout",
     "output_type": "stream",
     "text": [
      "(16, 4096)\n"
     ]
    }
   ],
   "source": [
    "print(np.shape(spec)) # Shape (Nantpols, Nfreqs)\n",
    "Nantpols = np.shape(spec)[0]\n",
    "Nfreqs = np.shape(spec)[1]\n",
    "frequencies = np.linspace(0, 196/2, Nfreqs, endpoint=False)"
   ]
  },
  {
   "cell_type": "code",
   "execution_count": 6,
   "metadata": {},
   "outputs": [
    {
     "name": "stdout",
     "output_type": "stream",
     "text": [
      "['LWA-213A' 'LWA-213B' 'LWA-224A' 'LWA-224B' 'LWA-215A' 'LWA-215B'\n",
      " 'LWA-214A' 'LWA-214B' 'LWA-218A' 'LWA-218B' 'LWA-217A' 'LWA-217B'\n",
      " 'LWA-223A' 'LWA-223B' 'LWA-219A' 'LWA-219B']\n"
     ]
    }
   ],
   "source": [
    "antpol_names = np.empty(np.shape(spec)[0], dtype='<U10')\n",
    "for ant_index in range(np.shape(spec)[0]):\n",
    "    digitizer_input = ant_index+16*pol_block\n",
    "    lwa_antname = mapping.digitizer_to_antpol(digitizer_input)\n",
    "    antpol_names[ant_index] = lwa_antname\n",
    "print(antpol_names)"
   ]
  },
  {
   "cell_type": "code",
   "execution_count": 7,
   "metadata": {},
   "outputs": [],
   "source": [
    "antenna_names = np.unique([name[:-1] for name in antpol_names])\n",
    "Nants = len(antenna_names)\n",
    "antenna_numbers = np.array([int(name[4:]) for name in antenna_names])\n",
    "\n",
    "data_array = np.zeros((Nants, 1, Nfreqs, 2), dtype=complex)\n",
    "for ant_ind, antname in enumerate(antenna_names):\n",
    "    antpol_ind = np.where(antpol_names == f'{antname}A')\n",
    "    data_array[ant_ind, 0, :, 0] = spec[antpol_ind, :]\n",
    "    antpol_ind = np.where(antpol_names == f'{antname}B')\n",
    "    data_array[ant_ind, 0, :, 1] = spec[antpol_ind, :]"
   ]
  },
  {
   "cell_type": "code",
   "execution_count": 8,
   "metadata": {},
   "outputs": [
    {
     "name": "stdout",
     "output_type": "stream",
     "text": [
      "(512,)\n"
     ]
    }
   ],
   "source": [
    "spec2 = lwa_f.corr.get_new_corr(0,0) # 8 channel average\n",
    "print(spec2.shape)"
   ]
  },
  {
   "cell_type": "code",
   "execution_count": 9,
   "metadata": {},
   "outputs": [
    {
     "data": {
      "image/png": "[encoded data removed]",
      "text/plain": [
       "<Figure size 432x288 with 1 Axes>"
      ]
     },
     "metadata": {
      "needs_background": "light"
     },
     "output_type": "display_data"
    }
   ],
   "source": [
    "%matplotlib inline\n",
    "for ant_ind in range(Nantpols):\n",
    "    plt.plot(frequencies, spec[ant_ind,:])\n",
    "plt.ylim([1.e-9,1.e0])\n",
    "plt.yscale('log')\n",
    "plt.xlabel('Frequency (MHz)')\n",
    "plt.ylabel('Autocorr. Power')\n",
    "plt.show()"
   ]
  },
  {
   "cell_type": "code",
   "execution_count": 10,
   "metadata": {},
   "outputs": [
    {
     "data": {
      "text/plain": [
       "True"
      ]
     },
     "execution_count": 10,
     "metadata": {},
     "output_type": "execute_result"
    }
   ],
   "source": [
    "uv = pyuvdata.UVData()\n",
    "uv.Nants_data = 8\n",
    "uv.Nants_telescope = 8  # This isn't right\n",
    "uv.Nbls = uv.Nants_data\n",
    "uv.Nblts = uv.Nants_data\n",
    "uv.Nfreqs = len(frequencies)\n",
    "uv.Npols = 2\n",
    "uv.Nspws = 1\n",
    "uv.Ntimes = 1\n",
    "uv.ant_1_array = antenna_numbers\n",
    "uv.ant_2_array = antenna_numbers\n",
    "uv.antenna_names = antenna_names\n",
    "uv.antenna_numbers = antenna_numbers\n",
    "uv.baseline_array = 2048*(uv.ant_1_array+1) + (uv.ant_2_array+1) + 2**16\n",
    "uv.telescope_name = 'OVRO-LWA'\n",
    "uv.instrument = 'OVRO-LWA'\n",
    "uv.vis_units = 'uncalib'\n",
    "uv.data_array = data_array\n",
    "uv.channel_width = 196./2/Nfreqs*10**6\n",
    "uv.flag_array = np.zeros((Nants, 1, Nfreqs, 2), dtype=bool)\n",
    "uv.freq_array = np.reshape(frequencies*10**6, (1, Nfreqs))\n",
    "uv.history = 'LWA F-engine output autocorrs'\n",
    "uv.nsample_array = np.ones((Nants, 1, Nfreqs, 2), dtype=float)\n",
    "uv.polarization_array = np.array([-5, -6])\n",
    "uv.spw_array = [0]\n",
    "uv.telescope_location = np.array([-2409247.20369628, -4477889.56236559, 3839327.82827938])\n",
    "uv.uvw_array = np.zeros((uv.Nblts, 3), dtype=float)\n",
    "uv.phase_type = 'drift'\n",
    "\n",
    "# Fill these with dummy variables so pyuvdata is happy\n",
    "uv.antenna_positions = np.zeros((uv.Nants_telescope, 3))\n",
    "uv.integration_time = np.zeros(uv.Nants_data, dtype=float)\n",
    "uv.lst_array = np.zeros(uv.Nblts, dtype=float)\n",
    "uv.object_name = ''\n",
    "uv.time_array = np.zeros(uv.Nblts, dtype=float)\n",
    "\n",
    "uv.check()"
   ]
  },
  {
   "cell_type": "code",
   "execution_count": 11,
   "metadata": {},
   "outputs": [
    {
     "name": "stdout",
     "output_type": "stream",
     "text": [
      "The data are in drift mode and do not have a defined phase center. Phasing to zenith of the first timestamp.\n"
     ]
    },
    {
     "name": "stderr",
     "output_type": "stream",
     "text": [
      "ERFA function \"utctai\" yielded 1 of \"dubious year (Note 3)\"\n",
      "WARNING: Tried to get polar motions for times before IERS data is valid. Defaulting to polar motion from the 50-yr mean for those. This may affect precision at the arcsec level [astropy.coordinates.builtin_frames.utils]\n",
      "ERFA function \"utcut1\" yielded 1 of \"dubious year (Note 3)\"\n",
      "ERFA function \"taiutc\" yielded 1 of \"dubious year (Note 4)\"\n",
      "ERFA function \"epv00\" yielded 1 of \"warning: date outsidethe range 1900-2100 AD\"\n",
      "ERFA function \"d2dtf\" yielded 1 of \"dubious year (Note 5)\"\n"
     ]
    }
   ],
   "source": [
    "uv.write_uvfits(\n",
    "    f'autocorr_snap01_{datetime.now().strftime(\"%m-%d-%Y_%H:%M\")}.uvfits',\n",
    "    force_phase=True,\n",
    "    spoof_nonessential=True\n",
    ")"
   ]
  },
  {
   "cell_type": "code",
   "execution_count": null,
   "metadata": {},
   "outputs": [],
   "source": []
  }
 ],
 "metadata": {
  "kernelspec": {
   "display_name": "Python [conda env:mnc]",
   "language": "python",
   "name": "conda-env-mnc-py"
  },
  "language_info": {
   "codemirror_mode": {
    "name": "ipython",
    "version": 3
   },
   "file_extension": ".py",
   "mimetype": "text/x-python",
   "name": "python",
   "nbconvert_exporter": "python",
   "pygments_lexer": "ipython3",
   "version": "3.7.6"
  }
 },
 "nbformat": 4,
 "nbformat_minor": 4
}
