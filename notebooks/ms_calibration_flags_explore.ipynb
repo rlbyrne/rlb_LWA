{
 "cells": [
  {
   "cell_type": "code",
   "execution_count": 1,
   "id": "85476587",
   "metadata": {},
   "outputs": [],
   "source": [
    "import sys\n",
    "import numpy as np\n",
    "sys.path.append(\"/Users/ruby/Astro/rlb_LWA\")\n",
    "import casa_utils\n",
    "import pyuvdata"
   ]
  },
  {
   "cell_type": "code",
   "execution_count": 2,
   "id": "3533b3c9",
   "metadata": {},
   "outputs": [
    {
     "name": "stderr",
     "output_type": "stream",
     "text": [
      "UVW orientation appears to be flipped, attempting to fix by changing conjugation of baselines.\n"
     ]
    },
    {
     "name": "stdout",
     "output_type": "stream",
     "text": [
      "Successful readonly open of default-locked table /Users/ruby/Astro/LWA_data/LWA_data_20220307/20220307_175923_61MHz.bcal: 13 columns, 352 rows\n",
      "Successful readonly open of default-locked table /Users/ruby/Astro/LWA_data/LWA_data_20220307/20220307_175923_61MHz.ms/ANTENNA: 8 columns, 352 rows\n"
     ]
    },
    {
     "name": "stderr",
     "output_type": "stream",
     "text": [
      "telescope_location is not set. Using known values for OVRO-LWA.\n"
     ]
    }
   ],
   "source": [
    "uvcal = casa_utils.cal_ms_to_uvcal(\n",
    "    \"/Users/ruby/Astro/LWA_data/LWA_data_20220307/20220307_175923_61MHz.bcal\"\n",
    ")"
   ]
  },
  {
   "cell_type": "code",
   "execution_count": 3,
   "id": "01464b8c",
   "metadata": {},
   "outputs": [],
   "source": [
    "uvd = pyuvdata.UVData()\n",
    "uvd.read_uvfits(\"/Users/ruby/Astro/LWA_data/LWA_data_20220307/20220307_175923_61MHz_uncalib.uvfits\")"
   ]
  },
  {
   "cell_type": "code",
   "execution_count": 4,
   "id": "15530d3f",
   "metadata": {},
   "outputs": [
    {
     "data": {
      "text/plain": [
       "0.5384045840844708"
      ]
     },
     "execution_count": 4,
     "metadata": {},
     "output_type": "execute_result"
    }
   ],
   "source": [
    "# Initial flagging fraction\n",
    "np.sum(uvd.flag_array)/np.size(uvd.flag_array)"
   ]
  },
  {
   "cell_type": "code",
   "execution_count": 9,
   "id": "ad13d3d7",
   "metadata": {},
   "outputs": [],
   "source": [
    "# Apply cal flags to uvd object:\n",
    "for ant_ind in range(uvd.Nants_data):\n",
    "    ant_name = uvd.antenna_names[ant_ind]\n",
    "    cal_ant_names = np.array([uvcal.antenna_names[ind] for ind in uvcal.ant_array])\n",
    "    uvcal_ant_ind = np.where(cal_ant_names == ant_name)[0][0]\n",
    "    bl_inds_1 = np.where(uvd.ant_1_array == ant_ind)\n",
    "    bl_inds_2 = np.where(uvd.ant_2_array == ant_ind)\n",
    "    bl_inds = np.unique(np.concatenate((bl_inds_1, bl_inds_2), axis=None))\n",
    "    for bl in bl_inds:\n",
    "        uvd.flag_array[bl, 0, :, :] = uvd.flag_array[bl, 0, :, :] | np.repeat(\n",
    "            np.max(uvcal.flag_array, axis=(1,3,4))[uvcal_ant_ind, :, np.newaxis],\n",
    "            uvd.Npols,\n",
    "            axis = 1\n",
    "        )"
   ]
  },
  {
   "cell_type": "code",
   "execution_count": 6,
   "id": "932dc046",
   "metadata": {},
   "outputs": [
    {
     "data": {
      "text/plain": [
       "0.5726061518156065"
      ]
     },
     "execution_count": 6,
     "metadata": {},
     "output_type": "execute_result"
    }
   ],
   "source": [
    "# Final flagging fraction\n",
    "np.sum(uvd.flag_array)/np.size(uvd.flag_array)"
   ]
  },
  {
   "cell_type": "code",
   "execution_count": 7,
   "id": "375392f6",
   "metadata": {},
   "outputs": [
    {
     "name": "stderr",
     "output_type": "stream",
     "text": [
      "antnums_to_baseline: found antenna numbers > 256, using 2048 baseline indexing. Beware compatibility with CASA etc\n",
      "Found antenna numbers > 256 in this data set. This is permitted by UVFITS standards, but may cause the `importuvfits` utility within CASA to crash. If attempting to use this data set in CASA, consider using the measurement set writer method (`write_ms`) instead.\n"
     ]
    }
   ],
   "source": [
    "uvd.write_uvfits(\"/Users/ruby/Astro/LWA_data/LWA_data_20220307/20220307_175923_61MHz_uncalib_transferred_flags.uvfits\")"
   ]
  },
  {
   "cell_type": "code",
   "execution_count": null,
   "id": "bc589dbe",
   "metadata": {},
   "outputs": [],
   "source": []
  }
 ],
 "metadata": {
  "kernelspec": {
   "display_name": "Python 3 (ipykernel)",
   "language": "python",
   "name": "python3"
  },
  "language_info": {
   "codemirror_mode": {
    "name": "ipython",
    "version": 3
   },
   "file_extension": ".py",
   "mimetype": "text/x-python",
   "name": "python",
   "nbconvert_exporter": "python",
   "pygments_lexer": "ipython3",
   "version": "3.8.8"
  }
 },
 "nbformat": 4,
 "nbformat_minor": 5
}
