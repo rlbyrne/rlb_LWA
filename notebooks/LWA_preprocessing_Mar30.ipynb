{
 "cells": [
  {
   "cell_type": "code",
   "execution_count": 1,
   "id": "f61fbaab",
   "metadata": {},
   "outputs": [],
   "source": [
    "import sys\n",
    "import numpy as np\n",
    "sys.path.append(\"/Users/ruby/Astro/rlb_LWA/LWA_data_preprocessing\")\n",
    "import LWA_preprocessing\n",
    "import importlib\n",
    "importlib.reload(LWA_preprocessing)\n",
    "import pyuvdata\n",
    "import matplotlib.pyplot as plt"
   ]
  },
  {
   "cell_type": "code",
   "execution_count": 2,
   "id": "44b3a7f5",
   "metadata": {},
   "outputs": [],
   "source": [
    "plot_save_path = \"/Users/ruby/Astro/LWA_data/preprocessing_plots\""
   ]
  },
  {
   "cell_type": "code",
   "execution_count": 3,
   "id": "7975c131",
   "metadata": {
    "scrolled": true
   },
   "outputs": [],
   "source": [
    "#ms_filename = \"/Users/ruby/Astro/LWA_data/20220304_181644_15MHz.ms.tar\"\n",
    "#uvd = LWA_preprocessing.convert_raw_ms_to_uvdata(ms_filename)"
   ]
  },
  {
   "cell_type": "code",
   "execution_count": 4,
   "id": "b2c1d2db",
   "metadata": {},
   "outputs": [],
   "source": [
    "uvd = pyuvdata.UVData()\n",
    "uvd.read_uvfits(\"/Users/ruby/Astro/LWA_data/20220210_70MHz_191457_combined.uvfits\")"
   ]
  },
  {
   "cell_type": "code",
   "execution_count": 5,
   "id": "8aaf0c2a",
   "metadata": {},
   "outputs": [],
   "source": [
    "#uvd.write_uvfits(\"/Users/ruby/Astro/LWA_data/20220304_181644_15MHz.uvfits\", force_phase=True, spoof_nonessential=True)"
   ]
  },
  {
   "cell_type": "code",
   "execution_count": null,
   "id": "58866c7b",
   "metadata": {},
   "outputs": [],
   "source": [
    "uvd.select(polarizations=[\"xx\"], frequencies=uvd.freq_array[0:int(uvd.Nfreqs/4)])"
   ]
  },
  {
   "cell_type": "code",
   "execution_count": null,
   "id": "20e5aa84",
   "metadata": {},
   "outputs": [],
   "source": [
    "LWA_preprocessing.plot_autocorrelations(\n",
    "    uvd,\n",
    "    plot_save_path=plot_save_path,\n",
    "    time_average=True,\n",
    "    plot_legend=True,\n",
    ")"
   ]
  },
  {
   "cell_type": "code",
   "execution_count": null,
   "id": "8d06dd16",
   "metadata": {},
   "outputs": [],
   "source": [
    "uvd_antenna_selected = LWA_preprocessing.remove_inactive_antennas(uvd, autocorr_thresh=5., inplace=False)"
   ]
  },
  {
   "cell_type": "code",
   "execution_count": null,
   "id": "56b587cc",
   "metadata": {},
   "outputs": [],
   "source": [
    "LWA_preprocessing.plot_autocorrelations(\n",
    "    uvd_antenna_selected,\n",
    "    plot_save_path=plot_save_path,\n",
    "    plot_file_prefix=\"antenna_selected\",\n",
    "    time_average=True,\n",
    "    plot_legend=True,\n",
    ")"
   ]
  },
  {
   "cell_type": "code",
   "execution_count": null,
   "id": "672d5580",
   "metadata": {},
   "outputs": [],
   "source": [
    "LWA_preprocessing.ssins_flagging(\n",
    "    uvd,\n",
    "    sig_thresh=1,  # Flagging threshold in std. dev.\n",
    "    inplace=True,\n",
    "    plot_no_flags=True,\n",
    "    plot_orig_flags=True,\n",
    "    plot_ssins_flags=True,\n",
    "    plot_save_path=plot_save_path,\n",
    "    plot_file_prefix=\"\",\n",
    ")"
   ]
  },
  {
   "cell_type": "code",
   "execution_count": null,
   "id": "8dca692d",
   "metadata": {},
   "outputs": [],
   "source": [
    "print(uvd.phase_center_app_dec)"
   ]
  },
  {
   "cell_type": "code",
   "execution_count": null,
   "id": "d2ec3515",
   "metadata": {},
   "outputs": [],
   "source": [
    "uvd.phase_type"
   ]
  },
  {
   "cell_type": "code",
   "execution_count": null,
   "id": "cada7fde",
   "metadata": {},
   "outputs": [],
   "source": [
    "np.shape(uvd.time_array)"
   ]
  },
  {
   "cell_type": "code",
   "execution_count": null,
   "id": "0c3b498e",
   "metadata": {},
   "outputs": [],
   "source": [
    "uvd.Ntimes"
   ]
  },
  {
   "cell_type": "code",
   "execution_count": null,
   "id": "7fcd3ebc",
   "metadata": {},
   "outputs": [],
   "source": []
  }
 ],
 "metadata": {
  "kernelspec": {
   "display_name": "Python 3 (ipykernel)",
   "language": "python",
   "name": "python3"
  },
  "language_info": {
   "codemirror_mode": {
    "name": "ipython",
    "version": 3
   },
   "file_extension": ".py",
   "mimetype": "text/x-python",
   "name": "python",
   "nbconvert_exporter": "python",
   "pygments_lexer": "ipython3",
   "version": "3.8.8"
  }
 },
 "nbformat": 4,
 "nbformat_minor": 5
}
