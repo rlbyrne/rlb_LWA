{
 "cells": [
  {
   "cell_type": "code",
   "execution_count": 1,
   "id": "f61fbaab",
   "metadata": {},
   "outputs": [],
   "source": [
    "import sys\n",
    "import numpy as np\n",
    "sys.path.append(\"/Users/ruby/Astro/rlb_LWA/LWA_data_preprocessing\")\n",
    "import LWA_preprocessing\n",
    "import importlib\n",
    "importlib.reload(LWA_preprocessing)\n",
    "import pyuvdata\n",
    "import matplotlib.pyplot as plt"
   ]
  },
  {
   "cell_type": "code",
   "execution_count": 2,
   "id": "44b3a7f5",
   "metadata": {},
   "outputs": [],
   "source": [
    "ms_filename = \"/Users/ruby/Astro/LWA_data/20220304_181644_15MHz.ms.tar\"\n",
    "plot_save_path = \"/Users/ruby/Astro/LWA_data/preprocessing_plots\""
   ]
  },
  {
   "cell_type": "code",
   "execution_count": 3,
   "id": "7975c131",
   "metadata": {},
   "outputs": [
    {
     "name": "stderr",
     "output_type": "stream",
     "text": [
      "x 20220304_181644_15MHz.ms/\n",
      "x 20220304_181644_15MHz.ms/STATE/\n",
      "x 20220304_181644_15MHz.ms/STATE/table.info\n",
      "x 20220304_181644_15MHz.ms/STATE/table.f0\n",
      "x 20220304_181644_15MHz.ms/STATE/table.lock\n",
      "x 20220304_181644_15MHz.ms/STATE/table.dat\n",
      "x 20220304_181644_15MHz.ms/PROCESSOR/\n",
      "x 20220304_181644_15MHz.ms/PROCESSOR/table.info\n",
      "x 20220304_181644_15MHz.ms/PROCESSOR/table.f0\n",
      "x 20220304_181644_15MHz.ms/PROCESSOR/table.lock\n",
      "x 20220304_181644_15MHz.ms/PROCESSOR/table.dat\n",
      "x 20220304_181644_15MHz.ms/POINTING/\n",
      "x 20220304_181644_15MHz.ms/POINTING/table.info\n",
      "x 20220304_181644_15MHz.ms/POINTING/table.f0i\n",
      "x 20220304_181644_15MHz.ms/POINTING/table.f0\n",
      "x 20220304_181644_15MHz.ms/POINTING/table.lock\n",
      "x 20220304_181644_15MHz.ms/POINTING/table.dat\n",
      "x 20220304_181644_15MHz.ms/HISTORY/\n",
      "x 20220304_181644_15MHz.ms/HISTORY/table.info\n",
      "x 20220304_181644_15MHz.ms/HISTORY/table.f0\n",
      "x 20220304_181644_15MHz.ms/HISTORY/table.lock\n",
      "x 20220304_181644_15MHz.ms/HISTORY/table.dat\n",
      "x 20220304_181644_15MHz.ms/FLAG_CMD/\n",
      "x 20220304_181644_15MHz.ms/FLAG_CMD/table.info\n",
      "x 20220304_181644_15MHz.ms/FLAG_CMD/table.f0\n",
      "x 20220304_181644_15MHz.ms/FLAG_CMD/table.lock\n",
      "x 20220304_181644_15MHz.ms/FLAG_CMD/table.dat\n",
      "x 20220304_181644_15MHz.ms/SPECTRAL_WINDOW/\n",
      "x 20220304_181644_15MHz.ms/SPECTRAL_WINDOW/table.info\n",
      "x 20220304_181644_15MHz.ms/SPECTRAL_WINDOW/table.f0i\n",
      "x 20220304_181644_15MHz.ms/SPECTRAL_WINDOW/table.f0\n",
      "x 20220304_181644_15MHz.ms/SPECTRAL_WINDOW/table.lock\n",
      "x 20220304_181644_15MHz.ms/SPECTRAL_WINDOW/table.dat\n",
      "x 20220304_181644_15MHz.ms/FIELD/\n",
      "x 20220304_181644_15MHz.ms/FIELD/table.info\n",
      "x 20220304_181644_15MHz.ms/FIELD/table.f0i\n",
      "x 20220304_181644_15MHz.ms/FIELD/table.f0\n",
      "x 20220304_181644_15MHz.ms/FIELD/table.lock\n",
      "x 20220304_181644_15MHz.ms/FIELD/table.dat\n",
      "x 20220304_181644_15MHz.ms/SOURCE/\n",
      "x 20220304_181644_15MHz.ms/SOURCE/table.info\n",
      "x 20220304_181644_15MHz.ms/SOURCE/table.f0i\n",
      "x 20220304_181644_15MHz.ms/SOURCE/table.f0\n",
      "x 20220304_181644_15MHz.ms/SOURCE/table.lock\n",
      "x 20220304_181644_15MHz.ms/SOURCE/table.dat\n",
      "x 20220304_181644_15MHz.ms/OBSERVATION/\n",
      "x 20220304_181644_15MHz.ms/OBSERVATION/table.info\n",
      "x 20220304_181644_15MHz.ms/OBSERVATION/table.f0i\n",
      "x 20220304_181644_15MHz.ms/OBSERVATION/table.f0\n",
      "x 20220304_181644_15MHz.ms/OBSERVATION/table.lock\n",
      "x 20220304_181644_15MHz.ms/OBSERVATION/table.dat\n",
      "x 20220304_181644_15MHz.ms/FEED/\n",
      "x 20220304_181644_15MHz.ms/FEED/table.info\n",
      "x 20220304_181644_15MHz.ms/FEED/table.f0i\n",
      "x 20220304_181644_15MHz.ms/FEED/table.f0\n",
      "x 20220304_181644_15MHz.ms/FEED/table.lock\n",
      "x 20220304_181644_15MHz.ms/FEED/table.dat\n",
      "x 20220304_181644_15MHz.ms/POLARIZATION/\n",
      "x 20220304_181644_15MHz.ms/POLARIZATION/table.info\n",
      "x 20220304_181644_15MHz.ms/POLARIZATION/table.f0i\n",
      "x 20220304_181644_15MHz.ms/POLARIZATION/table.f0\n",
      "x 20220304_181644_15MHz.ms/POLARIZATION/table.lock\n",
      "x 20220304_181644_15MHz.ms/POLARIZATION/table.dat\n",
      "x 20220304_181644_15MHz.ms/ANTENNA/\n",
      "x 20220304_181644_15MHz.ms/ANTENNA/table.info\n",
      "x 20220304_181644_15MHz.ms/ANTENNA/table.f0i\n",
      "x 20220304_181644_15MHz.ms/ANTENNA/table.f0\n",
      "x 20220304_181644_15MHz.ms/ANTENNA/table.lock\n",
      "x 20220304_181644_15MHz.ms/ANTENNA/table.dat\n",
      "x 20220304_181644_15MHz.ms/DATA_DESCRIPTION/\n",
      "x 20220304_181644_15MHz.ms/DATA_DESCRIPTION/table.info\n",
      "x 20220304_181644_15MHz.ms/DATA_DESCRIPTION/table.f0\n",
      "x 20220304_181644_15MHz.ms/DATA_DESCRIPTION/table.lock\n",
      "x 20220304_181644_15MHz.ms/DATA_DESCRIPTION/table.dat\n",
      "x 20220304_181644_15MHz.ms/table.info\n",
      "x 20220304_181644_15MHz.ms/table.f0i\n",
      "x 20220304_181644_15MHz.ms/table.f0\n",
      "x 20220304_181644_15MHz.ms/table.lock\n",
      "x 20220304_181644_15MHz.ms/table.dat\n",
      "UVW orientation appears to be flipped, attempting to fix by changing conjugation of baselines.\n"
     ]
    }
   ],
   "source": [
    "uvd = LWA_preprocessing.convert_raw_ms_to_uvdata(ms_filename)"
   ]
  },
  {
   "cell_type": "code",
   "execution_count": 4,
   "id": "d3fb48bd",
   "metadata": {},
   "outputs": [],
   "source": [
    "#uvd.write_uvfits(\"/Users/ruby/Astro/LWA_data/20220304_181644_15MHz.uvfits\", force_phase=True, spoof_nonessential=True)"
   ]
  },
  {
   "cell_type": "code",
   "execution_count": 5,
   "id": "88868700",
   "metadata": {},
   "outputs": [],
   "source": [
    "#uvd.select(polarizations=[\"xy\"])"
   ]
  },
  {
   "cell_type": "code",
   "execution_count": 6,
   "id": "6f0eaa1d",
   "metadata": {},
   "outputs": [
    {
     "name": "stdout",
     "output_type": "stream",
     "text": [
      "[  0   1   2   3   4   5   6   7   8   9  10  11  12  13  14  15  16  17\n",
      "  18  19  20  21  22  23  24  25  26  27  28  29  30  31  32  33  34  35\n",
      "  36  37  38  39  40  41  42  43  44  45  46  47  48  49  50  51  52  53\n",
      "  54  55  56  57  58  59  60  61  62  63  64  65  66  67  68  69  70  71\n",
      "  72  73  74  75  76  77  78  79  80  81  82  83  84  85  86  87  88  89\n",
      "  90  91  92  93  94  95  96  97  98  99 100 101 102 103 104 105 106 107\n",
      " 108 109 110 111 112 113 114 115 116 117 118 119 120 121 122 123 124 125\n",
      " 126 127 128 129 130 131 132 133 134 135 136 137 138 139 140 141 142 143\n",
      " 144 145 146 147 148 149 150 151 152 153 154 155 156 157 158 159 160 161\n",
      " 162 163 164 165 166 167 168 169 170 171 172 173 174 175 176 177 178 179\n",
      " 180 181 182 183 184 185 186 187 188 189 190 191 192 193 194 195 196 197\n",
      " 198 199 200 201 202 203 204 205 206 207 208 209 210 211 212 213 214 215\n",
      " 216 217 218 219 220 221 222 223 224 225 226 227 228 229 230 231 232 233\n",
      " 234 235 236 237 238 239 240 241 242 243 244 245 246 247 248 249 250 251\n",
      " 252 253 254 255 256 257 258 259 260 261 262 263 264 265 266 267 268 269\n",
      " 270 271 272 273 274 275 276 277 278 279 280 281 282 283 284 285 286 287\n",
      " 288 289 290 291 292 293 294 295 296 297 298 299 300 301 302 303 304 305\n",
      " 306 307 308 309 310 311 312 313 314 315 316 317 318 319 320 321 322 323\n",
      " 324 325 326 327 328 329 330 331 332 333 334 335 336 337 338 339 340 341\n",
      " 342 343 344 345 346 347 348 349 350 351]\n"
     ]
    }
   ],
   "source": [
    "print(uvd.antenna_numbers)"
   ]
  },
  {
   "cell_type": "code",
   "execution_count": null,
   "id": "20e5aa84",
   "metadata": {},
   "outputs": [],
   "source": [
    "LWA_preprocessing.plot_autocorrelations(\n",
    "    uvd,\n",
    "    plot_save_path=plot_save_path,\n",
    "    time_average=True,\n",
    "    plot_legend=True,\n",
    ")"
   ]
  },
  {
   "cell_type": "code",
   "execution_count": null,
   "id": "b4b93bc6",
   "metadata": {},
   "outputs": [],
   "source": [
    "uvd_antenna_selected = LWA_preprocessing.remove_inactive_antennas(uvd, autocorr_thresh=5., inplace=False)"
   ]
  },
  {
   "cell_type": "code",
   "execution_count": null,
   "id": "4bd575d7",
   "metadata": {},
   "outputs": [],
   "source": [
    "LWA_preprocessing.plot_autocorrelations(\n",
    "    uvd_antenna_selected,\n",
    "    plot_save_path=plot_save_path,\n",
    "    plot_file_prefix=\"antenna_selected\",\n",
    "    time_average=True,\n",
    "    plot_legend=True,\n",
    ")"
   ]
  },
  {
   "cell_type": "code",
   "execution_count": null,
   "id": "60cf29d3",
   "metadata": {},
   "outputs": [],
   "source": []
  }
 ],
 "metadata": {
  "kernelspec": {
   "display_name": "Python 3 (ipykernel)",
   "language": "python",
   "name": "python3"
  },
  "language_info": {
   "codemirror_mode": {
    "name": "ipython",
    "version": 3
   },
   "file_extension": ".py",
   "mimetype": "text/x-python",
   "name": "python",
   "nbconvert_exporter": "python",
   "pygments_lexer": "ipython3",
   "version": "3.8.8"
  }
 },
 "nbformat": 4,
 "nbformat_minor": 5
}
