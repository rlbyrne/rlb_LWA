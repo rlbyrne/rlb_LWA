{
 "cells": [
  {
   "cell_type": "code",
   "execution_count": 70,
   "id": "445ee490",
   "metadata": {},
   "outputs": [],
   "source": [
    "import lwa_f\n",
    "from lwa_antpos import mapping\n",
    "import matplotlib.pyplot as plt\n",
    "import numpy as np\n",
    "import pickle"
   ]
  },
  {
   "cell_type": "code",
   "execution_count": 71,
   "id": "635209cf",
   "metadata": {},
   "outputs": [
    {
     "name": "stdout",
     "output_type": "stream",
     "text": [
      "2025-06-19 09:08:19,451 - lwa_f.blocks.block:snap01 - INFO - eth - Couldn't find Ethernet core. Will retry later\n"
     ]
    },
    {
     "name": "stdout",
     "output_type": "stream",
     "text": [
      "2025-06-19 09:08:23,758 - lwa_f.blocks.block:snap02 - INFO - eth - Couldn't find Ethernet core. Will retry later\n",
      "2025-06-19 09:08:29,463 - lwa_f.blocks.block:snap03 - INFO - eth - Couldn't find Ethernet core. Will retry later\n",
      "2025-06-19 09:08:34,275 - lwa_f.blocks.block:snap04 - INFO - eth - Couldn't find Ethernet core. Will retry later\n",
      "2025-06-19 09:08:40,203 - lwa_f.blocks.block:snap05 - INFO - eth - Couldn't find Ethernet core. Will retry later\n",
      "2025-06-19 09:08:44,263 - lwa_f.blocks.block:snap06 - INFO - eth - Couldn't find Ethernet core. Will retry later\n",
      "2025-06-19 09:08:48,309 - lwa_f.blocks.block:snap07 - INFO - eth - Couldn't find Ethernet core. Will retry later\n",
      "2025-06-19 09:08:54,530 - lwa_f.blocks.block:snap08 - INFO - eth - Couldn't find Ethernet core. Will retry later\n",
      "2025-06-19 09:08:59,634 - lwa_f.blocks.block:snap09 - INFO - eth - Couldn't find Ethernet core. Will retry later\n",
      "2025-06-19 09:09:03,610 - lwa_f.blocks.block:snap10 - INFO - eth - Couldn't find Ethernet core. Will retry later\n",
      "2025-06-19 09:09:08,238 - lwa_f.blocks.block:snap11 - INFO - eth - Couldn't find Ethernet core. Will retry later\n"
     ]
    }
   ],
   "source": [
    "snap_list = []\n",
    "adc_list = []\n",
    "antname_list = []\n",
    "bp_list = []\n",
    "coeffs_list = []\n",
    "for snap in range(1, 12):\n",
    "    s = lwa_f.snap2_fengine.Snap2FengineEtcd('snap%.2d' % snap)\n",
    "    for adc in range(64):\n",
    "        coeffs, bp = s.eq.get_coeffs(adc, return_as_int=True)\n",
    "        ant = mapping.snap2_to_antpol(snap, adc)\n",
    "\n",
    "        snap_list.append(snap)\n",
    "        adc_list.append(adc)\n",
    "        antname_list.append(ant)\n",
    "        bp_list.append(bp)\n",
    "        coeffs_list.append(np.array(coeffs))"
   ]
  },
  {
   "cell_type": "code",
   "execution_count": 72,
   "id": "02b9d6be",
   "metadata": {},
   "outputs": [],
   "source": [
    "coeffs_set_inds = []\n",
    "coeffs_set = []\n",
    "unique_coeffs_ind = -1\n",
    "for ind in range(704):\n",
    "    new_coeffs = coeffs_list[ind]\n",
    "    unique_coeffs = True\n",
    "    for old_coeffs in coeffs_set:\n",
    "        if np.sum(np.abs(old_coeffs-new_coeffs)) == 0:\n",
    "            unique_coeffs = False\n",
    "            continue\n",
    "    if unique_coeffs:\n",
    "        unique_coeffs_ind += 1\n",
    "        coeffs_set.append(new_coeffs)\n",
    "    coeffs_set_inds.append(unique_coeffs_ind)"
   ]
  },
  {
   "cell_type": "code",
   "execution_count": 73,
   "id": "b88402ed",
   "metadata": {},
   "outputs": [
    {
     "data": {
      "image/png": "[encoded data removed]",
      "text/plain": [
       "<Figure size 432x288 with 1 Axes>"
      ]
     },
     "metadata": {
      "needs_background": "light"
     },
     "output_type": "display_data"
    }
   ],
   "source": [
    "for ind in range(len(coeffs_set)):\n",
    "    plt.plot(np.arange(len(coeffs_set[ind])), coeffs_set[ind])\n",
    "plt.show()"
   ]
  },
  {
   "cell_type": "code",
   "execution_count": 74,
   "id": "f5010643",
   "metadata": {},
   "outputs": [
    {
     "data": {
      "image/png": "[encoded data removed]",
      "text/plain": [
       "<Figure size 432x288 with 1 Axes>"
      ]
     },
     "metadata": {
      "needs_background": "light"
     },
     "output_type": "display_data"
    }
   ],
   "source": [
    "for ind in range(len(coeffs_set)):\n",
    "    plt.plot(np.arange(len(coeffs_set[ind]))[1450:1550], coeffs_set[ind][1450:1550], \".\")\n",
    "    plt.ylim(10400,10600)\n",
    "plt.show()"
   ]
  },
  {
   "cell_type": "code",
   "execution_count": 75,
   "id": "c32e27f3",
   "metadata": {},
   "outputs": [],
   "source": [
    "dictionary = {\n",
    "    \"coeffs_set\": coeffs_set,\n",
    "    \"coeffs_set_inds\": coeffs_set_inds,\n",
    "    \"antnames\": antname_list,\n",
    "    \"bps\": bp_list,\n",
    "    \"snaps\": snap_list,\n",
    "    \"adcs\": adc_list\n",
    "}"
   ]
  },
  {
   "cell_type": "code",
   "execution_count": 76,
   "id": "05db9dc5",
   "metadata": {},
   "outputs": [],
   "source": [
    "#with open('/lustre/rbyrne/equalization_coeffs_20250616.pkl', 'wb') as f:\n",
    "#    pickle.dump(dictionary, f)"
   ]
  }
 ],
 "metadata": {
  "kernelspec": {
   "display_name": "deployment",
   "language": "python",
   "name": "python3"
  },
  "language_info": {
   "codemirror_mode": {
    "name": "ipython",
    "version": 3
   },
   "file_extension": ".py",
   "mimetype": "text/x-python",
   "name": "python",
   "nbconvert_exporter": "python",
   "pygments_lexer": "ipython3",
   "version": "3.6.13"
  }
 },
 "nbformat": 4,
 "nbformat_minor": 5
}
