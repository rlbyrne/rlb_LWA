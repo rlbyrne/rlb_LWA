{
 "cells": [
  {
   "cell_type": "code",
   "execution_count": 1,
   "id": "2b913060",
   "metadata": {},
   "outputs": [],
   "source": [
    "import numpy as np\n",
    "import math\n",
    "import scipy\n",
    "import scipy.special"
   ]
  },
  {
   "cell_type": "code",
   "execution_count": 5,
   "id": "498878b1",
   "metadata": {},
   "outputs": [],
   "source": [
    "start_freq_mhz = 183\n",
    "end_freq_mhz = 183.00001\n",
    "c = 3.0e8\n",
    "rm = 3.\n",
    "map1_val = 10\n",
    "map2_val = 5"
   ]
  },
  {
   "cell_type": "code",
   "execution_count": 6,
   "id": "3cb8af92",
   "metadata": {},
   "outputs": [
    {
     "name": "stdout",
     "output_type": "stream",
     "text": [
      "-11.168038557691704\n",
      "-0.5243231579011054\n"
     ]
    }
   ],
   "source": [
    "reference_freq_mhz = np.mean([start_freq_mhz, end_freq_mhz])\n",
    "wavelength = c / (reference_freq_mhz * 1.0e6)\n",
    "rot_angle = rm * wavelength**2.0\n",
    "new_q = (\n",
    "    np.cos(2 * rot_angle) * map1_val\n",
    "    + np.sin(2 * rot_angle) * map2_val\n",
    ")\n",
    "new_u = (\n",
    "    -np.sin(2 * rot_angle) * map1_val\n",
    "    + np.cos(2 * rot_angle) * map2_val\n",
    ")\n",
    "print(new_q)\n",
    "print(new_u)"
   ]
  },
  {
   "cell_type": "code",
   "execution_count": 8,
   "id": "c179bfa1",
   "metadata": {},
   "outputs": [
    {
     "name": "stdout",
     "output_type": "stream",
     "text": [
      "10.424467114768207\n",
      "-4.041097350705287\n"
     ]
    }
   ],
   "source": [
    "wl_max = c / (start_freq_mhz * 1.0e6)\n",
    "wl_min = c / (end_freq_mhz * 1.0e6)\n",
    "fresS_min, fresC_min = scipy.special.fresnel(\n",
    "    2 * np.sqrt(rm / np.pi + 0j) * wl_min\n",
    ")\n",
    "fresS_max, fresC_max = scipy.special.fresnel(\n",
    "    2 * np.sqrt(rm / np.pi + 0j) * wl_max\n",
    ")\n",
    "cos_int = np.real(\n",
    "    np.cos(2.0 * rm * wl_min**2.0) / wl_min\n",
    "    - np.cos(2.0 * rm * wl_max**2.0) / wl_max\n",
    "    + 2 * np.sqrt(np.pi * rm + 0j) * (fresS_min - fresS_max)\n",
    ")\n",
    "sin_int = np.real(\n",
    "    np.sin(2.0 * rm * wl_min**2.0) / wl_min\n",
    "    - np.sin(2.0 * rm * wl_max**2.0) / wl_max\n",
    "    - 2 * np.sqrt(np.pi * rm + 0j) * (fresC_min - fresC_max)\n",
    ")\n",
    "eff_rot_angle = np.arctan2(sin_int, cos_int)\n",
    "const = (1 / wl_min - 1 / wl_max) / np.sqrt(cos_int**2 + sin_int**2)\n",
    "new_q = const * (\n",
    "    np.cos(eff_rot_angle) * map1_val\n",
    "    + np.sin(eff_rot_angle) * map2_val\n",
    ")\n",
    "new_u = const * (\n",
    "    -np.sin(eff_rot_angle) * map1_val\n",
    "    + np.cos(eff_rot_angle) * map2_val\n",
    ")\n",
    "print(new_q)\n",
    "print(new_u)"
   ]
  },
  {
   "cell_type": "code",
   "execution_count": null,
   "id": "b91143ac",
   "metadata": {},
   "outputs": [],
   "source": []
  }
 ],
 "metadata": {
  "kernelspec": {
   "display_name": "Python 3 (ipykernel)",
   "language": "python",
   "name": "python3"
  },
  "language_info": {
   "codemirror_mode": {
    "name": "ipython",
    "version": 3
   },
   "file_extension": ".py",
   "mimetype": "text/x-python",
   "name": "python",
   "nbconvert_exporter": "python",
   "pygments_lexer": "ipython3",
   "version": "3.8.8"
  }
 },
 "nbformat": 4,
 "nbformat_minor": 5
}
