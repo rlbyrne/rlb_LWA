{
 "cells": [
  {
   "cell_type": "code",
   "execution_count": 1,
   "id": "df08031b",
   "metadata": {},
   "outputs": [],
   "source": [
    "import numpy as np\n",
    "from astropy.coordinates import Angle\n",
    "from astropy import units\n",
    "from astropy import constants as const"
   ]
  },
  {
   "cell_type": "code",
   "execution_count": 2,
   "id": "55b24075",
   "metadata": {},
   "outputs": [],
   "source": [
    "# LWA Phase III info:\n",
    "min_frequency = (12. * 1e6 * units.Hz)\n",
    "max_frequency = (85. * 1e6 * units.Hz)\n",
    "chan_width = (24. * 1e3 * units.Hz)\n",
    "max_baseline = (2400 * units.m)"
   ]
  },
  {
   "cell_type": "code",
   "execution_count": 3,
   "id": "6b00bf5d",
   "metadata": {},
   "outputs": [],
   "source": [
    "baseline = max_baseline\n",
    "integration_time = (10. * units.s)\n",
    "corr_FoV = (90. * units.deg)\n",
    "earth_rot_speed = (Angle(360, units.deg) / units.sday).to(units.arcminute / units.s)"
   ]
  },
  {
   "cell_type": "code",
   "execution_count": 4,
   "id": "dbae79bc",
   "metadata": {},
   "outputs": [
    {
     "name": "stdout",
     "output_type": "stream",
     "text": [
      "Decorrelation fraction due to integration time on the 2400.0 m m baseline: 0.07005151003315713\n",
      "Decorrelation due to channel width for a {fov} degree correlator FoV for the 2400.0 m m baseline: 0.19213291883413558\n",
      "Total decorrelation for the 2400.0 m m baseline from the integration time and channel width: 0.24872522777588357\n"
     ]
    }
   ],
   "source": [
    "frequency = min_frequency\n",
    "wavelength = const.c / frequency.to(1 / units.s)\n",
    "max_resolution = Angle(np.arcsin(wavelength / baseline), units.radian)\n",
    "\n",
    "decorr_int_time = integration_time * earth_rot_speed / max_resolution.to(units.arcminute)\n",
    "print(\n",
    "    'Decorrelation fraction due to integration time on '\n",
    "    f'the {max_baseline} m baseline: {decorr_int_time}'\n",
    ")\n",
    "\n",
    "decorr_chan_width = (\n",
    "    chan_width.to(1 / units.s) * baseline *\n",
    "    np.sin(corr_FoV.to(units.rad)) / const.c\n",
    ")\n",
    "print(\n",
    "    'Decorrelation due to channel width for a {fov} degree '\n",
    "    f'correlator FoV for the {max_baseline} m baseline: {decorr_chan_width}'\n",
    ")\n",
    "\n",
    "total_decorr = 1 - (1 - decorr_int_time) * (1 - decorr_chan_width)\n",
    "print(\n",
    "    f'Total decorrelation for the {max_baseline} m baseline '\n",
    "    f'from the integration time and channel width: {total_decorr}'\n",
    ")"
   ]
  },
  {
   "cell_type": "code",
   "execution_count": 5,
   "id": "f32e428c",
   "metadata": {},
   "outputs": [
    {
     "name": "stdout",
     "output_type": "stream",
     "text": [
      "Decorrelation fraction due to integration time on the 2400.0 m m baseline: 0.4962069789805127\n",
      "Decorrelation due to channel width for a {fov} degree correlator FoV for the 2400.0 m m baseline: 0.19213291883413558\n",
      "Total decorrelation for the 2400.0 m m baseline from the integration time and channel width: 0.5930022025972539\n"
     ]
    }
   ],
   "source": [
    "frequency = max_frequency\n",
    "wavelength = const.c / frequency.to(1 / units.s)\n",
    "max_resolution = Angle(np.arcsin(wavelength / baseline), units.radian)\n",
    "\n",
    "decorr_int_time = integration_time * earth_rot_speed / max_resolution.to(units.arcminute)\n",
    "print(\n",
    "    'Decorrelation fraction due to integration time on '\n",
    "    f'the {max_baseline} m baseline: {decorr_int_time}'\n",
    ")\n",
    "\n",
    "decorr_chan_width = (\n",
    "    chan_width.to(1 / units.s) * baseline *\n",
    "    np.sin(corr_FoV.to(units.rad)) / const.c\n",
    ")\n",
    "print(\n",
    "    'Decorrelation due to channel width for a {fov} degree '\n",
    "    f'correlator FoV for the {max_baseline} m baseline: {decorr_chan_width}'\n",
    ")\n",
    "\n",
    "total_decorr = 1 - (1 - decorr_int_time) * (1 - decorr_chan_width)\n",
    "print(\n",
    "    f'Total decorrelation for the {max_baseline} m baseline '\n",
    "    f'from the integration time and channel width: {total_decorr}'\n",
    ")"
   ]
  },
  {
   "cell_type": "code",
   "execution_count": null,
   "id": "c5f5c451",
   "metadata": {},
   "outputs": [],
   "source": []
  }
 ],
 "metadata": {
  "kernelspec": {
   "display_name": "Python 3 (ipykernel)",
   "language": "python",
   "name": "python3"
  },
  "language_info": {
   "codemirror_mode": {
    "name": "ipython",
    "version": 3
   },
   "file_extension": ".py",
   "mimetype": "text/x-python",
   "name": "python",
   "nbconvert_exporter": "python",
   "pygments_lexer": "ipython3",
   "version": "3.8.8"
  }
 },
 "nbformat": 4,
 "nbformat_minor": 5
}
