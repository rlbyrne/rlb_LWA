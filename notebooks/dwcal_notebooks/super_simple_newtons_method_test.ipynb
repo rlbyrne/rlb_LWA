{
 "cells": [
  {
   "cell_type": "code",
   "execution_count": 1,
   "id": "acbe11c2",
   "metadata": {},
   "outputs": [],
   "source": [
    "import numpy as np\n",
    "import matplotlib.pyplot as plt\n",
    "import sys\n",
    "import scipy\n",
    "import scipy.optimize\n",
    "import pyuvdata\n",
    "import time\n",
    "sys.path.append('/Users/ruby/Astro/rlb_LWA/dwcal')\n",
    "import delay_weighted_cal as dwcal\n",
    "import dwcal_tests\n",
    "import importlib\n",
    "importlib.reload(dwcal)\n",
    "importlib.reload(dwcal_tests)\n",
    "import scipy.linalg"
   ]
  },
  {
   "cell_type": "code",
   "execution_count": 2,
   "id": "566206f3",
   "metadata": {},
   "outputs": [],
   "source": [
    "x0 = np.zeros(1000, dtype=float)\n",
    "a = np.random.rand(1000)\n",
    "c = np.random.rand(1000,1000)\n",
    "c = c+c.T"
   ]
  },
  {
   "cell_type": "code",
   "execution_count": 3,
   "id": "c7e1a3a8",
   "metadata": {},
   "outputs": [],
   "source": [
    "def cost_function(x, a, c):\n",
    "    part1 = np.matmul(c, x-a)\n",
    "    cost = np.matmul(np.conj(x-a).T, part1)\n",
    "    return cost\n",
    "\n",
    "def calc_jac(x, a, c):\n",
    "    return 2.*np.matmul(c, x-a)\n",
    "\n",
    "def calc_hess(x, a, c):\n",
    "    return 2.*c"
   ]
  },
  {
   "cell_type": "code",
   "execution_count": 4,
   "id": "e144ae37",
   "metadata": {},
   "outputs": [
    {
     "name": "stdout",
     "output_type": "stream",
     "text": [
      "-977.760644746013\n",
      "-977.7606445543101\n"
     ]
    }
   ],
   "source": [
    "def test_jac(x, a, c, test_ind, delta=0.0001):\n",
    "    x0 = np.copy(x)\n",
    "    x0[test_ind] -= delta / 2.0\n",
    "    x1 = np.copy(x)\n",
    "    x1[test_ind] += delta / 2.0\n",
    "    cost0 = cost_function(x0, a, c)\n",
    "    cost1 = cost_function(x1, a, c)\n",
    "    grad = calc_jac(x, a, c)\n",
    "    print((cost1-cost0)/delta)\n",
    "    print(grad[test_ind])\n",
    "    \n",
    "test_jac(x0, a, c, 0)"
   ]
  },
  {
   "cell_type": "code",
   "execution_count": 5,
   "id": "cfd89660",
   "metadata": {},
   "outputs": [
    {
     "name": "stdout",
     "output_type": "stream",
     "text": [
      "2.8753198921549483\n",
      "2.8753198917062903\n",
      "2.8753198917062903\n"
     ]
    }
   ],
   "source": [
    "def test_hess(x, a, c, test_ind, readout_ind, delta=0.0001):\n",
    "    x0 = np.copy(x)\n",
    "    x0[test_ind] -= delta / 2.0\n",
    "    x1 = np.copy(x)\n",
    "    x1[test_ind] += delta / 2.0\n",
    "    jac0 = calc_jac(x0, a, c)\n",
    "    jac1 = calc_jac(x1, a, c)\n",
    "    hess = calc_hess(x, a, c)\n",
    "    print((jac1[readout_ind]-jac0[readout_ind])/delta)\n",
    "    print(hess[readout_ind, test_ind])\n",
    "    print(hess[test_ind, readout_ind])\n",
    "    \n",
    "test_hess(x0, a, c, 0,1)"
   ]
  },
  {
   "cell_type": "code",
   "execution_count": 6,
   "id": "010f3d50",
   "metadata": {},
   "outputs": [],
   "source": [
    "def newtons_method_optimizer(\n",
    "    x0,\n",
    "    a,\n",
    "    c,\n",
    "    step_size = 1.,\n",
    "    covergence_condition = 0.001,\n",
    "):\n",
    "\n",
    "    n_iters = 0\n",
    "    convergence_iters = 0\n",
    "    while convergence_iters < 3:\n",
    "        hess_mat = calc_hess(x0, a, c)\n",
    "        hess_mat_inv = np.linalg.inv(hess_mat)\n",
    "        del hess_mat\n",
    "        jac = calc_jac(x0, a, c)\n",
    "        x1 = x0 - step_size*np.matmul(hess_mat_inv, jac)\n",
    "        del hess_mat_inv\n",
    "        del jac\n",
    "        cost = cost_function(x0, a, c)\n",
    "        print(f\"Iteration {n_iters}, cost func value: {cost}\")\n",
    "        check_conv = np.max(np.abs(x1-x0))\n",
    "        if check_conv < covergence_condition:\n",
    "            convergence_iters += 1\n",
    "        else:\n",
    "            convergence_iters = 0\n",
    "        x0 = x1\n",
    "        n_iters += 1"
   ]
  },
  {
   "cell_type": "code",
   "execution_count": 7,
   "id": "7b8d874b",
   "metadata": {},
   "outputs": [
    {
     "name": "stdout",
     "output_type": "stream",
     "text": [
      "Iteration 0, cost func value: 234673.2056056494\n",
      "Iteration 1, cost func value: -1.6446273011760608e-19\n",
      "Iteration 2, cost func value: 0.0\n",
      "Iteration 3, cost func value: 0.0\n"
     ]
    }
   ],
   "source": [
    "newtons_method_optimizer(\n",
    "    x0,\n",
    "    a,\n",
    "    c,\n",
    "    step_size = 1.,\n",
    "    covergence_condition = 0.001,\n",
    ")"
   ]
  },
  {
   "cell_type": "code",
   "execution_count": null,
   "id": "0271add1",
   "metadata": {},
   "outputs": [],
   "source": []
  }
 ],
 "metadata": {
  "kernelspec": {
   "display_name": "Python 3 (ipykernel)",
   "language": "python",
   "name": "python3"
  },
  "language_info": {
   "codemirror_mode": {
    "name": "ipython",
    "version": 3
   },
   "file_extension": ".py",
   "mimetype": "text/x-python",
   "name": "python",
   "nbconvert_exporter": "python",
   "pygments_lexer": "ipython3",
   "version": "3.8.8"
  }
 },
 "nbformat": 4,
 "nbformat_minor": 5
}
