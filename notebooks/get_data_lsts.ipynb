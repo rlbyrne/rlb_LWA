{
 "cells": [
  {
   "cell_type": "code",
   "execution_count": 1,
   "metadata": {},
   "outputs": [],
   "source": [
    "import os\n",
    "import astropy\n",
    "from astropy.time import Time\n",
    "from astropy import units\n",
    "import pyuvdata\n",
    "import datetime\n",
    "import numpy as np"
   ]
  },
  {
   "cell_type": "code",
   "execution_count": 2,
   "metadata": {},
   "outputs": [],
   "source": [
    "telescope_loc = pyuvdata.telescopes.known_telescope_location(\"OVRO-LWA\")"
   ]
  },
  {
   "cell_type": "code",
   "execution_count": 3,
   "metadata": {},
   "outputs": [
    {
     "name": "stdout",
     "output_type": "stream",
     "text": [
      "21h21m02.25217139s\n"
     ]
    }
   ],
   "source": [
    "observing_time = Time(datetime.datetime.now(), scale='utc', location=telescope_loc)\n",
    "lst = observing_time.sidereal_time(\"apparent\")\n",
    "print(lst)"
   ]
  },
  {
   "cell_type": "code",
   "execution_count": 4,
   "metadata": {},
   "outputs": [
    {
     "name": "stdout",
     "output_type": "stream",
     "text": [
      "11h00m00s\n",
      "14h00m00s\n",
      "False\n"
     ]
    }
   ],
   "source": [
    "lst_start = astropy.coordinates.Longitude(11, unit=\"hour\")\n",
    "print(lst_start)\n",
    "lst_end = astropy.coordinates.Longitude(14, unit=\"hour\")\n",
    "print(lst_end)\n",
    "print(lst > lst_start and lst < lst_end)"
   ]
  },
  {
   "cell_type": "code",
   "execution_count": 5,
   "metadata": {},
   "outputs": [
    {
     "name": "stdout",
     "output_type": "stream",
     "text": [
      "<SkyCoord (GCRS: obstime=2024-11-27 00:48:25.526056, obsgeoloc=(0., 0., 0.) m, obsgeovel=(0., 0., 0.) m / s): (ra, dec, distance) in (deg, deg, AU)\n",
      "    (242.96799452, -21.11291565, 0.9867736)>\n",
      "<SkyCoord (AltAz: obstime=2024-11-27 00:48:25.526056, location=(-2409247.20369628, -4477889.56236559, 3839327.82827939) m, pressure=0.0 hPa, temperature=0.0 deg_C, relative_humidity=0.0, obswl=1.0 micron): (az, alt, distance) in (deg, deg, AU)\n",
      "    (245.43111027, -2.9077814, 0.9867757)>\n"
     ]
    },
    {
     "data": {
      "text/latex": [
       "$-2^\\circ54{}^\\prime28.01303832{}^{\\prime\\prime}$"
      ],
      "text/plain": [
       "<Latitude -2.9077814 deg>"
      ]
     },
     "execution_count": 5,
     "metadata": {},
     "output_type": "execute_result"
    }
   ],
   "source": [
    "sun_loc = astropy.coordinates.get_sun(observing_time)\n",
    "print(sun_loc)\n",
    "sun_altaz = sun_loc.transform_to(astropy.coordinates.AltAz(obstime=observing_time, location=telescope_loc))\n",
    "print(sun_altaz)\n",
    "sun_altaz.alt"
   ]
  },
  {
   "cell_type": "code",
   "execution_count": 6,
   "metadata": {},
   "outputs": [
    {
     "data": {
      "text/latex": [
       "$10 \\; \\mathrm{{}^{\\circ}}$"
      ],
      "text/plain": [
       "<Quantity 10. deg>"
      ]
     },
     "execution_count": 6,
     "metadata": {},
     "output_type": "execute_result"
    }
   ],
   "source": [
    "10*units.deg"
   ]
  },
  {
   "cell_type": "code",
   "execution_count": 7,
   "metadata": {},
   "outputs": [
    {
     "data": {
      "text/plain": [
       "False"
      ]
     },
     "execution_count": 7,
     "metadata": {},
     "output_type": "execute_result"
    }
   ],
   "source": [
    "sun_altaz.alt > 10*units.deg"
   ]
  },
  {
   "cell_type": "code",
   "execution_count": 8,
   "metadata": {},
   "outputs": [
    {
     "name": "stdout",
     "output_type": "stream",
     "text": [
      "['13MHz' '18MHz' '23MHz' '27MHz' '32MHz' '36MHz' '41MHz' '46MHz' '50MHz'\n",
      " '55MHz' '59MHz' '64MHz' '69MHz' '73MHz' '78MHz' '82MHz']\n"
     ]
    }
   ],
   "source": [
    "subband_dirs = np.sort([name for name in os.listdir(\"/lustre/pipeline/night-time\") if name.endswith(\"MHz\")])\n",
    "print(subband_dirs)"
   ]
  },
  {
   "cell_type": "code",
   "execution_count": 9,
   "metadata": {},
   "outputs": [
    {
     "name": "stdout",
     "output_type": "stream",
     "text": [
      "['41MHz', '46MHz', '50MHz', '55MHz', '59MHz', '64MHz', '69MHz', '73MHz', '78MHz', '82MHz']\n"
     ]
    }
   ],
   "source": [
    "use_subband_dirs = [name for name in subband_dirs if int(name[:2]) >= 41]\n",
    "print(use_subband_dirs)"
   ]
  },
  {
   "cell_type": "code",
   "execution_count": 10,
   "metadata": {},
   "outputs": [
    {
     "ename": "KeyboardInterrupt",
     "evalue": "",
     "output_type": "error",
     "traceback": [
      "\u001b[0;31m---------------------------------------------------------------------------\u001b[0m",
      "\u001b[0;31mKeyboardInterrupt\u001b[0m                         Traceback (most recent call last)",
      "Cell \u001b[0;32mIn[10], line 28\u001b[0m\n\u001b[1;32m     26\u001b[0m in_lst_range\u001b[38;5;241m.\u001b[39mappend(lst \u001b[38;5;241m>\u001b[39m lst_start \u001b[38;5;129;01mand\u001b[39;00m lst \u001b[38;5;241m<\u001b[39m lst_end)\n\u001b[1;32m     27\u001b[0m sun_loc \u001b[38;5;241m=\u001b[39m astropy\u001b[38;5;241m.\u001b[39mcoordinates\u001b[38;5;241m.\u001b[39mget_sun(observing_time)\n\u001b[0;32m---> 28\u001b[0m sun_altaz \u001b[38;5;241m=\u001b[39m \u001b[43msun_loc\u001b[49m\u001b[38;5;241;43m.\u001b[39;49m\u001b[43mtransform_to\u001b[49m\u001b[43m(\u001b[49m\u001b[43mastropy\u001b[49m\u001b[38;5;241;43m.\u001b[39;49m\u001b[43mcoordinates\u001b[49m\u001b[38;5;241;43m.\u001b[39;49m\u001b[43mAltAz\u001b[49m\u001b[43m(\u001b[49m\u001b[43mobstime\u001b[49m\u001b[38;5;241;43m=\u001b[39;49m\u001b[43mobserving_time\u001b[49m\u001b[43m,\u001b[49m\u001b[43m \u001b[49m\u001b[43mlocation\u001b[49m\u001b[38;5;241;43m=\u001b[39;49m\u001b[43mtelescope_loc\u001b[49m\u001b[43m)\u001b[49m\u001b[43m)\u001b[49m\n\u001b[1;32m     29\u001b[0m in_nighttime\u001b[38;5;241m.\u001b[39mappend(sun_altaz\u001b[38;5;241m.\u001b[39malt \u001b[38;5;241m<\u001b[39m \u001b[38;5;241m0\u001b[39m)\n",
      "File \u001b[0;32m/opt/devel/rbyrne/envs/py310/lib/python3.10/site-packages/astropy/coordinates/sky_coordinate.py:692\u001b[0m, in \u001b[0;36mSkyCoord.transform_to\u001b[0;34m(self, frame, merge_attributes)\u001b[0m\n\u001b[1;32m    688\u001b[0m generic_frame \u001b[38;5;241m=\u001b[39m GenericFrame(frame_kwargs)\n\u001b[1;32m    690\u001b[0m \u001b[38;5;66;03m# Do the transformation, returning a coordinate frame of the desired\u001b[39;00m\n\u001b[1;32m    691\u001b[0m \u001b[38;5;66;03m# final type (not generic).\u001b[39;00m\n\u001b[0;32m--> 692\u001b[0m new_coord \u001b[38;5;241m=\u001b[39m \u001b[43mtrans\u001b[49m\u001b[43m(\u001b[49m\u001b[38;5;28;43mself\u001b[39;49m\u001b[38;5;241;43m.\u001b[39;49m\u001b[43mframe\u001b[49m\u001b[43m,\u001b[49m\u001b[43m \u001b[49m\u001b[43mgeneric_frame\u001b[49m\u001b[43m)\u001b[49m\n\u001b[1;32m    694\u001b[0m \u001b[38;5;66;03m# Finally make the new SkyCoord object from the `new_coord` and\u001b[39;00m\n\u001b[1;32m    695\u001b[0m \u001b[38;5;66;03m# remaining frame_kwargs that are not frame_attributes in `new_coord`.\u001b[39;00m\n\u001b[1;32m    696\u001b[0m \u001b[38;5;28;01mfor\u001b[39;00m attr \u001b[38;5;129;01min\u001b[39;00m \u001b[38;5;28mset\u001b[39m(new_coord\u001b[38;5;241m.\u001b[39mframe_attributes) \u001b[38;5;241m&\u001b[39m \u001b[38;5;28mset\u001b[39m(frame_kwargs\u001b[38;5;241m.\u001b[39mkeys()):\n",
      "File \u001b[0;32m/opt/devel/rbyrne/envs/py310/lib/python3.10/site-packages/astropy/coordinates/transformations.py:1537\u001b[0m, in \u001b[0;36mCompositeTransform.__call__\u001b[0;34m(self, fromcoord, toframe)\u001b[0m\n\u001b[1;32m   1534\u001b[0m             frattrs[inter_frame_attr_nm] \u001b[38;5;241m=\u001b[39m attr\n\u001b[1;32m   1536\u001b[0m     curr_toframe \u001b[38;5;241m=\u001b[39m t\u001b[38;5;241m.\u001b[39mtosys(\u001b[38;5;241m*\u001b[39m\u001b[38;5;241m*\u001b[39mfrattrs)\n\u001b[0;32m-> 1537\u001b[0m     curr_coord \u001b[38;5;241m=\u001b[39m \u001b[43mt\u001b[49m\u001b[43m(\u001b[49m\u001b[43mcurr_coord\u001b[49m\u001b[43m,\u001b[49m\u001b[43m \u001b[49m\u001b[43mcurr_toframe\u001b[49m\u001b[43m)\u001b[49m\n\u001b[1;32m   1539\u001b[0m \u001b[38;5;66;03m# this is safe even in the case where self.transforms is empty, because\u001b[39;00m\n\u001b[1;32m   1540\u001b[0m \u001b[38;5;66;03m# coordinate objects are immutable, so copying is not needed\u001b[39;00m\n\u001b[1;32m   1541\u001b[0m \u001b[38;5;28;01mreturn\u001b[39;00m curr_coord\n",
      "File \u001b[0;32m/opt/devel/rbyrne/envs/py310/lib/python3.10/site-packages/astropy/coordinates/transformations.py:1027\u001b[0m, in \u001b[0;36mFunctionTransformWithFiniteDifference.__call__\u001b[0;34m(self, fromcoord, toframe)\u001b[0m\n\u001b[1;32m   1025\u001b[0m supcall \u001b[38;5;241m=\u001b[39m \u001b[38;5;28mself\u001b[39m\u001b[38;5;241m.\u001b[39mfunc\n\u001b[1;32m   1026\u001b[0m \u001b[38;5;28;01mif\u001b[39;00m \u001b[38;5;129;01mnot\u001b[39;00m fromcoord\u001b[38;5;241m.\u001b[39mdata\u001b[38;5;241m.\u001b[39mdifferentials:\n\u001b[0;32m-> 1027\u001b[0m     \u001b[38;5;28;01mreturn\u001b[39;00m \u001b[43msupcall\u001b[49m\u001b[43m(\u001b[49m\u001b[43mfromcoord\u001b[49m\u001b[43m,\u001b[49m\u001b[43m \u001b[49m\u001b[43mtoframe\u001b[49m\u001b[43m)\u001b[49m\n\u001b[1;32m   1028\u001b[0m \u001b[38;5;66;03m# this is the finite difference case\u001b[39;00m\n\u001b[1;32m   1030\u001b[0m \u001b[38;5;28;01mif\u001b[39;00m \u001b[38;5;28mcallable\u001b[39m(\u001b[38;5;28mself\u001b[39m\u001b[38;5;241m.\u001b[39mfinite_difference_dt):\n",
      "File \u001b[0;32m/opt/devel/rbyrne/envs/py310/lib/python3.10/site-packages/astropy/coordinates/builtin_frames/icrs_cirs_transforms.py:190\u001b[0m, in \u001b[0;36mgcrs_to_icrs\u001b[0;34m(gcrs_coo, icrs_frame)\u001b[0m\n\u001b[1;32m    180\u001b[0m     intermedrep \u001b[38;5;241m=\u001b[39m SphericalRepresentation(\n\u001b[1;32m    181\u001b[0m         lat\u001b[38;5;241m=\u001b[39mu\u001b[38;5;241m.\u001b[39mQuantity(i_dec, u\u001b[38;5;241m.\u001b[39mradian, copy\u001b[38;5;241m=\u001b[39m\u001b[38;5;28;01mFalse\u001b[39;00m),\n\u001b[1;32m    182\u001b[0m         lon\u001b[38;5;241m=\u001b[39mu\u001b[38;5;241m.\u001b[39mQuantity(i_ra, u\u001b[38;5;241m.\u001b[39mradian, copy\u001b[38;5;241m=\u001b[39m\u001b[38;5;28;01mFalse\u001b[39;00m),\n\u001b[1;32m    183\u001b[0m         distance\u001b[38;5;241m=\u001b[39msrepr\u001b[38;5;241m.\u001b[39mdistance,\n\u001b[1;32m    184\u001b[0m         copy\u001b[38;5;241m=\u001b[39m\u001b[38;5;28;01mFalse\u001b[39;00m,\n\u001b[1;32m    185\u001b[0m     )\n\u001b[1;32m    187\u001b[0m     astrom_eb \u001b[38;5;241m=\u001b[39m CartesianRepresentation(\n\u001b[1;32m    188\u001b[0m         astrom[\u001b[38;5;124m\"\u001b[39m\u001b[38;5;124meb\u001b[39m\u001b[38;5;124m\"\u001b[39m], unit\u001b[38;5;241m=\u001b[39mu\u001b[38;5;241m.\u001b[39mau, xyz_axis\u001b[38;5;241m=\u001b[39m\u001b[38;5;241m-\u001b[39m\u001b[38;5;241m1\u001b[39m, copy\u001b[38;5;241m=\u001b[39m\u001b[38;5;28;01mFalse\u001b[39;00m\n\u001b[1;32m    189\u001b[0m     )\n\u001b[0;32m--> 190\u001b[0m     newrep \u001b[38;5;241m=\u001b[39m \u001b[43mintermedrep\u001b[49m\u001b[43m \u001b[49m\u001b[38;5;241;43m+\u001b[39;49m\u001b[43m \u001b[49m\u001b[43mastrom_eb\u001b[49m\n\u001b[1;32m    192\u001b[0m \u001b[38;5;28;01mreturn\u001b[39;00m icrs_frame\u001b[38;5;241m.\u001b[39mrealize_frame(newrep)\n",
      "File \u001b[0;32m/opt/devel/rbyrne/envs/py310/lib/python3.10/site-packages/astropy/coordinates/representation/base.py:468\u001b[0m, in \u001b[0;36mBaseRepresentationOrDifferential.__add__\u001b[0;34m(self, other)\u001b[0m\n\u001b[1;32m    467\u001b[0m \u001b[38;5;28;01mdef\u001b[39;00m \u001b[38;5;21m__add__\u001b[39m(\u001b[38;5;28mself\u001b[39m, other):\n\u001b[0;32m--> 468\u001b[0m     \u001b[38;5;28;01mreturn\u001b[39;00m \u001b[38;5;28;43mself\u001b[39;49m\u001b[38;5;241;43m.\u001b[39;49m\u001b[43m_combine_operation\u001b[49m\u001b[43m(\u001b[49m\u001b[43moperator\u001b[49m\u001b[38;5;241;43m.\u001b[39;49m\u001b[43madd\u001b[49m\u001b[43m,\u001b[49m\u001b[43m \u001b[49m\u001b[43mother\u001b[49m\u001b[43m)\u001b[49m\n",
      "File \u001b[0;32m/opt/devel/rbyrne/envs/py310/lib/python3.10/site-packages/astropy/coordinates/representation/base.py:1124\u001b[0m, in \u001b[0;36mBaseRepresentation._combine_operation\u001b[0;34m(self, op, other, reverse)\u001b[0m\n\u001b[1;32m   1122\u001b[0m     \u001b[38;5;28;01mreturn\u001b[39;00m \u001b[38;5;28mNotImplemented\u001b[39m\n\u001b[1;32m   1123\u001b[0m \u001b[38;5;28;01melse\u001b[39;00m:\n\u001b[0;32m-> 1124\u001b[0m     \u001b[38;5;28;01mreturn\u001b[39;00m \u001b[38;5;28;43mself\u001b[39;49m\u001b[38;5;241;43m.\u001b[39;49m\u001b[43mfrom_cartesian\u001b[49m\u001b[43m(\u001b[49m\u001b[43mresult\u001b[49m\u001b[43m)\u001b[49m\n",
      "File \u001b[0;32m/opt/devel/rbyrne/envs/py310/lib/python3.10/site-packages/astropy/coordinates/representation/spherical.py:560\u001b[0m, in \u001b[0;36mSphericalRepresentation.from_cartesian\u001b[0;34m(cls, cart)\u001b[0m\n\u001b[1;32m    558\u001b[0m p \u001b[38;5;241m=\u001b[39m cart\u001b[38;5;241m.\u001b[39mget_xyz(xyz_axis\u001b[38;5;241m=\u001b[39m\u001b[38;5;241m-\u001b[39m\u001b[38;5;241m1\u001b[39m)\n\u001b[1;32m    559\u001b[0m \u001b[38;5;66;03m# erfa p2s: P-vector to spherical polar coordinates.\u001b[39;00m\n\u001b[0;32m--> 560\u001b[0m \u001b[38;5;28;01mreturn\u001b[39;00m \u001b[38;5;28;43mcls\u001b[39;49m\u001b[43m(\u001b[49m\u001b[38;5;241;43m*\u001b[39;49m\u001b[43merfa_ufunc\u001b[49m\u001b[38;5;241;43m.\u001b[39;49m\u001b[43mp2s\u001b[49m\u001b[43m(\u001b[49m\u001b[43mp\u001b[49m\u001b[43m)\u001b[49m\u001b[43m,\u001b[49m\u001b[43m \u001b[49m\u001b[43mcopy\u001b[49m\u001b[38;5;241;43m=\u001b[39;49m\u001b[38;5;28;43;01mFalse\u001b[39;49;00m\u001b[43m)\u001b[49m\n",
      "File \u001b[0;32m/opt/devel/rbyrne/envs/py310/lib/python3.10/site-packages/astropy/coordinates/representation/spherical.py:446\u001b[0m, in \u001b[0;36mSphericalRepresentation.__init__\u001b[0;34m(self, lon, lat, distance, differentials, copy)\u001b[0m\n\u001b[1;32m    442\u001b[0m \u001b[38;5;28;01mdef\u001b[39;00m \u001b[38;5;21m__init__\u001b[39m(\u001b[38;5;28mself\u001b[39m, lon, lat\u001b[38;5;241m=\u001b[39m\u001b[38;5;28;01mNone\u001b[39;00m, distance\u001b[38;5;241m=\u001b[39m\u001b[38;5;28;01mNone\u001b[39;00m, differentials\u001b[38;5;241m=\u001b[39m\u001b[38;5;28;01mNone\u001b[39;00m, copy\u001b[38;5;241m=\u001b[39m\u001b[38;5;28;01mTrue\u001b[39;00m):\n\u001b[1;32m    443\u001b[0m     \u001b[38;5;28msuper\u001b[39m()\u001b[38;5;241m.\u001b[39m\u001b[38;5;21m__init__\u001b[39m(lon, lat, distance, copy\u001b[38;5;241m=\u001b[39mcopy, differentials\u001b[38;5;241m=\u001b[39mdifferentials)\n\u001b[1;32m    444\u001b[0m     \u001b[38;5;28;01mif\u001b[39;00m (\n\u001b[1;32m    445\u001b[0m         \u001b[38;5;129;01mnot\u001b[39;00m \u001b[38;5;28misinstance\u001b[39m(\u001b[38;5;28mself\u001b[39m\u001b[38;5;241m.\u001b[39m_distance, Distance)\n\u001b[0;32m--> 446\u001b[0m         \u001b[38;5;129;01mand\u001b[39;00m \u001b[38;5;28;43mself\u001b[39;49m\u001b[38;5;241;43m.\u001b[39;49m\u001b[43m_distance\u001b[49m\u001b[38;5;241;43m.\u001b[39;49m\u001b[43munit\u001b[49m\u001b[38;5;241;43m.\u001b[39;49m\u001b[43mphysical_type\u001b[49m\u001b[43m \u001b[49m\u001b[38;5;241;43m==\u001b[39;49m\u001b[43m \u001b[49m\u001b[38;5;124;43m\"\u001b[39;49m\u001b[38;5;124;43mlength\u001b[39;49m\u001b[38;5;124;43m\"\u001b[39;49m\n\u001b[1;32m    447\u001b[0m     ):\n\u001b[1;32m    448\u001b[0m         \u001b[38;5;28;01mtry\u001b[39;00m:\n\u001b[1;32m    449\u001b[0m             \u001b[38;5;28mself\u001b[39m\u001b[38;5;241m.\u001b[39m_distance \u001b[38;5;241m=\u001b[39m Distance(\u001b[38;5;28mself\u001b[39m\u001b[38;5;241m.\u001b[39m_distance, copy\u001b[38;5;241m=\u001b[39m\u001b[38;5;28;01mFalse\u001b[39;00m)\n",
      "File \u001b[0;32m/opt/devel/rbyrne/envs/py310/lib/python3.10/site-packages/astropy/units/physical.py:332\u001b[0m, in \u001b[0;36mPhysicalType.__eq__\u001b[0;34m(self, other)\u001b[0m\n\u001b[1;32m    330\u001b[0m     \u001b[38;5;28;01mreturn\u001b[39;00m \u001b[38;5;28mself\u001b[39m\u001b[38;5;241m.\u001b[39m_physical_type_id \u001b[38;5;241m==\u001b[39m other\u001b[38;5;241m.\u001b[39m_physical_type_id\n\u001b[1;32m    331\u001b[0m \u001b[38;5;28;01melif\u001b[39;00m \u001b[38;5;28misinstance\u001b[39m(other, \u001b[38;5;28mstr\u001b[39m):\n\u001b[0;32m--> 332\u001b[0m     other \u001b[38;5;241m=\u001b[39m \u001b[43m_standardize_physical_type_names\u001b[49m\u001b[43m(\u001b[49m\u001b[43mother\u001b[49m\u001b[43m)\u001b[49m\n\u001b[1;32m    333\u001b[0m     \u001b[38;5;28;01mreturn\u001b[39;00m other\u001b[38;5;241m.\u001b[39missubset(\u001b[38;5;28mself\u001b[39m\u001b[38;5;241m.\u001b[39m_physical_type)\n\u001b[1;32m    334\u001b[0m \u001b[38;5;28;01melse\u001b[39;00m:\n",
      "\u001b[0;31mKeyboardInterrupt\u001b[0m: "
     ]
    }
   ],
   "source": [
    "filenames = []\n",
    "full_filepaths = []\n",
    "lsts = []\n",
    "in_lst_range = []\n",
    "in_nighttime = []\n",
    "for subband in use_subband_dirs:\n",
    "    day_dirs = np.sort(os.listdir(f\"/lustre/pipeline/night-time/{subband}\"))\n",
    "    for day in day_dirs:\n",
    "        hours = np.sort(os.listdir(f\"/lustre/pipeline/night-time/{subband}/{day}\"))\n",
    "        for hour in hours:\n",
    "            files = np.sort(os.listdir(f\"/lustre/pipeline/night-time/{subband}/{day}/{hour}\"))\n",
    "            for filename in files:\n",
    "                file_time = datetime.datetime(\n",
    "                    int(filename[:4]),  # year\n",
    "                    int(filename[4:6]),  # month\n",
    "                    int(filename[6:8]),  # day\n",
    "                    int(filename[9:11]),  # hour\n",
    "                    int(filename[11:13]),  # minute\n",
    "                    int(filename[13:15]),  # second\n",
    "                )\n",
    "                observing_time = Time(file_time, scale='utc', location=pyuvdata.telescopes.known_telescope_location(\"OVRO-LWA\"))\n",
    "                lst = observing_time.sidereal_time(\"apparent\")\n",
    "                filenames.append(filename)\n",
    "                full_filepaths.append(f\"/lustre/pipeline/night-time/{subband}/{day}/{hour}/{filename}\")\n",
    "                lsts.append(lst)\n",
    "                in_lst_range.append(lst > lst_start and lst < lst_end)\n",
    "                sun_loc = astropy.coordinates.get_sun(observing_time)\n",
    "                sun_altaz = sun_loc.transform_to(astropy.coordinates.AltAz(obstime=observing_time, location=telescope_loc))\n",
    "                in_nighttime.append(sun_altaz.alt < 0)\n",
    "                "
   ]
  },
  {
   "cell_type": "code",
   "execution_count": null,
   "metadata": {},
   "outputs": [],
   "source": [
    "print(in_nighttime)"
   ]
  },
  {
   "cell_type": "code",
   "execution_count": null,
   "metadata": {},
   "outputs": [],
   "source": [
    "len(in_lst_range)"
   ]
  },
  {
   "cell_type": "code",
   "execution_count": null,
   "metadata": {},
   "outputs": [],
   "source": [
    "if False:\n",
    "    output_filename = f\"/lustre/rbyrne/datafile_lsts.csv\"\n",
    "    with open(output_filename, \"w\") as f:\n",
    "        f.write(\"filename, full path, LST, in LST range? (y/n) \\n\")\n",
    "    with open(output_filename, \"a\") as f:\n",
    "        f.write(\n",
    "            f\"{lst}, {model_file.removesuffix(f'_{use_band}MHz_source_sim.uvfits')} \\n\"\n",
    "        )"
   ]
  },
  {
   "cell_type": "code",
   "execution_count": 5,
   "metadata": {},
   "outputs": [
    {
     "name": "stdout",
     "output_type": "stream",
     "text": [
      "measures data is not available\n"
     ]
    },
    {
     "name": "stderr",
     "output_type": "stream",
     "text": [
      "\n",
      "Some or all of the expected auto updates did not happen.\n",
      "This indicates that measurespath is not empty and does not contain data maintained by casaconfig.\n",
      "If the IERSeop2000 table is found in datapth then casatools will import.\n",
      "\n",
      "The contents of measurespath do not appear to be casarundata. CASA may still work if the data can be found in datapath.\n",
      "The contents of measurespath do not appear to include measures data. CASA may still work if the data can be found in datapath.\n",
      "visit https://casadocs.readthedocs.io/en/stable/notebooks/external-data.html for more information\n",
      "\n",
      "2024-11-27 01:29:08\tSEVERE\t::casa\t\n",
      "2024-11-27 01:29:08\tSEVERE\t::casa\tSome or all of the expected auto updates did not happen.\n",
      "2024-11-27 01:29:08\tSEVERE\t::casa\tThis indicates that measurespath is not empty and does not contain data maintained by casaconfig.\n",
      "2024-11-27 01:29:08\tSEVERE\t::casa\tIf the IERSeop2000 table is found in datapth then casatools will import.\n",
      "2024-11-27 01:29:08\tSEVERE\t::casa\t\n",
      "2024-11-27 01:29:08\tSEVERE\t::casa\tThe contents of measurespath do not appear to be casarundata. CASA may still work if the data can be found in datapath.\n",
      "2024-11-27 01:29:08\tSEVERE\t::casa\tThe contents of measurespath do not appear to include measures data. CASA may still work if the data can be found in datapath.\n",
      "2024-11-27 01:29:08\tSEVERE\t::casa\tvisit https://casadocs.readthedocs.io/en/stable/notebooks/external-data.html for more information\n",
      "2024-11-27 01:29:08\tSEVERE\t::casa\t\n"
     ]
    },
    {
     "ename": "NoReadme",
     "evalue": "data_update: no casarundata readme.txt file found at /home/rbyrne/.casa/data. Nothing updated or checked.",
     "output_type": "error",
     "traceback": [
      "\u001b[0;31m---------------------------------------------------------------------------\u001b[0m",
      "\u001b[0;31mNoReadme\u001b[0m                                  Traceback (most recent call last)",
      "Cell \u001b[0;32mIn[5], line 1\u001b[0m\n\u001b[0;32m----> 1\u001b[0m \u001b[38;5;28;01mimport\u001b[39;00m \u001b[38;5;21;01mcasatasks\u001b[39;00m\n",
      "File \u001b[0;32m/opt/devel/rbyrne/envs/py310/lib/python3.10/site-packages/casatasks/__init__.py:5\u001b[0m\n\u001b[1;32m      1\u001b[0m \u001b[38;5;66;03m###########################################################################\u001b[39;00m\n\u001b[1;32m      2\u001b[0m \u001b[38;5;66;03m########################## generated by setup.py ##########################\u001b[39;00m\n\u001b[1;32m      3\u001b[0m \u001b[38;5;66;03m###########################################################################\u001b[39;00m\n\u001b[1;32m      4\u001b[0m \u001b[38;5;28;01mfrom\u001b[39;00m \u001b[38;5;21;01m__future__\u001b[39;00m \u001b[38;5;28;01mimport\u001b[39;00m absolute_import\n\u001b[0;32m----> 5\u001b[0m \u001b[38;5;28;01mfrom\u001b[39;00m \u001b[38;5;21;01mcasatools\u001b[39;00m \u001b[38;5;28;01mimport\u001b[39;00m logsink \u001b[38;5;28;01mas\u001b[39;00m _logsink\n\u001b[1;32m      6\u001b[0m \u001b[38;5;28;01mimport\u001b[39;00m \u001b[38;5;21;01mos\u001b[39;00m \u001b[38;5;28;01mas\u001b[39;00m \u001b[38;5;21;01m__os\u001b[39;00m\n\u001b[1;32m      7\u001b[0m __cwd \u001b[38;5;241m=\u001b[39m __os\u001b[38;5;241m.\u001b[39mpath\u001b[38;5;241m.\u001b[39mdirname(__os\u001b[38;5;241m.\u001b[39mpath\u001b[38;5;241m.\u001b[39mabspath(\u001b[38;5;18m__file__\u001b[39m))\n",
      "File \u001b[0;32m/opt/devel/rbyrne/envs/py310/lib/python3.10/site-packages/casatools/__init__.py:257\u001b[0m\n\u001b[1;32m    255\u001b[0m \u001b[38;5;28;01mif\u001b[39;00m config_except \u001b[38;5;129;01mis\u001b[39;00m \u001b[38;5;129;01mnot\u001b[39;00m \u001b[38;5;28;01mNone\u001b[39;00m:\n\u001b[1;32m    256\u001b[0m     \u001b[38;5;28mprint\u001b[39m(\u001b[38;5;124m\"\u001b[39m\u001b[38;5;124mmeasures data is not available\u001b[39m\u001b[38;5;124m\"\u001b[39m)\n\u001b[0;32m--> 257\u001b[0m     \u001b[38;5;28;01mraise\u001b[39;00m config_except\n\u001b[1;32m    258\u001b[0m \u001b[38;5;28;01melse\u001b[39;00m:\n\u001b[1;32m    259\u001b[0m     \u001b[38;5;28;01mraise\u001b[39;00m \u001b[38;5;167;01mImportError\u001b[39;00m(\u001b[38;5;124m'\u001b[39m\u001b[38;5;124mmeasures data is not available, visit https://casadocs.readthedocs.io/en/stable/notebooks/external-data.html for more information\u001b[39m\u001b[38;5;124m'\u001b[39m)\n",
      "File \u001b[0;32m/opt/devel/rbyrne/envs/py310/lib/python3.10/site-packages/casatools/__init__.py:116\u001b[0m\n\u001b[1;32m    113\u001b[0m \u001b[38;5;66;03m# first, attempt any auto updates\u001b[39;00m\n\u001b[1;32m    114\u001b[0m \u001b[38;5;28;01mtry\u001b[39;00m:\n\u001b[1;32m    115\u001b[0m     \u001b[38;5;66;03m# this uses config.measurespath, config.measures_auto_update and config.data_auto_update as appropriate\u001b[39;00m\n\u001b[0;32m--> 116\u001b[0m     \u001b[43mdo_auto_updates\u001b[49m\u001b[43m(\u001b[49m\u001b[43mconfig\u001b[49m\u001b[43m,\u001b[49m\u001b[43m \u001b[49m\u001b[43mlogger\u001b[49m\u001b[43m)\u001b[49m\n\u001b[1;32m    118\u001b[0m \u001b[38;5;28;01mexcept\u001b[39;00m UnsetMeasurespath \u001b[38;5;28;01mas\u001b[39;00m exc:\n\u001b[1;32m    119\u001b[0m     msgs\u001b[38;5;241m.\u001b[39mappend(\u001b[38;5;28mstr\u001b[39m(exc))\n",
      "File \u001b[0;32m/opt/devel/rbyrne/envs/py310/lib/python3.10/site-packages/casaconfig/private/do_auto_updates.py:73\u001b[0m, in \u001b[0;36mdo_auto_updates\u001b[0;34m(configDict, logger, verbose)\u001b[0m\n\u001b[1;32m     71\u001b[0m \u001b[38;5;28;01melse\u001b[39;00m:\n\u001b[1;32m     72\u001b[0m     \u001b[38;5;28;01mif\u001b[39;00m configDict\u001b[38;5;241m.\u001b[39mdata_auto_update:\n\u001b[0;32m---> 73\u001b[0m         \u001b[43mdata_update\u001b[49m\u001b[43m(\u001b[49m\u001b[43mconfigDict\u001b[49m\u001b[38;5;241;43m.\u001b[39;49m\u001b[43mmeasurespath\u001b[49m\u001b[43m,\u001b[49m\u001b[43m \u001b[49m\u001b[43mlogger\u001b[49m\u001b[38;5;241;43m=\u001b[39;49m\u001b[43mlogger\u001b[49m\u001b[43m,\u001b[49m\u001b[43m \u001b[49m\u001b[43mauto_update_rules\u001b[49m\u001b[38;5;241;43m=\u001b[39;49m\u001b[38;5;28;43;01mTrue\u001b[39;49;00m\u001b[43m,\u001b[49m\u001b[43m \u001b[49m\u001b[43mverbose\u001b[49m\u001b[38;5;241;43m=\u001b[39;49m\u001b[43mverbose\u001b[49m\u001b[43m)\u001b[49m\n\u001b[1;32m     74\u001b[0m     \u001b[38;5;28;01mif\u001b[39;00m configDict\u001b[38;5;241m.\u001b[39mdata_auto_update \u001b[38;5;129;01mor\u001b[39;00m configDict\u001b[38;5;241m.\u001b[39mmeasures_auto_update:\n\u001b[1;32m     75\u001b[0m         measures_update(configDict\u001b[38;5;241m.\u001b[39mmeasurespath, logger\u001b[38;5;241m=\u001b[39mlogger, auto_update_rules\u001b[38;5;241m=\u001b[39m\u001b[38;5;28;01mTrue\u001b[39;00m, verbose\u001b[38;5;241m=\u001b[39mverbose)\n",
      "File \u001b[0;32m/opt/devel/rbyrne/envs/py310/lib/python3.10/site-packages/casaconfig/private/data_update.py:163\u001b[0m, in \u001b[0;36mdata_update\u001b[0;34m(path, version, force, logger, auto_update_rules, verbose)\u001b[0m\n\u001b[1;32m    160\u001b[0m \u001b[38;5;28;01mif\u001b[39;00m \u001b[38;5;129;01mnot\u001b[39;00m os\u001b[38;5;241m.\u001b[39mpath\u001b[38;5;241m.\u001b[39mexists(readme_path):\n\u001b[1;32m    161\u001b[0m     \u001b[38;5;66;03m# path must exist and it must be empty in order to continue\u001b[39;00m\n\u001b[1;32m    162\u001b[0m     \u001b[38;5;28;01mif\u001b[39;00m \u001b[38;5;129;01mnot\u001b[39;00m os\u001b[38;5;241m.\u001b[39mpath\u001b[38;5;241m.\u001b[39mexists(path) \u001b[38;5;129;01mor\u001b[39;00m (\u001b[38;5;28mlen\u001b[39m(os\u001b[38;5;241m.\u001b[39mlistdir(path)) \u001b[38;5;241m>\u001b[39m \u001b[38;5;241m0\u001b[39m):\n\u001b[0;32m--> 163\u001b[0m         \u001b[38;5;28;01mraise\u001b[39;00m NoReadme(\u001b[38;5;124m'\u001b[39m\u001b[38;5;124mdata_update: no casarundata readme.txt file found at \u001b[39m\u001b[38;5;132;01m%s\u001b[39;00m\u001b[38;5;124m. Nothing updated or checked.\u001b[39m\u001b[38;5;124m'\u001b[39m \u001b[38;5;241m%\u001b[39m path);\n\u001b[1;32m    164\u001b[0m     \u001b[38;5;66;03m# ok to install a fresh copy, use pull_data directly\u001b[39;00m\n\u001b[1;32m    165\u001b[0m     \u001b[38;5;28;01mreturn\u001b[39;00m pull_data(path,version,force,logger,verbose)\n",
      "\u001b[0;31mNoReadme\u001b[0m: data_update: no casarundata readme.txt file found at /home/rbyrne/.casa/data. Nothing updated or checked."
     ]
    }
   ],
   "source": [
    "import casatasks"
   ]
  },
  {
   "cell_type": "code",
   "execution_count": 12,
   "metadata": {},
   "outputs": [
    {
     "ename": "AttributeError",
     "evalue": "module 'casacore' has no attribute 'concat'",
     "output_type": "error",
     "traceback": [
      "\u001b[0;31m---------------------------------------------------------------------------\u001b[0m",
      "\u001b[0;31mAttributeError\u001b[0m                            Traceback (most recent call last)",
      "Cell \u001b[0;32mIn[12], line 1\u001b[0m\n\u001b[0;32m----> 1\u001b[0m \u001b[43mcasacore\u001b[49m\u001b[38;5;241;43m.\u001b[39;49m\u001b[43mconcat\u001b[49m()\n",
      "\u001b[0;31mAttributeError\u001b[0m: module 'casacore' has no attribute 'concat'"
     ]
    }
   ],
   "source": [
    "casacore.concat()"
   ]
  },
  {
   "cell_type": "code",
   "execution_count": 12,
   "metadata": {},
   "outputs": [],
   "source": [
    "import pandas as pd\n",
    "import numpy as np"
   ]
  },
  {
   "cell_type": "code",
   "execution_count": 3,
   "metadata": {},
   "outputs": [],
   "source": [
    "file_contents = pd.read_csv(\"/lustre/rbyrne/datafile_lsts_11-14.csv\")"
   ]
  },
  {
   "cell_type": "code",
   "execution_count": 8,
   "metadata": {},
   "outputs": [
    {
     "data": {
      "text/plain": [
       "814740"
      ]
     },
     "execution_count": 8,
     "metadata": {},
     "output_type": "execute_result"
    }
   ],
   "source": [
    "len(file_contents[\"filename\"])"
   ]
  },
  {
   "cell_type": "code",
   "execution_count": 9,
   "metadata": {},
   "outputs": [
    {
     "data": {
      "text/plain": [
       "{'_is_copy': None,\n",
       " '_mgr': BlockManager\n",
       " Items: Index(['filename', ' full path', ' LST', ' in LST range? (T/F)',\n",
       "        ' nighttime? (T/F) '],\n",
       "       dtype='object')\n",
       " Axis 1: RangeIndex(start=0, stop=814740, step=1)\n",
       " NumpyBlock: slice(0, 5, 1), 5 x 814740, dtype: object,\n",
       " '_item_cache': {'filename': 0         20231206_135255_41MHz.ms\n",
       "  1         20231206_135305_41MHz.ms\n",
       "  2         20231206_135316_41MHz.ms\n",
       "  3         20231206_135326_41MHz.ms\n",
       "  4         20231206_135336_41MHz.ms\n",
       "                      ...           \n",
       "  814735    20240601_051139_82MHz.ms\n",
       "  814736    20240601_051149_82MHz.ms\n",
       "  814737    20240601_051159_82MHz.ms\n",
       "  814738    20240601_051209_82MHz.ms\n",
       "  814739    20240601_051219_82MHz.ms\n",
       "  Name: filename, Length: 814740, dtype: object},\n",
       " '_attrs': {},\n",
       " '_flags': <Flags(allows_duplicate_labels=True)>}"
      ]
     },
     "execution_count": 9,
     "metadata": {},
     "output_type": "execute_result"
    }
   ],
   "source": [
    "file_contents.__dict__"
   ]
  },
  {
   "cell_type": "code",
   "execution_count": 17,
   "metadata": {},
   "outputs": [],
   "source": [
    "file_contents.iloc[np.array([0,5,6])].to_csv(\"/lustre/rbyrne/test_csv.csv\", index=False)"
   ]
  },
  {
   "cell_type": "code",
   "execution_count": null,
   "metadata": {},
   "outputs": [],
   "source": []
  }
 ],
 "metadata": {
  "kernelspec": {
   "display_name": "py310",
   "language": "python",
   "name": "python3"
  },
  "language_info": {
   "codemirror_mode": {
    "name": "ipython",
    "version": 3
   },
   "file_extension": ".py",
   "mimetype": "text/x-python",
   "name": "python",
   "nbconvert_exporter": "python",
   "pygments_lexer": "ipython3",
   "version": "3.10.14"
  }
 },
 "nbformat": 4,
 "nbformat_minor": 2
}
