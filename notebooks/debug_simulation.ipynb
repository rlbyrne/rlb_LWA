{
 "cells": [
  {
   "cell_type": "code",
   "execution_count": 1,
   "metadata": {},
   "outputs": [
    {
     "name": "stderr",
     "output_type": "stream",
     "text": [
      "/opt/devel/rbyrne/envs/py310/lib/python3.10/site-packages/skcuda/cublas.py:284: UserWarning: creating CUBLAS context to get version number\n",
      "  warnings.warn('creating CUBLAS context to get version number')\n"
     ]
    }
   ],
   "source": [
    "import sys\n",
    "sys.path.append(\"/home/rbyrne/rlb_LWA/LWA_data_preprocessing\")\n",
    "import generate_model_vis_fftvis\n",
    "import importlib\n",
    "importlib.reload(generate_model_vis_fftvis)\n",
    "import pyradiosky"
   ]
  },
  {
   "cell_type": "code",
   "execution_count": null,
   "metadata": {},
   "outputs": [],
   "source": []
  },
  {
   "cell_type": "code",
   "execution_count": 2,
   "metadata": {},
   "outputs": [],
   "source": [
    "skymodel = \"/lustre/rbyrne/skymodels/ovro_lwa_sky_map_36-73MHz_nside512.skyh5\"\n",
    "#skymodel = \"/lustre/rbyrne/skymodels/Gasperin2020_sources_plus_64.skyh5\"\n",
    "beam = \"/lustre/rbyrne/LWA_10to100_MROsoil_efields.fits\"\n",
    "use_subband = \"41\"\n",
    "time_offset = 0\n",
    "reference_file = f\"/lustre/rbyrne/2024-03-03/reference_data_for_sims/20240303_093000_{use_subband}MHz.ms\"\n",
    "time_string = str(93000 + 10 * time_offset).zfill(6)\n",
    "output_file = f\"/lustre/rbyrne/simulation_outputs/20240303_{time_string}_{use_subband}MHz_diffuse_sim.uvfits\""
   ]
  },
  {
   "cell_type": "code",
   "execution_count": 3,
   "metadata": {},
   "outputs": [],
   "source": [
    "cat = pyradiosky.SkyModel()\n",
    "cat.read(skymodel)"
   ]
  },
  {
   "cell_type": "code",
   "execution_count": 4,
   "metadata": {},
   "outputs": [
    {
     "name": "stdout",
     "output_type": "stream",
     "text": [
      "[36528000. 41760000. 46992000. 52224000. 57456000. 62688000. 67920000.\n",
      " 73152000.] Hz\n"
     ]
    }
   ],
   "source": [
    "print(cat.freq_array)"
   ]
  },
  {
   "cell_type": "code",
   "execution_count": 5,
   "metadata": {},
   "outputs": [
    {
     "name": "stderr",
     "output_type": "stream",
     "text": [
      "The uvw_array does not match the expected values given the antenna positions. The largest discrepancy is 4024.778914305858 meters. This is a fairly common situation but might indicate an error in the antenna positions, the uvws or the phasing.\n",
      "telescope_location are not set or are being overwritten. telescope_location are set using values from known telescopes for OVRO-LWA.\n",
      "Recalculating uvw_array without adjusting visibility phases -- this can introduce significant errors if used incorrectly.\n"
     ]
    },
    {
     "name": "stdout",
     "output_type": "stream",
     "text": [
      "[40960937.5     40984863.28125 41008789.0625  41032714.84375\n",
      " 41056640.625   41080566.40625 41104492.1875  41128417.96875\n",
      " 41152343.75    41176269.53125 41200195.3125  41224121.09375\n",
      " 41248046.875   41271972.65625 41295898.4375  41319824.21875\n",
      " 41343750.      41367675.78125 41391601.5625  41415527.34375\n",
      " 41439453.125   41463378.90625 41487304.6875  41511230.46875\n",
      " 41535156.25    41559082.03125 41583007.8125  41606933.59375\n",
      " 41630859.375   41654785.15625 41678710.9375  41702636.71875\n",
      " 41726562.5     41750488.28125 41774414.0625  41798339.84375\n",
      " 41822265.625   41846191.40625 41870117.1875  41894042.96875\n",
      " 41917968.75    41941894.53125 41965820.3125  41989746.09375\n",
      " 42013671.875   42037597.65625 42061523.4375  42085449.21875\n",
      " 42109375.      42133300.78125 42157226.5625  42181152.34375\n",
      " 42205078.125   42229003.90625 42252929.6875  42276855.46875\n",
      " 42300781.25    42324707.03125 42348632.8125  42372558.59375\n",
      " 42396484.375   42420410.15625 42444335.9375  42468261.71875\n",
      " 42492187.5     42516113.28125 42540039.0625  42563964.84375\n",
      " 42587890.625   42611816.40625 42635742.1875  42659667.96875\n",
      " 42683593.75    42707519.53125 42731445.3125  42755371.09375\n",
      " 42779296.875   42803222.65625 42827148.4375  42851074.21875\n",
      " 42875000.      42898925.78125 42922851.5625  42946777.34375\n",
      " 42970703.125   42994628.90625 43018554.6875  43042480.46875\n",
      " 43066406.25    43090332.03125 43114257.8125  43138183.59375\n",
      " 43162109.375   43186035.15625 43209960.9375  43233886.71875\n",
      " 43257812.5     43281738.28125 43305664.0625  43329589.84375\n",
      " 43353515.625   43377441.40625 43401367.1875  43425292.96875\n",
      " 43449218.75    43473144.53125 43497070.3125  43520996.09375\n",
      " 43544921.875   43568847.65625 43592773.4375  43616699.21875\n",
      " 43640625.      43664550.78125 43688476.5625  43712402.34375\n",
      " 43736328.125   43760253.90625 43784179.6875  43808105.46875\n",
      " 43832031.25    43855957.03125 43879882.8125  43903808.59375\n",
      " 43927734.375   43951660.15625 43975585.9375  43999511.71875\n",
      " 44023437.5     44047363.28125 44071289.0625  44095214.84375\n",
      " 44119140.625   44143066.40625 44166992.1875  44190917.96875\n",
      " 44214843.75    44238769.53125 44262695.3125  44286621.09375\n",
      " 44310546.875   44334472.65625 44358398.4375  44382324.21875\n",
      " 44406250.      44430175.78125 44454101.5625  44478027.34375\n",
      " 44501953.125   44525878.90625 44549804.6875  44573730.46875\n",
      " 44597656.25    44621582.03125 44645507.8125  44669433.59375\n",
      " 44693359.375   44717285.15625 44741210.9375  44765136.71875\n",
      " 44789062.5     44812988.28125 44836914.0625  44860839.84375\n",
      " 44884765.625   44908691.40625 44932617.1875  44956542.96875\n",
      " 44980468.75    45004394.53125 45028320.3125  45052246.09375\n",
      " 45076171.875   45100097.65625 45124023.4375  45147949.21875\n",
      " 45171875.      45195800.78125 45219726.5625  45243652.34375\n",
      " 45267578.125   45291503.90625 45315429.6875  45339355.46875\n",
      " 45363281.25    45387207.03125 45411132.8125  45435058.59375\n",
      " 45458984.375   45482910.15625 45506835.9375  45530761.71875]\n",
      "45530761.71875 Hz\n",
      "73152000.0 Hz\n",
      "[40960937.5]\n"
     ]
    },
    {
     "data": {
      "text/html": [
       "<pre style=\"white-space:pre;overflow-x:auto;line-height:normal;font-family:Menlo,'DejaVu Sans Mono',consolas,'Courier New',monospace\">install \"ipywidgets\" for Jupyter support\n",
       "</pre>\n"
      ],
      "text/plain": [
       "install \"ipywidgets\" for Jupyter support\n"
      ]
     },
     "metadata": {},
     "output_type": "display_data"
    },
    {
     "data": {
      "text/html": [
       "<pre style=\"white-space:pre;overflow-x:auto;line-height:normal;font-family:Menlo,'DejaVu Sans Mono',consolas,'Courier New',monospace\">install \"ipywidgets\" for Jupyter support\n",
       "</pre>\n"
      ],
      "text/plain": [
       "install \"ipywidgets\" for Jupyter support\n"
      ]
     },
     "metadata": {},
     "output_type": "display_data"
    },
    {
     "data": {
      "text/html": [
       "<pre style=\"white-space:pre;overflow-x:auto;line-height:normal;font-family:Menlo,'DejaVu Sans Mono',consolas,'Courier New',monospace\"></pre>\n"
      ],
      "text/plain": []
     },
     "metadata": {},
     "output_type": "display_data"
    },
    {
     "data": {
      "text/html": [
       "<pre style=\"white-space:pre;overflow-x:auto;line-height:normal;font-family:Menlo,'DejaVu Sans Mono',consolas,'Courier New',monospace\">\n",
       "</pre>\n"
      ],
      "text/plain": [
       "\n"
      ]
     },
     "metadata": {},
     "output_type": "display_data"
    },
    {
     "name": "stdout",
     "output_type": "stream",
     "text": [
      "[40984863.28125]\n"
     ]
    },
    {
     "data": {
      "text/html": [
       "<pre style=\"white-space:pre;overflow-x:auto;line-height:normal;font-family:Menlo,'DejaVu Sans Mono',consolas,'Courier New',monospace\"></pre>\n"
      ],
      "text/plain": []
     },
     "metadata": {},
     "output_type": "display_data"
    },
    {
     "data": {
      "text/html": [
       "<pre style=\"white-space:pre;overflow-x:auto;line-height:normal;font-family:Menlo,'DejaVu Sans Mono',consolas,'Courier New',monospace\">\n",
       "</pre>\n"
      ],
      "text/plain": [
       "\n"
      ]
     },
     "metadata": {},
     "output_type": "display_data"
    },
    {
     "ename": "KeyboardInterrupt",
     "evalue": "",
     "output_type": "error",
     "traceback": [
      "\u001b[0;31m---------------------------------------------------------------------------\u001b[0m",
      "\u001b[0;31mKeyboardInterrupt\u001b[0m                         Traceback (most recent call last)",
      "Cell \u001b[0;32mIn[5], line 1\u001b[0m\n\u001b[0;32m----> 1\u001b[0m \u001b[43mgenerate_model_vis_fftvis\u001b[49m\u001b[38;5;241;43m.\u001b[39;49m\u001b[43mrun_fftvis_diffuse_sim\u001b[49m\u001b[43m(\u001b[49m\n\u001b[1;32m      2\u001b[0m \u001b[43m    \u001b[49m\u001b[43mskymodel\u001b[49m\u001b[43m,\u001b[49m\u001b[43m \u001b[49m\n\u001b[1;32m      3\u001b[0m \u001b[43m    \u001b[49m\u001b[43mbeam\u001b[49m\u001b[43m,\u001b[49m\u001b[43m \u001b[49m\n\u001b[1;32m      4\u001b[0m \u001b[43m    \u001b[49m\u001b[43mreference_file\u001b[49m\u001b[43m,\u001b[49m\u001b[43m \u001b[49m\n\u001b[1;32m      5\u001b[0m \u001b[43m    \u001b[49m\u001b[43moutput_file\u001b[49m\u001b[43m,\u001b[49m\u001b[43m \u001b[49m\n\u001b[1;32m      6\u001b[0m \u001b[43m    \u001b[49m\u001b[43mlog_path\u001b[49m\u001b[38;5;241;43m=\u001b[39;49m\u001b[38;5;124;43mf\u001b[39;49m\u001b[38;5;124;43m\"\u001b[39;49m\u001b[38;5;124;43m/lustre/rbyrne/simulation_outputs/20240303_\u001b[39;49m\u001b[38;5;132;43;01m{\u001b[39;49;00m\u001b[43mtime_string\u001b[49m\u001b[38;5;132;43;01m}\u001b[39;49;00m\u001b[38;5;124;43m_\u001b[39;49m\u001b[38;5;132;43;01m{\u001b[39;49;00m\u001b[43muse_subband\u001b[49m\u001b[38;5;132;43;01m}\u001b[39;49;00m\u001b[38;5;124;43mMHz_diffuse_sim_log.txt\u001b[39;49m\u001b[38;5;124;43m\"\u001b[39;49m\u001b[43m,\u001b[49m\n\u001b[1;32m      7\u001b[0m \u001b[43m    \u001b[49m\u001b[43moffset_timesteps\u001b[49m\u001b[38;5;241;43m=\u001b[39;49m\u001b[43mtime_offset\u001b[49m\u001b[43m,\u001b[49m\u001b[43m \u001b[49m\n\u001b[1;32m      8\u001b[0m \u001b[43m)\u001b[49m\n",
      "File \u001b[0;32m~/rlb_LWA/LWA_data_preprocessing/generate_model_vis_fftvis.py:201\u001b[0m, in \u001b[0;36mrun_fftvis_diffuse_sim\u001b[0;34m(map_path, beam_path, input_data_path, output_uvfits_path, log_path, offset_timesteps)\u001b[0m\n\u001b[1;32m    195\u001b[0m     \u001b[38;5;28;01mwith\u001b[39;00m \u001b[38;5;28mopen\u001b[39m(log_path, \u001b[38;5;124m\"\u001b[39m\u001b[38;5;124ma\u001b[39m\u001b[38;5;124m\"\u001b[39m) \u001b[38;5;28;01mas\u001b[39;00m f:\n\u001b[1;32m    196\u001b[0m         f\u001b[38;5;241m.\u001b[39mwrite(\u001b[38;5;124mf\u001b[39m\u001b[38;5;124m\"\u001b[39m\u001b[38;5;124mSimulating frequency \u001b[39m\u001b[38;5;132;01m{\u001b[39;00mfreq_ind\u001b[38;5;250m \u001b[39m\u001b[38;5;241m+\u001b[39m\u001b[38;5;250m \u001b[39m\u001b[38;5;241m1\u001b[39m\u001b[38;5;132;01m}\u001b[39;00m\u001b[38;5;124m/\u001b[39m\u001b[38;5;132;01m{\u001b[39;00muvd\u001b[38;5;241m.\u001b[39mNfreqs\u001b[38;5;132;01m}\u001b[39;00m\u001b[38;5;124m.\u001b[39m\u001b[38;5;130;01m\\n\u001b[39;00m\u001b[38;5;124m\"\u001b[39m)\n\u001b[1;32m    197\u001b[0m     vis_full[freq_ind, :, :, :, :] \u001b[38;5;241m=\u001b[39m fftvis\u001b[38;5;241m.\u001b[39msimulate\u001b[38;5;241m.\u001b[39msimulate_vis(\n\u001b[1;32m    198\u001b[0m         ants\u001b[38;5;241m=\u001b[39mantpos,\n\u001b[1;32m    199\u001b[0m         baselines\u001b[38;5;241m=\u001b[39mantpairs,\n\u001b[1;32m    200\u001b[0m         fluxes\u001b[38;5;241m=\u001b[39mmodel\u001b[38;5;241m.\u001b[39mstokes[\u001b[38;5;241m0\u001b[39m]\u001b[38;5;241m.\u001b[39mT\u001b[38;5;241m.\u001b[39mto_value(\u001b[38;5;124m\"\u001b[39m\u001b[38;5;124mJy\u001b[39m\u001b[38;5;124m\"\u001b[39m),\n\u001b[0;32m--> 201\u001b[0m         ra\u001b[38;5;241m=\u001b[39mra_new,\n\u001b[1;32m    202\u001b[0m         dec\u001b[38;5;241m=\u001b[39mdec_new,\n\u001b[1;32m    203\u001b[0m         freqs\u001b[38;5;241m=\u001b[39muvd\u001b[38;5;241m.\u001b[39mfreq_array[[freq_ind]],\n\u001b[1;32m    204\u001b[0m         lsts\u001b[38;5;241m=\u001b[39mnp\u001b[38;5;241m.\u001b[39marray(lsts\u001b[38;5;241m.\u001b[39mto_value(\u001b[38;5;124m\"\u001b[39m\u001b[38;5;124mrad\u001b[39m\u001b[38;5;124m\"\u001b[39m)),\n\u001b[1;32m    205\u001b[0m         beam\u001b[38;5;241m=\u001b[39muvb,\n\u001b[1;32m    206\u001b[0m         polarized\u001b[38;5;241m=\u001b[39m\u001b[38;5;28;01mTrue\u001b[39;00m,\n\u001b[1;32m    207\u001b[0m         precision\u001b[38;5;241m=\u001b[39m\u001b[38;5;241m1\u001b[39m,  \u001b[38;5;66;03m# Worse precision\u001b[39;00m\n\u001b[1;32m    208\u001b[0m         latitude\u001b[38;5;241m=\u001b[39mlocation\u001b[38;5;241m.\u001b[39mlat\u001b[38;5;241m.\u001b[39mrad,\n\u001b[1;32m    209\u001b[0m     )\n\u001b[1;32m    210\u001b[0m sim_duration \u001b[38;5;241m=\u001b[39m time\u001b[38;5;241m.\u001b[39mtime() \u001b[38;5;241m-\u001b[39m sim_start_time\n\u001b[1;32m    211\u001b[0m \u001b[38;5;28;01mwith\u001b[39;00m \u001b[38;5;28mopen\u001b[39m(log_path, \u001b[38;5;124m\"\u001b[39m\u001b[38;5;124ma\u001b[39m\u001b[38;5;124m\"\u001b[39m) \u001b[38;5;28;01mas\u001b[39;00m f:\n",
      "File \u001b[0;32m/opt/devel/rbyrne/envs/py310/lib/python3.10/site-packages/fftvis/simulate.py:101\u001b[0m, in \u001b[0;36msimulate_vis\u001b[0;34m(ants, fluxes, ra, dec, freqs, lsts, beam, baselines, precision, polarized, latitude, eps, use_feed)\u001b[0m\n\u001b[1;32m     98\u001b[0m \u001b[38;5;66;03m# Prepare the beam\u001b[39;00m\n\u001b[1;32m     99\u001b[0m beam \u001b[38;5;241m=\u001b[39m conversions\u001b[38;5;241m.\u001b[39mprepare_beam(beam, polarized\u001b[38;5;241m=\u001b[39mpolarized, use_feed\u001b[38;5;241m=\u001b[39muse_feed)\n\u001b[0;32m--> 101\u001b[0m \u001b[38;5;28;01mreturn\u001b[39;00m \u001b[43msimulate\u001b[49m\u001b[43m(\u001b[49m\n\u001b[1;32m    102\u001b[0m \u001b[43m    \u001b[49m\u001b[43mants\u001b[49m\u001b[38;5;241;43m=\u001b[39;49m\u001b[43mants\u001b[49m\u001b[43m,\u001b[49m\n\u001b[1;32m    103\u001b[0m \u001b[43m    \u001b[49m\u001b[43mfreqs\u001b[49m\u001b[38;5;241;43m=\u001b[39;49m\u001b[43mfreqs\u001b[49m\u001b[43m,\u001b[49m\n\u001b[1;32m    104\u001b[0m \u001b[43m    \u001b[49m\u001b[43mfluxes\u001b[49m\u001b[38;5;241;43m=\u001b[39;49m\u001b[43mfluxes\u001b[49m\u001b[43m,\u001b[49m\n\u001b[1;32m    105\u001b[0m \u001b[43m    \u001b[49m\u001b[43mbeam\u001b[49m\u001b[38;5;241;43m=\u001b[39;49m\u001b[43mbeam\u001b[49m\u001b[43m,\u001b[49m\n\u001b[1;32m    106\u001b[0m \u001b[43m    \u001b[49m\u001b[43mcrd_eq\u001b[49m\u001b[38;5;241;43m=\u001b[39;49m\u001b[43mcrd_eq\u001b[49m\u001b[43m,\u001b[49m\n\u001b[1;32m    107\u001b[0m \u001b[43m    \u001b[49m\u001b[43meq2tops\u001b[49m\u001b[38;5;241;43m=\u001b[39;49m\u001b[43meq2tops\u001b[49m\u001b[43m,\u001b[49m\n\u001b[1;32m    108\u001b[0m \u001b[43m    \u001b[49m\u001b[43mbaselines\u001b[49m\u001b[38;5;241;43m=\u001b[39;49m\u001b[43mbaselines\u001b[49m\u001b[43m,\u001b[49m\n\u001b[1;32m    109\u001b[0m \u001b[43m    \u001b[49m\u001b[43mprecision\u001b[49m\u001b[38;5;241;43m=\u001b[39;49m\u001b[43mprecision\u001b[49m\u001b[43m,\u001b[49m\n\u001b[1;32m    110\u001b[0m \u001b[43m    \u001b[49m\u001b[43mpolarized\u001b[49m\u001b[38;5;241;43m=\u001b[39;49m\u001b[43mpolarized\u001b[49m\u001b[43m,\u001b[49m\n\u001b[1;32m    111\u001b[0m \u001b[43m    \u001b[49m\u001b[43meps\u001b[49m\u001b[38;5;241;43m=\u001b[39;49m\u001b[43meps\u001b[49m\u001b[43m,\u001b[49m\n\u001b[1;32m    112\u001b[0m \u001b[43m\u001b[49m\u001b[43m)\u001b[49m\n",
      "File \u001b[0;32m/opt/devel/rbyrne/envs/py310/lib/python3.10/site-packages/fftvis/simulate.py:305\u001b[0m, in \u001b[0;36msimulate\u001b[0;34m(ants, freqs, fluxes, beam, crd_eq, eq2tops, baselines, precision, polarized, eps, beam_spline_opts, max_progress_reports, live_progress)\u001b[0m\n\u001b[1;32m    303\u001b[0m \u001b[38;5;66;03m# Compute beams - only single beam is supported\u001b[39;00m\n\u001b[1;32m    304\u001b[0m A_s \u001b[38;5;241m=\u001b[39m np\u001b[38;5;241m.\u001b[39mzeros((nax, nfeeds, nsim_sources), dtype\u001b[38;5;241m=\u001b[39mcomplex_dtype)\n\u001b[0;32m--> 305\u001b[0m A_s \u001b[38;5;241m=\u001b[39m \u001b[43mbeams\u001b[49m\u001b[38;5;241;43m.\u001b[39;49m\u001b[43m_evaluate_beam\u001b[49m\u001b[43m(\u001b[49m\n\u001b[1;32m    306\u001b[0m \u001b[43m    \u001b[49m\u001b[43mA_s\u001b[49m\u001b[43m,\u001b[49m\n\u001b[1;32m    307\u001b[0m \u001b[43m    \u001b[49m\u001b[43mbeam_here\u001b[49m\u001b[43m,\u001b[49m\n\u001b[1;32m    308\u001b[0m \u001b[43m    \u001b[49m\u001b[43maz\u001b[49m\u001b[43m,\u001b[49m\n\u001b[1;32m    309\u001b[0m \u001b[43m    \u001b[49m\u001b[43mza\u001b[49m\u001b[43m,\u001b[49m\n\u001b[1;32m    310\u001b[0m \u001b[43m    \u001b[49m\u001b[43mpolarized\u001b[49m\u001b[43m,\u001b[49m\n\u001b[1;32m    311\u001b[0m \u001b[43m    \u001b[49m\u001b[43mfreqs\u001b[49m\u001b[43m[\u001b[49m\u001b[43mfi\u001b[49m\u001b[43m]\u001b[49m\u001b[43m,\u001b[49m\n\u001b[1;32m    312\u001b[0m \u001b[43m    \u001b[49m\u001b[43mspline_opts\u001b[49m\u001b[38;5;241;43m=\u001b[39;49m\u001b[43mbeam_spline_opts\u001b[49m\u001b[43m,\u001b[49m\n\u001b[1;32m    313\u001b[0m \u001b[43m\u001b[49m\u001b[43m)\u001b[49m\n\u001b[1;32m    314\u001b[0m A_s \u001b[38;5;241m=\u001b[39m A_s\u001b[38;5;241m.\u001b[39mtranspose((\u001b[38;5;241m1\u001b[39m, \u001b[38;5;241m0\u001b[39m, \u001b[38;5;241m2\u001b[39m))\n\u001b[1;32m    315\u001b[0m beam_product \u001b[38;5;241m=\u001b[39m np\u001b[38;5;241m.\u001b[39meinsum(\u001b[38;5;124m\"\u001b[39m\u001b[38;5;124mabs,cbs->acs\u001b[39m\u001b[38;5;124m\"\u001b[39m, A_s\u001b[38;5;241m.\u001b[39mconj(), A_s)\n",
      "File \u001b[0;32m/opt/devel/rbyrne/envs/py310/lib/python3.10/site-packages/fftvis/beams.py:53\u001b[0m, in \u001b[0;36m_evaluate_beam\u001b[0;34m(A_s, beam, az, za, polarized, freq, check, spline_opts)\u001b[0m\n\u001b[1;32m     50\u001b[0m \u001b[38;5;28;01mif\u001b[39;00m \u001b[38;5;28misinstance\u001b[39m(beam, UVBeam) \u001b[38;5;129;01mand\u001b[39;00m \u001b[38;5;129;01mnot\u001b[39;00m beam\u001b[38;5;241m.\u001b[39mfuture_array_shapes:\n\u001b[1;32m     51\u001b[0m     beam\u001b[38;5;241m.\u001b[39muse_future_array_shapes()\n\u001b[0;32m---> 53\u001b[0m interp_beam \u001b[38;5;241m=\u001b[39m \u001b[43mbeam\u001b[49m\u001b[38;5;241;43m.\u001b[39;49m\u001b[43minterp\u001b[49m\u001b[43m(\u001b[49m\n\u001b[1;32m     54\u001b[0m \u001b[43m    \u001b[49m\u001b[43maz_array\u001b[49m\u001b[38;5;241;43m=\u001b[39;49m\u001b[43maz\u001b[49m\u001b[43m,\u001b[49m\n\u001b[1;32m     55\u001b[0m \u001b[43m    \u001b[49m\u001b[43mza_array\u001b[49m\u001b[38;5;241;43m=\u001b[39;49m\u001b[43mza\u001b[49m\u001b[43m,\u001b[49m\n\u001b[1;32m     56\u001b[0m \u001b[43m    \u001b[49m\u001b[43mfreq_array\u001b[49m\u001b[38;5;241;43m=\u001b[39;49m\u001b[43mnp\u001b[49m\u001b[38;5;241;43m.\u001b[39;49m\u001b[43matleast_1d\u001b[49m\u001b[43m(\u001b[49m\u001b[43mfreq\u001b[49m\u001b[43m)\u001b[49m\u001b[43m,\u001b[49m\n\u001b[1;32m     57\u001b[0m \u001b[43m    \u001b[49m\u001b[38;5;241;43m*\u001b[39;49m\u001b[38;5;241;43m*\u001b[39;49m\u001b[43mkw\u001b[49m\u001b[43m,\u001b[49m\n\u001b[1;32m     58\u001b[0m \u001b[43m\u001b[49m\u001b[43m)\u001b[49m[\u001b[38;5;241m0\u001b[39m]\n\u001b[1;32m     60\u001b[0m \u001b[38;5;28;01mif\u001b[39;00m polarized:\n\u001b[1;32m     61\u001b[0m     interp_beam \u001b[38;5;241m=\u001b[39m interp_beam[:, :, \u001b[38;5;241m0\u001b[39m, :]\n",
      "File \u001b[0;32m/opt/devel/rbyrne/envs/py310/lib/python3.10/site-packages/pyuvdata/uvbeam/uvbeam.py:1981\u001b[0m, in \u001b[0;36mUVBeam.interp\u001b[0;34m(self, az_array, za_array, interpolation_function, freq_interp_kind, az_za_grid, healpix_nside, healpix_inds, freq_array, freq_interp_tol, polarizations, return_bandpass, return_coupling, reuse_spline, spline_opts, new_object, run_check, check_extra, run_check_acceptability, check_azza_domain)\u001b[0m\n\u001b[1;32m   1978\u001b[0m     extra_keyword_dict[\u001b[38;5;124m\"\u001b[39m\u001b[38;5;124mspline_opts\u001b[39m\u001b[38;5;124m\"\u001b[39m] \u001b[38;5;241m=\u001b[39m spline_opts\n\u001b[1;32m   1979\u001b[0m     extra_keyword_dict[\u001b[38;5;124m\"\u001b[39m\u001b[38;5;124mcheck_azza_domain\u001b[39m\u001b[38;5;124m\"\u001b[39m] \u001b[38;5;241m=\u001b[39m check_azza_domain\n\u001b[0;32m-> 1981\u001b[0m interp_arrays \u001b[38;5;241m=\u001b[39m \u001b[38;5;28;43mgetattr\u001b[39;49m\u001b[43m(\u001b[49m\u001b[38;5;28;43mself\u001b[39;49m\u001b[43m,\u001b[49m\u001b[43m \u001b[49m\u001b[43minterp_func\u001b[49m\u001b[43m)\u001b[49m\u001b[43m(\u001b[49m\n\u001b[1;32m   1982\u001b[0m \u001b[43m    \u001b[49m\u001b[43maz_array\u001b[49m\u001b[38;5;241;43m=\u001b[39;49m\u001b[43maz_array_use\u001b[49m\u001b[43m,\u001b[49m\n\u001b[1;32m   1983\u001b[0m \u001b[43m    \u001b[49m\u001b[43mza_array\u001b[49m\u001b[38;5;241;43m=\u001b[39;49m\u001b[43mza_array_use\u001b[49m\u001b[43m,\u001b[49m\n\u001b[1;32m   1984\u001b[0m \u001b[43m    \u001b[49m\u001b[43mfreq_array\u001b[49m\u001b[38;5;241;43m=\u001b[39;49m\u001b[43mfreq_array\u001b[49m\u001b[43m,\u001b[49m\n\u001b[1;32m   1985\u001b[0m \u001b[43m    \u001b[49m\u001b[43mfreq_interp_kind\u001b[49m\u001b[38;5;241;43m=\u001b[39;49m\u001b[43mfreq_interp_kind\u001b[49m\u001b[43m,\u001b[49m\n\u001b[1;32m   1986\u001b[0m \u001b[43m    \u001b[49m\u001b[43mpolarizations\u001b[49m\u001b[38;5;241;43m=\u001b[39;49m\u001b[43mpolarizations\u001b[49m\u001b[43m,\u001b[49m\n\u001b[1;32m   1987\u001b[0m \u001b[43m    \u001b[49m\u001b[38;5;241;43m*\u001b[39;49m\u001b[38;5;241;43m*\u001b[39;49m\u001b[43mextra_keyword_dict\u001b[49m\u001b[43m,\u001b[49m\n\u001b[1;32m   1988\u001b[0m \u001b[43m\u001b[49m\u001b[43m)\u001b[49m\n\u001b[1;32m   1990\u001b[0m \u001b[38;5;28;01mif\u001b[39;00m \u001b[38;5;28mself\u001b[39m\u001b[38;5;241m.\u001b[39mantenna_type \u001b[38;5;241m==\u001b[39m \u001b[38;5;124m\"\u001b[39m\u001b[38;5;124msimple\u001b[39m\u001b[38;5;124m\"\u001b[39m:\n\u001b[1;32m   1991\u001b[0m     interp_data, interp_basis_vector, interp_bandpass \u001b[38;5;241m=\u001b[39m interp_arrays\n",
      "File \u001b[0;32m/opt/devel/rbyrne/envs/py310/lib/python3.10/site-packages/pyuvdata/uvbeam/uvbeam.py:1567\u001b[0m, in \u001b[0;36mUVBeam._interp_az_za_rect_spline\u001b[0;34m(self, az_array, za_array, freq_array, freq_interp_kind, freq_interp_tol, polarizations, reuse_spline, spline_opts, check_azza_domain)\u001b[0m\n\u001b[1;32m   1564\u001b[0m                 \u001b[38;5;28;01mif\u001b[39;00m reuse_spline:\n\u001b[1;32m   1565\u001b[0m                     \u001b[38;5;28mself\u001b[39m\u001b[38;5;241m.\u001b[39msaved_interp_functions[key] \u001b[38;5;241m=\u001b[39m lut\n\u001b[0;32m-> 1567\u001b[0m             interp_data[index0, pol_return_ind, index3, :] \u001b[38;5;241m=\u001b[39m \u001b[43mlut\u001b[49m\u001b[43m(\u001b[49m\n\u001b[1;32m   1568\u001b[0m \u001b[43m                \u001b[49m\u001b[43mza_array\u001b[49m\u001b[43m,\u001b[49m\u001b[43m \u001b[49m\u001b[43maz_array\u001b[49m\n\u001b[1;32m   1569\u001b[0m \u001b[43m            \u001b[49m\u001b[43m)\u001b[49m\n\u001b[1;32m   1571\u001b[0m interp_arrays \u001b[38;5;241m=\u001b[39m [interp_data, interp_basis_vector, interp_bandpass]\n\u001b[1;32m   1572\u001b[0m \u001b[38;5;28;01mif\u001b[39;00m \u001b[38;5;28mself\u001b[39m\u001b[38;5;241m.\u001b[39mantenna_type \u001b[38;5;241m==\u001b[39m \u001b[38;5;124m\"\u001b[39m\u001b[38;5;124mphased_array\u001b[39m\u001b[38;5;124m\"\u001b[39m:\n",
      "File \u001b[0;32m/opt/devel/rbyrne/envs/py310/lib/python3.10/site-packages/pyuvdata/uvbeam/uvbeam.py:1468\u001b[0m, in \u001b[0;36mUVBeam._interp_az_za_rect_spline.<locals>.get_lambda.<locals>.<lambda>\u001b[0;34m(za, az)\u001b[0m\n\u001b[1;32m   1465\u001b[0m     \u001b[38;5;28;01mreturn\u001b[39;00m \u001b[38;5;28;01mlambda\u001b[39;00m za, az: real_lut(za, az, grid\u001b[38;5;241m=\u001b[39m\u001b[38;5;28;01mFalse\u001b[39;00m)\n\u001b[1;32m   1466\u001b[0m \u001b[38;5;28;01melse\u001b[39;00m:\n\u001b[1;32m   1467\u001b[0m     \u001b[38;5;28;01mreturn\u001b[39;00m \u001b[38;5;28;01mlambda\u001b[39;00m za, az: (\n\u001b[0;32m-> 1468\u001b[0m         \u001b[43mreal_lut\u001b[49m\u001b[43m(\u001b[49m\u001b[43mza\u001b[49m\u001b[43m,\u001b[49m\u001b[43m \u001b[49m\u001b[43maz\u001b[49m\u001b[43m,\u001b[49m\u001b[43m \u001b[49m\u001b[43mgrid\u001b[49m\u001b[38;5;241;43m=\u001b[39;49m\u001b[38;5;28;43;01mFalse\u001b[39;49;00m\u001b[43m)\u001b[49m \u001b[38;5;241m+\u001b[39m \u001b[38;5;241m1\u001b[39mj \u001b[38;5;241m*\u001b[39m imag_lut(za, az, grid\u001b[38;5;241m=\u001b[39m\u001b[38;5;28;01mFalse\u001b[39;00m)\n\u001b[1;32m   1469\u001b[0m     )\n",
      "File \u001b[0;32m/opt/devel/rbyrne/envs/py310/lib/python3.10/site-packages/scipy/interpolate/_fitpack2.py:1059\u001b[0m, in \u001b[0;36m_BivariateSplineBase.__call__\u001b[0;34m(self, x, y, dx, dy, grid)\u001b[0m\n\u001b[1;32m   1057\u001b[0m         \u001b[38;5;28;01mraise\u001b[39;00m \u001b[38;5;167;01mValueError\u001b[39;00m(\u001b[38;5;124m\"\u001b[39m\u001b[38;5;124mError code returned by pardeu: \u001b[39m\u001b[38;5;132;01m%s\u001b[39;00m\u001b[38;5;124m\"\u001b[39m \u001b[38;5;241m%\u001b[39m ier)\n\u001b[1;32m   1058\u001b[0m \u001b[38;5;28;01melse\u001b[39;00m:\n\u001b[0;32m-> 1059\u001b[0m     z, ier \u001b[38;5;241m=\u001b[39m \u001b[43mdfitpack\u001b[49m\u001b[38;5;241;43m.\u001b[39;49m\u001b[43mbispeu\u001b[49m\u001b[43m(\u001b[49m\u001b[43mtx\u001b[49m\u001b[43m,\u001b[49m\u001b[43m \u001b[49m\u001b[43mty\u001b[49m\u001b[43m,\u001b[49m\u001b[43m \u001b[49m\u001b[43mc\u001b[49m\u001b[43m,\u001b[49m\u001b[43m \u001b[49m\u001b[43mkx\u001b[49m\u001b[43m,\u001b[49m\u001b[43m \u001b[49m\u001b[43mky\u001b[49m\u001b[43m,\u001b[49m\u001b[43m \u001b[49m\u001b[43mx\u001b[49m\u001b[43m,\u001b[49m\u001b[43m \u001b[49m\u001b[43my\u001b[49m\u001b[43m)\u001b[49m\n\u001b[1;32m   1060\u001b[0m     \u001b[38;5;28;01mif\u001b[39;00m \u001b[38;5;129;01mnot\u001b[39;00m ier \u001b[38;5;241m==\u001b[39m \u001b[38;5;241m0\u001b[39m:\n\u001b[1;32m   1061\u001b[0m         \u001b[38;5;28;01mraise\u001b[39;00m \u001b[38;5;167;01mValueError\u001b[39;00m(\u001b[38;5;124m\"\u001b[39m\u001b[38;5;124mError code returned by bispeu: \u001b[39m\u001b[38;5;132;01m%s\u001b[39;00m\u001b[38;5;124m\"\u001b[39m \u001b[38;5;241m%\u001b[39m ier)\n",
      "\u001b[0;31mKeyboardInterrupt\u001b[0m: "
     ]
    }
   ],
   "source": [
    "generate_model_vis_fftvis.run_fftvis_diffuse_sim(\n",
    "    skymodel, \n",
    "    beam, \n",
    "    reference_file, \n",
    "    output_file, \n",
    "    log_path=f\"/lustre/rbyrne/simulation_outputs/20240303_{time_string}_{use_subband}MHz_diffuse_sim_log.txt\",\n",
    "    offset_timesteps=time_offset, \n",
    ")"
   ]
  },
  {
   "cell_type": "code",
   "execution_count": null,
   "metadata": {},
   "outputs": [],
   "source": []
  }
 ],
 "metadata": {
  "kernelspec": {
   "display_name": "py310",
   "language": "python",
   "name": "python3"
  },
  "language_info": {
   "codemirror_mode": {
    "name": "ipython",
    "version": 3
   },
   "file_extension": ".py",
   "mimetype": "text/x-python",
   "name": "python",
   "nbconvert_exporter": "python",
   "pygments_lexer": "ipython3",
   "version": "3.10.14"
  }
 },
 "nbformat": 4,
 "nbformat_minor": 2
}
