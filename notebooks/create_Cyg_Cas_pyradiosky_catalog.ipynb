{
 "cells": [
  {
   "cell_type": "code",
   "execution_count": 1,
   "id": "ae405861",
   "metadata": {},
   "outputs": [],
   "source": [
    "import numpy as np\n",
    "import pyradiosky\n",
    "import astropy.units as units\n",
    "from astropy.units import Quantity\n",
    "from astropy.coordinates import (\n",
    "    Latitude,\n",
    "    Longitude,\n",
    "    SkyCoord\n",
    ")\n",
    "import matplotlib.pyplot as plt\n",
    "import json"
   ]
  },
  {
   "cell_type": "code",
   "execution_count": 2,
   "id": "241cf948",
   "metadata": {},
   "outputs": [],
   "source": [
    "json_path = \"/Users/ruby/Astro/rlb_LWA/LWA_skymodels/bright_sources.json\"\n",
    "save_path = \"/Users/ruby/Astro/rlb_LWA/LWA_skymodels/cyg_cas.skyh5\"\n",
    "output_freq_hz = 56.0e6"
   ]
  },
  {
   "cell_type": "code",
   "execution_count": 3,
   "id": "e491cc48",
   "metadata": {},
   "outputs": [],
   "source": [
    "bright_sources_file = open(json_path)\n",
    "data = json.load(bright_sources_file)\n",
    "bright_sources_file.close()"
   ]
  },
  {
   "cell_type": "code",
   "execution_count": 4,
   "id": "c13f28b1",
   "metadata": {},
   "outputs": [
    {
     "data": {
      "text/plain": [
       "[{'name': '1',\n",
       "  'ra': '19h59m29.990s',\n",
       "  'dec': '+40d43m57.53s',\n",
       "  'I': 43170.55527073293,\n",
       "  'freq': 1000000.0,\n",
       "  'index': [0.085, -0.178],\n",
       "  'major-fwhm': 127.86780196141683,\n",
       "  'minor-fwhm': 22.459884076169928,\n",
       "  'position-angle': -74.50271323639498},\n",
       " {'name': '2',\n",
       "  'ra': '19h59m24.316s',\n",
       "  'dec': '+40d44m50.70s',\n",
       "  'I': 6374.4647292670625,\n",
       "  'freq': 1000000.0,\n",
       "  'index': [0.085, -0.178],\n",
       "  'major-fwhm': 183.42701763410113,\n",
       "  'minor-fwhm': 141.44188315233822,\n",
       "  'position-angle': 43.449049376516}]"
      ]
     },
     "execution_count": 4,
     "metadata": {},
     "output_type": "execute_result"
    }
   ],
   "source": [
    "data[0]['components']"
   ]
  },
  {
   "cell_type": "code",
   "execution_count": 5,
   "id": "9c7499d6",
   "metadata": {},
   "outputs": [
    {
     "data": {
      "text/plain": [
       "{'ref': 'Michael (2016-07-30T10:52:45)',\n",
       " 'name': 'Cyg A',\n",
       " 'components': [{'name': '1',\n",
       "   'ra': '19h59m29.990s',\n",
       "   'dec': '+40d43m57.53s',\n",
       "   'I': 43170.55527073293,\n",
       "   'freq': 1000000.0,\n",
       "   'index': [0.085, -0.178],\n",
       "   'major-fwhm': 127.86780196141683,\n",
       "   'minor-fwhm': 22.459884076169928,\n",
       "   'position-angle': -74.50271323639498},\n",
       "  {'name': '2',\n",
       "   'ra': '19h59m24.316s',\n",
       "   'dec': '+40d44m50.70s',\n",
       "   'I': 6374.4647292670625,\n",
       "   'freq': 1000000.0,\n",
       "   'index': [0.085, -0.178],\n",
       "   'major-fwhm': 183.42701763410113,\n",
       "   'minor-fwhm': 141.44188315233822,\n",
       "   'position-angle': 43.449049376516}]}"
      ]
     },
     "execution_count": 5,
     "metadata": {},
     "output_type": "execute_result"
    }
   ],
   "source": [
    "data[0]"
   ]
  },
  {
   "cell_type": "code",
   "execution_count": 6,
   "id": "8ad69d50",
   "metadata": {},
   "outputs": [
    {
     "data": {
      "text/plain": [
       "{'ref': 'Michael (2016-07-30T10:52:45)',\n",
       " 'name': 'Cyg A',\n",
       " 'components': [{'name': '1',\n",
       "   'ra': '19h59m29.990s',\n",
       "   'dec': '+40d43m57.53s',\n",
       "   'I': 43170.55527073293,\n",
       "   'freq': 1000000.0,\n",
       "   'index': [0.085, -0.178],\n",
       "   'major-fwhm': 127.86780196141683,\n",
       "   'minor-fwhm': 22.459884076169928,\n",
       "   'position-angle': -74.50271323639498},\n",
       "  {'name': '2',\n",
       "   'ra': '19h59m24.316s',\n",
       "   'dec': '+40d44m50.70s',\n",
       "   'I': 6374.4647292670625,\n",
       "   'freq': 1000000.0,\n",
       "   'index': [0.085, -0.178],\n",
       "   'major-fwhm': 183.42701763410113,\n",
       "   'minor-fwhm': 141.44188315233822,\n",
       "   'position-angle': 43.449049376516}]}"
      ]
     },
     "execution_count": 6,
     "metadata": {},
     "output_type": "execute_result"
    }
   ],
   "source": [
    "data[0]"
   ]
  },
  {
   "cell_type": "code",
   "execution_count": 7,
   "id": "0e61d55a",
   "metadata": {},
   "outputs": [
    {
     "data": {
      "text/plain": [
       "{'name': 'Cas A',\n",
       " 'components': [{'Q': 0.0,\n",
       "   'minor-fwhm': 84.1,\n",
       "   'V': 0.0,\n",
       "   'major-fwhm': 208.89999999999998,\n",
       "   'name': '1',\n",
       "   'ra': '23h23m12.780s',\n",
       "   'freq': 1000000.0,\n",
       "   'index': [-0.77],\n",
       "   'I': 205291.01635813876,\n",
       "   'dec': '+58d50m41.00s',\n",
       "   'U': 0.0,\n",
       "   'position-angle': 38.9},\n",
       "  {'Q': 0.0,\n",
       "   'minor-fwhm': 121.9,\n",
       "   'V': 0.0,\n",
       "   'major-fwhm': 230.89999999999998,\n",
       "   'name': '2',\n",
       "   'ra': '23h23m28.090s',\n",
       "   'freq': 1000000.0,\n",
       "   'index': [-0.77],\n",
       "   'I': 191558.43164385832,\n",
       "   'dec': '+58d49m18.10s',\n",
       "   'U': 0.0,\n",
       "   'position-angle': 43.8},\n",
       "  {'Q': 0.0,\n",
       "   'minor-fwhm': 63.4649,\n",
       "   'V': 0.0,\n",
       "   'major-fwhm': 173.26,\n",
       "   'name': '3',\n",
       "   'ra': '23h23m20.880s',\n",
       "   'freq': 1000000.0,\n",
       "   'index': [-0.77],\n",
       "   'I': 159054.81199800296,\n",
       "   'dec': '+58d50m49.92s',\n",
       "   'U': 0.0,\n",
       "   'position-angle': 121.902}]}"
      ]
     },
     "execution_count": 7,
     "metadata": {},
     "output_type": "execute_result"
    }
   ],
   "source": [
    "data[1]"
   ]
  },
  {
   "cell_type": "code",
   "execution_count": 8,
   "id": "8efbc127",
   "metadata": {},
   "outputs": [
    {
     "data": {
      "text/plain": [
       "3"
      ]
     },
     "execution_count": 8,
     "metadata": {},
     "output_type": "execute_result"
    }
   ],
   "source": [
    "len(data[1][\"components\"])"
   ]
  },
  {
   "cell_type": "code",
   "execution_count": 9,
   "id": "17db5720",
   "metadata": {},
   "outputs": [
    {
     "data": {
      "text/plain": [
       "2"
      ]
     },
     "execution_count": 9,
     "metadata": {},
     "output_type": "execute_result"
    }
   ],
   "source": [
    "len(data)"
   ]
  },
  {
   "cell_type": "code",
   "execution_count": 10,
   "id": "fcf355b6",
   "metadata": {},
   "outputs": [],
   "source": [
    "def interpolate_flux(\n",
    "    start_flux, start_freq_mhz, end_freq_mhz,\n",
    "    spec_index_1=0, spec_index_2=0\n",
    "):\n",
    "    end_flux = start_flux*(end_freq_mhz/start_freq_mhz)**(\n",
    "        spec_index_1 + spec_index_2*np.log10(end_freq_mhz/start_freq_mhz)\n",
    "    )\n",
    "    return end_flux"
   ]
  },
  {
   "cell_type": "code",
   "execution_count": 11,
   "id": "f273b39c",
   "metadata": {},
   "outputs": [],
   "source": [
    "Ncomponents = sum([len(source['components']) for source in data])\n",
    "Nfreqs = 1\n"
   ]
  },
  {
   "cell_type": "code",
   "execution_count": 12,
   "id": "8488b5a9",
   "metadata": {},
   "outputs": [],
   "source": [
    "ras = Longitude(np.zeros(Ncomponents, dtype=float), units.deg)\n",
    "decs = Latitude(np.zeros(Ncomponents, dtype=float), units.deg)\n",
    "stokes = Quantity(np.zeros((4, Nfreqs, Ncomponents), dtype=float), 'Jy')\n",
    "spec_indexes = np.zeros(Ncomponents, dtype=float)\n",
    "names = np.empty(Ncomponents, dtype=str)\n",
    "extended_groups = np.zeros(Ncomponents, dtype=object)\n",
    "reference_frequency = Quantity(np.full(Ncomponents, output_freq_hz), \"hertz\")"
   ]
  },
  {
   "cell_type": "code",
   "execution_count": 13,
   "id": "5fd5ae5b",
   "metadata": {},
   "outputs": [],
   "source": [
    "comp_ind = 0\n",
    "for source in data:\n",
    "    for comp in source[\"components\"]:\n",
    "        comp_coord = SkyCoord(comp['ra'], comp['dec'], frame='icrs')\n",
    "        ras[comp_ind] = comp_coord.ra\n",
    "        decs[comp_ind] = comp_coord.dec\n",
    "        spec_index_1 = comp['index'][0]\n",
    "        if len(comp['index']) > 1:\n",
    "            spec_index_2 = comp['index'][1]\n",
    "        else:\n",
    "            spec_index_2 = 0.\n",
    "        flux_I = interpolate_flux(\n",
    "            comp['I'], comp['freq'], output_freq_hz, \n",
    "            spec_index_1=spec_index_1, spec_index_2=spec_index_2\n",
    "        )\n",
    "        stokes[0, 0, comp_ind] = flux_I * units.Jy\n",
    "        spec_indexes[comp_ind] = spec_index_1\n",
    "        names[comp_ind] = '{}_{}'.format(source['name'], comp['name'])\n",
    "        extended_groups[comp_ind] = source['name']\n",
    "        comp_ind += 1"
   ]
  },
  {
   "cell_type": "code",
   "execution_count": 14,
   "id": "4d0789ff",
   "metadata": {},
   "outputs": [
    {
     "data": {
      "text/plain": [
       "True"
      ]
     },
     "execution_count": 14,
     "metadata": {},
     "output_type": "execute_result"
    }
   ],
   "source": [
    "catalog = pyradiosky.SkyModel(\n",
    "    name=names,\n",
    "    ra=ras,\n",
    "    dec=decs,\n",
    "    stokes=stokes,\n",
    "    spectral_type=\"spectral_index\",\n",
    "    reference_frequency=reference_frequency,\n",
    "    spectral_index=spec_indexes,\n",
    "    extended_model_group = extended_groups,\n",
    ")\n",
    "catalog.check()"
   ]
  },
  {
   "cell_type": "code",
   "execution_count": 15,
   "id": "6f001953",
   "metadata": {},
   "outputs": [],
   "source": [
    "catalog.write_skyh5(save_path)"
   ]
  },
  {
   "cell_type": "code",
   "execution_count": null,
   "id": "4091dbad",
   "metadata": {},
   "outputs": [],
   "source": []
  }
 ],
 "metadata": {
  "kernelspec": {
   "display_name": "Python 3 (ipykernel)",
   "language": "python",
   "name": "python3"
  },
  "language_info": {
   "codemirror_mode": {
    "name": "ipython",
    "version": 3
   },
   "file_extension": ".py",
   "mimetype": "text/x-python",
   "name": "python",
   "nbconvert_exporter": "python",
   "pygments_lexer": "ipython3",
   "version": "3.8.8"
  }
 },
 "nbformat": 4,
 "nbformat_minor": 5
}
