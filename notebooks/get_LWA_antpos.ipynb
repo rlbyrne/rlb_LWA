{
 "cells": [
  {
   "cell_type": "code",
   "execution_count": 1,
   "id": "27cf6e15",
   "metadata": {},
   "outputs": [],
   "source": [
    "import pandas as pd\n",
    "import matplotlib.pyplot as plt\n",
    "import pyuvdata\n",
    "import numpy as np\n",
    "import pyuvsim\n",
    "import os"
   ]
  },
  {
   "cell_type": "code",
   "execution_count": 2,
   "id": "a78328bd",
   "metadata": {},
   "outputs": [],
   "source": [
    "df = pd.read_excel(\"/Users/ruby/Downloads/LWA-352 Antenna Status & System Configuration.xlsx\", header=1)"
   ]
  },
  {
   "cell_type": "code",
   "execution_count": 3,
   "id": "1720e71b",
   "metadata": {},
   "outputs": [
    {
     "data": {
      "text/plain": [
       "Index(['dict_key', 'antname', 'ant_type', 'latitude', 'longitude', 'elevation',\n",
       "       'x', 'y', 'used', 'online', 'pola_fee', 'polb_fee', 'pola_resistance',\n",
       "       'polb_resistance', 'arx_location', 'arx_serial', 'arx_address',\n",
       "       'pola_arx_channel', 'check1', 'polb_arx_channel', 'check2',\n",
       "       'snap2_serial', 'snap2_chassis', 'snap2_location', 'snap2_mac',\n",
       "       'snap2_hostname', 'fmc', 'pola_digitizer_channel',\n",
       "       'polb_digitizer_channel', 'pola_fpga_num', 'polb_fpga_num', 'corr_num',\n",
       "       'notes', 'Unnamed: 33', 'Unnamed: 34', 'Unnamed: 35'],\n",
       "      dtype='object')"
      ]
     },
     "execution_count": 3,
     "metadata": {},
     "output_type": "execute_result"
    }
   ],
   "source": [
    "df.keys()"
   ]
  },
  {
   "cell_type": "code",
   "execution_count": 4,
   "id": "bc0ba9b3",
   "metadata": {},
   "outputs": [],
   "source": [
    "ant_names = []\n",
    "ant_lat = []\n",
    "ant_lon = []\n",
    "ant_elevation = []\n",
    "antenna_xlocs = []\n",
    "antenna_ylocs = []\n",
    "for ant_ind in range(1, len(df['used'])):\n",
    "    if df['used'][ant_ind] == 'YES':\n",
    "        ant_names.append(df['antname'][ant_ind])\n",
    "        ant_lat.append(df['latitude'][ant_ind])\n",
    "        ant_lon.append(df['longitude'][ant_ind])\n",
    "        ant_elevation.append(df['elevation'][ant_ind])\n",
    "        antenna_xlocs.append(df['x'][ant_ind])\n",
    "        antenna_ylocs.append(df['y'][ant_ind])"
   ]
  },
  {
   "cell_type": "code",
   "execution_count": 5,
   "id": "4f89900c",
   "metadata": {},
   "outputs": [
    {
     "data": {
      "image/png": "[encoded data removed]",
      "text/plain": [
       "<Figure size 432x288 with 1 Axes>"
      ]
     },
     "metadata": {
      "needs_background": "light"
     },
     "output_type": "display_data"
    }
   ],
   "source": [
    "plt.plot(antenna_xlocs, antenna_ylocs, 'x')\n",
    "plt.xlabel(\"X (meters)\")\n",
    "plt.ylabel(\"Y (meters)\")\n",
    "plt.show()"
   ]
  },
  {
   "cell_type": "code",
   "execution_count": 6,
   "id": "54c79c0c",
   "metadata": {},
   "outputs": [
    {
     "name": "stderr",
     "output_type": "stream",
     "text": [
      "Telescope OVRO_MMA is not in known_telescopes.\n",
      "Fixing auto-correlations to be be real-only, after some imaginary values were detected in data_array.\n"
     ]
    },
    {
     "data": {
      "text/plain": [
       "True"
      ]
     },
     "execution_count": 6,
     "metadata": {},
     "output_type": "execute_result"
    }
   ],
   "source": [
    "Nants = len(antenna_xlocs)\n",
    "antenna_locs_ENU = np.zeros((Nants, 3))\n",
    "antenna_locs_ENU[:, 0] = antenna_xlocs\n",
    "antenna_locs_ENU[:, 1] = antenna_ylocs\n",
    "\n",
    "#filename = '/home/ubuntu/1061316296.uvfits'\n",
    "UV = pyuvdata.UVData()\n",
    "#UV.read_uvfits(filename)\n",
    "\n",
    "UV.Nants_data = Nants\n",
    "UV.Nants_telescope = Nants\n",
    "UV.Nspws = 1\n",
    "UV.Npols = 2\n",
    "UV.x_orientation = 'east'\n",
    "UV.polarization_array = np.array([-5, -6])  # Polarizations are XX, YY\n",
    "UV.phase_type = 'drift'\n",
    "UV.vis_units = 'Jy'\n",
    "UV.Nfreqs = 1\n",
    "UV.channel_width = 24. * 1e3\n",
    "UV.freq_array = np.full((1,1), 85. * 1e6)\n",
    "UV.history = 'stand-in OVRO-LWA obs for simulation'\n",
    "UV.object_name = 'testfield1'\n",
    "UV.spw_array = np.array([0])\n",
    "\n",
    "# Load known telescope data for telescope location\n",
    "lwa_obj = pyuvdata.telescopes.get_telescope('OVRO-LWA')\n",
    "UV.instrument = lwa_obj.telescope_name\n",
    "UV.telescope_name = lwa_obj.telescope_name\n",
    "UV.telescope_location = lwa_obj.telescope_location\n",
    "\n",
    "# Get time data\n",
    "time_extent_s = 10.\n",
    "integration_time_s = .1\n",
    "# Get central time from a random data file\n",
    "time_ref = pyuvdata.UVData()\n",
    "time_ref.read_uvfits('/Users/ruby/Astro/LWA_data/2019-11-21T23:00:08.uvfits')\n",
    "mean_time = np.mean(time_ref.time_array)\n",
    "time_array_s = np.arange(0, time_extent_s, integration_time_s)\n",
    "UV.Ntimes = len(time_array_s)\n",
    "UV.Nbls = int((Nants**2 - Nants)/2)\n",
    "UV.Nblts = UV.Nbls*UV.Ntimes\n",
    "UV.integration_time = np.full(UV.Nblts, integration_time_s)\n",
    "time_array_days = time_array_s/(60.**2*24.)\n",
    "time_array_jd = time_array_days + mean_time - np.mean(time_array_days)\n",
    "UV.time_array = np.repeat(np.array(time_array_jd), UV.Nbls)\n",
    "UV.set_lsts_from_time_array()  # Populate lst_array\n",
    "\n",
    "# Create baseline array\n",
    "UV.antenna_numbers = np.array(range(Nants), dtype=int)\n",
    "UV.antenna_names = ant_names\n",
    "ant_1_array = np.zeros(UV.Nbls, dtype=int)\n",
    "ant_2_array = np.zeros(UV.Nbls, dtype=int)\n",
    "baseline_array = np.zeros(UV.Nbls, dtype=int)\n",
    "index = 0\n",
    "for ant1 in range(Nants-1):\n",
    "    for ant2 in range(ant1+1, Nants):\n",
    "        ant_1_array[index] = ant1\n",
    "        ant_2_array[index] = ant2\n",
    "        baseline_array[index] =  2048 * (ant1+1) + (ant2+1) + 2**16\n",
    "        index += 1\n",
    "UV.ant_1_array = np.tile(ant_1_array, UV.Ntimes)\n",
    "UV.ant_2_array = np.tile(ant_2_array, UV.Ntimes)\n",
    "UV.baseline_array = np.tile(baseline_array, UV.Ntimes)\n",
    "\n",
    "# Add dummy data\n",
    "UV.data_array = np.full(\n",
    "    (UV.Nblts, UV.Nspws, UV.Nfreqs, UV.Npols), 0., dtype=complex\n",
    ")\n",
    "UV.nsample_array = np.full(\n",
    "    (UV.Nblts, UV.Nspws, UV.Nfreqs, UV.Npols), 1., dtype=float\n",
    ")\n",
    "# Unflag all\n",
    "UV.flag_array = np.full(\n",
    "    (UV.Nblts, UV.Nspws, UV.Nfreqs, UV.Npols), False, dtype=bool\n",
    ")\n",
    "# Calculate UVWs\n",
    "UV.uvw_array = np.zeros((UV.Nblts, 3), dtype=float)\n",
    "antenna_locs_ECEF = pyuvdata.utils.ECEF_from_ENU(\n",
    "    antenna_locs_ENU, *UV.telescope_location_lat_lon_alt\n",
    ")\n",
    "UV.antenna_positions = antenna_locs_ECEF - UV.telescope_location\n",
    "UV.set_uvws_from_antenna_positions(\n",
    "    allow_phasing=False, orig_phase_frame='gcrs', output_phase_frame='icrs'\n",
    ")\n",
    "UV.phase_center_frame = 'icrs'\n",
    "\n",
    "UV.check()"
   ]
  },
  {
   "cell_type": "code",
   "execution_count": 8,
   "id": "8f3f9816",
   "metadata": {},
   "outputs": [],
   "source": [
    "#UV.phase_to_time(np.mean(UV.time_array))  # Data needs to be phased to write a uvfits file\n",
    "#uvfits_save_filename = \"/Users/ruby/Astro/LWA_pyuvsim_simulations/lwa_100ms.uvfits\"\n",
    "#UV.write_uvfits(uvfits_save_filename, spoof_nonessential=True)"
   ]
  },
  {
   "cell_type": "code",
   "execution_count": 9,
   "id": "43a66f01",
   "metadata": {},
   "outputs": [
    {
     "name": "stdout",
     "output_type": "stream",
     "text": [
      "Path: /Users/ruby/Astro/LWA_pyuvsim_simulations/, telescope_config: telescope_config_OVRO-LWA.yaml, layout: OVRO-LWA_layout.csv\n"
     ]
    }
   ],
   "source": [
    "path, telescope_config, layout_fname = pyuvsim.simsetup.uvdata_to_telescope_config(\n",
    "    UV, \n",
    "    \"/Users/ruby/Astro/LWA_beams/LWAbeam_2015_new.fits\",\n",
    "    path_out=\"/Users/ruby/Astro/LWA_pyuvsim_simulations/\",\n",
    "    return_names = True\n",
    ")"
   ]
  },
  {
   "cell_type": "code",
   "execution_count": 10,
   "id": "db885689",
   "metadata": {},
   "outputs": [],
   "source": [
    "pyuvsim.simsetup.uvdata_to_config_file(\n",
    "    UV,\n",
    "    telescope_config_name=os.path.join(path, telescope_config),\n",
    "    layout_csv_name=os.path.join(path, layout_fname),\n",
    "    path_out=path\n",
    ")"
   ]
  },
  {
   "cell_type": "code",
   "execution_count": null,
   "id": "11575644",
   "metadata": {},
   "outputs": [],
   "source": []
  }
 ],
 "metadata": {
  "kernelspec": {
   "display_name": "Python 3 (ipykernel)",
   "language": "python",
   "name": "python3"
  },
  "language_info": {
   "codemirror_mode": {
    "name": "ipython",
    "version": 3
   },
   "file_extension": ".py",
   "mimetype": "text/x-python",
   "name": "python",
   "nbconvert_exporter": "python",
   "pygments_lexer": "ipython3",
   "version": "3.8.8"
  }
 },
 "nbformat": 4,
 "nbformat_minor": 5
}
