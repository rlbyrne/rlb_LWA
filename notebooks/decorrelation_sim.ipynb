{
 "cells": [
  {
   "cell_type": "code",
   "execution_count": 2,
   "id": "9145e429",
   "metadata": {},
   "outputs": [],
   "source": [
    "import pyuvsim\n",
    "import pyuvdata\n",
    "import pyradiosky\n",
    "import astropy\n",
    "import numpy as np\n",
    "import importlib\n",
    "importlib.reload(pyuvsim)\n",
    "from astropy.units import Quantity\n",
    "import matplotlib.pyplot as plt"
   ]
  },
  {
   "cell_type": "code",
   "execution_count": null,
   "id": "e1c8c154",
   "metadata": {},
   "outputs": [],
   "source": [
    "uv = pyuvdata.UVData()\n",
    "uv.read(\"/lustre/21cmpipe/2025-06-13/20250613_070132_55MHz.ms\")  # Choose an arbitrary data file for reference\n",
    "\n",
    "# Set antenna positions\n",
    "antpos = np.zeros_like(uv.telescope.antenna_positions)\n",
    "antpos[1, 0] = 3000  # Baseline length\n",
    "antpos_ecef = pyuvdata.utils.ECEF_from_ENU(antpos, center_loc=uv.telescope.location)\n",
    "telescope_ecef_xyz = Quantity(uv.telescope.location.geocentric).to_value(\"m\")\n",
    "uv.telescope.antenna_positions  = antpos_ecef - telescope_ecef_xyz\n",
    "\n",
    "freq_hz = 50e6\n",
    "channel_width = 2e3\n",
    "total_time_interval_s = 10\n",
    "total_freq_interval_hz = 200e3\n",
    "integration_time = 0.1\n",
    "time_array_s = np.arange(-total_time_interval_s/2, total_time_interval_s/2, integration_time)\n",
    "uv.freq_array = np.arange(freq_hz-total_freq_interval_hz/2, freq_hz+total_freq_interval_hz/2, channel_width)\n",
    "uv.Nfreqs = len(uv.freq_array)\n",
    "uv.time_array = np.mean(uv.time_array) + time_array_s/86400\n",
    "uv.Ntimes = len(time_array_s)\n",
    "uv.Nbls = 1\n",
    "uv.Nblts = uv.Ntimes\n",
    "uv.Npols = 1\n",
    "uv.Nants_data = 2\n",
    "uv.Nspws = 1\n",
    "uv.flex_spw_id_array = np.full(uv.Nfreqs, np.mean(uv.spw_array), dtype=int)\n",
    "uv.ant_1_array = np.zeros(uv.Nblts, dtype=int)\n",
    "uv.ant_2_array = np.ones(uv.Nblts, dtype=int)\n",
    "uv.channel_width = np.full(uv.Nfreqs, channel_width)\n",
    "uv.integration_time = np.full(uv.Nblts, integration_time)\n",
    "uv.baseline_array = np.full(uv.Nblts, 2048 + 2**16)\n",
    "uv.data_array = np.zeros((uv.Nblts, uv.Nfreqs, uv.Npols), dtype=complex)\n",
    "uv.flag_array = np.zeros((uv.Nblts, uv.Nfreqs, uv.Npols), dtype=bool)\n",
    "uv.nsample_array = np.ones((uv.Nblts, uv.Nfreqs, uv.Npols), dtype=float)\n",
    "uv.polarization_array = np.array([-5])\n",
    "uv.set_lsts_from_time_array()\n",
    "uv.phase_center_app_ra = uv.phase_center_app_ra[:uv.Nblts]\n",
    "uv.phase_center_app_dec = uv.phase_center_app_dec[:uv.Nblts]\n",
    "uv.phase_center_frame_pa = uv.phase_center_frame_pa[:uv.Nblts]\n",
    "uv.phase_center_id_array = uv.phase_center_id_array[:uv.Nblts]\n",
    "uv.scan_number_array = None\n",
    "uv.uvw_array = np.zeros((uv.Nblts, 3), dtype=float)\n",
    "uv.phase_to_time(np.mean(uv.time_array))\n",
    "# Redefine uvws after phasing\n",
    "uv.set_uvws_from_antenna_positions()\n",
    "#uv.uvw_array = np.zeros((uv.Nblts, 3), dtype=float)\n",
    "#uv.uvw_array[:, 0] = 3e3\n",
    "\n",
    "beam = pyuvdata.UVBeam()\n",
    "beam.read(\"/lustre/rbyrne/LWA_10to100_MROsoil_efields.fits\")\n",
    "beam.select(feeds=\"e\")\n",
    "beam.peak_normalize()\n",
    "beam_use_freq = 50e6\n",
    "use_freq_ind = np.where(beam.freq_array == beam_use_freq)[0]\n",
    "beam.data_array[:, :, :, :, :] = beam.data_array[:, :, use_freq_ind, :, :]  # Make the beam frequency-invariant\n",
    "beam_list = pyuvsim.BeamList(beam_list=[beam])\n",
    "\n",
    "#ra_offset_vals_deg = np.linspace(-60, 60, num=11)\n",
    "#dec_offset_vals_deg = np.linspace(-52, 52, num=11)\n",
    "#ra_vals_expanded, dec_vals_expanded = np.meshgrid(ra_offset_vals_deg, dec_offset_vals_deg)\n",
    "#ra_offset_vals_flattened = ra_vals_expanded.flatten()\n",
    "#dec_offset_vals_flattened = dec_vals_expanded.flatten()\n",
    "azimuths = np.array([10])\n",
    "zenith_angles = np.array([70])\n",
    "ras = np.mean(uv.lst_array) - np.arctan2(\n",
    "    np.sin(uv.telescope.location.lat.rad) * np.sin(np.deg2rad(zenith_angles)) * np.sin(np.deg2rad(azimuths))\n",
    "    - np.cos(uv.telescope.location.lat.rad) * np.cos(np.deg2rad(zenith_angles)),\n",
    "    np.sin(np.deg2rad(zenith_angles)) * np.cos(np.deg2rad(azimuths))\n",
    ") - np.pi/2\n",
    "decs = np.pi/2 - np.arccos(\n",
    "    np.cos(uv.telescope.location.lat.rad) * np.sin(np.deg2rad(zenith_angles)) * np.sin(np.deg2rad(azimuths))\n",
    "    + np.sin(uv.telescope.location.lat.rad) * np.cos(np.deg2rad(zenith_angles))\n",
    ")\n",
    "source_coords = []\n",
    "#for ind in range(len(ra_offset_vals_flattened)):\n",
    "#    new_coords = astropy.coordinates.SkyCoord([astropy.coordinates.ICRS(\n",
    "#        ra=np.mean(uv.lst_array)*astropy.units.rad + ra_offset_vals_flattened[ind]*astropy.units.deg, \n",
    "#        dec=uv.telescope.location.lat + dec_offset_vals_flattened[ind]*astropy.units.deg\n",
    "#    )])\n",
    "#    source_coords.append(new_coords)\n",
    "for ind in range(len(ras)):\n",
    "    new_coords = astropy.coordinates.SkyCoord([astropy.coordinates.ICRS(\n",
    "        ra=ras[ind]*astropy.units.rad, \n",
    "        dec=decs[ind]*astropy.units.rad\n",
    "    )])\n",
    "    source_coords.append(new_coords)"
   ]
  },
  {
   "cell_type": "code",
   "execution_count": null,
   "id": "521b67df",
   "metadata": {},
   "outputs": [],
   "source": [
    "uv.select(times=np.sort(uv.time_array)[int(uv.Ntimes / 2)], inplace=True)  # Use just one time"
   ]
  },
  {
   "cell_type": "code",
   "execution_count": null,
   "id": "8936cdc0",
   "metadata": {},
   "outputs": [
    {
     "name": "stdout",
     "output_type": "stream",
     "text": [
      "4.345056901761742 rad\n",
      "0.649957 rad\n"
     ]
    }
   ],
   "source": [
    "zenith_ra = np.mean(uv.lst_array)*astropy.units.rad\n",
    "print(zenith_ra)\n",
    "zenith_dec = uv.telescope.location.lat\n",
    "print(zenith_dec.to(astropy.units.rad))"
   ]
  },
  {
   "cell_type": "code",
   "execution_count": null,
   "id": "25925d9e",
   "metadata": {},
   "outputs": [
    {
     "name": "stdout",
     "output_type": "stream",
     "text": [
      "<SkyCoord (ICRS): (ra, dec) in deg\n",
      "    [(169.57429336, 19.68690836)]>\n"
     ]
    }
   ],
   "source": [
    "print(source_coords[0])"
   ]
  },
  {
   "cell_type": "code",
   "execution_count": null,
   "id": "dd7f31fa",
   "metadata": {},
   "outputs": [
    {
     "data": {
      "text/plain": [
       "3.297855704482673"
      ]
     },
     "execution_count": 6,
     "metadata": {},
     "output_type": "execute_result"
    }
   ],
   "source": [
    "np.deg2rad(188.95321331)"
   ]
  },
  {
   "cell_type": "code",
   "execution_count": null,
   "id": "5339e54f",
   "metadata": {},
   "outputs": [
    {
     "data": {
      "text/plain": [
       "-0.25761448496620604"
      ]
     },
     "execution_count": 7,
     "metadata": {},
     "output_type": "execute_result"
    }
   ],
   "source": [
    "np.deg2rad(-14.76022273)"
   ]
  },
  {
   "cell_type": "code",
   "execution_count": null,
   "id": "6de83919",
   "metadata": {},
   "outputs": [
    {
     "name": "stdout",
     "output_type": "stream",
     "text": [
      "Nbls: 1\n",
      "Ntimes: 1\n",
      "Nfreqs: 100\n",
      "Nsrcs: 1\n",
      "Tasks:  100.0\n",
      "1.00% completed. 0:00:01.649392  elapsed. 0:02:43.289821 remaining. \n",
      "\n",
      "2.00% completed. 0:00:02.465115  elapsed. 0:02:00.790638 remaining. \n",
      "\n",
      "3.00% completed. 0:00:03.309058  elapsed. 0:01:46.992866 remaining. \n",
      "\n",
      "4.00% completed. 0:00:04.136672  elapsed. 0:01:39.280140 remaining. \n",
      "\n",
      "5.00% completed. 0:00:04.981419  elapsed. 0:01:34.646967 remaining. \n",
      "\n",
      "6.00% completed. 0:00:05.927052  elapsed. 0:01:32.857148 remaining. \n",
      "\n",
      "7.00% completed. 0:00:06.765126  elapsed. 0:01:29.879525 remaining. \n",
      "\n",
      "8.00% completed. 0:00:07.618339  elapsed. 0:01:27.610896 remaining. \n",
      "\n",
      "9.00% completed. 0:00:08.473995  elapsed. 0:01:25.681507 remaining. \n",
      "\n",
      "10.00% completed. 0:00:09.319547  elapsed. 0:01:23.875922 remaining. \n",
      "\n",
      "11.00% completed. 0:00:10.163183  elapsed. 0:01:22.229391 remaining. \n",
      "\n",
      "12.00% completed. 0:00:10.985030  elapsed. 0:01:20.556890 remaining. \n",
      "\n",
      "13.00% completed. 0:00:11.808575  elapsed. 0:01:19.026618 remaining. \n",
      "\n",
      "14.00% completed. 0:00:12.641680  elapsed. 0:01:17.656034 remaining. \n",
      "\n",
      "15.00% completed. 0:00:13.528102  elapsed. 0:01:16.659246 remaining. \n",
      "\n",
      "16.00% completed. 0:00:14.379004  elapsed. 0:01:15.489774 remaining. \n",
      "\n",
      "17.00% completed. 0:00:15.250304  elapsed. 0:01:14.457369 remaining. \n",
      "\n",
      "18.00% completed. 0:00:16.092773  elapsed. 0:01:13.311522 remaining. \n",
      "\n",
      "19.00% completed. 0:00:16.933944  elapsed. 0:01:12.192075 remaining. \n",
      "\n",
      "20.00% completed. 0:00:17.759541  elapsed. 0:01:11.038164 remaining. \n",
      "\n",
      "21.00% completed. 0:00:18.607717  elapsed. 0:01:10.000458 remaining. \n",
      "\n",
      "22.00% completed. 0:00:19.517353  elapsed. 0:01:09.197887 remaining. \n",
      "\n",
      "23.00% completed. 0:00:20.381113  elapsed. 0:01:08.232422 remaining. \n",
      "\n",
      "24.00% completed. 0:00:21.271897  elapsed. 0:01:07.361008 remaining. \n",
      "\n",
      "25.00% completed. 0:00:22.100223  elapsed. 0:01:06.300668 remaining. \n",
      "\n",
      "26.00% completed. 0:00:22.963598  elapsed. 0:01:05.357931 remaining. \n",
      "\n",
      "27.00% completed. 0:00:23.807010  elapsed. 0:01:04.367100 remaining. \n",
      "\n",
      "28.00% completed. 0:00:24.639173  elapsed. 0:01:03.357872 remaining. \n",
      "\n",
      "29.00% completed. 0:00:25.528242  elapsed. 0:01:02.500178 remaining. \n",
      "\n",
      "30.00% completed. 0:00:26.356594  elapsed. 0:01:01.498720 remaining. \n",
      "\n",
      "31.00% completed. 0:00:27.194246  elapsed. 0:01:00.529127 remaining. \n",
      "\n",
      "32.00% completed. 0:00:28.035277  elapsed. 0:00:59.574964 remaining. \n",
      "\n",
      "33.00% completed. 0:00:28.881367  elapsed. 0:00:58.637928 remaining. \n",
      "\n",
      "34.00% completed. 0:00:29.753800  elapsed. 0:00:57.757377 remaining. \n",
      "\n",
      "35.00% completed. 0:00:30.606387  elapsed. 0:00:56.840433 remaining. \n",
      "\n",
      "36.00% completed. 0:00:31.396993  elapsed. 0:00:55.816876 remaining. \n",
      "\n",
      "37.00% completed. 0:00:32.284230  elapsed. 0:00:54.970446 remaining. \n",
      "\n",
      "38.00% completed. 0:00:33.105701  elapsed. 0:00:54.014564 remaining. \n",
      "\n",
      "39.00% completed. 0:00:33.926714  elapsed. 0:00:53.064861 remaining. \n",
      "\n",
      "40.00% completed. 0:00:34.751093  elapsed. 0:00:52.126639 remaining. \n",
      "\n",
      "41.00% completed. 0:00:35.579015  elapsed. 0:00:51.199070 remaining. \n",
      "\n",
      "42.00% completed. 0:00:36.316260  elapsed. 0:00:50.151026 remaining. \n",
      "\n",
      "43.00% completed. 0:00:37.061603  elapsed. 0:00:49.128172 remaining. \n",
      "\n",
      "44.00% completed. 0:00:37.929001  elapsed. 0:00:48.273274 remaining. \n",
      "\n",
      "45.00% completed. 0:00:38.734365  elapsed. 0:00:47.342001 remaining. \n",
      "\n",
      "46.00% completed. 0:00:39.509948  elapsed. 0:00:46.381243 remaining. \n",
      "\n",
      "47.00% completed. 0:00:40.256447  elapsed. 0:00:45.395568 remaining. \n",
      "\n",
      "48.00% completed. 0:00:41.030446  elapsed. 0:00:44.449650 remaining. \n",
      "\n",
      "49.00% completed. 0:00:41.805263  elapsed. 0:00:43.511601 remaining. \n",
      "\n",
      "50.00% completed. 0:00:41.823896  elapsed. 0:00:41.823896 remaining. \n",
      "\n",
      "51.00% completed. 0:00:42.539111  elapsed. 0:00:40.870910 remaining. \n",
      "\n",
      "52.00% completed. 0:00:43.379181  elapsed. 0:00:40.042321 remaining. \n",
      "\n",
      "53.00% completed. 0:00:44.178066  elapsed. 0:00:39.176775 remaining. \n",
      "\n",
      "54.00% completed. 0:00:45.060085  elapsed. 0:00:38.384517 remaining. \n",
      "\n",
      "55.00% completed. 0:00:45.929946  elapsed. 0:00:37.579046 remaining. \n",
      "\n",
      "56.00% completed. 0:00:46.847554  elapsed. 0:00:36.808793 remaining. \n",
      "\n",
      "57.00% completed. 0:00:47.813297  elapsed. 0:00:36.069680 remaining. \n",
      "\n",
      "58.00% completed. 0:00:48.655667  elapsed. 0:00:35.233414 remaining. \n",
      "\n",
      "59.00% completed. 0:00:49.344759  elapsed. 0:00:34.290426 remaining. \n",
      "\n",
      "60.00% completed. 0:00:50.036326  elapsed. 0:00:33.357551 remaining. \n",
      "\n",
      "61.00% completed. 0:00:50.742323  elapsed. 0:00:32.441813 remaining. \n",
      "\n",
      "62.00% completed. 0:00:51.510983  elapsed. 0:00:31.571248 remaining. \n",
      "\n",
      "63.00% completed. 0:00:52.301508  elapsed. 0:00:30.716759 remaining. \n",
      "\n",
      "64.00% completed. 0:00:53.074418  elapsed. 0:00:29.854360 remaining. \n",
      "\n",
      "65.00% completed. 0:00:53.886592  elapsed. 0:00:29.015857 remaining. \n",
      "\n",
      "66.00% completed. 0:00:54.647005  elapsed. 0:00:28.151488 remaining. \n",
      "\n",
      "67.00% completed. 0:00:55.386639  elapsed. 0:00:27.279987 remaining. \n",
      "\n",
      "68.00% completed. 0:00:56.079351  elapsed. 0:00:26.390283 remaining. \n",
      "\n",
      "69.00% completed. 0:00:56.777232  elapsed. 0:00:25.508611 remaining. \n",
      "\n",
      "70.00% completed. 0:00:57.467480  elapsed. 0:00:24.628920 remaining. \n",
      "\n",
      "71.00% completed. 0:00:58.160840  elapsed. 0:00:23.755836 remaining. \n",
      "\n",
      "72.00% completed. 0:00:58.873199  elapsed. 0:00:22.895133 remaining. \n",
      "\n",
      "73.00% completed. 0:00:59.558542  elapsed. 0:00:22.028502 remaining. \n",
      "\n",
      "74.00% completed. 0:01:00.240526  elapsed. 0:00:21.165590 remaining. \n",
      "\n",
      "75.00% completed. 0:01:00.926686  elapsed. 0:00:20.308895 remaining. \n",
      "\n",
      "76.00% completed. 0:01:01.624959  elapsed. 0:00:19.460514 remaining. \n",
      "\n",
      "77.00% completed. 0:01:02.342859  elapsed. 0:00:18.621893 remaining. \n",
      "\n",
      "78.00% completed. 0:01:03.083728  elapsed. 0:00:17.792846 remaining. \n",
      "\n",
      "79.00% completed. 0:01:03.791984  elapsed. 0:00:16.957363 remaining. \n",
      "\n",
      "80.00% completed. 0:01:04.504071  elapsed. 0:00:16.126018 remaining. \n",
      "\n",
      "81.00% completed. 0:01:05.211299  elapsed. 0:00:15.296478 remaining. \n",
      "\n",
      "82.00% completed. 0:01:05.880224  elapsed. 0:00:14.461513 remaining. \n",
      "\n",
      "83.00% completed. 0:01:06.551153  elapsed. 0:00:13.630959 remaining. \n",
      "\n",
      "84.00% completed. 0:01:07.230221  elapsed. 0:00:12.805756 remaining. \n",
      "\n",
      "85.00% completed. 0:01:07.918211  elapsed. 0:00:11.985567 remaining. \n",
      "\n",
      "86.00% completed. 0:01:08.607297  elapsed. 0:00:11.168630 remaining. \n",
      "\n",
      "87.00% completed. 0:01:09.291982  elapsed. 0:00:10.353974 remaining. \n",
      "\n",
      "88.00% completed. 0:01:09.967815  elapsed. 0:00:09.541066 remaining. \n",
      "\n",
      "89.00% completed. 0:01:10.642151  elapsed. 0:00:08.731052 remaining. \n",
      "\n",
      "90.00% completed. 0:01:11.336131  elapsed. 0:00:07.926237 remaining. \n",
      "\n",
      "91.00% completed. 0:01:12.041017  elapsed. 0:00:07.124936 remaining. \n",
      "\n",
      "92.00% completed. 0:01:12.740500  elapsed. 0:00:06.325261 remaining. \n",
      "\n",
      "93.00% completed. 0:01:13.432050  elapsed. 0:00:05.527144 remaining. \n",
      "\n",
      "94.00% completed. 0:01:14.139035  elapsed. 0:00:04.732279 remaining. \n",
      "\n",
      "95.00% completed. 0:01:14.819598  elapsed. 0:00:03.937874 remaining. \n",
      "\n",
      "96.00% completed. 0:01:15.502106  elapsed. 0:00:03.145921 remaining. \n",
      "\n",
      "97.00% completed. 0:01:16.182055  elapsed. 0:00:02.356146 remaining. \n",
      "\n",
      "98.00% completed. 0:01:16.854067  elapsed. 0:00:01.568450 remaining. \n",
      "\n",
      "99.00% completed. 0:01:17.523298  elapsed. 0:00:00.783064 remaining. \n",
      "\n",
      "100.00% completed. 0:01:17.524081  elapsed. 0:00:00 remaining. \n",
      "\n",
      "Calculations Complete.\n"
     ]
    },
    {
     "name": "stderr",
     "output_type": "stream",
     "text": [
      "The parameter `blt_order` could not be identified for input_uv  so the ordering cannot be restored.The output UVData object will have (time, baseline) ordering.\n",
      "Recalculating uvw_array without adjusting visibility phases -- this can introduce significant errors if used incorrectly.\n"
     ]
    }
   ],
   "source": [
    "cat = pyradiosky.SkyModel(\n",
    "    skycoord = source_coords[ind],\n",
    "    name = [\"source1\"],\n",
    "    spectral_type = \"spectral_index\",\n",
    "    spectral_index = [0.],\n",
    "    reference_frequency = ([np.mean(uv.freq_array)])*astropy.units.Hz,\n",
    "    stokes = np.array([1,0,0,0]).reshape(4,1,1) * astropy.units.Jy,\n",
    ")\n",
    "output_uv = pyuvsim.uvsim.run_uvdata_uvsim(\n",
    "    input_uv=uv,\n",
    "    beam_list=beam_list,\n",
    "    beam_dict=None,  # Same beam for all ants\n",
    "    catalog=cat,\n",
    "    quiet=False,\n",
    ")"
   ]
  },
  {
   "cell_type": "code",
   "execution_count": null,
   "id": "9b725527",
   "metadata": {},
   "outputs": [
    {
     "name": "stderr",
     "output_type": "stream",
     "text": [
      "The provided name unprojected is already used but has different parameters. Adding another entry with the same name but a different ID and parameters.\n"
     ]
    }
   ],
   "source": [
    "output_uv.unproject_phase()"
   ]
  },
  {
   "cell_type": "code",
   "execution_count": null,
   "id": "2220f2a6",
   "metadata": {},
   "outputs": [
    {
     "ename": "NameError",
     "evalue": "name 'plt' is not defined",
     "output_type": "error",
     "traceback": [
      "\u001b[0;31m---------------------------------------------------------------------------\u001b[0m",
      "\u001b[0;31mNameError\u001b[0m                                 Traceback (most recent call last)",
      "Cell \u001b[0;32mIn[1], line 1\u001b[0m\n\u001b[0;32m----> 1\u001b[0m \u001b[43mplt\u001b[49m\u001b[38;5;241m.\u001b[39mplot(output_uv\u001b[38;5;241m.\u001b[39mfreq_array, np\u001b[38;5;241m.\u001b[39mreal(output_uv\u001b[38;5;241m.\u001b[39mdata_array[\u001b[38;5;241m0\u001b[39m,:,\u001b[38;5;241m0\u001b[39m])\u001b[38;5;241m/\u001b[39m np\u001b[38;5;241m.\u001b[39mmax(output_uv\u001b[38;5;241m.\u001b[39mdata_array))\n\u001b[1;32m      2\u001b[0m plt\u001b[38;5;241m.\u001b[39mplot(output_uv\u001b[38;5;241m.\u001b[39mfreq_array, np\u001b[38;5;241m.\u001b[39mreal(np\u001b[38;5;241m.\u001b[39mexp(\u001b[38;5;241m2\u001b[39m \u001b[38;5;241m*\u001b[39m np\u001b[38;5;241m.\u001b[39mpi \u001b[38;5;241m*\u001b[39m \u001b[38;5;241m1\u001b[39mj \u001b[38;5;241m*\u001b[39m (np\u001b[38;5;241m.\u001b[39msin(np\u001b[38;5;241m.\u001b[39mdeg2rad(\u001b[38;5;241m20\u001b[39m)) \u001b[38;5;241m*\u001b[39m \u001b[38;5;241m3000\u001b[39m \u001b[38;5;241m/\u001b[39m \u001b[38;5;241m3e8\u001b[39m \u001b[38;5;241m*\u001b[39m output_uv\u001b[38;5;241m.\u001b[39mfreq_array))))\n",
      "\u001b[0;31mNameError\u001b[0m: name 'plt' is not defined"
     ]
    }
   ],
   "source": [
    "plt.plot(output_uv.freq_array, np.real(output_uv.data_array[0,:,0])/ np.max(output_uv.data_array))\n",
    "plt.plot(output_uv.freq_array, np.real(np.exp(2 * np.pi * 1j * (np.sin(np.deg2rad(20)) * 3000 / 3e8 * output_uv.freq_array))))"
   ]
  },
  {
   "cell_type": "code",
   "execution_count": null,
   "id": "d0b30a03",
   "metadata": {},
   "outputs": [
    {
     "data": {
      "text/plain": [
       "array([1., 1., 1., 1., 1., 1., 1., 1., 1., 1., 1., 1., 1., 1., 1., 1., 1.,\n",
       "       1., 1., 1., 1., 1., 1., 1., 1., 1., 1., 1., 1., 1., 1., 1., 1., 1.,\n",
       "       1., 1., 1., 1., 1., 1., 1., 1., 1., 1., 1., 1., 1., 1., 1., 1., 1.,\n",
       "       1., 1., 1., 1., 1., 1., 1., 1., 1., 1., 1., 1., 1., 1., 1., 1., 1.,\n",
       "       1., 1., 1., 1., 1., 1., 1., 1., 1., 1., 1., 1., 1., 1., 1., 1., 1.,\n",
       "       1., 1., 1., 1., 1., 1., 1., 1., 1., 1., 1., 1., 1., 1., 1.])"
      ]
     },
     "execution_count": 11,
     "metadata": {},
     "output_type": "execute_result"
    }
   ],
   "source": [
    "np.real(np.exp(2 * np.pi * 1j * (np.cos(np.deg2rad(90)) * 3000 / 3e8 * output_uv.freq_array)))"
   ]
  },
  {
   "cell_type": "code",
   "execution_count": null,
   "id": "8b68eff9",
   "metadata": {},
   "outputs": [
    {
     "data": {
      "text/plain": [
       "array([[ 3.00000000e+03,  9.14865707e-11, -1.20426457e-10]])"
      ]
     },
     "execution_count": 12,
     "metadata": {},
     "output_type": "execute_result"
    }
   ],
   "source": [
    "output_uv.uvw_array"
   ]
  },
  {
   "cell_type": "code",
   "execution_count": null,
   "id": "2101ee8b",
   "metadata": {},
   "outputs": [
    {
     "data": {
      "text/plain": [
       "array([[ 0.00000000e+00,  0.00000000e+00,  0.00000000e+00],\n",
       "       [ 3.00000000e+03,  9.15179044e-11, -1.20394361e-10],\n",
       "       [ 0.00000000e+00,  0.00000000e+00,  0.00000000e+00],\n",
       "       ...,\n",
       "       [ 0.00000000e+00,  0.00000000e+00,  0.00000000e+00],\n",
       "       [ 0.00000000e+00,  0.00000000e+00,  0.00000000e+00],\n",
       "       [ 0.00000000e+00,  0.00000000e+00,  0.00000000e+00]])"
      ]
     },
     "execution_count": 13,
     "metadata": {},
     "output_type": "execute_result"
    }
   ],
   "source": [
    "uv.telescope.get_enu_antpos()"
   ]
  },
  {
   "cell_type": "code",
   "execution_count": null,
   "id": "f1a2ce79",
   "metadata": {},
   "outputs": [
    {
     "data": {
      "text/plain": [
       "array([[ 9.31322575e-10, -9.31322575e-10,  4.65661287e-10],\n",
       "       [ 2.64188702e+03, -1.42141936e+03,  4.65661287e-10],\n",
       "       [ 9.31322575e-10, -9.31322575e-10,  4.65661287e-10],\n",
       "       ...,\n",
       "       [ 9.31322575e-10, -9.31322575e-10,  4.65661287e-10],\n",
       "       [ 9.31322575e-10, -9.31322575e-10,  4.65661287e-10],\n",
       "       [ 9.31322575e-10, -9.31322575e-10,  4.65661287e-10]])"
      ]
     },
     "execution_count": 14,
     "metadata": {},
     "output_type": "execute_result"
    }
   ],
   "source": [
    "uv.telescope.antenna_positions"
   ]
  },
  {
   "cell_type": "code",
   "execution_count": null,
   "id": "19586877",
   "metadata": {},
   "outputs": [
    {
     "data": {
      "text/plain": [
       "True"
      ]
     },
     "execution_count": 15,
     "metadata": {},
     "output_type": "execute_result"
    }
   ],
   "source": [
    "uv.telescope.check()"
   ]
  },
  {
   "cell_type": "code",
   "execution_count": null,
   "id": "bce4aa5a",
   "metadata": {},
   "outputs": [
    {
     "data": {
      "text/plain": [
       "<pyuvdata.parameter.UVParameter at 0x7fda0ac627d0>"
      ]
     },
     "execution_count": 16,
     "metadata": {},
     "output_type": "execute_result"
    }
   ],
   "source": [
    "uv.telescope._mount_type"
   ]
  },
  {
   "cell_type": "code",
   "execution_count": null,
   "id": "c9814df8",
   "metadata": {},
   "outputs": [],
   "source": [
    "# get antennas positions in ECEF\n",
    "telescope_ecef_xyz = Quantity(uv.telescope.location.geocentric).to_value(\"m\")\n",
    "antpos = uv.telescope.antenna_positions + telescope_ecef_xyz\n",
    "\n",
    "# convert to East, North, Up (ENU) coords.\n",
    "antpos = pyuvdata.utils.ENU_from_ECEF(antpos, center_loc=uv.telescope.location)"
   ]
  },
  {
   "cell_type": "code",
   "execution_count": null,
   "id": "f8c5a47c",
   "metadata": {},
   "outputs": [
    {
     "data": {
      "text/plain": [
       "array([[ 0.00000000e+00,  0.00000000e+00,  0.00000000e+00],\n",
       "       [ 3.00000000e+03,  9.15179044e-11, -1.20394361e-10],\n",
       "       [ 0.00000000e+00,  0.00000000e+00,  0.00000000e+00],\n",
       "       ...,\n",
       "       [ 0.00000000e+00,  0.00000000e+00,  0.00000000e+00],\n",
       "       [ 0.00000000e+00,  0.00000000e+00,  0.00000000e+00],\n",
       "       [ 0.00000000e+00,  0.00000000e+00,  0.00000000e+00]])"
      ]
     },
     "execution_count": 18,
     "metadata": {},
     "output_type": "execute_result"
    }
   ],
   "source": [
    "antpos"
   ]
  },
  {
   "cell_type": "code",
   "execution_count": null,
   "id": "dbab7395",
   "metadata": {},
   "outputs": [
    {
     "data": {
      "text/plain": [
       "(352, 3)"
      ]
     },
     "execution_count": 19,
     "metadata": {},
     "output_type": "execute_result"
    }
   ],
   "source": [
    "np.shape(antpos)"
   ]
  },
  {
   "cell_type": "code",
   "execution_count": null,
   "id": "8afce8ce",
   "metadata": {},
   "outputs": [],
   "source": []
  },
  {
   "cell_type": "code",
   "execution_count": null,
   "id": "50f7fb66",
   "metadata": {},
   "outputs": [
    {
     "data": {
      "text/plain": [
       "array([[ 9.31322575e-10, -9.31322575e-10,  4.65661287e-10],\n",
       "       [ 2.64188702e+03, -1.42141936e+03,  4.65661287e-10],\n",
       "       [ 9.31322575e-10, -9.31322575e-10,  4.65661287e-10],\n",
       "       ...,\n",
       "       [ 9.31322575e-10, -9.31322575e-10,  4.65661287e-10],\n",
       "       [ 9.31322575e-10, -9.31322575e-10,  4.65661287e-10],\n",
       "       [ 9.31322575e-10, -9.31322575e-10,  4.65661287e-10]])"
      ]
     },
     "execution_count": 20,
     "metadata": {},
     "output_type": "execute_result"
    }
   ],
   "source": [
    "uv.telescope.antenna_positions"
   ]
  },
  {
   "cell_type": "code",
   "execution_count": null,
   "id": "3d5e1087",
   "metadata": {},
   "outputs": [],
   "source": []
  }
 ],
 "metadata": {
  "kernelspec": {
   "display_name": "py310",
   "language": "python",
   "name": "python3"
  },
  "language_info": {
   "codemirror_mode": {
    "name": "ipython",
    "version": 3
   },
   "file_extension": ".py",
   "mimetype": "text/x-python",
   "name": "python",
   "nbconvert_exporter": "python",
   "pygments_lexer": "ipython3",
   "version": "3.10.14"
  }
 },
 "nbformat": 4,
 "nbformat_minor": 5
}
