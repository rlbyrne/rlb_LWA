{
 "cells": [
  {
   "cell_type": "code",
   "execution_count": 1,
   "id": "9145e429",
   "metadata": {},
   "outputs": [
    {
     "data": {
      "text/plain": [
       "<module 'pyuvsim' from '/opt/devel/rbyrne/envs/py310/lib/python3.10/site-packages/pyuvsim/__init__.py'>"
      ]
     },
     "execution_count": 1,
     "metadata": {},
     "output_type": "execute_result"
    }
   ],
   "source": [
    "import pyuvsim\n",
    "import pyuvdata\n",
    "import pyradiosky\n",
    "import astropy\n",
    "import numpy as np\n",
    "import importlib\n",
    "importlib.reload(pyuvsim)"
   ]
  },
  {
   "cell_type": "code",
   "execution_count": 2,
   "id": "e1c8c154",
   "metadata": {},
   "outputs": [
    {
     "name": "stderr",
     "output_type": "stream",
     "text": [
      "Setting telescope_location to value in known_telescopes for OVRO-LWA.\n",
      "The uvw_array does not match the expected values given the antenna positions. The largest discrepancy is 12.14008682625115 meters. This is a fairly common situation but might indicate an error in the antenna positions, the uvws or the phasing.\n"
     ]
    }
   ],
   "source": [
    "uv = pyuvdata.UVData()\n",
    "uv.read(\"/lustre/rbyrne/2025-06-13/20250613_070132_55MHz.ms\")\n",
    "uv.phase_to_time(np.mean(uv.time_array))"
   ]
  },
  {
   "cell_type": "code",
   "execution_count": 3,
   "id": "74c305ec",
   "metadata": {},
   "outputs": [
    {
     "data": {
      "text/plain": [
       "(62128, 192, 4)"
      ]
     },
     "execution_count": 3,
     "metadata": {},
     "output_type": "execute_result"
    }
   ],
   "source": [
    "np.shape(uv.nsample_array)"
   ]
  },
  {
   "cell_type": "code",
   "execution_count": 4,
   "id": "7681c3f9",
   "metadata": {},
   "outputs": [
    {
     "data": {
      "text/plain": [
       "array([0])"
      ]
     },
     "execution_count": 4,
     "metadata": {},
     "output_type": "execute_result"
    }
   ],
   "source": [
    "uv.spw_array"
   ]
  },
  {
   "cell_type": "code",
   "execution_count": 5,
   "id": "195e939d",
   "metadata": {},
   "outputs": [
    {
     "data": {
      "text/plain": [
       "{'_Ntimes': <pyuvdata.parameter.UVParameter at 0x7f64a5f266b0>,\n",
       " '_Nbls': <pyuvdata.parameter.UVParameter at 0x7f64d69b7580>,\n",
       " '_Nblts': <pyuvdata.parameter.UVParameter at 0x7f64a5f82fe0>,\n",
       " '_Nfreqs': <pyuvdata.parameter.UVParameter at 0x7f64a5f83070>,\n",
       " '_Npols': <pyuvdata.parameter.UVParameter at 0x7f64a5f839d0>,\n",
       " '_data_array': <pyuvdata.parameter.UVParameter at 0x7f64a5f83e20>,\n",
       " '_vis_units': <pyuvdata.parameter.UVParameter at 0x7f64a5f25cf0>,\n",
       " '_nsample_array': <pyuvdata.parameter.UVParameter at 0x7f64a5f83e50>,\n",
       " '_flag_array': <pyuvdata.parameter.UVParameter at 0x7f64a5f830a0>,\n",
       " '_Nspws': <pyuvdata.parameter.UVParameter at 0x7f64a5f83a00>,\n",
       " '_spw_array': <pyuvdata.parameter.UVParameter at 0x7f64a5f83af0>,\n",
       " '_uvw_array': <pyuvdata.parameter.UVParameter at 0x7f64a5f83040>,\n",
       " '_time_array': <pyuvdata.parameter.UVParameter at 0x7f64a5956e60>,\n",
       " '_lst_array': <pyuvdata.parameter.UVParameter at 0x7f64a5957400>,\n",
       " '_ant_1_array': <pyuvdata.parameter.UVParameter at 0x7f64a5957460>,\n",
       " '_ant_2_array': <pyuvdata.parameter.UVParameter at 0x7f64a59574c0>,\n",
       " '_baseline_array': <pyuvdata.parameter.UVParameter at 0x7f64a5957520>,\n",
       " '_freq_array': <pyuvdata.parameter.UVParameter at 0x7f64a5957580>,\n",
       " '_polarization_array': <pyuvdata.parameter.UVParameter at 0x7f64a59575e0>,\n",
       " '_integration_time': <pyuvdata.parameter.UVParameter at 0x7f64a5957640>,\n",
       " '_channel_width': <pyuvdata.parameter.UVParameter at 0x7f64a59576a0>,\n",
       " '_history': <pyuvdata.parameter.UVParameter at 0x7f64a5957700>,\n",
       " '_flex_spw_id_array': <pyuvdata.parameter.UVParameter at 0x7f64a5956ef0>,\n",
       " '_flex_spw_polarization_array': <pyuvdata.parameter.UVParameter at 0x7f64a59577c0>,\n",
       " '_Nphase': <pyuvdata.parameter.UVParameter at 0x7f64a5957760>,\n",
       " '_phase_center_catalog': <pyuvdata.parameter.UVParameter at 0x7f64a5957820>,\n",
       " '_phase_center_app_ra': <pyuvdata.parameter.AngleParameter at 0x7f64a59578e0>,\n",
       " '_phase_center_app_dec': <pyuvdata.parameter.AngleParameter at 0x7f64a5957880>,\n",
       " '_phase_center_frame_pa': <pyuvdata.parameter.AngleParameter at 0x7f64a59579a0>,\n",
       " '_phase_center_id_array': <pyuvdata.parameter.UVParameter at 0x7f64a5956fb0>,\n",
       " '_scan_number_array': <pyuvdata.parameter.UVParameter at 0x7f64a5957940>,\n",
       " '_Nants_data': <pyuvdata.parameter.UVParameter at 0x7f64a5957010>,\n",
       " '_telescope': <pyuvdata.parameter.UVParameter at 0x7f64a5957070>,\n",
       " '_blt_order': <pyuvdata.parameter.UVParameter at 0x7f64a5957190>,\n",
       " '_blts_are_rectangular': <pyuvdata.parameter.UVParameter at 0x7f64a59571f0>,\n",
       " '_time_axis_faster_than_bls': <pyuvdata.parameter.UVParameter at 0x7f64a5957250>,\n",
       " '_extra_keywords': <pyuvdata.parameter.UVParameter at 0x7f64a59572b0>,\n",
       " '_gst0': <pyuvdata.parameter.UVParameter at 0x7f64a5957310>,\n",
       " '_rdate': <pyuvdata.parameter.UVParameter at 0x7f64a5956f50>,\n",
       " '_earth_omega': <pyuvdata.parameter.UVParameter at 0x7f64a59573d0>,\n",
       " '_dut1': <pyuvdata.parameter.UVParameter at 0x7f64a5956a40>,\n",
       " '_timesys': <pyuvdata.parameter.UVParameter at 0x7f64a5956cb0>,\n",
       " '_uvplane_reference_time': <pyuvdata.parameter.UVParameter at 0x7f64a5956ce0>,\n",
       " '_eq_coeffs': <pyuvdata.parameter.UVParameter at 0x7f64a59570d0>,\n",
       " '_eq_coeffs_convention': <pyuvdata.parameter.UVParameter at 0x7f64a5956d10>,\n",
       " '_filename': <pyuvdata.parameter.UVParameter at 0x7f64a5956d70>,\n",
       " '_pol_convention': <pyuvdata.parameter.UVParameter at 0x7f64a5956d40>,\n",
       " '_UVData__antpair2ind_cache': {},\n",
       " '_UVData__key2ind_cache': {},\n",
       " 'pyuvdata_version_str': '  Read/written with pyuvdata version: 3.0.0.'}"
      ]
     },
     "execution_count": 5,
     "metadata": {},
     "output_type": "execute_result"
    }
   ],
   "source": [
    "uv.__dict__"
   ]
  },
  {
   "cell_type": "code",
   "execution_count": null,
   "id": "df0a97c8",
   "metadata": {},
   "outputs": [
    {
     "name": "stderr",
     "output_type": "stream",
     "text": [
      "The uvw_array does not match the expected values given the antenna positions. The largest discrepancy is 2963.75690856336 meters. This is a fairly common situation but might indicate an error in the antenna positions, the uvws or the phasing.\n",
      "The entry name zenith_at_jd2460839.792738 is not unique inside the phase center catalog, adding anyways.\n",
      "The provided name zenith_at_jd2460839.792738 is already used but has different parameters. Adding another entry with the same name but a different ID and parameters.\n"
     ]
    }
   ],
   "source": [
    "#uv.select(bls=(0, 1, \"xx\"))\n",
    "freq_hz = 50e6\n",
    "channel_width = 2e3\n",
    "##total_time_interval_s = 10\n",
    "##total_freq_interval_hz = 200e3\n",
    "total_time_interval_s = 1\n",
    "total_freq_interval_hz = 4e3\n",
    "integration_time = 0.1\n",
    "time_array_s = np.arange(-total_time_interval_s/2, total_time_interval_s/2, integration_time)\n",
    "uv.freq_array = np.arange(freq_hz-total_freq_interval_hz/2, freq_hz+total_freq_interval_hz/2, channel_width)\n",
    "uv.Nfreqs = len(uv.freq_array)\n",
    "uv.time_array = np.mean(uv.time_array) + time_array_s/86400\n",
    "uv.Ntimes = len(time_array_s)\n",
    "uv.Nbls = 1\n",
    "uv.Nblts = uv.Ntimes\n",
    "uv.Npols = 1\n",
    "uv.Nants_data = 2\n",
    "uv.Nspws = 1\n",
    "uv.flex_spw_id_array = np.full(uv.Nfreqs, np.mean(uv.spw_array), dtype=int)\n",
    "uv.ant_1_array = np.zeros(uv.Nblts, dtype=int)\n",
    "uv.ant_2_array = np.ones(uv.Nblts, dtype=int)\n",
    "uv.channel_width = np.full(uv.Nfreqs, channel_width)\n",
    "uv.integration_time = np.full(uv.Nblts, integration_time)\n",
    "uv.baseline_array = np.full(uv.Nblts, 2048 + 2**16)\n",
    "uv.data_array = np.zeros((uv.Nblts, uv.Nfreqs, uv.Npols), dtype=complex)\n",
    "uv.flag_array = np.zeros((uv.Nblts, uv.Nfreqs, uv.Npols), dtype=bool)\n",
    "uv.nsample_array = np.ones((uv.Nblts, uv.Nfreqs, uv.Npols), dtype=float)\n",
    "uv.polarization_array = np.array([-5])\n",
    "uv.uvw_array = np.zeros((uv.Nblts, 3), dtype=float)\n",
    "uv.uvw_array[:, 0] = 3e3\n",
    "uv.set_lsts_from_time_array()\n",
    "uv.phase_center_app_ra = uv.phase_center_app_ra[:uv.Nblts]\n",
    "uv.phase_center_app_dec = uv.phase_center_app_dec[:uv.Nblts]\n",
    "uv.phase_center_frame_pa = uv.phase_center_frame_pa[:uv.Nblts]\n",
    "uv.phase_center_id_array = uv.phase_center_id_array[:uv.Nblts]\n",
    "uv.scan_number_array = None\n",
    "uv.phase_to_time(np.mean(uv.time_array))\n"
   ]
  },
  {
   "cell_type": "code",
   "execution_count": 7,
   "id": "06c466be",
   "metadata": {},
   "outputs": [
    {
     "data": {
      "text/plain": [
       "array([[3.62665576e+01, 6.26319074e+02, 5.12094937e-01],\n",
       "       [3.62637962e+01, 6.26319234e+02, 5.11894522e-01],\n",
       "       [3.62610359e+01, 6.26319394e+02, 5.11694203e-01],\n",
       "       [3.62582744e+01, 6.26319554e+02, 5.11493820e-01],\n",
       "       [3.62555141e+01, 6.26319714e+02, 5.11293534e-01],\n",
       "       [3.62527527e+01, 6.26319874e+02, 5.11093183e-01],\n",
       "       [3.62499913e+01, 6.26320034e+02, 5.10892849e-01],\n",
       "       [3.62472310e+01, 6.26320193e+02, 5.10692611e-01],\n",
       "       [3.62444695e+01, 6.26320353e+02, 5.10492308e-01],\n",
       "       [3.62417092e+01, 6.26320513e+02, 5.10292102e-01]])"
      ]
     },
     "execution_count": 7,
     "metadata": {},
     "output_type": "execute_result"
    }
   ],
   "source": [
    "uv.uvw_array"
   ]
  },
  {
   "cell_type": "code",
   "execution_count": 8,
   "id": "042c99b8",
   "metadata": {},
   "outputs": [],
   "source": [
    "beam = pyuvdata.UVBeam()\n",
    "beam.read(\"/lustre/rbyrne/LWA_10to100_MROsoil_efields.fits\")\n",
    "beam.select(feeds=\"e\")\n",
    "beam.peak_normalize()\n",
    "beam_list = pyuvsim.BeamList(beam_list=[beam])"
   ]
  },
  {
   "cell_type": "code",
   "execution_count": 9,
   "id": "3b2f6c40",
   "metadata": {},
   "outputs": [
    {
     "data": {
      "text/plain": [
       "1.0000000000000002"
      ]
     },
     "execution_count": 9,
     "metadata": {},
     "output_type": "execute_result"
    }
   ],
   "source": [
    "np.max(np.abs(beam.data_array))"
   ]
  },
  {
   "cell_type": "code",
   "execution_count": null,
   "id": "70bb33e2",
   "metadata": {},
   "outputs": [],
   "source": []
  },
  {
   "cell_type": "code",
   "execution_count": 10,
   "id": "6da5c6ad",
   "metadata": {},
   "outputs": [],
   "source": [
    "zenith_loc = astropy.coordinates.SkyCoord([astropy.coordinates.ICRS(ra=np.mean(uv.lst_array)*astropy.units.rad, dec=uv.telescope.location.lat)])"
   ]
  },
  {
   "cell_type": "code",
   "execution_count": 11,
   "id": "cb418e69",
   "metadata": {},
   "outputs": [
    {
     "data": {
      "text/plain": [
       "astropy.coordinates.sky_coordinate.SkyCoord"
      ]
     },
     "execution_count": 11,
     "metadata": {},
     "output_type": "execute_result"
    }
   ],
   "source": [
    "type(zenith_loc)"
   ]
  },
  {
   "cell_type": "code",
   "execution_count": 12,
   "id": "1dff975f",
   "metadata": {},
   "outputs": [
    {
     "data": {
      "text/plain": [
       "True"
      ]
     },
     "execution_count": 12,
     "metadata": {},
     "output_type": "execute_result"
    }
   ],
   "source": [
    "cat = pyradiosky.SkyModel()\n",
    "cat.Ncomponents = 1\n",
    "cat.Nfreqs = 1\n",
    "cat.component_type = \"point\"\n",
    "cat.name = np.array([\"source1\"])\n",
    "cat.skycoord = zenith_loc\n",
    "cat.spectral_type = \"spectral_index\"\n",
    "cat.spectral_index = np.zeros(cat.Ncomponents)\n",
    "cat.reference_frequency = np.array([np.mean(uv.freq_array)])*astropy.units.Hz\n",
    "cat.stokes = np.zeros((4, 1, 1))\n",
    "cat.stokes[0, 0, 0] = 1\n",
    "cat.stokes *= astropy.units.Jy\n",
    "cat.history = \"\"\n",
    "cat._n_polarized = 0\n",
    "cat.check()"
   ]
  },
  {
   "cell_type": "code",
   "execution_count": 13,
   "id": "378f48b4",
   "metadata": {},
   "outputs": [],
   "source": [
    "catalog_formatted = pyuvsim.simsetup.SkyModelData(cat)"
   ]
  },
  {
   "cell_type": "code",
   "execution_count": 14,
   "id": "647a149b",
   "metadata": {},
   "outputs": [],
   "source": [
    "#catalog_formatted.spectral_type = \"spectral_index\"\n",
    "#catalog_formatted.spectral_index = np.zeros(cat.Ncomponents)\n",
    "#catalog_formatted.reference_frequency = np.mean(uv.freq_array)#*astropy.units.Hz"
   ]
  },
  {
   "cell_type": "code",
   "execution_count": 15,
   "id": "7f9990c1",
   "metadata": {},
   "outputs": [
    {
     "name": "stdout",
     "output_type": "stream",
     "text": [
      "Nbls: 1\n",
      "Ntimes: 10\n",
      "Nfreqs: 2\n",
      "Nsrcs: 1\n",
      "Tasks:  20.0\n",
      "5.00% completed. 0:00:01.119754  elapsed. 0:00:21.275318 remaining. \n",
      "\n",
      "10.00% completed. 0:00:02.204597  elapsed. 0:00:19.841371 remaining. \n",
      "\n",
      "15.00% completed. 0:00:02.206859  elapsed. 0:00:12.505536 remaining. \n",
      "\n",
      "20.00% completed. 0:00:03.265757  elapsed. 0:00:13.063026 remaining. \n",
      "\n",
      "25.00% completed. 0:00:03.268138  elapsed. 0:00:09.804413 remaining. \n",
      "\n",
      "30.00% completed. 0:00:04.268563  elapsed. 0:00:09.959980 remaining. \n",
      "\n",
      "35.00% completed. 0:00:04.270396  elapsed. 0:00:07.930736 remaining. \n",
      "\n",
      "40.00% completed. 0:00:05.309501  elapsed. 0:00:07.964251 remaining. \n",
      "\n",
      "45.00% completed. 0:00:05.311450  elapsed. 0:00:06.491773 remaining. \n",
      "\n",
      "50.00% completed. 0:00:06.332217  elapsed. 0:00:06.332217 remaining. \n",
      "\n",
      "55.00% completed. 0:00:06.334606  elapsed. 0:00:05.182859 remaining. \n",
      "\n",
      "60.00% completed. 0:00:07.360992  elapsed. 0:00:04.907328 remaining. \n",
      "\n",
      "65.00% completed. 0:00:07.362862  elapsed. 0:00:03.964618 remaining. \n",
      "\n",
      "70.00% completed. 0:00:08.406789  elapsed. 0:00:03.602910 remaining. \n",
      "\n",
      "75.00% completed. 0:00:08.408723  elapsed. 0:00:02.802908 remaining. \n",
      "\n",
      "80.00% completed. 0:00:09.445615  elapsed. 0:00:02.361404 remaining. \n",
      "\n",
      "85.00% completed. 0:00:09.447539  elapsed. 0:00:01.667213 remaining. \n",
      "\n",
      "90.00% completed. 0:00:10.503996  elapsed. 0:00:01.167111 remaining. \n",
      "\n",
      "95.00% completed. 0:00:10.505887  elapsed. 0:00:00.552941 remaining. \n",
      "\n",
      "100.00% completed. 0:00:10.506351  elapsed. 0:00:00 remaining. \n",
      "\n",
      "Calculations Complete.\n"
     ]
    },
    {
     "name": "stderr",
     "output_type": "stream",
     "text": [
      "The parameter `blt_order` could not be identified for input_uv  so the ordering cannot be restored.The output UVData object will have (time, baseline) ordering.\n",
      "Recalculating uvw_array without adjusting visibility phases -- this can introduce significant errors if used incorrectly.\n"
     ]
    }
   ],
   "source": [
    "output_uv = pyuvsim.uvsim.run_uvdata_uvsim(\n",
    "    input_uv=uv,\n",
    "    beam_list=beam_list,\n",
    "    beam_dict=None,  # Same beam for all ants\n",
    "    catalog=cat,\n",
    "    quiet=False,\n",
    ")"
   ]
  },
  {
   "cell_type": "code",
   "execution_count": 16,
   "id": "fa812404",
   "metadata": {},
   "outputs": [
    {
     "data": {
      "text/plain": [
       "array([[[0.49920261+0.02814769j],\n",
       "        [0.49920255+0.02814881j]],\n",
       "\n",
       "       [[0.49920879+0.02803808j],\n",
       "        [0.49920873+0.0280392j ]],\n",
       "\n",
       "       [[0.49921495+0.02792853j],\n",
       "        [0.49921488+0.02792965j]],\n",
       "\n",
       "       [[0.49922108+0.02781895j],\n",
       "        [0.49922102+0.02782006j]],\n",
       "\n",
       "       [[0.49922719+0.02770941j],\n",
       "        [0.49922712+0.02771052j]],\n",
       "\n",
       "       [[0.49923327+0.02759984j],\n",
       "        [0.49923321+0.02760094j]],\n",
       "\n",
       "       [[0.49923933+0.02749027j],\n",
       "        [0.49923927+0.02749137j]],\n",
       "\n",
       "       [[0.49924536+0.02738076j],\n",
       "        [0.4992453 +0.02738185j]],\n",
       "\n",
       "       [[0.49925137+0.02727121j],\n",
       "        [0.49925131+0.0272723j ]],\n",
       "\n",
       "       [[0.49925735+0.02716171j],\n",
       "        [0.4992573 +0.02716279j]]])"
      ]
     },
     "execution_count": 16,
     "metadata": {},
     "output_type": "execute_result"
    }
   ],
   "source": [
    "output_uv.data_array"
   ]
  },
  {
   "cell_type": "code",
   "execution_count": null,
   "id": "5178596f",
   "metadata": {},
   "outputs": [],
   "source": []
  }
 ],
 "metadata": {
  "kernelspec": {
   "display_name": "py310",
   "language": "python",
   "name": "python3"
  },
  "language_info": {
   "codemirror_mode": {
    "name": "ipython",
    "version": 3
   },
   "file_extension": ".py",
   "mimetype": "text/x-python",
   "name": "python",
   "nbconvert_exporter": "python",
   "pygments_lexer": "ipython3",
   "version": "3.10.14"
  }
 },
 "nbformat": 4,
 "nbformat_minor": 5
}
