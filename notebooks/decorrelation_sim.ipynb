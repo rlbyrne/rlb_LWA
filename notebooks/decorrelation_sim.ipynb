{
 "cells": [
  {
   "cell_type": "code",
   "execution_count": 4,
   "id": "9145e429",
   "metadata": {},
   "outputs": [],
   "source": [
    "import pyuvsim\n",
    "import pyuvdata\n",
    "import pyradiosky\n",
    "import astropy\n",
    "import numpy as np\n",
    "import importlib\n",
    "importlib.reload(pyuvsim)\n",
    "from astropy.units import Quantity\n",
    "import matplotlib.pyplot as plt"
   ]
  },
  {
   "cell_type": "code",
   "execution_count": 5,
   "id": "e1c8c154",
   "metadata": {},
   "outputs": [
    {
     "name": "stderr",
     "output_type": "stream",
     "text": [
      "Setting telescope_location to value in known_telescopes for OVRO-LWA.\n",
      "The uvw_array does not match the expected values given the antenna positions. The largest discrepancy is 3.7622342883812507 meters. This is a fairly common situation but might indicate an error in the antenna positions, the uvws or the phasing.\n"
     ]
    }
   ],
   "source": [
    "uv = pyuvdata.UVData()\n",
    "#uv.read(\"/lustre/21cmpipe/2025-06-13/20250613_070132_55MHz.ms\")  # Choose an arbitrary data file for reference\n",
    "uv.read(\"/lustre/pipeline/slow/73MHz/2025-07-14/19/20250714_192958_73MHz.ms\")\n",
    "\n",
    "# Set antenna positions\n",
    "antpos = np.zeros_like(uv.telescope.antenna_positions)\n",
    "antpos[1, 0] = 3000  # Baseline length\n",
    "antpos_ecef = pyuvdata.utils.ECEF_from_ENU(antpos, center_loc=uv.telescope.location)\n",
    "telescope_ecef_xyz = Quantity(uv.telescope.location.geocentric).to_value(\"m\")\n",
    "uv.telescope.antenna_positions  = antpos_ecef - telescope_ecef_xyz\n",
    "\n",
    "freq_hz = 50e6\n",
    "channel_width = 2e3\n",
    "total_time_interval_s = 10\n",
    "total_freq_interval_hz = 200e3\n",
    "integration_time = 0.1\n",
    "time_array_s = np.arange(-total_time_interval_s/2, total_time_interval_s/2, integration_time)\n",
    "uv.freq_array = np.arange(freq_hz-total_freq_interval_hz/2, freq_hz+total_freq_interval_hz/2, channel_width)\n",
    "uv.Nfreqs = len(uv.freq_array)\n",
    "uv.time_array = np.mean(uv.time_array) + time_array_s/86400\n",
    "uv.Ntimes = len(time_array_s)\n",
    "uv.Nbls = 1\n",
    "uv.Nblts = uv.Ntimes\n",
    "uv.Npols = 1\n",
    "uv.Nants_data = 2\n",
    "uv.Nspws = 1\n",
    "uv.flex_spw_id_array = np.full(uv.Nfreqs, np.mean(uv.spw_array), dtype=int)\n",
    "uv.ant_1_array = np.zeros(uv.Nblts, dtype=int)\n",
    "uv.ant_2_array = np.ones(uv.Nblts, dtype=int)\n",
    "uv.channel_width = np.full(uv.Nfreqs, channel_width)\n",
    "uv.integration_time = np.full(uv.Nblts, integration_time)\n",
    "uv.baseline_array = np.full(uv.Nblts, 2048 + 2**16)\n",
    "uv.data_array = np.zeros((uv.Nblts, uv.Nfreqs, uv.Npols), dtype=complex)\n",
    "uv.flag_array = np.zeros((uv.Nblts, uv.Nfreqs, uv.Npols), dtype=bool)\n",
    "uv.nsample_array = np.ones((uv.Nblts, uv.Nfreqs, uv.Npols), dtype=float)\n",
    "uv.polarization_array = np.array([-5])\n",
    "uv.set_lsts_from_time_array()\n",
    "uv.phase_center_app_ra = uv.phase_center_app_ra[:uv.Nblts]\n",
    "uv.phase_center_app_dec = uv.phase_center_app_dec[:uv.Nblts]\n",
    "uv.phase_center_frame_pa = uv.phase_center_frame_pa[:uv.Nblts]\n",
    "uv.phase_center_id_array = uv.phase_center_id_array[:uv.Nblts]\n",
    "uv.scan_number_array = None\n",
    "uv.uvw_array = np.zeros((uv.Nblts, 3), dtype=float)\n",
    "uv.phase_to_time(np.mean(uv.time_array))\n",
    "# Redefine uvws after phasing\n",
    "uv.set_uvws_from_antenna_positions()\n",
    "#uv.uvw_array = np.zeros((uv.Nblts, 3), dtype=float)\n",
    "#uv.uvw_array[:, 0] = 3e3\n",
    "\n",
    "beam = pyuvdata.UVBeam()\n",
    "beam.read(\"/lustre/rbyrne/LWA_10to100_MROsoil_efields.fits\")\n",
    "beam.select(feeds=\"e\")\n",
    "beam.peak_normalize()\n",
    "beam_use_freq = 50e6\n",
    "use_freq_ind = np.where(beam.freq_array == beam_use_freq)[0]\n",
    "beam.data_array[:, :, :, :, :] = beam.data_array[:, :, use_freq_ind, :, :]  # Make the beam frequency-invariant\n",
    "beam_list = pyuvsim.BeamList(beam_list=[beam])\n",
    "\n",
    "#ra_offset_vals_deg = np.linspace(-60, 60, num=11)\n",
    "#dec_offset_vals_deg = np.linspace(-52, 52, num=11)\n",
    "#ra_vals_expanded, dec_vals_expanded = np.meshgrid(ra_offset_vals_deg, dec_offset_vals_deg)\n",
    "#ra_offset_vals_flattened = ra_vals_expanded.flatten()\n",
    "#dec_offset_vals_flattened = dec_vals_expanded.flatten()\n",
    "azimuths = np.array([10])\n",
    "zenith_angles = np.array([70])\n",
    "ras = np.mean(uv.lst_array) - np.arctan2(\n",
    "    np.sin(uv.telescope.location.lat.rad) * np.sin(np.deg2rad(zenith_angles)) * np.sin(np.deg2rad(azimuths))\n",
    "    - np.cos(uv.telescope.location.lat.rad) * np.cos(np.deg2rad(zenith_angles)),\n",
    "    np.sin(np.deg2rad(zenith_angles)) * np.cos(np.deg2rad(azimuths))\n",
    ") - np.pi/2\n",
    "decs = np.pi/2 - np.arccos(\n",
    "    np.cos(uv.telescope.location.lat.rad) * np.sin(np.deg2rad(zenith_angles)) * np.sin(np.deg2rad(azimuths))\n",
    "    + np.sin(uv.telescope.location.lat.rad) * np.cos(np.deg2rad(zenith_angles))\n",
    ")\n",
    "source_coords = []\n",
    "#for ind in range(len(ra_offset_vals_flattened)):\n",
    "#    new_coords = astropy.coordinates.SkyCoord([astropy.coordinates.ICRS(\n",
    "#        ra=np.mean(uv.lst_array)*astropy.units.rad + ra_offset_vals_flattened[ind]*astropy.units.deg, \n",
    "#        dec=uv.telescope.location.lat + dec_offset_vals_flattened[ind]*astropy.units.deg\n",
    "#    )])\n",
    "#    source_coords.append(new_coords)\n",
    "for ind in range(len(ras)):\n",
    "    new_coords = astropy.coordinates.SkyCoord([astropy.coordinates.ICRS(\n",
    "        ra=ras[ind]*astropy.units.rad, \n",
    "        dec=decs[ind]*astropy.units.rad\n",
    "    )])\n",
    "    source_coords.append(new_coords)"
   ]
  },
  {
   "cell_type": "code",
   "execution_count": 6,
   "id": "521b67df",
   "metadata": {},
   "outputs": [],
   "source": [
    "uv.select(times=np.sort(uv.time_array)[int(uv.Ntimes / 2)], inplace=True)  # Use just one time"
   ]
  },
  {
   "cell_type": "code",
   "execution_count": 7,
   "id": "8936cdc0",
   "metadata": {},
   "outputs": [
    {
     "name": "stdout",
     "output_type": "stream",
     "text": [
      "1.8697677649634596 rad\n",
      "0.649957 rad\n"
     ]
    }
   ],
   "source": [
    "zenith_ra = np.mean(uv.lst_array)*astropy.units.rad\n",
    "print(zenith_ra)\n",
    "zenith_dec = uv.telescope.location.lat\n",
    "print(zenith_dec.to(astropy.units.rad))"
   ]
  },
  {
   "cell_type": "code",
   "execution_count": 8,
   "id": "25925d9e",
   "metadata": {},
   "outputs": [
    {
     "name": "stdout",
     "output_type": "stream",
     "text": [
      "<SkyCoord (ICRS): (ra, dec) in deg\n",
      "    [(27.75067275, 19.68690836)]>\n"
     ]
    }
   ],
   "source": [
    "print(source_coords[0])"
   ]
  },
  {
   "cell_type": "code",
   "execution_count": 9,
   "id": "dd7f31fa",
   "metadata": {},
   "outputs": [
    {
     "data": {
      "text/plain": [
       "3.297855704482673"
      ]
     },
     "execution_count": 9,
     "metadata": {},
     "output_type": "execute_result"
    }
   ],
   "source": [
    "np.deg2rad(188.95321331)"
   ]
  },
  {
   "cell_type": "code",
   "execution_count": 10,
   "id": "5339e54f",
   "metadata": {},
   "outputs": [
    {
     "data": {
      "text/plain": [
       "-0.25761448496620604"
      ]
     },
     "execution_count": 10,
     "metadata": {},
     "output_type": "execute_result"
    }
   ],
   "source": [
    "np.deg2rad(-14.76022273)"
   ]
  },
  {
   "cell_type": "code",
   "execution_count": 11,
   "id": "6de83919",
   "metadata": {},
   "outputs": [
    {
     "name": "stdout",
     "output_type": "stream",
     "text": [
      "Nbls: 1\n",
      "Ntimes: 1\n",
      "Nfreqs: 100\n",
      "Nsrcs: 1\n",
      "Tasks:  100.0\n",
      "1.00% completed. 0:00:01.434004  elapsed. 0:02:21.966379 remaining. \n",
      "\n",
      "2.00% completed. 0:00:02.125533  elapsed. 0:01:44.151110 remaining. \n",
      "\n",
      "3.00% completed. 0:00:02.800083  elapsed. 0:01:30.536022 remaining. \n",
      "\n",
      "4.00% completed. 0:00:03.476150  elapsed. 0:01:23.427595 remaining. \n",
      "\n",
      "5.00% completed. 0:00:04.166349  elapsed. 0:01:19.160634 remaining. \n",
      "\n",
      "6.00% completed. 0:00:04.837986  elapsed. 0:01:15.795114 remaining. \n",
      "\n",
      "7.00% completed. 0:00:05.507406  elapsed. 0:01:13.169829 remaining. \n",
      "\n",
      "8.00% completed. 0:00:06.190067  elapsed. 0:01:11.185768 remaining. \n",
      "\n",
      "9.00% completed. 0:00:06.869859  elapsed. 0:01:09.461907 remaining. \n",
      "\n",
      "10.00% completed. 0:00:07.539932  elapsed. 0:01:07.859386 remaining. \n",
      "\n",
      "11.00% completed. 0:00:08.205674  elapsed. 0:01:06.391362 remaining. \n",
      "\n",
      "12.00% completed. 0:00:08.956049  elapsed. 0:01:05.677691 remaining. \n",
      "\n",
      "13.00% completed. 0:00:09.636409  elapsed. 0:01:04.489813 remaining. \n",
      "\n",
      "14.00% completed. 0:00:10.304540  elapsed. 0:01:03.299315 remaining. \n",
      "\n",
      "15.00% completed. 0:00:10.977534  elapsed. 0:01:02.206024 remaining. \n",
      "\n",
      "16.00% completed. 0:00:11.642484  elapsed. 0:01:01.123039 remaining. \n",
      "\n",
      "17.00% completed. 0:00:12.312972  elapsed. 0:01:00.116273 remaining. \n",
      "\n",
      "18.00% completed. 0:00:12.977327  elapsed. 0:00:59.118934 remaining. \n",
      "\n",
      "19.00% completed. 0:00:13.641360  elapsed. 0:00:58.155272 remaining. \n",
      "\n",
      "20.00% completed. 0:00:14.300708  elapsed. 0:00:57.202831 remaining. \n",
      "\n",
      "21.00% completed. 0:00:14.980607  elapsed. 0:00:56.355616 remaining. \n",
      "\n",
      "22.00% completed. 0:00:15.647854  elapsed. 0:00:55.478755 remaining. \n",
      "\n",
      "23.00% completed. 0:00:16.317235  elapsed. 0:00:54.627267 remaining. \n",
      "\n",
      "24.00% completed. 0:00:16.982556  elapsed. 0:00:53.778095 remaining. \n",
      "\n",
      "25.00% completed. 0:00:17.648921  elapsed. 0:00:52.946762 remaining. \n",
      "\n",
      "26.00% completed. 0:00:18.320858  elapsed. 0:00:52.143981 remaining. \n",
      "\n",
      "27.00% completed. 0:00:18.992183  elapsed. 0:00:51.349236 remaining. \n",
      "\n",
      "28.00% completed. 0:00:19.671358  elapsed. 0:00:50.583492 remaining. \n",
      "\n",
      "29.00% completed. 0:00:20.350037  elapsed. 0:00:49.822505 remaining. \n",
      "\n",
      "30.00% completed. 0:00:21.028494  elapsed. 0:00:49.066487 remaining. \n",
      "\n",
      "31.00% completed. 0:00:21.711354  elapsed. 0:00:48.325271 remaining. \n",
      "\n",
      "32.00% completed. 0:00:22.382020  elapsed. 0:00:47.561793 remaining. \n",
      "\n",
      "33.00% completed. 0:00:23.055295  elapsed. 0:00:46.809235 remaining. \n",
      "\n",
      "34.00% completed. 0:00:23.730081  elapsed. 0:00:46.064274 remaining. \n",
      "\n",
      "35.00% completed. 0:00:24.410833  elapsed. 0:00:45.334403 remaining. \n",
      "\n",
      "36.00% completed. 0:00:25.091580  elapsed. 0:00:44.607254 remaining. \n",
      "\n",
      "37.00% completed. 0:00:25.761616  elapsed. 0:00:43.864372 remaining. \n",
      "\n",
      "38.00% completed. 0:00:26.436697  elapsed. 0:00:43.133558 remaining. \n",
      "\n",
      "39.00% completed. 0:00:27.103294  elapsed. 0:00:42.392331 remaining. \n",
      "\n",
      "40.00% completed. 0:00:27.769731  elapsed. 0:00:41.654596 remaining. \n",
      "\n",
      "41.00% completed. 0:00:28.446956  elapsed. 0:00:40.935863 remaining. \n",
      "\n",
      "42.00% completed. 0:00:29.108613  elapsed. 0:00:40.197609 remaining. \n",
      "\n",
      "43.00% completed. 0:00:29.820452  elapsed. 0:00:39.529436 remaining. \n",
      "\n",
      "44.00% completed. 0:00:30.492476  elapsed. 0:00:38.808606 remaining. \n",
      "\n",
      "45.00% completed. 0:00:31.165841  elapsed. 0:00:38.091584 remaining. \n",
      "\n",
      "46.00% completed. 0:00:31.829005  elapsed. 0:00:37.364484 remaining. \n",
      "\n",
      "47.00% completed. 0:00:32.495255  elapsed. 0:00:36.643585 remaining. \n",
      "\n",
      "48.00% completed. 0:00:33.168336  elapsed. 0:00:35.932364 remaining. \n",
      "\n",
      "49.00% completed. 0:00:33.840146  elapsed. 0:00:35.221377 remaining. \n",
      "\n",
      "50.00% completed. 0:00:33.854223  elapsed. 0:00:33.854223 remaining. \n",
      "\n",
      "51.00% completed. 0:00:34.519719  elapsed. 0:00:33.166005 remaining. \n",
      "\n",
      "52.00% completed. 0:00:35.190936  elapsed. 0:00:32.483941 remaining. \n",
      "\n",
      "53.00% completed. 0:00:35.860965  elapsed. 0:00:31.801233 remaining. \n",
      "\n",
      "54.00% completed. 0:00:36.523718  elapsed. 0:00:31.112797 remaining. \n",
      "\n",
      "55.00% completed. 0:00:37.177554  elapsed. 0:00:30.417999 remaining. \n",
      "\n",
      "56.00% completed. 0:00:37.833358  elapsed. 0:00:29.726210 remaining. \n",
      "\n",
      "57.00% completed. 0:00:38.499004  elapsed. 0:00:29.043108 remaining. \n",
      "\n",
      "58.00% completed. 0:00:39.171425  elapsed. 0:00:28.365515 remaining. \n",
      "\n",
      "59.00% completed. 0:00:39.830077  elapsed. 0:00:27.678528 remaining. \n",
      "\n",
      "60.00% completed. 0:00:40.494989  elapsed. 0:00:26.996659 remaining. \n",
      "\n",
      "61.00% completed. 0:00:41.167402  elapsed. 0:00:26.320142 remaining. \n",
      "\n",
      "62.00% completed. 0:00:41.840726  elapsed. 0:00:25.644316 remaining. \n",
      "\n",
      "63.00% completed. 0:00:42.504608  elapsed. 0:00:24.963024 remaining. \n",
      "\n",
      "64.00% completed. 0:00:43.162613  elapsed. 0:00:24.278970 remaining. \n",
      "\n",
      "65.00% completed. 0:00:43.820790  elapsed. 0:00:23.595810 remaining. \n",
      "\n",
      "66.00% completed. 0:00:44.488233  elapsed. 0:00:22.918181 remaining. \n",
      "\n",
      "67.00% completed. 0:00:45.148760  elapsed. 0:00:22.237449 remaining. \n",
      "\n",
      "68.00% completed. 0:00:45.811279  elapsed. 0:00:21.558249 remaining. \n",
      "\n",
      "69.00% completed. 0:00:46.474700  elapsed. 0:00:20.879938 remaining. \n",
      "\n",
      "70.00% completed. 0:00:47.140953  elapsed. 0:00:20.203265 remaining. \n",
      "\n",
      "71.00% completed. 0:00:47.804599  elapsed. 0:00:19.525822 remaining. \n",
      "\n",
      "72.00% completed. 0:00:48.473209  elapsed. 0:00:18.850692 remaining. \n",
      "\n",
      "73.00% completed. 0:00:49.149217  elapsed. 0:00:18.178477 remaining. \n",
      "\n",
      "74.00% completed. 0:00:49.813181  elapsed. 0:00:17.501928 remaining. \n",
      "\n",
      "75.00% completed. 0:00:50.481770  elapsed. 0:00:16.827257 remaining. \n",
      "\n",
      "76.00% completed. 0:00:51.176304  elapsed. 0:00:16.160938 remaining. \n",
      "\n",
      "77.00% completed. 0:00:51.843877  elapsed. 0:00:15.485833 remaining. \n",
      "\n",
      "78.00% completed. 0:00:52.508121  elapsed. 0:00:14.809983 remaining. \n",
      "\n",
      "79.00% completed. 0:00:53.169618  elapsed. 0:00:14.133696 remaining. \n",
      "\n",
      "80.00% completed. 0:00:53.847202  elapsed. 0:00:13.461801 remaining. \n",
      "\n",
      "81.00% completed. 0:00:54.521829  elapsed. 0:00:12.789071 remaining. \n",
      "\n",
      "82.00% completed. 0:00:55.186951  elapsed. 0:00:12.114209 remaining. \n",
      "\n",
      "83.00% completed. 0:00:55.857494  elapsed. 0:00:11.440692 remaining. \n",
      "\n",
      "84.00% completed. 0:00:56.531651  elapsed. 0:00:10.767934 remaining. \n",
      "\n",
      "85.00% completed. 0:00:57.197586  elapsed. 0:00:10.093692 remaining. \n",
      "\n",
      "86.00% completed. 0:00:57.867247  elapsed. 0:00:09.420249 remaining. \n",
      "\n",
      "87.00% completed. 0:00:58.539689  elapsed. 0:00:08.747310 remaining. \n",
      "\n",
      "88.00% completed. 0:00:59.215011  elapsed. 0:00:08.074774 remaining. \n",
      "\n",
      "89.00% completed. 0:00:59.926106  elapsed. 0:00:07.406597 remaining. \n",
      "\n",
      "90.00% completed. 0:01:00.596343  elapsed. 0:00:06.732927 remaining. \n",
      "\n",
      "91.00% completed. 0:01:01.268026  elapsed. 0:00:06.059475 remaining. \n",
      "\n",
      "92.00% completed. 0:01:01.933646  elapsed. 0:00:05.385534 remaining. \n",
      "\n",
      "93.00% completed. 0:01:02.604956  elapsed. 0:00:04.712201 remaining. \n",
      "\n",
      "94.00% completed. 0:01:03.264856  elapsed. 0:00:04.038182 remaining. \n",
      "\n",
      "95.00% completed. 0:01:03.939917  elapsed. 0:00:03.365259 remaining. \n",
      "\n",
      "96.00% completed. 0:01:04.599053  elapsed. 0:00:02.691627 remaining. \n",
      "\n",
      "97.00% completed. 0:01:05.264348  elapsed. 0:00:02.018485 remaining. \n",
      "\n",
      "98.00% completed. 0:01:05.935223  elapsed. 0:00:01.345617 remaining. \n",
      "\n",
      "99.00% completed. 0:01:06.599164  elapsed. 0:00:00.672719 remaining. \n",
      "\n",
      "100.00% completed. 0:01:06.600255  elapsed. 0:00:00 remaining. \n",
      "\n",
      "Calculations Complete.\n"
     ]
    },
    {
     "name": "stderr",
     "output_type": "stream",
     "text": [
      "The parameter `blt_order` could not be identified for input_uv  so the ordering cannot be restored.The output UVData object will have (time, baseline) ordering.\n",
      "Recalculating uvw_array without adjusting visibility phases -- this can introduce significant errors if used incorrectly.\n"
     ]
    }
   ],
   "source": [
    "cat = pyradiosky.SkyModel(\n",
    "    skycoord = source_coords[ind],\n",
    "    name = [\"source1\"],\n",
    "    spectral_type = \"spectral_index\",\n",
    "    spectral_index = [0.],\n",
    "    reference_frequency = ([np.mean(uv.freq_array)])*astropy.units.Hz,\n",
    "    stokes = np.array([1,0,0,0]).reshape(4,1,1) * astropy.units.Jy,\n",
    ")\n",
    "output_uv = pyuvsim.uvsim.run_uvdata_uvsim(\n",
    "    input_uv=uv,\n",
    "    beam_list=beam_list,\n",
    "    beam_dict=None,  # Same beam for all ants\n",
    "    catalog=cat,\n",
    "    quiet=False,\n",
    ")"
   ]
  },
  {
   "cell_type": "code",
   "execution_count": 12,
   "id": "9b725527",
   "metadata": {},
   "outputs": [
    {
     "name": "stderr",
     "output_type": "stream",
     "text": [
      "The provided name unprojected is already used but has different parameters. Adding another entry with the same name but a different ID and parameters.\n"
     ]
    }
   ],
   "source": [
    "output_uv.unproject_phase()"
   ]
  },
  {
   "cell_type": "code",
   "execution_count": 24,
   "id": "2220f2a6",
   "metadata": {},
   "outputs": [
    {
     "data": {
      "text/plain": [
       "[<matplotlib.lines.Line2D at 0x7fa301eabee0>]"
      ]
     },
     "execution_count": 24,
     "metadata": {},
     "output_type": "execute_result"
    },
    {
     "data": {
      "image/png": "[encoded data removed]",
      "text/plain": [
       "<Figure size 640x480 with 1 Axes>"
      ]
     },
     "metadata": {},
     "output_type": "display_data"
    }
   ],
   "source": [
    "plt.plot(output_uv.freq_array, np.real(output_uv.data_array[0,:,0])/ np.max(output_uv.data_array))\n",
    "plt.plot(output_uv.freq_array, np.real(np.exp(2 * np.pi * 1j * (np.sin(np.deg2rad(70)) * 3000 / 3e8 * output_uv.freq_array))))"
   ]
  },
  {
   "cell_type": "code",
   "execution_count": 14,
   "id": "d0b30a03",
   "metadata": {},
   "outputs": [
    {
     "data": {
      "text/plain": [
       "array([1., 1., 1., 1., 1., 1., 1., 1., 1., 1., 1., 1., 1., 1., 1., 1., 1.,\n",
       "       1., 1., 1., 1., 1., 1., 1., 1., 1., 1., 1., 1., 1., 1., 1., 1., 1.,\n",
       "       1., 1., 1., 1., 1., 1., 1., 1., 1., 1., 1., 1., 1., 1., 1., 1., 1.,\n",
       "       1., 1., 1., 1., 1., 1., 1., 1., 1., 1., 1., 1., 1., 1., 1., 1., 1.,\n",
       "       1., 1., 1., 1., 1., 1., 1., 1., 1., 1., 1., 1., 1., 1., 1., 1., 1.,\n",
       "       1., 1., 1., 1., 1., 1., 1., 1., 1., 1., 1., 1., 1., 1., 1.])"
      ]
     },
     "execution_count": 14,
     "metadata": {},
     "output_type": "execute_result"
    }
   ],
   "source": [
    "np.real(np.exp(2 * np.pi * 1j * (np.cos(np.deg2rad(90)) * 3000 / 3e8 * output_uv.freq_array)))"
   ]
  },
  {
   "cell_type": "code",
   "execution_count": 15,
   "id": "8b68eff9",
   "metadata": {},
   "outputs": [
    {
     "data": {
      "text/plain": [
       "array([[ 3.00000000e+03,  9.14865707e-11, -1.20426457e-10]])"
      ]
     },
     "execution_count": 15,
     "metadata": {},
     "output_type": "execute_result"
    }
   ],
   "source": [
    "output_uv.uvw_array"
   ]
  },
  {
   "cell_type": "code",
   "execution_count": 16,
   "id": "2101ee8b",
   "metadata": {},
   "outputs": [
    {
     "data": {
      "text/plain": [
       "array([[ 0.00000000e+00,  0.00000000e+00,  0.00000000e+00],\n",
       "       [ 3.00000000e+03,  9.15179044e-11, -1.20394361e-10],\n",
       "       [ 0.00000000e+00,  0.00000000e+00,  0.00000000e+00],\n",
       "       ...,\n",
       "       [ 0.00000000e+00,  0.00000000e+00,  0.00000000e+00],\n",
       "       [ 0.00000000e+00,  0.00000000e+00,  0.00000000e+00],\n",
       "       [ 0.00000000e+00,  0.00000000e+00,  0.00000000e+00]])"
      ]
     },
     "execution_count": 16,
     "metadata": {},
     "output_type": "execute_result"
    }
   ],
   "source": [
    "uv.telescope.get_enu_antpos()"
   ]
  },
  {
   "cell_type": "code",
   "execution_count": 17,
   "id": "f1a2ce79",
   "metadata": {},
   "outputs": [
    {
     "data": {
      "text/plain": [
       "array([[ 9.31322575e-10, -9.31322575e-10,  4.65661287e-10],\n",
       "       [ 2.64188702e+03, -1.42141936e+03,  4.65661287e-10],\n",
       "       [ 9.31322575e-10, -9.31322575e-10,  4.65661287e-10],\n",
       "       ...,\n",
       "       [ 9.31322575e-10, -9.31322575e-10,  4.65661287e-10],\n",
       "       [ 9.31322575e-10, -9.31322575e-10,  4.65661287e-10],\n",
       "       [ 9.31322575e-10, -9.31322575e-10,  4.65661287e-10]])"
      ]
     },
     "execution_count": 17,
     "metadata": {},
     "output_type": "execute_result"
    }
   ],
   "source": [
    "uv.telescope.antenna_positions"
   ]
  },
  {
   "cell_type": "code",
   "execution_count": 18,
   "id": "19586877",
   "metadata": {},
   "outputs": [
    {
     "data": {
      "text/plain": [
       "True"
      ]
     },
     "execution_count": 18,
     "metadata": {},
     "output_type": "execute_result"
    }
   ],
   "source": [
    "uv.telescope.check()"
   ]
  },
  {
   "cell_type": "code",
   "execution_count": 19,
   "id": "bce4aa5a",
   "metadata": {},
   "outputs": [
    {
     "data": {
      "text/plain": [
       "<pyuvdata.parameter.UVParameter at 0x7fa3118045b0>"
      ]
     },
     "execution_count": 19,
     "metadata": {},
     "output_type": "execute_result"
    }
   ],
   "source": [
    "uv.telescope._mount_type"
   ]
  },
  {
   "cell_type": "code",
   "execution_count": 20,
   "id": "c9814df8",
   "metadata": {},
   "outputs": [],
   "source": [
    "# get antennas positions in ECEF\n",
    "telescope_ecef_xyz = Quantity(uv.telescope.location.geocentric).to_value(\"m\")\n",
    "antpos = uv.telescope.antenna_positions + telescope_ecef_xyz\n",
    "\n",
    "# convert to East, North, Up (ENU) coords.\n",
    "antpos = pyuvdata.utils.ENU_from_ECEF(antpos, center_loc=uv.telescope.location)"
   ]
  },
  {
   "cell_type": "code",
   "execution_count": 21,
   "id": "f8c5a47c",
   "metadata": {},
   "outputs": [
    {
     "data": {
      "text/plain": [
       "array([[ 0.00000000e+00,  0.00000000e+00,  0.00000000e+00],\n",
       "       [ 3.00000000e+03,  9.15179044e-11, -1.20394361e-10],\n",
       "       [ 0.00000000e+00,  0.00000000e+00,  0.00000000e+00],\n",
       "       ...,\n",
       "       [ 0.00000000e+00,  0.00000000e+00,  0.00000000e+00],\n",
       "       [ 0.00000000e+00,  0.00000000e+00,  0.00000000e+00],\n",
       "       [ 0.00000000e+00,  0.00000000e+00,  0.00000000e+00]])"
      ]
     },
     "execution_count": 21,
     "metadata": {},
     "output_type": "execute_result"
    }
   ],
   "source": [
    "antpos"
   ]
  },
  {
   "cell_type": "code",
   "execution_count": 22,
   "id": "dbab7395",
   "metadata": {},
   "outputs": [
    {
     "data": {
      "text/plain": [
       "(352, 3)"
      ]
     },
     "execution_count": 22,
     "metadata": {},
     "output_type": "execute_result"
    }
   ],
   "source": [
    "np.shape(antpos)"
   ]
  },
  {
   "cell_type": "code",
   "execution_count": null,
   "id": "8afce8ce",
   "metadata": {},
   "outputs": [],
   "source": []
  },
  {
   "cell_type": "code",
   "execution_count": 23,
   "id": "50f7fb66",
   "metadata": {},
   "outputs": [
    {
     "data": {
      "text/plain": [
       "array([[ 9.31322575e-10, -9.31322575e-10,  4.65661287e-10],\n",
       "       [ 2.64188702e+03, -1.42141936e+03,  4.65661287e-10],\n",
       "       [ 9.31322575e-10, -9.31322575e-10,  4.65661287e-10],\n",
       "       ...,\n",
       "       [ 9.31322575e-10, -9.31322575e-10,  4.65661287e-10],\n",
       "       [ 9.31322575e-10, -9.31322575e-10,  4.65661287e-10],\n",
       "       [ 9.31322575e-10, -9.31322575e-10,  4.65661287e-10]])"
      ]
     },
     "execution_count": 23,
     "metadata": {},
     "output_type": "execute_result"
    }
   ],
   "source": [
    "uv.telescope.antenna_positions"
   ]
  },
  {
   "cell_type": "code",
   "execution_count": null,
   "id": "3d5e1087",
   "metadata": {},
   "outputs": [],
   "source": []
  }
 ],
 "metadata": {
  "kernelspec": {
   "display_name": "Python 3",
   "language": "python",
   "name": "python3"
  },
  "language_info": {
   "codemirror_mode": {
    "name": "ipython",
    "version": 3
   },
   "file_extension": ".py",
   "mimetype": "text/x-python",
   "name": "python",
   "nbconvert_exporter": "python",
   "pygments_lexer": "ipython3",
   "version": "3.10.14"
  }
 },
 "nbformat": 4,
 "nbformat_minor": 5
}
