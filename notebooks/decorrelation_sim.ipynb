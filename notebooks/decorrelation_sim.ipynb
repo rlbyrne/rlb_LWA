{
 "cells": [
  {
   "cell_type": "code",
   "execution_count": 42,
   "id": "9145e429",
   "metadata": {},
   "outputs": [],
   "source": [
    "import pyuvsim\n",
    "import pyuvdata\n",
    "import pyradiosky\n",
    "import astropy\n",
    "import numpy as np\n",
    "import importlib\n",
    "importlib.reload(pyuvsim)\n",
    "from astropy.units import Quantity"
   ]
  },
  {
   "cell_type": "code",
   "execution_count": null,
   "id": "e1c8c154",
   "metadata": {},
   "outputs": [
    {
     "name": "stderr",
     "output_type": "stream",
     "text": [
      "Setting telescope_location to value in known_telescopes for OVRO-LWA.\n",
      "The uvw_array does not match the expected values given the antenna positions. The largest discrepancy is 12.140232635605003 meters. This is a fairly common situation but might indicate an error in the antenna positions, the uvws or the phasing.\n"
     ]
    },
    {
     "name": "stdout",
     "output_type": "stream",
     "text": [
      "[[ 0.00000000e+00  0.00000000e+00  0.00000000e+00]\n",
      " [ 2.99998633e+03 -9.01249334e+00  8.76651982e-01]\n",
      " [ 0.00000000e+00  0.00000000e+00  0.00000000e+00]\n",
      " ...\n",
      " [ 0.00000000e+00  0.00000000e+00  0.00000000e+00]\n",
      " [ 0.00000000e+00  0.00000000e+00  0.00000000e+00]\n",
      " [ 0.00000000e+00  0.00000000e+00  0.00000000e+00]]\n"
     ]
    }
   ],
   "source": [
    "uv = pyuvdata.UVData()\n",
    "uv.read(\"/lustre/cosmopipe/2025-06-13/20250613_070132_55MHz.ms\")  # Choose an arbitrary data file for reference\n",
    "\n",
    "# Set antenna positions\n",
    "antpos = np.zeros_like(uv.telescope.antenna_positions)\n",
    "antpos[1, 0] = 3000  # Baseline length\n",
    "antpos_ecef = pyuvdata.utils.ECEF_from_ENU(antpos, center_loc=uv.telescope.location)\n",
    "telescope_ecef_xyz = Quantity(uv.telescope.location.geocentric).to_value(\"m\")\n",
    "uv.telescope.antenna_positions  = antpos_ecef - telescope_ecef_xyz\n",
    "\n",
    "freq_hz = 50e6\n",
    "channel_width = 2e3\n",
    "total_time_interval_s = 10\n",
    "total_freq_interval_hz = 200e3\n",
    "integration_time = 0.1\n",
    "time_array_s = np.arange(-total_time_interval_s/2, total_time_interval_s/2, integration_time)\n",
    "uv.freq_array = np.arange(freq_hz-total_freq_interval_hz/2, freq_hz+total_freq_interval_hz/2, channel_width)\n",
    "uv.Nfreqs = len(uv.freq_array)\n",
    "uv.time_array = np.mean(uv.time_array) + time_array_s/86400\n",
    "uv.Ntimes = len(time_array_s)\n",
    "uv.Nbls = 1\n",
    "uv.Nblts = uv.Ntimes\n",
    "uv.Npols = 1\n",
    "uv.Nants_data = 2\n",
    "uv.Nspws = 1\n",
    "uv.flex_spw_id_array = np.full(uv.Nfreqs, np.mean(uv.spw_array), dtype=int)\n",
    "uv.ant_1_array = np.zeros(uv.Nblts, dtype=int)\n",
    "uv.ant_2_array = np.ones(uv.Nblts, dtype=int)\n",
    "uv.channel_width = np.full(uv.Nfreqs, channel_width)\n",
    "uv.integration_time = np.full(uv.Nblts, integration_time)\n",
    "uv.baseline_array = np.full(uv.Nblts, 2048 + 2**16)\n",
    "uv.data_array = np.zeros((uv.Nblts, uv.Nfreqs, uv.Npols), dtype=complex)\n",
    "uv.flag_array = np.zeros((uv.Nblts, uv.Nfreqs, uv.Npols), dtype=bool)\n",
    "uv.nsample_array = np.ones((uv.Nblts, uv.Nfreqs, uv.Npols), dtype=float)\n",
    "uv.polarization_array = np.array([-5])\n",
    "uv.set_lsts_from_time_array()\n",
    "uv.phase_center_app_ra = uv.phase_center_app_ra[:uv.Nblts]\n",
    "uv.phase_center_app_dec = uv.phase_center_app_dec[:uv.Nblts]\n",
    "uv.phase_center_frame_pa = uv.phase_center_frame_pa[:uv.Nblts]\n",
    "uv.phase_center_id_array = uv.phase_center_id_array[:uv.Nblts]\n",
    "uv.scan_number_array = None\n",
    "uv.uvw_array = np.zeros((uv.Nblts, 3), dtype=float)\n",
    "uv.phase_to_time(np.mean(uv.time_array))\n",
    "# Redefine uvws after phasing\n",
    "uv.set_uvws_from_antenna_positions()\n",
    "#uv.uvw_array = np.zeros((uv.Nblts, 3), dtype=float)\n",
    "#uv.uvw_array[:, 0] = 3e3\n",
    "\n",
    "beam = pyuvdata.UVBeam()\n",
    "beam.read(\"/lustre/rbyrne/LWA_10to100_MROsoil_efields.fits\")\n",
    "beam.select(feeds=\"e\")\n",
    "beam.peak_normalize()\n",
    "beam_use_freq = 50e6\n",
    "use_freq_ind = np.where(beam.freq_array == beam_use_freq)[0]\n",
    "beam.data_array[:, :, :, :, :] = beam.data_array[:, :, use_freq_ind, :, :]  # Make the beam frequency-invariant\n",
    "beam_list = pyuvsim.BeamList(beam_list=[beam])\n",
    "\n",
    "ra_offset_vals_deg = np.linspace(-60, 60, num=11)\n",
    "dec_offset_vals_deg = np.linspace(-52, 52, num=11)\n",
    "ra_vals_expanded, dec_vals_expanded = np.meshgrid(ra_offset_vals_deg, dec_offset_vals_deg)\n",
    "ra_offset_vals_flattened = ra_vals_expanded.flatten()\n",
    "dec_offset_vals_flattened = dec_vals_expanded.flatten()\n",
    "source_coords = []\n",
    "for ind in range(len(ra_offset_vals_flattened)):\n",
    "    new_coords = astropy.coordinates.SkyCoord([astropy.coordinates.ICRS(\n",
    "        ra=np.mean(uv.lst_array)*astropy.units.rad + ra_offset_vals_flattened[ind]*astropy.units.deg, \n",
    "        dec=uv.telescope.location.lat + dec_offset_vals_flattened[ind]*astropy.units.deg\n",
    "    )])\n",
    "    source_coords.append(new_coords)"
   ]
  },
  {
   "cell_type": "code",
   "execution_count": 78,
   "id": "521b67df",
   "metadata": {},
   "outputs": [
    {
     "data": {
      "text/plain": [
       "array([[[0.+0.j],\n",
       "        [0.+0.j],\n",
       "        [0.+0.j],\n",
       "        ...,\n",
       "        [0.+0.j],\n",
       "        [0.+0.j],\n",
       "        [0.+0.j]],\n",
       "\n",
       "       [[0.+0.j],\n",
       "        [0.+0.j],\n",
       "        [0.+0.j],\n",
       "        ...,\n",
       "        [0.+0.j],\n",
       "        [0.+0.j],\n",
       "        [0.+0.j]],\n",
       "\n",
       "       [[0.+0.j],\n",
       "        [0.+0.j],\n",
       "        [0.+0.j],\n",
       "        ...,\n",
       "        [0.+0.j],\n",
       "        [0.+0.j],\n",
       "        [0.+0.j]],\n",
       "\n",
       "       ...,\n",
       "\n",
       "       [[0.+0.j],\n",
       "        [0.+0.j],\n",
       "        [0.+0.j],\n",
       "        ...,\n",
       "        [0.+0.j],\n",
       "        [0.+0.j],\n",
       "        [0.+0.j]],\n",
       "\n",
       "       [[0.+0.j],\n",
       "        [0.+0.j],\n",
       "        [0.+0.j],\n",
       "        ...,\n",
       "        [0.+0.j],\n",
       "        [0.+0.j],\n",
       "        [0.+0.j]],\n",
       "\n",
       "       [[0.+0.j],\n",
       "        [0.+0.j],\n",
       "        [0.+0.j],\n",
       "        ...,\n",
       "        [0.+0.j],\n",
       "        [0.+0.j],\n",
       "        [0.+0.j]]])"
      ]
     },
     "execution_count": 78,
     "metadata": {},
     "output_type": "execute_result"
    }
   ],
   "source": [
    "uv.data_array"
   ]
  },
  {
   "cell_type": "code",
   "execution_count": 44,
   "id": "8936cdc0",
   "metadata": {},
   "outputs": [
    {
     "name": "stdout",
     "output_type": "stream",
     "text": [
      "4.34505325569384 rad\n",
      "0.649957 rad\n"
     ]
    }
   ],
   "source": [
    "zenith_ra = np.mean(uv.lst_array)*astropy.units.rad\n",
    "print(zenith_ra)\n",
    "zenith_dec = uv.telescope.location.lat\n",
    "print(zenith_dec.to(astropy.units.rad))"
   ]
  },
  {
   "cell_type": "code",
   "execution_count": 45,
   "id": "25925d9e",
   "metadata": {},
   "outputs": [
    {
     "name": "stdout",
     "output_type": "stream",
     "text": [
      "<SkyCoord (ICRS): (ra, dec) in deg\n",
      "    [(188.95321331, -14.76022273)]>\n"
     ]
    }
   ],
   "source": [
    "print(source_coords[0])"
   ]
  },
  {
   "cell_type": "code",
   "execution_count": 46,
   "id": "dd7f31fa",
   "metadata": {},
   "outputs": [
    {
     "data": {
      "text/plain": [
       "3.297855704482673"
      ]
     },
     "execution_count": 46,
     "metadata": {},
     "output_type": "execute_result"
    }
   ],
   "source": [
    "np.deg2rad(188.95321331)"
   ]
  },
  {
   "cell_type": "code",
   "execution_count": 47,
   "id": "5339e54f",
   "metadata": {},
   "outputs": [
    {
     "data": {
      "text/plain": [
       "-0.25761448496620604"
      ]
     },
     "execution_count": 47,
     "metadata": {},
     "output_type": "execute_result"
    }
   ],
   "source": [
    "np.deg2rad(-14.76022273)"
   ]
  },
  {
   "cell_type": "code",
   "execution_count": 48,
   "id": "d034bd36",
   "metadata": {},
   "outputs": [
    {
     "data": {
      "text/plain": [
       "-60.0"
      ]
     },
     "execution_count": 48,
     "metadata": {},
     "output_type": "execute_result"
    }
   ],
   "source": [
    "ra_offset_vals_flattened[0]"
   ]
  },
  {
   "cell_type": "code",
   "execution_count": 49,
   "id": "bef284a8",
   "metadata": {},
   "outputs": [
    {
     "data": {
      "text/plain": [
       "-52.0"
      ]
     },
     "execution_count": 49,
     "metadata": {},
     "output_type": "execute_result"
    }
   ],
   "source": [
    "dec_offset_vals_flattened[0]"
   ]
  },
  {
   "cell_type": "code",
   "execution_count": 50,
   "id": "cd59d032",
   "metadata": {},
   "outputs": [],
   "source": [
    "decorr_sim = pyuvdata.UVData()\n",
    "decorr_sim.read(\"/lustre/rbyrne/decorr_sims/source001.uvfits\")"
   ]
  },
  {
   "cell_type": "code",
   "execution_count": 51,
   "id": "9107dbe1",
   "metadata": {},
   "outputs": [
    {
     "data": {
      "text/plain": [
       "(100, 100, 1)"
      ]
     },
     "execution_count": 51,
     "metadata": {},
     "output_type": "execute_result"
    }
   ],
   "source": [
    "np.shape(decorr_sim.data_array)"
   ]
  },
  {
   "cell_type": "code",
   "execution_count": 52,
   "id": "09c1ed32",
   "metadata": {},
   "outputs": [
    {
     "data": {
      "text/plain": [
       "100"
      ]
     },
     "execution_count": 52,
     "metadata": {},
     "output_type": "execute_result"
    }
   ],
   "source": [
    "len(decorr_sim.time_array)"
   ]
  },
  {
   "cell_type": "code",
   "execution_count": 53,
   "id": "4feab5d8",
   "metadata": {},
   "outputs": [
    {
     "data": {
      "text/plain": [
       "100"
      ]
     },
     "execution_count": 53,
     "metadata": {},
     "output_type": "execute_result"
    }
   ],
   "source": [
    "len(decorr_sim.freq_array)"
   ]
  },
  {
   "cell_type": "code",
   "execution_count": 54,
   "id": "a0f48934",
   "metadata": {},
   "outputs": [],
   "source": [
    "decorr_sim.unproject_phase()"
   ]
  },
  {
   "cell_type": "code",
   "execution_count": 55,
   "id": "89f3c309",
   "metadata": {},
   "outputs": [
    {
     "data": {
      "text/plain": [
       "array([[3.45068195e+01, 6.26418491e+02, 5.11193276e-01],\n",
       "       [3.45068195e+01, 6.26418491e+02, 5.11193276e-01],\n",
       "       [3.45068195e+01, 6.26418491e+02, 5.11193276e-01],\n",
       "       [3.45068195e+01, 6.26418491e+02, 5.11193276e-01],\n",
       "       [3.45068195e+01, 6.26418491e+02, 5.11193276e-01],\n",
       "       [3.45068195e+01, 6.26418491e+02, 5.11193276e-01],\n",
       "       [3.45068195e+01, 6.26418491e+02, 5.11193276e-01],\n",
       "       [3.45068195e+01, 6.26418491e+02, 5.11193276e-01],\n",
       "       [3.45068195e+01, 6.26418491e+02, 5.11193276e-01],\n",
       "       [3.45068195e+01, 6.26418491e+02, 5.11193276e-01],\n",
       "       [3.45068195e+01, 6.26418491e+02, 5.11193276e-01],\n",
       "       [3.45068195e+01, 6.26418491e+02, 5.11193276e-01],\n",
       "       [3.45068195e+01, 6.26418491e+02, 5.11193276e-01],\n",
       "       [3.45068195e+01, 6.26418491e+02, 5.11193276e-01],\n",
       "       [3.45068195e+01, 6.26418491e+02, 5.11193276e-01],\n",
       "       [3.45068195e+01, 6.26418491e+02, 5.11193276e-01],\n",
       "       [3.45068195e+01, 6.26418491e+02, 5.11193276e-01],\n",
       "       [3.45068195e+01, 6.26418491e+02, 5.11193276e-01],\n",
       "       [3.45068195e+01, 6.26418491e+02, 5.11193276e-01],\n",
       "       [3.45068195e+01, 6.26418491e+02, 5.11193276e-01],\n",
       "       [3.45068195e+01, 6.26418491e+02, 5.11193276e-01],\n",
       "       [3.45068195e+01, 6.26418491e+02, 5.11193276e-01],\n",
       "       [3.45068195e+01, 6.26418491e+02, 5.11193276e-01],\n",
       "       [3.45068195e+01, 6.26418491e+02, 5.11193276e-01],\n",
       "       [3.45068195e+01, 6.26418491e+02, 5.11193276e-01],\n",
       "       [3.45068195e+01, 6.26418491e+02, 5.11193276e-01],\n",
       "       [3.45068195e+01, 6.26418491e+02, 5.11193276e-01],\n",
       "       [3.45068195e+01, 6.26418491e+02, 5.11193276e-01],\n",
       "       [3.45068195e+01, 6.26418491e+02, 5.11193276e-01],\n",
       "       [3.45068195e+01, 6.26418491e+02, 5.11193276e-01],\n",
       "       [3.45068195e+01, 6.26418491e+02, 5.11193276e-01],\n",
       "       [3.45068195e+01, 6.26418491e+02, 5.11193276e-01],\n",
       "       [3.45068195e+01, 6.26418491e+02, 5.11193276e-01],\n",
       "       [3.45068195e+01, 6.26418491e+02, 5.11193276e-01],\n",
       "       [3.45068195e+01, 6.26418491e+02, 5.11193276e-01],\n",
       "       [3.45068195e+01, 6.26418491e+02, 5.11193276e-01],\n",
       "       [3.45068195e+01, 6.26418491e+02, 5.11193276e-01],\n",
       "       [3.45068195e+01, 6.26418491e+02, 5.11193276e-01],\n",
       "       [3.45068195e+01, 6.26418491e+02, 5.11193276e-01],\n",
       "       [3.45068195e+01, 6.26418491e+02, 5.11193276e-01],\n",
       "       [3.45068195e+01, 6.26418491e+02, 5.11193276e-01],\n",
       "       [3.45068195e+01, 6.26418491e+02, 5.11193276e-01],\n",
       "       [3.45068195e+01, 6.26418491e+02, 5.11193276e-01],\n",
       "       [3.45068195e+01, 6.26418491e+02, 5.11193276e-01],\n",
       "       [3.45068195e+01, 6.26418491e+02, 5.11193276e-01],\n",
       "       [3.45068195e+01, 6.26418491e+02, 5.11193276e-01],\n",
       "       [3.45068195e+01, 6.26418491e+02, 5.11193276e-01],\n",
       "       [3.45068195e+01, 6.26418491e+02, 5.11193276e-01],\n",
       "       [3.45068195e+01, 6.26418491e+02, 5.11193276e-01],\n",
       "       [3.45068195e+01, 6.26418491e+02, 5.11193276e-01],\n",
       "       [3.45068195e+01, 6.26418491e+02, 5.11193276e-01],\n",
       "       [3.45068195e+01, 6.26418491e+02, 5.11193276e-01],\n",
       "       [3.45068195e+01, 6.26418491e+02, 5.11193276e-01],\n",
       "       [3.45068195e+01, 6.26418491e+02, 5.11193276e-01],\n",
       "       [3.45068195e+01, 6.26418491e+02, 5.11193276e-01],\n",
       "       [3.45068195e+01, 6.26418491e+02, 5.11193276e-01],\n",
       "       [3.45068195e+01, 6.26418491e+02, 5.11193276e-01],\n",
       "       [3.45068195e+01, 6.26418491e+02, 5.11193276e-01],\n",
       "       [3.45068195e+01, 6.26418491e+02, 5.11193276e-01],\n",
       "       [3.45068195e+01, 6.26418491e+02, 5.11193276e-01],\n",
       "       [3.45068195e+01, 6.26418491e+02, 5.11193276e-01],\n",
       "       [3.45068195e+01, 6.26418491e+02, 5.11193276e-01],\n",
       "       [3.45068195e+01, 6.26418491e+02, 5.11193276e-01],\n",
       "       [3.45068195e+01, 6.26418491e+02, 5.11193276e-01],\n",
       "       [3.45068195e+01, 6.26418491e+02, 5.11193276e-01],\n",
       "       [3.45068195e+01, 6.26418491e+02, 5.11193276e-01],\n",
       "       [3.45068195e+01, 6.26418491e+02, 5.11193276e-01],\n",
       "       [3.45068195e+01, 6.26418491e+02, 5.11193276e-01],\n",
       "       [3.45068195e+01, 6.26418491e+02, 5.11193276e-01],\n",
       "       [3.45068195e+01, 6.26418491e+02, 5.11193276e-01],\n",
       "       [3.45068195e+01, 6.26418491e+02, 5.11193276e-01],\n",
       "       [3.45068195e+01, 6.26418491e+02, 5.11193276e-01],\n",
       "       [3.45068195e+01, 6.26418491e+02, 5.11193276e-01],\n",
       "       [3.45068195e+01, 6.26418491e+02, 5.11193276e-01],\n",
       "       [3.45068195e+01, 6.26418491e+02, 5.11193276e-01],\n",
       "       [3.45068195e+01, 6.26418491e+02, 5.11193276e-01],\n",
       "       [3.45068195e+01, 6.26418491e+02, 5.11193276e-01],\n",
       "       [3.45068195e+01, 6.26418491e+02, 5.11193276e-01],\n",
       "       [3.45068195e+01, 6.26418491e+02, 5.11193276e-01],\n",
       "       [3.45068195e+01, 6.26418491e+02, 5.11193276e-01],\n",
       "       [3.45068195e+01, 6.26418491e+02, 5.11193276e-01],\n",
       "       [3.45068195e+01, 6.26418491e+02, 5.11193276e-01],\n",
       "       [3.45068195e+01, 6.26418491e+02, 5.11193276e-01],\n",
       "       [3.45068195e+01, 6.26418491e+02, 5.11193276e-01],\n",
       "       [3.45068195e+01, 6.26418491e+02, 5.11193276e-01],\n",
       "       [3.45068195e+01, 6.26418491e+02, 5.11193276e-01],\n",
       "       [3.45068195e+01, 6.26418491e+02, 5.11193276e-01],\n",
       "       [3.45068195e+01, 6.26418491e+02, 5.11193276e-01],\n",
       "       [3.45068195e+01, 6.26418491e+02, 5.11193276e-01],\n",
       "       [3.45068195e+01, 6.26418491e+02, 5.11193276e-01],\n",
       "       [3.45068195e+01, 6.26418491e+02, 5.11193276e-01],\n",
       "       [3.45068195e+01, 6.26418491e+02, 5.11193276e-01],\n",
       "       [3.45068195e+01, 6.26418491e+02, 5.11193276e-01],\n",
       "       [3.45068195e+01, 6.26418491e+02, 5.11193276e-01],\n",
       "       [3.45068195e+01, 6.26418491e+02, 5.11193276e-01],\n",
       "       [3.45068195e+01, 6.26418491e+02, 5.11193276e-01],\n",
       "       [3.45068195e+01, 6.26418491e+02, 5.11193276e-01],\n",
       "       [3.45068195e+01, 6.26418491e+02, 5.11193276e-01],\n",
       "       [3.45068195e+01, 6.26418491e+02, 5.11193276e-01],\n",
       "       [3.45068195e+01, 6.26418491e+02, 5.11193276e-01]])"
      ]
     },
     "execution_count": 55,
     "metadata": {},
     "output_type": "execute_result"
    }
   ],
   "source": [
    "decorr_sim.uvw_array"
   ]
  },
  {
   "cell_type": "code",
   "execution_count": 56,
   "id": "6de83919",
   "metadata": {},
   "outputs": [
    {
     "name": "stderr",
     "output_type": "stream",
     "text": [
      "The uvw_array does not match the expected values given the antenna positions. The largest discrepancy is 2963.882518880583 meters. This is a fairly common situation but might indicate an error in the antenna positions, the uvws or the phasing.\n",
      "The uvw_array does not match the expected values given the antenna positions. The largest discrepancy is 2963.882518880583 meters. This is a fairly common situation but might indicate an error in the antenna positions, the uvws or the phasing.\n"
     ]
    },
    {
     "name": "stdout",
     "output_type": "stream",
     "text": [
      "Nbls: 1\n",
      "Ntimes: 100\n",
      "Nfreqs: 1\n",
      "Nsrcs: 1\n",
      "Tasks:  100.0\n",
      "1.00% completed. 0:00:01.758837  elapsed. 0:02:54.124861 remaining. \n",
      "\n",
      "2.00% completed. 0:00:02.537499  elapsed. 0:02:04.337460 remaining. \n",
      "\n",
      "3.00% completed. 0:00:03.342454  elapsed. 0:01:48.072686 remaining. \n",
      "\n",
      "4.00% completed. 0:00:04.149161  elapsed. 0:01:39.579872 remaining. \n",
      "\n",
      "5.00% completed. 0:00:05.076004  elapsed. 0:01:36.444077 remaining. \n",
      "\n",
      "6.00% completed. 0:00:06.109367  elapsed. 0:01:35.713418 remaining. \n",
      "\n",
      "7.00% completed. 0:00:07.117932  elapsed. 0:01:34.566806 remaining. \n",
      "\n",
      "8.00% completed. 0:00:07.963627  elapsed. 0:01:31.581709 remaining. \n",
      "\n",
      "9.00% completed. 0:00:08.947699  elapsed. 0:01:30.471177 remaining. \n",
      "\n",
      "10.00% completed. 0:00:09.904865  elapsed. 0:01:29.143787 remaining. \n",
      "\n",
      "11.00% completed. 0:00:10.739686  elapsed. 0:01:26.893825 remaining. \n",
      "\n",
      "12.00% completed. 0:00:11.577524  elapsed. 0:01:24.901844 remaining. \n",
      "\n",
      "13.00% completed. 0:00:12.421147  elapsed. 0:01:23.126140 remaining. \n",
      "\n",
      "14.00% completed. 0:00:13.219332  elapsed. 0:01:21.204471 remaining. \n",
      "\n",
      "15.00% completed. 0:00:14.063812  elapsed. 0:01:19.694933 remaining. \n",
      "\n",
      "16.00% completed. 0:00:15.088117  elapsed. 0:01:19.212612 remaining. \n",
      "\n",
      "17.00% completed. 0:00:16.179085  elapsed. 0:01:18.992002 remaining. \n",
      "\n",
      "18.00% completed. 0:00:16.991540  elapsed. 0:01:17.405904 remaining. \n",
      "\n",
      "19.00% completed. 0:00:17.810208  elapsed. 0:01:15.927728 remaining. \n",
      "\n",
      "20.00% completed. 0:00:18.669397  elapsed. 0:01:14.677589 remaining. \n",
      "\n",
      "21.00% completed. 0:00:19.618160  elapsed. 0:01:13.801650 remaining. \n",
      "\n",
      "22.00% completed. 0:00:20.652067  elapsed. 0:01:13.220964 remaining. \n",
      "\n",
      "23.00% completed. 0:00:21.502174  elapsed. 0:01:11.985539 remaining. \n",
      "\n",
      "24.00% completed. 0:00:22.356712  elapsed. 0:01:10.796256 remaining. \n",
      "\n",
      "25.00% completed. 0:00:23.382855  elapsed. 0:01:10.148566 remaining. \n",
      "\n",
      "26.00% completed. 0:00:24.159517  elapsed. 0:01:08.761702 remaining. \n",
      "\n",
      "27.00% completed. 0:00:24.922440  elapsed. 0:01:07.382893 remaining. \n",
      "\n",
      "28.00% completed. 0:00:25.705255  elapsed. 0:01:06.099227 remaining. \n",
      "\n",
      "29.00% completed. 0:00:26.457719  elapsed. 0:01:04.775795 remaining. \n",
      "\n",
      "30.00% completed. 0:00:27.251847  elapsed. 0:01:03.587644 remaining. \n",
      "\n",
      "31.00% completed. 0:00:28.120044  elapsed. 0:01:02.589774 remaining. \n",
      "\n",
      "32.00% completed. 0:00:28.937318  elapsed. 0:01:01.491800 remaining. \n",
      "\n",
      "33.00% completed. 0:00:29.647822  elapsed. 0:01:00.194063 remaining. \n",
      "\n",
      "34.00% completed. 0:00:30.363220  elapsed. 0:00:58.940369 remaining. \n",
      "\n",
      "35.00% completed. 0:00:31.081722  elapsed. 0:00:57.723198 remaining. \n",
      "\n",
      "36.00% completed. 0:00:31.831999  elapsed. 0:00:56.590221 remaining. \n",
      "\n",
      "37.00% completed. 0:00:32.663707  elapsed. 0:00:55.616581 remaining. \n",
      "\n",
      "38.00% completed. 0:00:33.533174  elapsed. 0:00:54.712020 remaining. \n",
      "\n",
      "39.00% completed. 0:00:34.329176  elapsed. 0:00:53.694352 remaining. \n",
      "\n",
      "40.00% completed. 0:00:35.067371  elapsed. 0:00:52.601056 remaining. \n",
      "\n",
      "41.00% completed. 0:00:35.790999  elapsed. 0:00:51.504121 remaining. \n",
      "\n",
      "42.00% completed. 0:00:36.504222  elapsed. 0:00:50.410592 remaining. \n",
      "\n",
      "43.00% completed. 0:00:37.307415  elapsed. 0:00:49.454015 remaining. \n",
      "\n",
      "44.00% completed. 0:00:38.118645  elapsed. 0:00:48.514639 remaining. \n",
      "\n",
      "45.00% completed. 0:00:38.961165  elapsed. 0:00:47.619201 remaining. \n",
      "\n",
      "46.00% completed. 0:00:39.802128  elapsed. 0:00:46.724238 remaining. \n",
      "\n",
      "47.00% completed. 0:00:40.628815  elapsed. 0:00:45.815472 remaining. \n",
      "\n",
      "48.00% completed. 0:00:41.535603  elapsed. 0:00:44.996903 remaining. \n",
      "\n",
      "49.00% completed. 0:00:42.477286  elapsed. 0:00:44.211053 remaining. \n",
      "\n",
      "50.00% completed. 0:00:43.289359  elapsed. 0:00:43.289359 remaining. \n",
      "\n",
      "51.00% completed. 0:00:44.101555  elapsed. 0:00:42.372082 remaining. \n",
      "\n",
      "52.00% completed. 0:00:45.087015  elapsed. 0:00:41.618783 remaining. \n",
      "\n",
      "53.00% completed. 0:00:45.875442  elapsed. 0:00:40.681996 remaining. \n",
      "\n",
      "54.00% completed. 0:00:46.704131  elapsed. 0:00:39.785001 remaining. \n",
      "\n",
      "55.00% completed. 0:00:47.439118  elapsed. 0:00:38.813824 remaining. \n",
      "\n",
      "56.00% completed. 0:00:48.174629  elapsed. 0:00:37.851495 remaining. \n",
      "\n",
      "57.00% completed. 0:00:48.895802  elapsed. 0:00:36.886307 remaining. \n",
      "\n",
      "58.00% completed. 0:00:49.649448  elapsed. 0:00:35.953049 remaining. \n",
      "\n",
      "59.00% completed. 0:00:50.415899  elapsed. 0:00:35.034777 remaining. \n",
      "\n",
      "60.00% completed. 0:00:51.178753  elapsed. 0:00:34.119168 remaining. \n",
      "\n",
      "61.00% completed. 0:00:51.979524  elapsed. 0:00:33.232811 remaining. \n",
      "\n",
      "62.00% completed. 0:00:52.704496  elapsed. 0:00:32.302756 remaining. \n",
      "\n",
      "63.00% completed. 0:00:53.432362  elapsed. 0:00:31.380911 remaining. \n",
      "\n",
      "64.00% completed. 0:00:54.187963  elapsed. 0:00:30.480729 remaining. \n",
      "\n",
      "65.00% completed. 0:00:54.944778  elapsed. 0:00:29.585650 remaining. \n",
      "\n",
      "66.00% completed. 0:00:55.690917  elapsed. 0:00:28.689260 remaining. \n",
      "\n",
      "67.00% completed. 0:00:56.425148  elapsed. 0:00:27.791491 remaining. \n",
      "\n",
      "68.00% completed. 0:00:57.197535  elapsed. 0:00:26.916487 remaining. \n",
      "\n",
      "69.00% completed. 0:00:58.293916  elapsed. 0:00:26.190020 remaining. \n",
      "\n",
      "70.00% completed. 0:00:59.079406  elapsed. 0:00:25.319745 remaining. \n",
      "\n",
      "71.00% completed. 0:00:59.867796  elapsed. 0:00:24.453044 remaining. \n",
      "\n",
      "72.00% completed. 0:01:00.685969  elapsed. 0:00:23.600099 remaining. \n",
      "\n",
      "73.00% completed. 0:01:01.441111  elapsed. 0:00:22.724795 remaining. \n",
      "\n",
      "74.00% completed. 0:01:02.208983  elapsed. 0:00:21.857210 remaining. \n",
      "\n",
      "75.00% completed. 0:01:02.990168  elapsed. 0:00:20.996723 remaining. \n",
      "\n",
      "76.00% completed. 0:01:03.864733  elapsed. 0:00:20.167810 remaining. \n",
      "\n",
      "77.00% completed. 0:01:04.722734  elapsed. 0:00:19.332765 remaining. \n",
      "\n",
      "78.00% completed. 0:01:05.479199  elapsed. 0:00:18.468492 remaining. \n",
      "\n",
      "79.00% completed. 0:01:06.206092  elapsed. 0:00:17.599088 remaining. \n",
      "\n",
      "80.00% completed. 0:01:06.924587  elapsed. 0:00:16.731147 remaining. \n",
      "\n",
      "81.00% completed. 0:01:07.687511  elapsed. 0:00:15.877317 remaining. \n",
      "\n",
      "82.00% completed. 0:01:08.451585  elapsed. 0:00:15.025958 remaining. \n",
      "\n",
      "83.00% completed. 0:01:09.198229  elapsed. 0:00:14.173131 remaining. \n",
      "\n",
      "84.00% completed. 0:01:09.916625  elapsed. 0:00:13.317452 remaining. \n",
      "\n",
      "85.00% completed. 0:01:10.646324  elapsed. 0:00:12.466998 remaining. \n",
      "\n",
      "86.00% completed. 0:01:11.366149  elapsed. 0:00:11.617745 remaining. \n",
      "\n",
      "87.00% completed. 0:01:12.130129  elapsed. 0:00:10.778065 remaining. \n",
      "\n",
      "88.00% completed. 0:01:12.896912  elapsed. 0:00:09.940488 remaining. \n",
      "\n",
      "89.00% completed. 0:01:13.651425  elapsed. 0:00:09.102985 remaining. \n",
      "\n",
      "90.00% completed. 0:01:14.374998  elapsed. 0:00:08.263889 remaining. \n",
      "\n",
      "91.00% completed. 0:01:15.085494  elapsed. 0:00:07.426038 remaining. \n",
      "\n",
      "92.00% completed. 0:01:15.793528  elapsed. 0:00:06.590742 remaining. \n",
      "\n",
      "93.00% completed. 0:01:16.495206  elapsed. 0:00:05.757704 remaining. \n",
      "\n",
      "94.00% completed. 0:01:17.222176  elapsed. 0:00:04.929075 remaining. \n",
      "\n",
      "95.00% completed. 0:01:18.004205  elapsed. 0:00:04.105484 remaining. \n",
      "\n",
      "96.00% completed. 0:01:18.821719  elapsed. 0:00:03.284238 remaining. \n",
      "\n",
      "97.00% completed. 0:01:19.642530  elapsed. 0:00:02.463171 remaining. \n",
      "\n",
      "98.00% completed. 0:01:20.389803  elapsed. 0:00:01.640608 remaining. \n",
      "\n",
      "99.00% completed. 0:01:21.131254  elapsed. 0:00:00.819508 remaining. \n",
      "\n",
      "100.00% completed. 0:01:21.132035  elapsed. 0:00:00 remaining. \n",
      "\n",
      "Calculations Complete.\n"
     ]
    },
    {
     "name": "stderr",
     "output_type": "stream",
     "text": [
      "The parameter `blt_order` could not be identified for input_uv  so the ordering cannot be restored.The output UVData object will have (time, baseline) ordering.\n",
      "Recalculating uvw_array without adjusting visibility phases -- this can introduce significant errors if used incorrectly.\n"
     ]
    }
   ],
   "source": [
    "cat = pyradiosky.SkyModel(\n",
    "    skycoord = source_coords[ind],\n",
    "    name = [\"source1\"],\n",
    "    spectral_type = \"spectral_index\",\n",
    "    spectral_index = [0.],\n",
    "    reference_frequency = ([np.mean(uv.freq_array)])*astropy.units.Hz,\n",
    "    stokes = np.array([1,0,0,0]).reshape(4,1,1) * astropy.units.Jy,\n",
    ")\n",
    "uv_1freq = uv.select(frequencies = np.min(uv.freq_array), inplace=False)\n",
    "output_uv = pyuvsim.uvsim.run_uvdata_uvsim(\n",
    "    input_uv=uv_1freq,\n",
    "    beam_list=beam_list,\n",
    "    beam_dict=None,  # Same beam for all ants\n",
    "    catalog=cat,\n",
    "    quiet=False,\n",
    ")"
   ]
  },
  {
   "cell_type": "code",
   "execution_count": 57,
   "id": "9b725527",
   "metadata": {},
   "outputs": [
    {
     "data": {
      "text/plain": [
       "array([[3.63908090e+01, 6.26311859e+02, 5.21128349e-01],\n",
       "       [3.63880476e+01, 6.26312020e+02, 5.20927213e-01],\n",
       "       [3.63852874e+01, 6.26312180e+02, 5.20726173e-01],\n",
       "       [3.63825261e+01, 6.26312341e+02, 5.20525069e-01],\n",
       "       [3.63797658e+01, 6.26312501e+02, 5.20324061e-01],\n",
       "       [3.63770045e+01, 6.26312662e+02, 5.20122989e-01],\n",
       "       [3.63742443e+01, 6.26312822e+02, 5.19922014e-01],\n",
       "       [3.63714829e+01, 6.26312983e+02, 5.19720973e-01],\n",
       "       [3.63687227e+01, 6.26313143e+02, 5.19520030e-01],\n",
       "       [3.63659613e+01, 6.26313304e+02, 5.19319022e-01],\n",
       "       [3.63632011e+01, 6.26313464e+02, 5.19118110e-01],\n",
       "       [3.63604397e+01, 6.26313625e+02, 5.18917134e-01],\n",
       "       [3.63576795e+01, 6.26313785e+02, 5.18716255e-01],\n",
       "       [3.63549181e+01, 6.26313946e+02, 5.18515311e-01],\n",
       "       [3.63521568e+01, 6.26314106e+02, 5.18314383e-01],\n",
       "       [3.63493965e+01, 6.26314266e+02, 5.18113551e-01],\n",
       "       [3.63466352e+01, 6.26314427e+02, 5.17912655e-01],\n",
       "       [3.63438749e+01, 6.26314587e+02, 5.17711856e-01],\n",
       "       [3.63411135e+01, 6.26314747e+02, 5.17510992e-01],\n",
       "       [3.63383533e+01, 6.26314908e+02, 5.17310225e-01],\n",
       "       [3.63355919e+01, 6.26315068e+02, 5.17109393e-01],\n",
       "       [3.63328317e+01, 6.26315228e+02, 5.16908658e-01],\n",
       "       [3.63300703e+01, 6.26315389e+02, 5.16707858e-01],\n",
       "       [3.63273100e+01, 6.26315549e+02, 5.16507155e-01],\n",
       "       [3.63245486e+01, 6.26315709e+02, 5.16306388e-01],\n",
       "       [3.63217884e+01, 6.26315870e+02, 5.16105717e-01],\n",
       "       [3.63190270e+01, 6.26316030e+02, 5.15904981e-01],\n",
       "       [3.63162667e+01, 6.26316190e+02, 5.15704342e-01],\n",
       "       [3.63135053e+01, 6.26316350e+02, 5.15503638e-01],\n",
       "       [3.63107451e+01, 6.26316511e+02, 5.15303032e-01],\n",
       "       [3.63079837e+01, 6.26316671e+02, 5.15102360e-01],\n",
       "       [3.63052234e+01, 6.26316831e+02, 5.14901785e-01],\n",
       "       [3.63024620e+01, 6.26316991e+02, 5.14701146e-01],\n",
       "       [3.62997017e+01, 6.26317151e+02, 5.14500603e-01],\n",
       "       [3.62969403e+01, 6.26317312e+02, 5.14299996e-01],\n",
       "       [3.62941800e+01, 6.26317472e+02, 5.14099485e-01],\n",
       "       [3.62914186e+01, 6.26317632e+02, 5.13898910e-01],\n",
       "       [3.62886583e+01, 6.26317792e+02, 5.13698431e-01],\n",
       "       [3.62858969e+01, 6.26317952e+02, 5.13497888e-01],\n",
       "       [3.62831366e+01, 6.26318112e+02, 5.13297441e-01],\n",
       "       [3.62803752e+01, 6.26318272e+02, 5.13096930e-01],\n",
       "       [3.62776149e+01, 6.26318432e+02, 5.12896515e-01],\n",
       "       [3.62748535e+01, 6.26318593e+02, 5.12696036e-01],\n",
       "       [3.62720932e+01, 6.26318753e+02, 5.12495654e-01],\n",
       "       [3.62693318e+01, 6.26318913e+02, 5.12295207e-01],\n",
       "       [3.62665715e+01, 6.26319073e+02, 5.12094856e-01],\n",
       "       [3.62638101e+01, 6.26319233e+02, 5.11894441e-01],\n",
       "       [3.62610498e+01, 6.26319393e+02, 5.11694123e-01],\n",
       "       [3.62582884e+01, 6.26319553e+02, 5.11493740e-01],\n",
       "       [3.62555280e+01, 6.26319713e+02, 5.11293454e-01],\n",
       "       [3.62527666e+01, 6.26319873e+02, 5.11093103e-01],\n",
       "       [3.62500052e+01, 6.26320033e+02, 5.10892768e-01],\n",
       "       [3.62472449e+01, 6.26320193e+02, 5.10692530e-01],\n",
       "       [3.62444834e+01, 6.26320353e+02, 5.10492227e-01],\n",
       "       [3.62417231e+01, 6.26320513e+02, 5.10292021e-01],\n",
       "       [3.62389617e+01, 6.26320672e+02, 5.10091750e-01],\n",
       "       [3.62362014e+01, 6.26320832e+02, 5.09891576e-01],\n",
       "       [3.62334399e+01, 6.26320992e+02, 5.09691337e-01],\n",
       "       [3.62306796e+01, 6.26321152e+02, 5.09491195e-01],\n",
       "       [3.62279181e+01, 6.26321312e+02, 5.09290989e-01],\n",
       "       [3.62251578e+01, 6.26321472e+02, 5.09090879e-01],\n",
       "       [3.62223964e+01, 6.26321632e+02, 5.08890704e-01],\n",
       "       [3.62196360e+01, 6.26321791e+02, 5.08690626e-01],\n",
       "       [3.62168746e+01, 6.26321951e+02, 5.08490484e-01],\n",
       "       [3.62141142e+01, 6.26322111e+02, 5.08290438e-01],\n",
       "       [3.62113528e+01, 6.26322271e+02, 5.08090328e-01],\n",
       "       [3.62085924e+01, 6.26322431e+02, 5.07890314e-01],\n",
       "       [3.62058310e+01, 6.26322590e+02, 5.07690235e-01],\n",
       "       [3.62030706e+01, 6.26322750e+02, 5.07490254e-01],\n",
       "       [3.62003092e+01, 6.26322910e+02, 5.07290207e-01],\n",
       "       [3.61975488e+01, 6.26323070e+02, 5.07090258e-01],\n",
       "       [3.61947873e+01, 6.26323229e+02, 5.06890243e-01],\n",
       "       [3.61920270e+01, 6.26323389e+02, 5.06690326e-01],\n",
       "       [3.61892655e+01, 6.26323549e+02, 5.06490344e-01],\n",
       "       [3.61865052e+01, 6.26323708e+02, 5.06290458e-01],\n",
       "       [3.61837437e+01, 6.26323868e+02, 5.06090508e-01],\n",
       "       [3.61809833e+01, 6.26324028e+02, 5.05890654e-01],\n",
       "       [3.61782219e+01, 6.26324187e+02, 5.05690736e-01],\n",
       "       [3.61754615e+01, 6.26324347e+02, 5.05490915e-01],\n",
       "       [3.61727000e+01, 6.26324507e+02, 5.05291029e-01],\n",
       "       [3.61699396e+01, 6.26324666e+02, 5.05091240e-01],\n",
       "       [3.61671781e+01, 6.26324826e+02, 5.04891386e-01],\n",
       "       [3.61644178e+01, 6.26324985e+02, 5.04691628e-01],\n",
       "       [3.61616563e+01, 6.26325145e+02, 5.04491807e-01],\n",
       "       [3.61588959e+01, 6.26325305e+02, 5.04292081e-01],\n",
       "       [3.61561344e+01, 6.26325464e+02, 5.04092291e-01],\n",
       "       [3.61533740e+01, 6.26325624e+02, 5.03892598e-01],\n",
       "       [3.61506125e+01, 6.26325783e+02, 5.03692841e-01],\n",
       "       [3.61478510e+01, 6.26325943e+02, 5.03493099e-01],\n",
       "       [3.61450907e+01, 6.26326102e+02, 5.03293454e-01],\n",
       "       [3.61423292e+01, 6.26326262e+02, 5.03093744e-01],\n",
       "       [3.61395688e+01, 6.26326421e+02, 5.02894131e-01],\n",
       "       [3.61368073e+01, 6.26326581e+02, 5.02694454e-01],\n",
       "       [3.61340469e+01, 6.26326740e+02, 5.02494872e-01],\n",
       "       [3.61312854e+01, 6.26326900e+02, 5.02295227e-01],\n",
       "       [3.61285250e+01, 6.26327059e+02, 5.02095678e-01],\n",
       "       [3.61257634e+01, 6.26327218e+02, 5.01896065e-01],\n",
       "       [3.61230030e+01, 6.26327378e+02, 5.01696548e-01],\n",
       "       [3.61202415e+01, 6.26327537e+02, 5.01496966e-01],\n",
       "       [3.61174811e+01, 6.26327697e+02, 5.01297482e-01]])"
      ]
     },
     "execution_count": 57,
     "metadata": {},
     "output_type": "execute_result"
    }
   ],
   "source": [
    "output_uv.uvw_array"
   ]
  },
  {
   "cell_type": "code",
   "execution_count": 58,
   "id": "9b9ca592",
   "metadata": {},
   "outputs": [
    {
     "data": {
      "text/plain": [
       "array([[3000.,    0.,    0.],\n",
       "       [3000.,    0.,    0.],\n",
       "       [3000.,    0.,    0.],\n",
       "       [3000.,    0.,    0.],\n",
       "       [3000.,    0.,    0.],\n",
       "       [3000.,    0.,    0.],\n",
       "       [3000.,    0.,    0.],\n",
       "       [3000.,    0.,    0.],\n",
       "       [3000.,    0.,    0.],\n",
       "       [3000.,    0.,    0.],\n",
       "       [3000.,    0.,    0.],\n",
       "       [3000.,    0.,    0.],\n",
       "       [3000.,    0.,    0.],\n",
       "       [3000.,    0.,    0.],\n",
       "       [3000.,    0.,    0.],\n",
       "       [3000.,    0.,    0.],\n",
       "       [3000.,    0.,    0.],\n",
       "       [3000.,    0.,    0.],\n",
       "       [3000.,    0.,    0.],\n",
       "       [3000.,    0.,    0.],\n",
       "       [3000.,    0.,    0.],\n",
       "       [3000.,    0.,    0.],\n",
       "       [3000.,    0.,    0.],\n",
       "       [3000.,    0.,    0.],\n",
       "       [3000.,    0.,    0.],\n",
       "       [3000.,    0.,    0.],\n",
       "       [3000.,    0.,    0.],\n",
       "       [3000.,    0.,    0.],\n",
       "       [3000.,    0.,    0.],\n",
       "       [3000.,    0.,    0.],\n",
       "       [3000.,    0.,    0.],\n",
       "       [3000.,    0.,    0.],\n",
       "       [3000.,    0.,    0.],\n",
       "       [3000.,    0.,    0.],\n",
       "       [3000.,    0.,    0.],\n",
       "       [3000.,    0.,    0.],\n",
       "       [3000.,    0.,    0.],\n",
       "       [3000.,    0.,    0.],\n",
       "       [3000.,    0.,    0.],\n",
       "       [3000.,    0.,    0.],\n",
       "       [3000.,    0.,    0.],\n",
       "       [3000.,    0.,    0.],\n",
       "       [3000.,    0.,    0.],\n",
       "       [3000.,    0.,    0.],\n",
       "       [3000.,    0.,    0.],\n",
       "       [3000.,    0.,    0.],\n",
       "       [3000.,    0.,    0.],\n",
       "       [3000.,    0.,    0.],\n",
       "       [3000.,    0.,    0.],\n",
       "       [3000.,    0.,    0.],\n",
       "       [3000.,    0.,    0.],\n",
       "       [3000.,    0.,    0.],\n",
       "       [3000.,    0.,    0.],\n",
       "       [3000.,    0.,    0.],\n",
       "       [3000.,    0.,    0.],\n",
       "       [3000.,    0.,    0.],\n",
       "       [3000.,    0.,    0.],\n",
       "       [3000.,    0.,    0.],\n",
       "       [3000.,    0.,    0.],\n",
       "       [3000.,    0.,    0.],\n",
       "       [3000.,    0.,    0.],\n",
       "       [3000.,    0.,    0.],\n",
       "       [3000.,    0.,    0.],\n",
       "       [3000.,    0.,    0.],\n",
       "       [3000.,    0.,    0.],\n",
       "       [3000.,    0.,    0.],\n",
       "       [3000.,    0.,    0.],\n",
       "       [3000.,    0.,    0.],\n",
       "       [3000.,    0.,    0.],\n",
       "       [3000.,    0.,    0.],\n",
       "       [3000.,    0.,    0.],\n",
       "       [3000.,    0.,    0.],\n",
       "       [3000.,    0.,    0.],\n",
       "       [3000.,    0.,    0.],\n",
       "       [3000.,    0.,    0.],\n",
       "       [3000.,    0.,    0.],\n",
       "       [3000.,    0.,    0.],\n",
       "       [3000.,    0.,    0.],\n",
       "       [3000.,    0.,    0.],\n",
       "       [3000.,    0.,    0.],\n",
       "       [3000.,    0.,    0.],\n",
       "       [3000.,    0.,    0.],\n",
       "       [3000.,    0.,    0.],\n",
       "       [3000.,    0.,    0.],\n",
       "       [3000.,    0.,    0.],\n",
       "       [3000.,    0.,    0.],\n",
       "       [3000.,    0.,    0.],\n",
       "       [3000.,    0.,    0.],\n",
       "       [3000.,    0.,    0.],\n",
       "       [3000.,    0.,    0.],\n",
       "       [3000.,    0.,    0.],\n",
       "       [3000.,    0.,    0.],\n",
       "       [3000.,    0.,    0.],\n",
       "       [3000.,    0.,    0.],\n",
       "       [3000.,    0.,    0.],\n",
       "       [3000.,    0.,    0.],\n",
       "       [3000.,    0.,    0.],\n",
       "       [3000.,    0.,    0.],\n",
       "       [3000.,    0.,    0.],\n",
       "       [3000.,    0.,    0.]])"
      ]
     },
     "execution_count": 58,
     "metadata": {},
     "output_type": "execute_result"
    }
   ],
   "source": [
    "uv.uvw_array"
   ]
  },
  {
   "cell_type": "code",
   "execution_count": 59,
   "id": "2220f2a6",
   "metadata": {},
   "outputs": [],
   "source": [
    "uv.set_uvws_from_antenna_positions()"
   ]
  },
  {
   "cell_type": "code",
   "execution_count": 60,
   "id": "8b68eff9",
   "metadata": {},
   "outputs": [
    {
     "data": {
      "text/plain": [
       "array([[3.63908090e+01, 6.26311859e+02, 5.21128349e-01],\n",
       "       [3.63880476e+01, 6.26312020e+02, 5.20927213e-01],\n",
       "       [3.63852874e+01, 6.26312180e+02, 5.20726173e-01],\n",
       "       [3.63825261e+01, 6.26312341e+02, 5.20525069e-01],\n",
       "       [3.63797658e+01, 6.26312501e+02, 5.20324061e-01],\n",
       "       [3.63770045e+01, 6.26312662e+02, 5.20122989e-01],\n",
       "       [3.63742443e+01, 6.26312822e+02, 5.19922014e-01],\n",
       "       [3.63714829e+01, 6.26312983e+02, 5.19720973e-01],\n",
       "       [3.63687227e+01, 6.26313143e+02, 5.19520030e-01],\n",
       "       [3.63659613e+01, 6.26313304e+02, 5.19319022e-01],\n",
       "       [3.63632011e+01, 6.26313464e+02, 5.19118110e-01],\n",
       "       [3.63604397e+01, 6.26313625e+02, 5.18917134e-01],\n",
       "       [3.63576795e+01, 6.26313785e+02, 5.18716255e-01],\n",
       "       [3.63549181e+01, 6.26313946e+02, 5.18515311e-01],\n",
       "       [3.63521568e+01, 6.26314106e+02, 5.18314383e-01],\n",
       "       [3.63493965e+01, 6.26314266e+02, 5.18113551e-01],\n",
       "       [3.63466352e+01, 6.26314427e+02, 5.17912655e-01],\n",
       "       [3.63438749e+01, 6.26314587e+02, 5.17711856e-01],\n",
       "       [3.63411135e+01, 6.26314747e+02, 5.17510992e-01],\n",
       "       [3.63383533e+01, 6.26314908e+02, 5.17310225e-01],\n",
       "       [3.63355919e+01, 6.26315068e+02, 5.17109393e-01],\n",
       "       [3.63328317e+01, 6.26315228e+02, 5.16908658e-01],\n",
       "       [3.63300703e+01, 6.26315389e+02, 5.16707858e-01],\n",
       "       [3.63273100e+01, 6.26315549e+02, 5.16507155e-01],\n",
       "       [3.63245486e+01, 6.26315709e+02, 5.16306388e-01],\n",
       "       [3.63217884e+01, 6.26315870e+02, 5.16105717e-01],\n",
       "       [3.63190270e+01, 6.26316030e+02, 5.15904981e-01],\n",
       "       [3.63162667e+01, 6.26316190e+02, 5.15704342e-01],\n",
       "       [3.63135053e+01, 6.26316350e+02, 5.15503638e-01],\n",
       "       [3.63107451e+01, 6.26316511e+02, 5.15303032e-01],\n",
       "       [3.63079837e+01, 6.26316671e+02, 5.15102360e-01],\n",
       "       [3.63052234e+01, 6.26316831e+02, 5.14901785e-01],\n",
       "       [3.63024620e+01, 6.26316991e+02, 5.14701146e-01],\n",
       "       [3.62997017e+01, 6.26317151e+02, 5.14500603e-01],\n",
       "       [3.62969403e+01, 6.26317312e+02, 5.14299996e-01],\n",
       "       [3.62941800e+01, 6.26317472e+02, 5.14099485e-01],\n",
       "       [3.62914186e+01, 6.26317632e+02, 5.13898910e-01],\n",
       "       [3.62886583e+01, 6.26317792e+02, 5.13698431e-01],\n",
       "       [3.62858969e+01, 6.26317952e+02, 5.13497888e-01],\n",
       "       [3.62831366e+01, 6.26318112e+02, 5.13297441e-01],\n",
       "       [3.62803752e+01, 6.26318272e+02, 5.13096930e-01],\n",
       "       [3.62776149e+01, 6.26318432e+02, 5.12896515e-01],\n",
       "       [3.62748535e+01, 6.26318593e+02, 5.12696036e-01],\n",
       "       [3.62720932e+01, 6.26318753e+02, 5.12495654e-01],\n",
       "       [3.62693318e+01, 6.26318913e+02, 5.12295207e-01],\n",
       "       [3.62665715e+01, 6.26319073e+02, 5.12094856e-01],\n",
       "       [3.62638101e+01, 6.26319233e+02, 5.11894441e-01],\n",
       "       [3.62610498e+01, 6.26319393e+02, 5.11694123e-01],\n",
       "       [3.62582884e+01, 6.26319553e+02, 5.11493740e-01],\n",
       "       [3.62555280e+01, 6.26319713e+02, 5.11293454e-01],\n",
       "       [3.62527666e+01, 6.26319873e+02, 5.11093103e-01],\n",
       "       [3.62500052e+01, 6.26320033e+02, 5.10892768e-01],\n",
       "       [3.62472449e+01, 6.26320193e+02, 5.10692530e-01],\n",
       "       [3.62444834e+01, 6.26320353e+02, 5.10492227e-01],\n",
       "       [3.62417231e+01, 6.26320513e+02, 5.10292021e-01],\n",
       "       [3.62389617e+01, 6.26320672e+02, 5.10091750e-01],\n",
       "       [3.62362014e+01, 6.26320832e+02, 5.09891576e-01],\n",
       "       [3.62334399e+01, 6.26320992e+02, 5.09691337e-01],\n",
       "       [3.62306796e+01, 6.26321152e+02, 5.09491195e-01],\n",
       "       [3.62279181e+01, 6.26321312e+02, 5.09290989e-01],\n",
       "       [3.62251578e+01, 6.26321472e+02, 5.09090879e-01],\n",
       "       [3.62223964e+01, 6.26321632e+02, 5.08890704e-01],\n",
       "       [3.62196360e+01, 6.26321791e+02, 5.08690626e-01],\n",
       "       [3.62168746e+01, 6.26321951e+02, 5.08490484e-01],\n",
       "       [3.62141142e+01, 6.26322111e+02, 5.08290438e-01],\n",
       "       [3.62113528e+01, 6.26322271e+02, 5.08090328e-01],\n",
       "       [3.62085924e+01, 6.26322431e+02, 5.07890314e-01],\n",
       "       [3.62058310e+01, 6.26322590e+02, 5.07690235e-01],\n",
       "       [3.62030706e+01, 6.26322750e+02, 5.07490254e-01],\n",
       "       [3.62003092e+01, 6.26322910e+02, 5.07290207e-01],\n",
       "       [3.61975488e+01, 6.26323070e+02, 5.07090258e-01],\n",
       "       [3.61947873e+01, 6.26323229e+02, 5.06890243e-01],\n",
       "       [3.61920270e+01, 6.26323389e+02, 5.06690326e-01],\n",
       "       [3.61892655e+01, 6.26323549e+02, 5.06490344e-01],\n",
       "       [3.61865052e+01, 6.26323708e+02, 5.06290458e-01],\n",
       "       [3.61837437e+01, 6.26323868e+02, 5.06090508e-01],\n",
       "       [3.61809833e+01, 6.26324028e+02, 5.05890654e-01],\n",
       "       [3.61782219e+01, 6.26324187e+02, 5.05690736e-01],\n",
       "       [3.61754615e+01, 6.26324347e+02, 5.05490915e-01],\n",
       "       [3.61727000e+01, 6.26324507e+02, 5.05291029e-01],\n",
       "       [3.61699396e+01, 6.26324666e+02, 5.05091240e-01],\n",
       "       [3.61671781e+01, 6.26324826e+02, 5.04891386e-01],\n",
       "       [3.61644178e+01, 6.26324985e+02, 5.04691628e-01],\n",
       "       [3.61616563e+01, 6.26325145e+02, 5.04491807e-01],\n",
       "       [3.61588959e+01, 6.26325305e+02, 5.04292081e-01],\n",
       "       [3.61561344e+01, 6.26325464e+02, 5.04092291e-01],\n",
       "       [3.61533740e+01, 6.26325624e+02, 5.03892598e-01],\n",
       "       [3.61506125e+01, 6.26325783e+02, 5.03692841e-01],\n",
       "       [3.61478510e+01, 6.26325943e+02, 5.03493099e-01],\n",
       "       [3.61450907e+01, 6.26326102e+02, 5.03293454e-01],\n",
       "       [3.61423292e+01, 6.26326262e+02, 5.03093744e-01],\n",
       "       [3.61395688e+01, 6.26326421e+02, 5.02894131e-01],\n",
       "       [3.61368073e+01, 6.26326581e+02, 5.02694454e-01],\n",
       "       [3.61340469e+01, 6.26326740e+02, 5.02494872e-01],\n",
       "       [3.61312854e+01, 6.26326900e+02, 5.02295227e-01],\n",
       "       [3.61285250e+01, 6.26327059e+02, 5.02095678e-01],\n",
       "       [3.61257634e+01, 6.26327218e+02, 5.01896065e-01],\n",
       "       [3.61230030e+01, 6.26327378e+02, 5.01696548e-01],\n",
       "       [3.61202415e+01, 6.26327537e+02, 5.01496966e-01],\n",
       "       [3.61174811e+01, 6.26327697e+02, 5.01297482e-01]])"
      ]
     },
     "execution_count": 60,
     "metadata": {},
     "output_type": "execute_result"
    }
   ],
   "source": [
    "uv.uvw_array"
   ]
  },
  {
   "cell_type": "code",
   "execution_count": 61,
   "id": "2101ee8b",
   "metadata": {},
   "outputs": [
    {
     "data": {
      "text/plain": [
       "array([[-2.63802065e+02,  2.97376191e+02,  8.47599970e-01],\n",
       "       [-2.29295245e+02,  9.23794682e+02,  1.35879325e+00],\n",
       "       [-2.96895042e+02,  3.70995527e+02,  1.17227911e+00],\n",
       "       ...,\n",
       "       [-7.90131455e+02,  8.49292432e+02,  1.33442206e+00],\n",
       "       [-9.61875071e+02, -2.54490397e+02, -5.32751862e+00],\n",
       "       [-1.40646457e+02, -7.08274589e+01, -2.51942914e-01]])"
      ]
     },
     "execution_count": 61,
     "metadata": {},
     "output_type": "execute_result"
    }
   ],
   "source": [
    "uv.telescope.get_enu_antpos()"
   ]
  },
  {
   "cell_type": "code",
   "execution_count": 62,
   "id": "f1a2ce79",
   "metadata": {},
   "outputs": [
    {
     "data": {
      "text/plain": [
       "array([[-147.36630751,  282.87293142,  237.25708244],\n",
       "       [  62.43835546,  599.99240352,  736.26444819],\n",
       "       [-155.52291528,  337.55777362,  296.06265121],\n",
       "       ...,\n",
       "       [-452.80273524,  826.03398568,  676.93771516],\n",
       "       [-918.01427018,  323.85603076, -205.82630477],\n",
       "       [-144.0703123 ,   29.07086007,  -56.53891113]])"
      ]
     },
     "execution_count": 62,
     "metadata": {},
     "output_type": "execute_result"
    }
   ],
   "source": [
    "uv.telescope.antenna_positions"
   ]
  },
  {
   "cell_type": "code",
   "execution_count": 63,
   "id": "19586877",
   "metadata": {},
   "outputs": [
    {
     "data": {
      "text/plain": [
       "True"
      ]
     },
     "execution_count": 63,
     "metadata": {},
     "output_type": "execute_result"
    }
   ],
   "source": [
    "uv.telescope.check()"
   ]
  },
  {
   "cell_type": "code",
   "execution_count": 64,
   "id": "bce4aa5a",
   "metadata": {},
   "outputs": [
    {
     "data": {
      "text/plain": [
       "<pyuvdata.parameter.UVParameter at 0x7f71aa0f0df0>"
      ]
     },
     "execution_count": 64,
     "metadata": {},
     "output_type": "execute_result"
    }
   ],
   "source": [
    "uv.telescope._mount_type"
   ]
  },
  {
   "cell_type": "code",
   "execution_count": 65,
   "id": "c9814df8",
   "metadata": {},
   "outputs": [],
   "source": [
    "# get antennas positions in ECEF\n",
    "telescope_ecef_xyz = Quantity(uv.telescope.location.geocentric).to_value(\"m\")\n",
    "antpos = uv.telescope.antenna_positions + telescope_ecef_xyz\n",
    "\n",
    "# convert to East, North, Up (ENU) coords.\n",
    "antpos = pyuvdata.utils.ENU_from_ECEF(antpos, center_loc=uv.telescope.location)"
   ]
  },
  {
   "cell_type": "code",
   "execution_count": 66,
   "id": "f8c5a47c",
   "metadata": {},
   "outputs": [
    {
     "data": {
      "text/plain": [
       "array([[-2.63802065e+02,  2.97376191e+02,  8.47599970e-01],\n",
       "       [-2.29295245e+02,  9.23794682e+02,  1.35879325e+00],\n",
       "       [-2.96895042e+02,  3.70995527e+02,  1.17227911e+00],\n",
       "       ...,\n",
       "       [-7.90131455e+02,  8.49292432e+02,  1.33442206e+00],\n",
       "       [-9.61875071e+02, -2.54490397e+02, -5.32751862e+00],\n",
       "       [-1.40646457e+02, -7.08274589e+01, -2.51942914e-01]])"
      ]
     },
     "execution_count": 66,
     "metadata": {},
     "output_type": "execute_result"
    }
   ],
   "source": [
    "antpos"
   ]
  },
  {
   "cell_type": "code",
   "execution_count": 67,
   "id": "dbab7395",
   "metadata": {},
   "outputs": [
    {
     "data": {
      "text/plain": [
       "(352, 3)"
      ]
     },
     "execution_count": 67,
     "metadata": {},
     "output_type": "execute_result"
    }
   ],
   "source": [
    "np.shape(antpos)"
   ]
  },
  {
   "cell_type": "code",
   "execution_count": null,
   "id": "8afce8ce",
   "metadata": {},
   "outputs": [],
   "source": []
  },
  {
   "cell_type": "code",
   "execution_count": 69,
   "id": "50f7fb66",
   "metadata": {},
   "outputs": [
    {
     "data": {
      "text/plain": [
       "array([[ 9.31322575e-10, -9.31322575e-10,  4.65661287e-10],\n",
       "       [ 2.64188702e+03, -1.42141936e+03,  4.65661287e-10],\n",
       "       [ 9.31322575e-10, -9.31322575e-10,  4.65661287e-10],\n",
       "       ...,\n",
       "       [ 9.31322575e-10, -9.31322575e-10,  4.65661287e-10],\n",
       "       [ 9.31322575e-10, -9.31322575e-10,  4.65661287e-10],\n",
       "       [ 9.31322575e-10, -9.31322575e-10,  4.65661287e-10]])"
      ]
     },
     "execution_count": 69,
     "metadata": {},
     "output_type": "execute_result"
    }
   ],
   "source": [
    "uv.telescope.antenna_positions"
   ]
  },
  {
   "cell_type": "code",
   "execution_count": null,
   "id": "3d5e1087",
   "metadata": {},
   "outputs": [],
   "source": []
  }
 ],
 "metadata": {
  "kernelspec": {
   "display_name": "py310",
   "language": "python",
   "name": "python3"
  },
  "language_info": {
   "codemirror_mode": {
    "name": "ipython",
    "version": 3
   },
   "file_extension": ".py",
   "mimetype": "text/x-python",
   "name": "python",
   "nbconvert_exporter": "python",
   "pygments_lexer": "ipython3",
   "version": "3.10.14"
  }
 },
 "nbformat": 4,
 "nbformat_minor": 5
}
