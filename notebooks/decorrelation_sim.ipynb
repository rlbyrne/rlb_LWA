{
 "cells": [
  {
   "cell_type": "code",
   "execution_count": 1,
   "id": "9145e429",
   "metadata": {},
   "outputs": [
    {
     "data": {
      "text/plain": [
       "<module 'pyuvsim' from '/opt/devel/rbyrne/envs/py310/lib/python3.10/site-packages/pyuvsim/__init__.py'>"
      ]
     },
     "execution_count": 1,
     "metadata": {},
     "output_type": "execute_result"
    }
   ],
   "source": [
    "import pyuvsim\n",
    "import pyuvdata\n",
    "import pyradiosky\n",
    "import astropy\n",
    "import numpy as np\n",
    "import importlib\n",
    "importlib.reload(pyuvsim)"
   ]
  },
  {
   "cell_type": "code",
   "execution_count": 2,
   "id": "e1c8c154",
   "metadata": {},
   "outputs": [
    {
     "name": "stderr",
     "output_type": "stream",
     "text": [
      "Setting telescope_location to value in known_telescopes for OVRO-LWA.\n",
      "The uvw_array does not match the expected values given the antenna positions. The largest discrepancy is 12.14008682625115 meters. This is a fairly common situation but might indicate an error in the antenna positions, the uvws or the phasing.\n"
     ]
    }
   ],
   "source": [
    "uv = pyuvdata.UVData()\n",
    "uv.read(\"/lustre/rbyrne/2025-06-13/20250613_070132_55MHz.ms\")  # Choose an arbitrary data file for reference"
   ]
  },
  {
   "cell_type": "code",
   "execution_count": 3,
   "id": "df0a97c8",
   "metadata": {},
   "outputs": [],
   "source": [
    "freq_hz = 50e6\n",
    "channel_width = 2e3\n",
    "#total_time_interval_s = 10\n",
    "total_time_interval_s = 1\n",
    "#total_freq_interval_hz = 200e3\n",
    "total_freq_interval_hz = 4e3\n",
    "integration_time = 0.1\n",
    "time_array_s = np.arange(-total_time_interval_s/2, total_time_interval_s/2, integration_time)\n",
    "uv.freq_array = np.arange(freq_hz-total_freq_interval_hz/2, freq_hz+total_freq_interval_hz/2, channel_width)\n",
    "uv.Nfreqs = len(uv.freq_array)\n",
    "uv.time_array = np.mean(uv.time_array) + time_array_s/86400\n",
    "uv.Ntimes = len(time_array_s)\n",
    "uv.Nbls = 1\n",
    "uv.Nblts = uv.Ntimes\n",
    "uv.Npols = 1\n",
    "uv.Nants_data = 2\n",
    "uv.Nspws = 1\n",
    "uv.flex_spw_id_array = np.full(uv.Nfreqs, np.mean(uv.spw_array), dtype=int)\n",
    "uv.ant_1_array = np.zeros(uv.Nblts, dtype=int)\n",
    "uv.ant_2_array = np.ones(uv.Nblts, dtype=int)\n",
    "uv.channel_width = np.full(uv.Nfreqs, channel_width)\n",
    "uv.integration_time = np.full(uv.Nblts, integration_time)\n",
    "uv.baseline_array = np.full(uv.Nblts, 2048 + 2**16)\n",
    "uv.data_array = np.zeros((uv.Nblts, uv.Nfreqs, uv.Npols), dtype=complex)\n",
    "uv.flag_array = np.zeros((uv.Nblts, uv.Nfreqs, uv.Npols), dtype=bool)\n",
    "uv.nsample_array = np.ones((uv.Nblts, uv.Nfreqs, uv.Npols), dtype=float)\n",
    "uv.polarization_array = np.array([-5])\n",
    "uv.set_lsts_from_time_array()\n",
    "uv.phase_center_app_ra = uv.phase_center_app_ra[:uv.Nblts]\n",
    "uv.phase_center_app_dec = uv.phase_center_app_dec[:uv.Nblts]\n",
    "uv.phase_center_frame_pa = uv.phase_center_frame_pa[:uv.Nblts]\n",
    "uv.phase_center_id_array = uv.phase_center_id_array[:uv.Nblts]\n",
    "uv.scan_number_array = None\n",
    "uv.uvw_array = np.zeros((uv.Nblts, 3), dtype=float)\n",
    "uv.phase_to_time(np.mean(uv.time_array))\n",
    "# Redefine uvws after phasing\n",
    "uv.uvw_array = np.zeros((uv.Nblts, 3), dtype=float)\n",
    "uv.uvw_array[:, 0] = 3e3\n"
   ]
  },
  {
   "cell_type": "code",
   "execution_count": 4,
   "id": "06c466be",
   "metadata": {},
   "outputs": [
    {
     "data": {
      "text/plain": [
       "array([[3000.,    0.,    0.],\n",
       "       [3000.,    0.,    0.],\n",
       "       [3000.,    0.,    0.],\n",
       "       [3000.,    0.,    0.],\n",
       "       [3000.,    0.,    0.],\n",
       "       [3000.,    0.,    0.],\n",
       "       [3000.,    0.,    0.],\n",
       "       [3000.,    0.,    0.],\n",
       "       [3000.,    0.,    0.],\n",
       "       [3000.,    0.,    0.]])"
      ]
     },
     "execution_count": 4,
     "metadata": {},
     "output_type": "execute_result"
    }
   ],
   "source": [
    "uv.uvw_array"
   ]
  },
  {
   "cell_type": "code",
   "execution_count": 5,
   "id": "042c99b8",
   "metadata": {},
   "outputs": [],
   "source": [
    "beam = pyuvdata.UVBeam()\n",
    "beam.read(\"/lustre/rbyrne/LWA_10to100_MROsoil_efields.fits\")\n",
    "beam.select(feeds=\"e\")\n",
    "beam.peak_normalize()\n",
    "beam_use_freq = 50e6\n",
    "use_freq_ind = np.where(beam.freq_array == beam_use_freq)[0]\n",
    "beam.data_array[:, :, :, :, :] = beam.data_array[:, :, use_freq_ind, :, :]  # Make the beam frequency-invariant\n",
    "beam_list = pyuvsim.BeamList(beam_list=[beam])"
   ]
  },
  {
   "cell_type": "code",
   "execution_count": 6,
   "id": "6da5c6ad",
   "metadata": {},
   "outputs": [],
   "source": [
    "zenith_loc = astropy.coordinates.SkyCoord([astropy.coordinates.ICRS(ra=np.mean(uv.lst_array)*astropy.units.rad, dec=uv.telescope.location.lat)])"
   ]
  },
  {
   "cell_type": "code",
   "execution_count": 7,
   "id": "cfc2d759",
   "metadata": {},
   "outputs": [
    {
     "data": {
      "text/latex": [
       "$37^\\circ14{}^\\prime23.1981756{}^{\\prime\\prime}$"
      ],
      "text/plain": [
       "<Latitude 37.23977727 deg>"
      ]
     },
     "execution_count": 7,
     "metadata": {},
     "output_type": "execute_result"
    }
   ],
   "source": [
    "uv.telescope.location.lat"
   ]
  },
  {
   "cell_type": "code",
   "execution_count": 8,
   "id": "aecab387",
   "metadata": {},
   "outputs": [
    {
     "data": {
      "text/plain": [
       "52"
      ]
     },
     "execution_count": 8,
     "metadata": {},
     "output_type": "execute_result"
    }
   ],
   "source": [
    "90-38"
   ]
  },
  {
   "cell_type": "code",
   "execution_count": 9,
   "id": "cb418e69",
   "metadata": {},
   "outputs": [],
   "source": [
    "ra_offset_vals_deg = np.linspace(-60, 60, num=11)\n",
    "dec_offset_vals_deg = np.linspace(-52, 52, num=11)\n",
    "ra_vals_expanded, dec_vals_expanded = np.meshgrid(ra_offset_vals_deg, dec_offset_vals_deg)\n",
    "ra_offset_vals_flattened = ra_vals_expanded.flatten()\n",
    "dec_offset_vals_flattened = dec_vals_expanded.flatten()\n",
    "source_coords = []\n",
    "for ind in range(len(ra_offset_vals_flattened)):\n",
    "    new_coords = astropy.coordinates.SkyCoord([astropy.coordinates.ICRS(\n",
    "        ra=np.mean(uv.lst_array)*astropy.units.rad + ra_offset_vals_flattened[ind]*astropy.units.deg, \n",
    "        dec=uv.telescope.location.lat + dec_offset_vals_flattened[ind]*astropy.units.deg\n",
    "    )])\n",
    "    source_coords.append(new_coords)\n"
   ]
  },
  {
   "cell_type": "code",
   "execution_count": 10,
   "id": "1dff975f",
   "metadata": {},
   "outputs": [
    {
     "name": "stderr",
     "output_type": "stream",
     "text": [
      "The uvw_array does not match the expected values given the antenna positions. The largest discrepancy is 2963.7582907998344 meters. This is a fairly common situation but might indicate an error in the antenna positions, the uvws or the phasing.\n"
     ]
    },
    {
     "name": "stdout",
     "output_type": "stream",
     "text": [
      "Nbls: 1\n",
      "Ntimes: 10\n",
      "Nfreqs: 2\n",
      "Nsrcs: 1\n",
      "Tasks:  20.0\n",
      "5.00% completed. 0:00:01.118556  elapsed. 0:00:21.252564 remaining. \n",
      "\n",
      "10.00% completed. 0:00:02.180075  elapsed. 0:00:19.620679 remaining. \n",
      "\n",
      "15.00% completed. 0:00:02.182081  elapsed. 0:00:12.365126 remaining. \n",
      "\n",
      "20.00% completed. 0:00:03.251665  elapsed. 0:00:13.006660 remaining. \n",
      "\n",
      "25.00% completed. 0:00:03.253954  elapsed. 0:00:09.761861 remaining. \n",
      "\n",
      "30.00% completed. 0:00:04.309335  elapsed. 0:00:10.055114 remaining. \n",
      "\n",
      "35.00% completed. 0:00:04.311233  elapsed. 0:00:08.006575 remaining. \n",
      "\n",
      "40.00% completed. 0:00:05.440817  elapsed. 0:00:08.161226 remaining. \n",
      "\n",
      "45.00% completed. 0:00:05.443253  elapsed. 0:00:06.652865 remaining. \n",
      "\n",
      "50.00% completed. 0:00:06.585315  elapsed. 0:00:06.585315 remaining. \n",
      "\n",
      "55.00% completed. 0:00:06.587383  elapsed. 0:00:05.389677 remaining. \n",
      "\n",
      "60.00% completed. 0:00:07.664297  elapsed. 0:00:05.109531 remaining. \n",
      "\n",
      "65.00% completed. 0:00:07.667260  elapsed. 0:00:04.128525 remaining. \n",
      "\n",
      "70.00% completed. 0:00:08.773211  elapsed. 0:00:03.759948 remaining. \n",
      "\n",
      "75.00% completed. 0:00:08.775222  elapsed. 0:00:02.925074 remaining. \n",
      "\n",
      "80.00% completed. 0:00:09.838629  elapsed. 0:00:02.459657 remaining. \n",
      "\n",
      "85.00% completed. 0:00:09.840523  elapsed. 0:00:01.736563 remaining. \n",
      "\n",
      "90.00% completed. 0:00:10.899849  elapsed. 0:00:01.211094 remaining. \n",
      "\n",
      "95.00% completed. 0:00:10.901850  elapsed. 0:00:00.573782 remaining. \n",
      "\n",
      "100.00% completed. 0:00:10.902279  elapsed. 0:00:00 remaining. \n",
      "\n",
      "Calculations Complete.\n"
     ]
    },
    {
     "name": "stderr",
     "output_type": "stream",
     "text": [
      "The parameter `blt_order` could not be identified for input_uv  so the ordering cannot be restored.The output UVData object will have (time, baseline) ordering.\n",
      "Recalculating uvw_array without adjusting visibility phases -- this can introduce significant errors if used incorrectly.\n"
     ]
    },
    {
     "ename": "ValueError",
     "evalue": "Phase center id 1 is does not have an entry in `phase_center_catalog`, which has keys dict_keys([0]). All values in `phase_center_id_array` must be keys in `phase_center_catalog`. ",
     "output_type": "error",
     "traceback": [
      "\u001b[0;31m---------------------------------------------------------------------------\u001b[0m",
      "\u001b[0;31mValueError\u001b[0m                                Traceback (most recent call last)",
      "\u001b[0;32m/tmp/ipykernel_91924/1894935713.py\u001b[0m in \u001b[0;36m?\u001b[0;34m()\u001b[0m\n\u001b[1;32m     14\u001b[0m         \u001b[0mbeam_dict\u001b[0m\u001b[0;34m=\u001b[0m\u001b[0;32mNone\u001b[0m\u001b[0;34m,\u001b[0m  \u001b[0;31m# Same beam for all ants\u001b[0m\u001b[0;34m\u001b[0m\u001b[0;34m\u001b[0m\u001b[0m\n\u001b[1;32m     15\u001b[0m         \u001b[0mcatalog\u001b[0m\u001b[0;34m=\u001b[0m\u001b[0mcat\u001b[0m\u001b[0;34m,\u001b[0m\u001b[0;34m\u001b[0m\u001b[0;34m\u001b[0m\u001b[0m\n\u001b[1;32m     16\u001b[0m         \u001b[0mquiet\u001b[0m\u001b[0;34m=\u001b[0m\u001b[0;32mFalse\u001b[0m\u001b[0;34m,\u001b[0m\u001b[0;34m\u001b[0m\u001b[0;34m\u001b[0m\u001b[0m\n\u001b[1;32m     17\u001b[0m     )\n\u001b[0;32m---> 18\u001b[0;31m     \u001b[0moutput_uv\u001b[0m\u001b[0;34m.\u001b[0m\u001b[0mwrite_uvfits\u001b[0m\u001b[0;34m(\u001b[0m\u001b[0;34mf\"/lustre/rbyrne/decorr_sims/source{ind+1:03d}.uvfits\"\u001b[0m\u001b[0;34m)\u001b[0m\u001b[0;34m\u001b[0m\u001b[0;34m\u001b[0m\u001b[0m\n\u001b[0m",
      "\u001b[0;32m/opt/devel/rbyrne/envs/py310/lib/python3.10/site-packages/pyuvdata/uvdata/uvdata.py\u001b[0m in \u001b[0;36m?\u001b[0;34m(self, filename, **kwargs)\u001b[0m\n\u001b[1;32m  11503\u001b[0m         \u001b[0;32mif\u001b[0m \u001b[0mself\u001b[0m\u001b[0;34m.\u001b[0m\u001b[0mflex_spw_polarization_array\u001b[0m \u001b[0;32mis\u001b[0m \u001b[0;32mnot\u001b[0m \u001b[0;32mNone\u001b[0m\u001b[0;34m:\u001b[0m\u001b[0;34m\u001b[0m\u001b[0;34m\u001b[0m\u001b[0m\n\u001b[1;32m  11504\u001b[0m             \u001b[0muvfits_obj\u001b[0m \u001b[0;34m=\u001b[0m \u001b[0muvfits_obj\u001b[0m\u001b[0;34m.\u001b[0m\u001b[0mcopy\u001b[0m\u001b[0;34m(\u001b[0m\u001b[0;34m)\u001b[0m\u001b[0;34m\u001b[0m\u001b[0;34m\u001b[0m\u001b[0m\n\u001b[1;32m  11505\u001b[0m             \u001b[0muvfits_obj\u001b[0m\u001b[0;34m.\u001b[0m\u001b[0mremove_flex_pol\u001b[0m\u001b[0;34m(\u001b[0m\u001b[0;34m)\u001b[0m\u001b[0;34m\u001b[0m\u001b[0;34m\u001b[0m\u001b[0m\n\u001b[1;32m  11506\u001b[0m \u001b[0;34m\u001b[0m\u001b[0m\n\u001b[0;32m> 11507\u001b[0;31m         \u001b[0muvfits_obj\u001b[0m\u001b[0;34m.\u001b[0m\u001b[0mwrite_uvfits\u001b[0m\u001b[0;34m(\u001b[0m\u001b[0mfilename\u001b[0m\u001b[0;34m,\u001b[0m \u001b[0;34m**\u001b[0m\u001b[0mkwargs\u001b[0m\u001b[0;34m)\u001b[0m\u001b[0;34m\u001b[0m\u001b[0;34m\u001b[0m\u001b[0m\n\u001b[0m\u001b[1;32m  11508\u001b[0m         \u001b[0;32mdel\u001b[0m \u001b[0muvfits_obj\u001b[0m\u001b[0;34m\u001b[0m\u001b[0;34m\u001b[0m\u001b[0m\n",
      "\u001b[0;32m/opt/devel/rbyrne/envs/py310/lib/python3.10/site-packages/pyuvdata/uvdata/uvfits.py\u001b[0m in \u001b[0;36m?\u001b[0;34m(self, filename, write_lst, force_phase, uvw_double, use_miriad_convention, run_check, check_extra, run_check_acceptability, strict_uvw_antpos_check, check_autos, fix_autos)\u001b[0m\n\u001b[1;32m    872\u001b[0m                 \u001b[0;34m\"Writing near-field phased data to uvfits format is not yet supported.\"\u001b[0m\u001b[0;34m\u001b[0m\u001b[0;34m\u001b[0m\u001b[0m\n\u001b[1;32m    873\u001b[0m             )\n\u001b[1;32m    874\u001b[0m \u001b[0;34m\u001b[0m\u001b[0m\n\u001b[1;32m    875\u001b[0m         \u001b[0;32mif\u001b[0m \u001b[0mrun_check\u001b[0m\u001b[0;34m:\u001b[0m\u001b[0;34m\u001b[0m\u001b[0;34m\u001b[0m\u001b[0m\n\u001b[0;32m--> 876\u001b[0;31m             self.check(\n\u001b[0m\u001b[1;32m    877\u001b[0m                 \u001b[0mcheck_extra\u001b[0m\u001b[0;34m=\u001b[0m\u001b[0mcheck_extra\u001b[0m\u001b[0;34m,\u001b[0m\u001b[0;34m\u001b[0m\u001b[0;34m\u001b[0m\u001b[0m\n\u001b[1;32m    878\u001b[0m                 \u001b[0mrun_check_acceptability\u001b[0m\u001b[0;34m=\u001b[0m\u001b[0mrun_check_acceptability\u001b[0m\u001b[0;34m,\u001b[0m\u001b[0;34m\u001b[0m\u001b[0;34m\u001b[0m\u001b[0m\n\u001b[1;32m    879\u001b[0m                 \u001b[0mcheck_freq_spacing\u001b[0m\u001b[0;34m=\u001b[0m\u001b[0;32mTrue\u001b[0m\u001b[0;34m,\u001b[0m\u001b[0;34m\u001b[0m\u001b[0;34m\u001b[0m\u001b[0m\n",
      "\u001b[0;32m/opt/devel/rbyrne/envs/py310/lib/python3.10/site-packages/pyuvdata/uvdata/uvdata.py\u001b[0m in \u001b[0;36m?\u001b[0;34m(self, check_extra, run_check_acceptability, check_freq_spacing, check_pol_spacing, raise_spacing_errors, strict_uvw_antpos_check, allow_flip_conj, check_autos, fix_autos, lst_tol)\u001b[0m\n\u001b[1;32m   2391\u001b[0m             )\n\u001b[1;32m   2392\u001b[0m \u001b[0;34m\u001b[0m\u001b[0m\n\u001b[1;32m   2393\u001b[0m         \u001b[0;32mfor\u001b[0m \u001b[0mval\u001b[0m \u001b[0;32min\u001b[0m \u001b[0mnp\u001b[0m\u001b[0;34m.\u001b[0m\u001b[0munique\u001b[0m\u001b[0;34m(\u001b[0m\u001b[0mself\u001b[0m\u001b[0;34m.\u001b[0m\u001b[0mphase_center_id_array\u001b[0m\u001b[0;34m)\u001b[0m\u001b[0;34m:\u001b[0m\u001b[0;34m\u001b[0m\u001b[0;34m\u001b[0m\u001b[0m\n\u001b[1;32m   2394\u001b[0m             \u001b[0;32mif\u001b[0m \u001b[0mval\u001b[0m \u001b[0;32mnot\u001b[0m \u001b[0;32min\u001b[0m \u001b[0mself\u001b[0m\u001b[0;34m.\u001b[0m\u001b[0mphase_center_catalog\u001b[0m\u001b[0;34m:\u001b[0m\u001b[0;34m\u001b[0m\u001b[0;34m\u001b[0m\u001b[0m\n\u001b[0;32m-> 2395\u001b[0;31m                 raise ValueError(\n\u001b[0m\u001b[1;32m   2396\u001b[0m                     \u001b[0;34mf\"Phase center id {val} is does not have an entry in \"\u001b[0m\u001b[0;34m\u001b[0m\u001b[0;34m\u001b[0m\u001b[0m\n\u001b[1;32m   2397\u001b[0m                     \u001b[0;34m\"`phase_center_catalog`, which has keys \"\u001b[0m\u001b[0;34m\u001b[0m\u001b[0;34m\u001b[0m\u001b[0m\n\u001b[1;32m   2398\u001b[0m                     \u001b[0;34mf\"{self.phase_center_catalog.keys()}. All values in \"\u001b[0m\u001b[0;34m\u001b[0m\u001b[0;34m\u001b[0m\u001b[0m\n",
      "\u001b[0;31mValueError\u001b[0m: Phase center id 1 is does not have an entry in `phase_center_catalog`, which has keys dict_keys([0]). All values in `phase_center_id_array` must be keys in `phase_center_catalog`. "
     ]
    }
   ],
   "source": [
    "#for ind in range(len(ra_offset_vals_flattened)):\n",
    "for ind in range(1):\n",
    "    cat = pyradiosky.SkyModel(\n",
    "        skycoord = source_coords[ind],\n",
    "        name = [\"source1\"],\n",
    "        spectral_type = \"spectral_index\",\n",
    "        spectral_index = [0.],\n",
    "        reference_frequency = ([np.mean(uv.freq_array)])*astropy.units.Hz,\n",
    "        stokes = np.array([1,0,0,0]).reshape(4,1,1) * astropy.units.Jy,\n",
    "    )\n",
    "    output_uv = pyuvsim.uvsim.run_uvdata_uvsim(\n",
    "        input_uv=uv,\n",
    "        beam_list=beam_list,\n",
    "        beam_dict=None,  # Same beam for all ants\n",
    "        catalog=cat,\n",
    "        quiet=False,\n",
    "    )\n",
    "    output_uv.write_uvfits(f\"/lustre/rbyrne/decorr_sims/source{ind+1:03d}.uvfits\")"
   ]
  },
  {
   "cell_type": "code",
   "execution_count": null,
   "id": "647a149b",
   "metadata": {},
   "outputs": [],
   "source": [
    "#catalog_formatted.spectral_type = \"spectral_index\"\n",
    "#catalog_formatted.spectral_index = np.zeros(cat.Ncomponents)\n",
    "#catalog_formatted.reference_frequency = np.mean(uv.freq_array)#*astropy.units.Hz"
   ]
  },
  {
   "cell_type": "code",
   "execution_count": 17,
   "id": "5178596f",
   "metadata": {},
   "outputs": [
    {
     "name": "stdout",
     "output_type": "stream",
     "text": [
      "[1 1 1 1 1 1 1 1 1 1]\n",
      "{1: {'cat_name': 'zenith_at_jd2460839.792738', 'cat_type': 'sidereal', 'cat_lon': 4.340978118544788, 'cat_lat': 0.6508804364976628, 'cat_frame': 'icrs', 'cat_epoch': 2000.0, 'cat_times': None, 'cat_pm_ra': None, 'cat_pm_dec': None, 'cat_vrad': None, 'cat_dist': None, 'info_source': 'user'}}\n"
     ]
    }
   ],
   "source": [
    "print(output_uv.phase_center_id_array)\n",
    "print(uv.phase_center_catalog)"
   ]
  },
  {
   "cell_type": "code",
   "execution_count": null,
   "id": "50ef706f",
   "metadata": {},
   "outputs": [],
   "source": [
    "uv.phase_center_app_ra = uv.phase_center_app_ra[:uv.Nblts]\n",
    "uv.phase_center_app_dec = uv.phase_center_app_dec[:uv.Nblts]\n",
    "uv.phase_center_frame_pa = uv.phase_center_frame_pa[:uv.Nblts]\n",
    "uv.phase_center_id_array = uv.phase_center_id_array[:uv.Nblts]"
   ]
  },
  {
   "cell_type": "code",
   "execution_count": 18,
   "id": "f1f52c28",
   "metadata": {},
   "outputs": [],
   "source": [
    "output_uv.phase_to_time(np.mean(output_uv.time_array))"
   ]
  },
  {
   "cell_type": "code",
   "execution_count": 19,
   "id": "269312dd",
   "metadata": {},
   "outputs": [
    {
     "data": {
      "text/plain": [
       "True"
      ]
     },
     "execution_count": 19,
     "metadata": {},
     "output_type": "execute_result"
    }
   ],
   "source": [
    "output_uv.check()"
   ]
  },
  {
   "cell_type": "code",
   "execution_count": 20,
   "id": "d7acb7e9",
   "metadata": {},
   "outputs": [
    {
     "data": {
      "text/plain": [
       "array([[[0.05363051-0.00871819j],\n",
       "        [0.05350005-0.00948594j]],\n",
       "\n",
       "       [[0.05364847-0.00859533j],\n",
       "        [0.05351977-0.00936334j]],\n",
       "\n",
       "       [[0.05366613-0.00847247j],\n",
       "        [0.0535392 -0.00924074j]],\n",
       "\n",
       "       [[0.05368353-0.00834953j],\n",
       "        [0.05355835-0.00911806j]],\n",
       "\n",
       "       [[0.05370063-0.0082266j ],\n",
       "        [0.05357721-0.00899538j]],\n",
       "\n",
       "       [[0.05371746-0.00810359j],\n",
       "        [0.05359581-0.00887262j]],\n",
       "\n",
       "       [[0.05373401-0.00798054j],\n",
       "        [0.05361412-0.00874982j]],\n",
       "\n",
       "       [[0.05375027-0.00785751j],\n",
       "        [0.05363214-0.00862703j]],\n",
       "\n",
       "       [[0.05376625-0.00773439j],\n",
       "        [0.05364989-0.00850415j]],\n",
       "\n",
       "       [[0.05378195-0.0076113j ],\n",
       "        [0.05366735-0.00838128j]]])"
      ]
     },
     "execution_count": 20,
     "metadata": {},
     "output_type": "execute_result"
    }
   ],
   "source": [
    "output_uv.data_array"
   ]
  },
  {
   "cell_type": "code",
   "execution_count": null,
   "id": "818f7cbf",
   "metadata": {},
   "outputs": [],
   "source": []
  }
 ],
 "metadata": {
  "kernelspec": {
   "display_name": "py310",
   "language": "python",
   "name": "python3"
  },
  "language_info": {
   "codemirror_mode": {
    "name": "ipython",
    "version": 3
   },
   "file_extension": ".py",
   "mimetype": "text/x-python",
   "name": "python",
   "nbconvert_exporter": "python",
   "pygments_lexer": "ipython3",
   "version": "3.10.14"
  }
 },
 "nbformat": 4,
 "nbformat_minor": 5
}
