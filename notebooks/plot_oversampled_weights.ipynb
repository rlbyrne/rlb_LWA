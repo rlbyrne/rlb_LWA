{
 "cells": [
  {
   "cell_type": "code",
   "execution_count": 1,
   "id": "aeb1de78",
   "metadata": {},
   "outputs": [],
   "source": [
    "import numpy as np\n",
    "import matplotlib.pyplot as plt\n",
    "import pyuvdata"
   ]
  },
  {
   "cell_type": "code",
   "execution_count": 53,
   "id": "d991af20",
   "metadata": {},
   "outputs": [],
   "source": [
    "wedge_slope_factor_inner=0.23\n",
    "wedge_slope_factor_outer=0.7\n",
    "wedge_delay_buffer=6.5e-8\n",
    "wedge_variance_inner=1084.9656666412166\n",
    "wedge_variance_outer=28.966173241799588\n",
    "window_min_variance=5.06396954e-01\n",
    "window_exp_amp=1.19213736e03\n",
    "window_exp_width=6.93325643e-08\n",
    "oversample_factor=16.\n",
    "c = 3.0 * 10**8  # Speed of light\n",
    "oversample_factor=128"
   ]
  },
  {
   "cell_type": "code",
   "execution_count": 3,
   "id": "9aeac897",
   "metadata": {},
   "outputs": [],
   "source": [
    "uv = pyuvdata.UVData()\n",
    "uv.read(\"/Users/ruby/Astro/1061316296_small.uvfits\")"
   ]
  },
  {
   "cell_type": "code",
   "execution_count": 4,
   "id": "b2e4f98f",
   "metadata": {},
   "outputs": [],
   "source": [
    "channel_width_hz = uv.channel_width\n",
    "uvw_array = uv.uvw_array\n",
    "Nfreqs = uv.Nfreqs\n",
    "Nbls = uv.Nbls"
   ]
  },
  {
   "cell_type": "code",
   "execution_count": 54,
   "id": "3fc05343",
   "metadata": {},
   "outputs": [],
   "source": [
    "bl_lengths = np.sqrt(np.sum(uvw_array**2.0, axis=1))\n",
    "delay_array = np.fft.fftfreq(Nfreqs*int(oversample_factor), d=channel_width_hz)\n",
    "\n",
    "exp_function = (\n",
    "    window_exp_amp * np.exp(-np.abs(delay_array) / window_exp_width / 2)\n",
    "    + window_min_variance\n",
    ")\n",
    "exp_function[\n",
    "    np.where(exp_function > wedge_variance_outer)[0]\n",
    "] = wedge_variance_outer\n",
    "\n",
    "delay_weighting_inv = np.repeat(exp_function[np.newaxis, :], Nbls, axis=0)\n",
    "for delay_ind, delay_val in enumerate(delay_array):\n",
    "    wedge_bls_outer = np.where(\n",
    "        wedge_slope_factor_outer * bl_lengths / c + wedge_delay_buffer\n",
    "        > np.abs(delay_val)\n",
    "    )[0]\n",
    "    delay_weighting_inv[wedge_bls_outer, delay_ind] = wedge_variance_outer\n",
    "    wedge_bls_inner = np.where(\n",
    "        wedge_slope_factor_inner * bl_lengths / c + wedge_delay_buffer\n",
    "        > np.abs(delay_val)\n",
    "    )[0]\n",
    "    delay_weighting_inv[wedge_bls_inner, delay_ind] = wedge_variance_inner\n",
    "\n",
    "delay_weighting = 1.0 / delay_weighting_inv\n",
    "freq_weighting = np.fft.ifft(delay_weighting, axis=1)\n"
   ]
  },
  {
   "cell_type": "code",
   "execution_count": 47,
   "id": "5286acf8",
   "metadata": {},
   "outputs": [
    {
     "name": "stdout",
     "output_type": "stream",
     "text": [
      "[ 0.   0.4  0.8 -0.8 -0.4]\n",
      "[ 0.    0.04  0.08  0.12  0.16  0.2   0.24  0.28  0.32  0.36  0.4   0.44\n",
      "  0.48  0.52  0.56  0.6   0.64  0.68  0.72  0.76  0.8   0.84  0.88  0.92\n",
      "  0.96 -1.   -0.96 -0.92 -0.88 -0.84 -0.8  -0.76 -0.72 -0.68 -0.64 -0.6\n",
      " -0.56 -0.52 -0.48 -0.44 -0.4  -0.36 -0.32 -0.28 -0.24 -0.2  -0.16 -0.12\n",
      " -0.08 -0.04]\n",
      "[ 0.   0.1  0.2 -0.2 -0.1]\n"
     ]
    }
   ],
   "source": [
    "print(np.fft.fftfreq(5, d=.5))\n",
    "print(np.fft.fftfreq(5*10, d=.5))\n",
    "print(np.fft.fftfreq(5, d=2))"
   ]
  },
  {
   "cell_type": "code",
   "execution_count": 55,
   "id": "b852555e",
   "metadata": {},
   "outputs": [
    {
     "data": {
      "text/plain": [
       "[<matplotlib.lines.Line2D at 0x7fa920707730>]"
      ]
     },
     "execution_count": 55,
     "metadata": {},
     "output_type": "execute_result"
    },
    {
     "data": {
      "image/png": "[encoded data removed]",
      "text/plain": [
       "<Figure size 432x288 with 1 Axes>"
      ]
     },
     "metadata": {
      "needs_background": "light"
     },
     "output_type": "display_data"
    }
   ],
   "source": [
    "plt.plot(delay_array, np.abs(delay_weighting_inv[100,:]), \".\")"
   ]
  },
  {
   "cell_type": "code",
   "execution_count": 52,
   "id": "e4368219",
   "metadata": {},
   "outputs": [
    {
     "data": {
      "text/plain": [
       "[<matplotlib.lines.Line2D at 0x7fa961655250>]"
      ]
     },
     "execution_count": 52,
     "metadata": {},
     "output_type": "execute_result"
    },
    {
     "data": {
      "image/png": "[encoded data removed]",
      "text/plain": [
       "<Figure size 432x288 with 1 Axes>"
      ]
     },
     "metadata": {
      "needs_background": "light"
     },
     "output_type": "display_data"
    }
   ],
   "source": [
    "plt.plot(delay_array, np.abs(delay_weighting_inv[100,:]), \".\")"
   ]
  },
  {
   "cell_type": "code",
   "execution_count": 57,
   "id": "dc9caf0c",
   "metadata": {},
   "outputs": [
    {
     "data": {
      "text/plain": [
       "[<matplotlib.lines.Line2D at 0x7fa93060fa90>]"
      ]
     },
     "execution_count": 57,
     "metadata": {},
     "output_type": "execute_result"
    },
    {
     "data": {
      "image/png": "[encoded data removed]",
      "text/plain": [
       "<Figure size 432x288 with 1 Axes>"
      ]
     },
     "metadata": {
      "needs_background": "light"
     },
     "output_type": "display_data"
    }
   ],
   "source": [
    "plt.plot(np.abs(freq_weighting[100,:Nfreqs]))"
   ]
  },
  {
   "cell_type": "code",
   "execution_count": 37,
   "id": "48a346ee",
   "metadata": {},
   "outputs": [
    {
     "name": "stderr",
     "output_type": "stream",
     "text": [
      "Casting complex values to real discards the imaginary part\n"
     ]
    },
    {
     "data": {
      "text/plain": [
       "[<matplotlib.lines.Line2D at 0x7fb65814eb20>]"
      ]
     },
     "execution_count": 37,
     "metadata": {},
     "output_type": "execute_result"
    },
    {
     "data": {
      "image/png": "[encoded data removed]",
      "text/plain": [
       "<Figure size 432x288 with 1 Axes>"
      ]
     },
     "metadata": {
      "needs_background": "light"
     },
     "output_type": "display_data"
    }
   ],
   "source": [
    "plt.plot(freq_weighting[4000,:Nfreqs])"
   ]
  },
  {
   "cell_type": "code",
   "execution_count": 58,
   "id": "eb049b6b",
   "metadata": {},
   "outputs": [
    {
     "data": {
      "text/plain": [
       "[<matplotlib.lines.Line2D at 0x7fa600390640>]"
      ]
     },
     "execution_count": 58,
     "metadata": {},
     "output_type": "execute_result"
    },
    {
     "data": {
      "image/png": "[encoded data removed]",
      "text/plain": [
       "<Figure size 432x288 with 1 Axes>"
      ]
     },
     "metadata": {
      "needs_background": "light"
     },
     "output_type": "display_data"
    }
   ],
   "source": [
    "plt.plot(np.abs(freq_weighting[2000,:]))"
   ]
  },
  {
   "cell_type": "code",
   "execution_count": null,
   "id": "90e206c1",
   "metadata": {},
   "outputs": [],
   "source": [
    "weight_mat = np.zeros((Nbls, Nfreqs, Nfreqs), dtype=complex)\n",
    "for freq_ind1 in range(Nfreqs):\n",
    "    for freq_ind2 in range(Nfreqs):\n",
    "        weight_mat[:, freq_ind1, freq_ind2] = freq_weighting[\n",
    "            :, np.abs(freq_ind1 - freq_ind2)\n",
    "        ]\n",
    "\n",
    "# Make normalization match identity matrix weight mat\n",
    "normalization_factor = (\n",
    "    Nfreqs * Nbls / np.sum(np.trace(weight_mat, axis1=1, axis2=2))\n",
    ")\n",
    "weight_mat *= normalization_factor"
   ]
  }
 ],
 "metadata": {
  "kernelspec": {
   "display_name": "Python 3 (ipykernel)",
   "language": "python",
   "name": "python3"
  },
  "language_info": {
   "codemirror_mode": {
    "name": "ipython",
    "version": 3
   },
   "file_extension": ".py",
   "mimetype": "text/x-python",
   "name": "python",
   "nbconvert_exporter": "python",
   "pygments_lexer": "ipython3",
   "version": "3.8.8"
  }
 },
 "nbformat": 4,
 "nbformat_minor": 5
}
