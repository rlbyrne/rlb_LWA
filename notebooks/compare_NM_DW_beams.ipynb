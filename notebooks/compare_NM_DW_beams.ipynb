{
 "cells": [
  {
   "cell_type": "code",
   "execution_count": 1,
   "id": "ef76b842",
   "metadata": {},
   "outputs": [
    {
     "data": {
      "text/plain": [
       "<module 'jones_to_mueller' from '/Users/ruby/Astro/rlb_LWA/beam_manipulation/jones_to_mueller.py'>"
      ]
     },
     "execution_count": 1,
     "metadata": {},
     "output_type": "execute_result"
    }
   ],
   "source": [
    "import numpy as np\n",
    "import matplotlib\n",
    "import matplotlib.pyplot as plt\n",
    "import pyuvdata\n",
    "import sys\n",
    "sys.path.append(\"/Users/ruby/Astro/rlb_LWA/beam_manipulation\")\n",
    "import jones_to_mueller\n",
    "import importlib\n",
    "importlib.reload(jones_to_mueller)"
   ]
  },
  {
   "cell_type": "code",
   "execution_count": 2,
   "id": "0aefc1f4",
   "metadata": {},
   "outputs": [],
   "source": [
    "beam_nm = pyuvdata.UVBeam()\n",
    "beam_nm.read(\"/Users/ruby/Astro/LWA_beams/LWA_10to100.beamfits\")\n",
    "beam_nm.peak_normalize()"
   ]
  },
  {
   "cell_type": "code",
   "execution_count": 3,
   "id": "c8ea06f9",
   "metadata": {},
   "outputs": [],
   "source": [
    "beam_dw = jones_to_mueller.read_beam_txt_file('/Users/ruby/Astro/LWA_beams/DW_beamquadranttable20151110.txt', header_line=6)\n",
    "beam_dw.peak_normalize()"
   ]
  },
  {
   "cell_type": "code",
   "execution_count": 4,
   "id": "39f26492",
   "metadata": {},
   "outputs": [
    {
     "data": {
      "text/plain": [
       "array([[1.0e+07, 1.1e+07, 1.2e+07, 1.3e+07, 1.4e+07, 1.5e+07, 1.6e+07,\n",
       "        1.7e+07, 1.8e+07, 1.9e+07, 2.0e+07, 2.1e+07, 2.2e+07, 2.3e+07,\n",
       "        2.4e+07, 2.5e+07, 2.6e+07, 2.7e+07, 2.8e+07, 2.9e+07, 3.0e+07,\n",
       "        3.1e+07, 3.2e+07, 3.3e+07, 3.4e+07, 3.5e+07, 3.6e+07, 3.7e+07,\n",
       "        3.8e+07, 3.9e+07, 4.0e+07, 4.1e+07, 4.2e+07, 4.3e+07, 4.4e+07,\n",
       "        4.5e+07, 4.6e+07, 4.7e+07, 4.8e+07, 4.9e+07, 5.0e+07, 5.1e+07,\n",
       "        5.2e+07, 5.3e+07, 5.4e+07, 5.5e+07, 5.6e+07, 5.7e+07, 5.8e+07,\n",
       "        5.9e+07, 6.0e+07, 6.1e+07, 6.2e+07, 6.3e+07, 6.4e+07, 6.5e+07,\n",
       "        6.6e+07, 6.7e+07, 6.8e+07, 6.9e+07, 7.0e+07, 7.1e+07, 7.2e+07,\n",
       "        7.3e+07, 7.4e+07, 7.5e+07, 7.6e+07, 7.7e+07, 7.8e+07, 7.9e+07,\n",
       "        8.0e+07, 8.1e+07, 8.2e+07, 8.3e+07, 8.4e+07, 8.5e+07, 8.6e+07,\n",
       "        8.7e+07, 8.8e+07, 8.9e+07, 9.0e+07, 9.1e+07, 9.2e+07, 9.3e+07,\n",
       "        9.4e+07, 9.5e+07, 9.6e+07, 9.7e+07, 9.8e+07, 9.9e+07, 1.0e+08]])"
      ]
     },
     "execution_count": 4,
     "metadata": {},
     "output_type": "execute_result"
    }
   ],
   "source": [
    "beam_nm.freq_array"
   ]
  },
  {
   "cell_type": "code",
   "execution_count": 5,
   "id": "86a87da1",
   "metadata": {},
   "outputs": [
    {
     "data": {
      "text/plain": [
       "array([20000000., 30000000., 40000000., 50000000., 60000000., 70000000.,\n",
       "       80000000.])"
      ]
     },
     "execution_count": 5,
     "metadata": {},
     "output_type": "execute_result"
    }
   ],
   "source": [
    "beam_dw.freq_array[0,:]"
   ]
  },
  {
   "cell_type": "code",
   "execution_count": 9,
   "id": "8fb72301",
   "metadata": {},
   "outputs": [],
   "source": [
    "use_cmap = matplotlib.cm.get_cmap(\"Spectral\").copy()\n",
    "use_cmap.set_bad(color=\"whitesmoke\")\n",
    "vmin=-1\n",
    "vmax=1\n",
    "\n",
    "for feed_ind in range(2):\n",
    "    for freq in beam_nm.freq_array[0,:]:\n",
    "    #for freq in [7e7]:\n",
    "        savepath = f\"/Users/ruby/Astro/compare_NM_DW_beams_Jun2023/feed{(['X','Y'])[feed_ind]}_freq{int(freq/1e6)}.png\"\n",
    "        #savepath = None\n",
    "\n",
    "        fig, ax = plt.subplots(\n",
    "            nrows=4, ncols=2, subplot_kw=dict(projection=\"polar\"), figsize=(6, 9)\n",
    "        )\n",
    "        for real_imag_ind in range(2):\n",
    "            for beam_ind, beam in enumerate([beam_nm, beam_dw]):\n",
    "\n",
    "                use_freq = beam.freq_array[0, np.argmin(np.abs(beam.freq_array[0, :] - freq))]\n",
    "                use_beam = beam.select(frequencies=[use_freq], inplace=False)\n",
    "                az_axis = np.degrees(use_beam.axis1_array)\n",
    "                za_axis = np.degrees(use_beam.axis2_array)\n",
    "\n",
    "                #horizon cut\n",
    "                use_za_inds = np.where(za_axis < 90.)[0]\n",
    "                use_beam.select(axis2_inds=use_za_inds, inplace=True)\n",
    "                za_axis = za_axis[use_za_inds]\n",
    "\n",
    "                if real_imag_ind == 0:\n",
    "                    plot_jones_vals = np.real(use_beam.data_array)\n",
    "                else:\n",
    "                    plot_jones_vals = np.imag(use_beam.data_array)\n",
    "\n",
    "                za_vals, az_vals = np.meshgrid(za_axis, az_axis)\n",
    "\n",
    "                for pol_ind, pol_name in enumerate([\"Az\", \"ZA\"]):\n",
    "                    contourplot = jones_to_mueller.make_polar_contour_plot(\n",
    "                        ax[real_imag_ind + 2*pol_ind, beam_ind],\n",
    "                        (plot_jones_vals[pol_ind, 0, feed_ind, 0, :, :]).T,\n",
    "                        np.radians(az_vals),\n",
    "                        za_vals,\n",
    "                        vmin=vmin,\n",
    "                        vmax=vmax,\n",
    "                    )\n",
    "                    fig.colorbar(contourplot, ax=ax[real_imag_ind + 2*pol_ind, beam_ind])\n",
    "\n",
    "                    subtitle = f\"{(['NM', 'DW'])[beam_ind]} {int(use_freq/1e6)}MHz, {(['Real','Imag'])[real_imag_ind]}, {pol_name}\"\n",
    "                    ax[real_imag_ind + 2*pol_ind, beam_ind].set_title(subtitle)\n",
    "\n",
    "        fig.suptitle(f\"Feed {(['X','Y'])[feed_ind]}\")\n",
    "        fig.tight_layout()\n",
    "        if savepath is None:\n",
    "            plt.show()\n",
    "            plt.close()\n",
    "        else:\n",
    "            plt.savefig(savepath, dpi=300)\n",
    "            plt.close()"
   ]
  },
  {
   "cell_type": "code",
   "execution_count": null,
   "id": "59be494b",
   "metadata": {},
   "outputs": [],
   "source": []
  }
 ],
 "metadata": {
  "kernelspec": {
   "display_name": "Python 3 (ipykernel)",
   "language": "python",
   "name": "python3"
  },
  "language_info": {
   "codemirror_mode": {
    "name": "ipython",
    "version": 3
   },
   "file_extension": ".py",
   "mimetype": "text/x-python",
   "name": "python",
   "nbconvert_exporter": "python",
   "pygments_lexer": "ipython3",
   "version": "3.8.8"
  }
 },
 "nbformat": 4,
 "nbformat_minor": 5
}
