{
 "cells": [
  {
   "cell_type": "code",
   "execution_count": 14,
   "id": "e6d09f3b",
   "metadata": {},
   "outputs": [],
   "source": [
    "import pyradiosky\n",
    "import pyuvdata\n",
    "import numpy as np\n",
    "from astropy.units import Quantity\n",
    "import astropy.units as units\n",
    "import pyuvsim"
   ]
  },
  {
   "cell_type": "code",
   "execution_count": 20,
   "id": "944afacd",
   "metadata": {},
   "outputs": [
    {
     "name": "stdout",
     "output_type": "stream",
     "text": [
      "Reading map\n"
     ]
    },
    {
     "name": "stderr",
     "output_type": "stream",
     "text": [
      "No frame available in this file, assuming 'icrs'. Consider re-writing this file to ensure future compatility.\n"
     ]
    },
    {
     "name": "stdout",
     "output_type": "stream",
     "text": [
      "True\n"
     ]
    }
   ],
   "source": [
    "healpix_map_path = \"/Users/ruby/Astro/stab3276_supplemental_file/diffuse_map.skyh5\"\n",
    "diffuse_map = pyradiosky.SkyModel()\n",
    "print(\"Reading map\")\n",
    "diffuse_map.read_skyh5(healpix_map_path)\n",
    "\n",
    "# Reformat the map to have a spectral index\n",
    "diffuse_map.spectral_type = \"spectral_index\"\n",
    "diffuse_map.spectral_index = np.full(diffuse_map.Ncomponents, -0.8)\n",
    "diffuse_map.reference_frequency = Quantity(\n",
    "    np.full(diffuse_map.Ncomponents, diffuse_map.freq_array[0].value), \"Hz\"\n",
    ")\n",
    "diffuse_map.freq_array = None\n",
    "\n",
    "diffuse_map_formatted = pyuvsim.simsetup.SkyModelData(sky_in=diffuse_map)\n",
    "print(diffuse_map_formatted.reference_frequency is None)"
   ]
  },
  {
   "cell_type": "code",
   "execution_count": 21,
   "id": "b73ade0f",
   "metadata": {},
   "outputs": [
    {
     "data": {
      "text/plain": [
       "831822"
      ]
     },
     "execution_count": 21,
     "metadata": {},
     "output_type": "execute_result"
    }
   ],
   "source": [
    "diffuse_map.Ncomponents"
   ]
  },
  {
   "cell_type": "code",
   "execution_count": 22,
   "id": "d647cad5",
   "metadata": {},
   "outputs": [
    {
     "data": {
      "text/plain": [
       "831822"
      ]
     },
     "execution_count": 22,
     "metadata": {},
     "output_type": "execute_result"
    }
   ],
   "source": [
    "diffuse_map_formatted.Ncomponents"
   ]
  },
  {
   "cell_type": "code",
   "execution_count": 23,
   "id": "dae46423",
   "metadata": {},
   "outputs": [
    {
     "data": {
      "text/plain": [
       "'spectral_index'"
      ]
     },
     "execution_count": 23,
     "metadata": {},
     "output_type": "execute_result"
    }
   ],
   "source": [
    "diffuse_map_formatted.spectral_type"
   ]
  },
  {
   "cell_type": "code",
   "execution_count": 24,
   "id": "12f59547",
   "metadata": {},
   "outputs": [
    {
     "data": {
      "text/plain": [
       "True"
      ]
     },
     "execution_count": 24,
     "metadata": {},
     "output_type": "execute_result"
    }
   ],
   "source": [
    "diffuse_map.check()"
   ]
  },
  {
   "cell_type": "code",
   "execution_count": 25,
   "id": "08a41dd4",
   "metadata": {},
   "outputs": [
    {
     "data": {
      "text/plain": [
       "1"
      ]
     },
     "execution_count": 25,
     "metadata": {},
     "output_type": "execute_result"
    }
   ],
   "source": [
    "diffuse_map_formatted.Nfreqs"
   ]
  },
  {
   "cell_type": "code",
   "execution_count": 26,
   "id": "a6712244",
   "metadata": {},
   "outputs": [
    {
     "data": {
      "text/plain": [
       "'healpix'"
      ]
     },
     "execution_count": 26,
     "metadata": {},
     "output_type": "execute_result"
    }
   ],
   "source": [
    "diffuse_map_formatted.component_type"
   ]
  },
  {
   "cell_type": "code",
   "execution_count": 39,
   "id": "19819edb",
   "metadata": {},
   "outputs": [
    {
     "data": {
      "text/latex": [
       "$[1.82 \\times 10^{8},~1.82 \\times 10^{8},~1.82 \\times 10^{8},~\\dots,~1.82 \\times 10^{8},~1.82 \\times 10^{8},~1.82 \\times 10^{8}] \\; \\mathrm{Hz}$"
      ],
      "text/plain": [
       "<Quantity [1.82e+08, 1.82e+08, 1.82e+08, ..., 1.82e+08, 1.82e+08, 1.82e+08] Hz>"
      ]
     },
     "execution_count": 39,
     "metadata": {},
     "output_type": "execute_result"
    }
   ],
   "source": [
    "diffuse_map.reference_frequency.value * units.Hz"
   ]
  },
  {
   "cell_type": "code",
   "execution_count": 28,
   "id": "9ec2334f",
   "metadata": {},
   "outputs": [
    {
     "data": {
      "text/latex": [
       "$[[[-3965.5647,~-3773.6287,~-3558.6426,~\\dots,~12622.625,~13190.33,~13421.285]],~\n",
       "\n",
       " [[292.89401,~-337.91306,~-431.99438,~\\dots,~3361.8413,~1808.1879,~3043.9631]],~\n",
       "\n",
       " [[-1445.0563,~-1863.8481,~-2394.9929,~\\dots,~10289.117,~10236.303,~11011.561]],~\n",
       "\n",
       " [[205.96869,~34.135799,~-25.106037,~\\dots,~-288.82983,~-642.96594,~-212.62599]]] \\; \\mathrm{\\frac{Jy}{sr}}$"
      ],
      "text/plain": [
       "<Quantity [[[-3965.56469727, -3773.62866211, -3558.64257812, ...,\n",
       "             12622.625     , 13190.33007812, 13421.28515625]],\n",
       "\n",
       "           [[  292.89401245,  -337.91305542,  -431.99438477, ...,\n",
       "              3361.84130859,  1808.18786621,  3043.96313477]],\n",
       "\n",
       "           [[-1445.05627441, -1863.84814453, -2394.99291992, ...,\n",
       "             10289.1171875 , 10236.30273438, 11011.56054688]],\n",
       "\n",
       "           [[  205.96868896,    34.13579941,   -25.10603714, ...,\n",
       "              -288.82983398,  -642.96594238,  -212.62599182]]] Jy / sr>"
      ]
     },
     "execution_count": 28,
     "metadata": {},
     "output_type": "execute_result"
    }
   ],
   "source": [
    "diffuse_map.stokes"
   ]
  },
  {
   "cell_type": "code",
   "execution_count": 29,
   "id": "90c156fb",
   "metadata": {},
   "outputs": [
    {
     "name": "stdout",
     "output_type": "stream",
     "text": [
      "Help on SkyModelData in module pyuvsim.simsetup object:\n",
      "\n",
      "class SkyModelData(builtins.object)\n",
      " |  SkyModelData(sky_in=None, filename=None)\n",
      " |  \n",
      " |  Carries immutable SkyModel data in simple ndarrays.\n",
      " |  \n",
      " |  This is to facilitate sharing SkyModel objects in MPI, without\n",
      " |  excessive copying and memory bloat.\n",
      " |  \n",
      " |  When used with MPI, this can be initialized simultaneously on all\n",
      " |  processes such that sky_in is provided only on the root process.\n",
      " |  The data can then be shared across all processes by running the `share`\n",
      " |  method.\n",
      " |  \n",
      " |  Parameters\n",
      " |  ----------\n",
      " |  sky_in: :class:`pyradiosky.SkyModel`\n",
      " |      A valid SkyModel object.\n",
      " |  filename : str or list of str, optional\n",
      " |      The filename (or other string identifier) of the input catalog. This overrides\n",
      " |      the filename set on the sky_in object (if it has one). If not set, this defaults\n",
      " |      to the filename set on the sky_in object (if it has one)\n",
      " |  \n",
      " |  Methods defined here:\n",
      " |  \n",
      " |  __init__(self, sky_in=None, filename=None)\n",
      " |      Initialize self.  See help(type(self)) for accurate signature.\n",
      " |  \n",
      " |  get_skymodel(self, inds=None)\n",
      " |      Initialize :class:`pyradiosky.SkyModel` from current settings.\n",
      " |      \n",
      " |      Parameters\n",
      " |      ----------\n",
      " |      inds : range or index array\n",
      " |          Indices to select along the component axis.\n",
      " |  \n",
      " |  share(self, root=0)\n",
      " |      Share across MPI processes (requires mpi4py to use).\n",
      " |      \n",
      " |      All attributes are put in shared memory.\n",
      " |      \n",
      " |      Parameters\n",
      " |      ----------\n",
      " |      root : int\n",
      " |          Root rank on COMM_WORLD, from which data will be broadcast.\n",
      " |  \n",
      " |  subselect(self, inds)\n",
      " |      Subselect, returning a new SkyModelData object.\n",
      " |      \n",
      " |      Parameters\n",
      " |      ----------\n",
      " |      inds: range or index array\n",
      " |          Indices to select along the component axis.\n",
      " |      \n",
      " |      Returns\n",
      " |      -------\n",
      " |      SkyModelData\n",
      " |          A new SkyModelData with Ncomp axes downselected.\n",
      " |      \n",
      " |      Notes\n",
      " |      -----\n",
      " |      If inds is a range object, this method will avoid copying data in numpy arrays,\n",
      " |      such that the returned SkyModelData object carries views into the current object's arrays.\n",
      " |  \n",
      " |  ----------------------------------------------------------------------\n",
      " |  Data descriptors defined here:\n",
      " |  \n",
      " |  __dict__\n",
      " |      dictionary for instance variables (if defined)\n",
      " |  \n",
      " |  __weakref__\n",
      " |      list of weak references to the object (if defined)\n",
      " |  \n",
      " |  ----------------------------------------------------------------------\n",
      " |  Data and other attributes defined here:\n",
      " |  \n",
      " |  Ncomponents = None\n",
      " |  \n",
      " |  Nfreqs = None\n",
      " |  \n",
      " |  component_type = None\n",
      " |  \n",
      " |  dec = None\n",
      " |  \n",
      " |  filename = None\n",
      " |  \n",
      " |  flux_unit = None\n",
      " |  \n",
      " |  freq_array = None\n",
      " |  \n",
      " |  hpx_inds = None\n",
      " |  \n",
      " |  name = None\n",
      " |  \n",
      " |  nside = None\n",
      " |  \n",
      " |  polarized = None\n",
      " |  \n",
      " |  put_in_shared = ['stokes_I', 'stokes_Q', 'stokes_U', 'stokes_V', 'pola...\n",
      " |  \n",
      " |  pyradiosky_version_str = None\n",
      " |  \n",
      " |  ra = None\n",
      " |  \n",
      " |  reference_frequency = None\n",
      " |  \n",
      " |  spectral_index = None\n",
      " |  \n",
      " |  spectral_type = None\n",
      " |  \n",
      " |  stokes_I = None\n",
      " |  \n",
      " |  stokes_Q = None\n",
      " |  \n",
      " |  stokes_U = None\n",
      " |  \n",
      " |  stokes_V = None\n",
      "\n"
     ]
    }
   ],
   "source": [
    "help(diffuse_map_formatted)"
   ]
  },
  {
   "cell_type": "code",
   "execution_count": 35,
   "id": "d9150c79",
   "metadata": {},
   "outputs": [
    {
     "data": {
      "text/latex": [
       "$[[292.89401,~-337.91306,~-431.99438,~\\dots,~3361.8413,~1808.1879,~3043.9631]] \\; \\mathrm{\\frac{Jy}{sr}}$"
      ],
      "text/plain": [
       "<Quantity [[ 292.89401245, -337.91305542, -431.99438477, ...,\n",
       "            3361.84130859, 1808.18786621, 3043.96313477]] Jy / sr>"
      ]
     },
     "execution_count": 35,
     "metadata": {},
     "output_type": "execute_result"
    }
   ],
   "source": [
    "diffuse_map_formatted.stokes_Q"
   ]
  },
  {
   "cell_type": "code",
   "execution_count": null,
   "id": "3ec88b8e",
   "metadata": {},
   "outputs": [],
   "source": []
  }
 ],
 "metadata": {
  "kernelspec": {
   "display_name": "Python 3 (ipykernel)",
   "language": "python",
   "name": "python3"
  },
  "language_info": {
   "codemirror_mode": {
    "name": "ipython",
    "version": 3
   },
   "file_extension": ".py",
   "mimetype": "text/x-python",
   "name": "python",
   "nbconvert_exporter": "python",
   "pygments_lexer": "ipython3",
   "version": "3.8.8"
  }
 },
 "nbformat": 4,
 "nbformat_minor": 5
}
