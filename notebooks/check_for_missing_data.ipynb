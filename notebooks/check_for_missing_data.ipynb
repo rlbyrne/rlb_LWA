{
 "cells": [
  {
   "cell_type": "code",
   "execution_count": 2,
   "id": "5ddc0522",
   "metadata": {},
   "outputs": [],
   "source": [
    "import os\n",
    "import matplotlib.pyplot as plt\n",
    "import numpy as np"
   ]
  },
  {
   "cell_type": "code",
   "execution_count": 3,
   "id": "d47ea917",
   "metadata": {},
   "outputs": [],
   "source": [
    "year = \"2025\"\n",
    "month = \"05\"\n",
    "day = \"05\"\n",
    "min_time_str = \"123005\"\n",
    "max_time_str = \"123205\"\n",
    "\n",
    "use_freq_bands = [\n",
    "    \"41\",\n",
    "    \"46\",\n",
    "    \"50\",\n",
    "    \"55\",\n",
    "    \"59\",\n",
    "    \"64\",\n",
    "    \"69\",\n",
    "    \"73\",\n",
    "    \"78\",\n",
    "    \"82\",\n",
    "]\n",
    "all_time_stamps = []\n",
    "\n",
    "for use_freq in use_freq_bands:\n",
    "    datadir = f\"/lustre/pipeline/slow/{use_freq}MHz/{year}-{month}-{day}/12\"\n",
    "    all_files = os.listdir(datadir)\n",
    "    time_stamps = np.array([int(filename.split(\"_\")[1]) for filename in all_files])\n",
    "    all_time_stamps.append(time_stamps)"
   ]
  },
  {
   "cell_type": "code",
   "execution_count": 4,
   "id": "6a43e055",
   "metadata": {},
   "outputs": [],
   "source": [
    "all_time_stamps_flattened = np.array([x for array in all_time_stamps for x in array])"
   ]
  },
  {
   "cell_type": "code",
   "execution_count": 5,
   "id": "77b5bc4d",
   "metadata": {},
   "outputs": [
    {
     "data": {
      "text/plain": [
       "125959"
      ]
     },
     "execution_count": 5,
     "metadata": {},
     "output_type": "execute_result"
    }
   ],
   "source": [
    "np.min(all_time_stamps_flattened)\n",
    "np.max(all_time_stamps_flattened)"
   ]
  },
  {
   "cell_type": "code",
   "execution_count": null,
   "id": "be381543",
   "metadata": {},
   "outputs": [],
   "source": [
    "n_time_steps = int(np.ceil((np.max(all_time_stamps_flattened)-np.min(all_time_stamps_flattened))/10))\n",
    "target_times = np.array([np.min(all_time_stamps_flattened) + time_step * 10 for time_step in range(n_time_steps)])\n",
    "n_channels_present = np.zeros(n_time_steps)\n",
    "for time_step in range(n_time_steps):\n",
    "    for freq_ind in range(len(use_freq_bands)):\n",
    "        if np.min(np.abs(np.array(all_time_stamps[freq_ind])-target_times[time_step])) < 10:  # Should use datetime objects\n",
    "            n_channels_present[time_step] += 1"
   ]
  },
  {
   "cell_type": "code",
   "execution_count": 24,
   "id": "bd150b3e",
   "metadata": {},
   "outputs": [
    {
     "data": {
      "image/png": "[encoded data removed]",
      "text/plain": [
       "<Figure size 640x480 with 1 Axes>"
      ]
     },
     "metadata": {},
     "output_type": "display_data"
    }
   ],
   "source": [
    "plt.plot(target_times, n_channels_present, \".\")\n",
    "plt.xlim((120000, 121000))\n",
    "plt.show()"
   ]
  },
  {
   "cell_type": "code",
   "execution_count": null,
   "id": "95bdcd59",
   "metadata": {},
   "outputs": [],
   "source": []
  }
 ],
 "metadata": {
  "kernelspec": {
   "display_name": "py310",
   "language": "python",
   "name": "python3"
  },
  "language_info": {
   "codemirror_mode": {
    "name": "ipython",
    "version": 3
   },
   "file_extension": ".py",
   "mimetype": "text/x-python",
   "name": "python",
   "nbconvert_exporter": "python",
   "pygments_lexer": "ipython3",
   "version": "3.10.14"
  }
 },
 "nbformat": 4,
 "nbformat_minor": 5
}
