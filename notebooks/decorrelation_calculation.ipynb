{
 "cells": [
  {
   "cell_type": "code",
   "execution_count": 1,
   "id": "0dbe8de7",
   "metadata": {},
   "outputs": [],
   "source": [
    "import numpy as np"
   ]
  },
  {
   "cell_type": "code",
   "execution_count": 2,
   "id": "f29cfaad",
   "metadata": {},
   "outputs": [],
   "source": [
    "c = 3.*10**8  # Speed of light\n",
    "ang_vel = 7.27*10**-5  # Earth's angular velocity (rad/s)\n",
    "int_time = 10.  # Integration time (s)\n",
    "min_frequency = 12. * 1e6  # Hz\n",
    "max_frequency = 85. * 1e6  # Hz\n",
    "chan_width = 24. * 1e3  # Hz\n",
    "lat = np.radians(37.2)  # Telescope latitude (rad)\n",
    "bl_length = 2400.  # Max baseline length (m)"
   ]
  },
  {
   "cell_type": "code",
   "execution_count": 3,
   "id": "8382625b",
   "metadata": {},
   "outputs": [],
   "source": [
    "z = np.radians(0.)  # Source zenith angle (rad)\n",
    "decorr = 1 - c/(np.pi*int_time*ang_vel*np.cos(lat+z)*np.cos(z)*bl_length*max_frequency)*np.sin(np.pi*int_time*ang_vel*np.cos(lat+z)*np.cos(z)*bl_length*max_frequency/c)"
   ]
  },
  {
   "cell_type": "code",
   "execution_count": 4,
   "id": "aedad7b7",
   "metadata": {},
   "outputs": [
    {
     "name": "stdout",
     "output_type": "stream",
     "text": [
      "0.23623802363377644\n"
     ]
    }
   ],
   "source": [
    "print(decorr)"
   ]
  },
  {
   "cell_type": "code",
   "execution_count": null,
   "id": "f6438a5e",
   "metadata": {},
   "outputs": [],
   "source": []
  }
 ],
 "metadata": {
  "kernelspec": {
   "display_name": "Python 3 (ipykernel)",
   "language": "python",
   "name": "python3"
  },
  "language_info": {
   "codemirror_mode": {
    "name": "ipython",
    "version": 3
   },
   "file_extension": ".py",
   "mimetype": "text/x-python",
   "name": "python",
   "nbconvert_exporter": "python",
   "pygments_lexer": "ipython3",
   "version": "3.8.8"
  }
 },
 "nbformat": 4,
 "nbformat_minor": 5
}
