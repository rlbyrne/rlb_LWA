{
 "cells": [
  {
   "cell_type": "code",
   "execution_count": 1,
   "id": "dabadeae",
   "metadata": {},
   "outputs": [],
   "source": [
    "import pyradiosky\n",
    "import numpy as np\n",
    "import astropy.units as units\n",
    "from astropy.units import Quantity\n",
    "from astropy.coordinates import Latitude, Longitude, SkyCoord\n",
    "import pyuvdata"
   ]
  },
  {
   "cell_type": "code",
   "execution_count": 2,
   "id": "53c62e8e",
   "metadata": {},
   "outputs": [],
   "source": [
    "catalog_savepath = \"/Users/ruby/Astro/polarized_source_sims_Feb2022/polarized_source.skyh5\"\n",
    "\n",
    "zen_ra = 0.\n",
    "zen_dec = -26.7\n",
    "\n",
    "source_dist_from_zenith = 10.\n",
    "source_angle = 135."
   ]
  },
  {
   "cell_type": "code",
   "execution_count": 3,
   "id": "a6acd325",
   "metadata": {},
   "outputs": [],
   "source": [
    "zen_theta = 90.-zen_dec"
   ]
  },
  {
   "cell_type": "code",
   "execution_count": 4,
   "id": "7b280205",
   "metadata": {},
   "outputs": [],
   "source": [
    "source_rotated_frame_coords = np.array([\n",
    "    np.sin(np.radians(source_dist_from_zenith))*np.cos(np.radians(source_angle)),\n",
    "    np.sin(np.radians(source_dist_from_zenith))*np.sin(np.radians(source_angle)),\n",
    "    np.cos(np.radians(source_dist_from_zenith))\n",
    "])\n",
    "rot_mat = np.array([\n",
    "    [np.cos(np.radians(zen_theta)), 0, -np.sin(np.radians(zen_theta))],\n",
    "    [0., 1., 0.],\n",
    "    [np.sin(np.radians(zen_theta)), 0, np.cos(np.radians(zen_theta))],\n",
    "], dtype=float)\n",
    "rot_mat_inv = np.linalg.inv(rot_mat)"
   ]
  },
  {
   "cell_type": "code",
   "execution_count": 5,
   "id": "edc20ef8",
   "metadata": {},
   "outputs": [],
   "source": [
    "source_coords = np.matmul(rot_mat_inv, source_rotated_frame_coords)"
   ]
  },
  {
   "cell_type": "code",
   "execution_count": 6,
   "id": "77fde12b",
   "metadata": {},
   "outputs": [],
   "source": [
    "source_theta = np.degrees(np.arccos(source_coords[2]))\n",
    "source_phi = np.degrees(np.arctan(source_coords[1]/source_coords[0]))"
   ]
  },
  {
   "cell_type": "code",
   "execution_count": 7,
   "id": "fc83e5cb",
   "metadata": {},
   "outputs": [],
   "source": [
    "source_dec = 90.-source_theta\n",
    "source_ra = 360.+zen_ra-source_phi"
   ]
  },
  {
   "cell_type": "code",
   "execution_count": 8,
   "id": "98ab2395",
   "metadata": {},
   "outputs": [
    {
     "name": "stdout",
     "output_type": "stream",
     "text": [
      "352.51827221039343\n",
      "-19.438674107505264\n"
     ]
    }
   ],
   "source": [
    "print(source_ra)\n",
    "print(source_dec)"
   ]
  },
  {
   "cell_type": "code",
   "execution_count": 9,
   "id": "25d6757d",
   "metadata": {},
   "outputs": [],
   "source": [
    "nsources = 1\n",
    "nfreqs = 1\n",
    "flux = 10.\n",
    "stokes_q_pol_fraction = 0.5\n",
    "freq_mhz = 182.\n",
    "spec_index = 0.\n",
    "cat_stokes = Quantity(np.zeros((4, nfreqs, nsources), dtype=float), \"Jy\")\n",
    "cat_stokes[0, 0, 0] = flux * units.Jy\n",
    "cat_stokes[1, 0, 0] = stokes_q_pol_fraction * flux * units.Jy\n",
    "cat_spectral_index = np.full(nsources, spec_index)\n",
    "cat_name = np.array([\"pol_source\"])\n",
    "cat_RA = np.array([source_ra])\n",
    "cat_Dec = np.array([source_dec])\n",
    "\n",
    "catalog = pyradiosky.SkyModel(\n",
    "    name=cat_name,\n",
    "    ra=Longitude(cat_RA, units.deg),\n",
    "    dec=Latitude(cat_Dec, units.deg),\n",
    "    stokes=cat_stokes,\n",
    "    spectral_type=\"spectral_index\",\n",
    "    reference_frequency=Quantity(np.full(nsources, freq_mhz * 1e6), \"hertz\"),\n",
    "    spectral_index=cat_spectral_index,\n",
    ")\n",
    "if not catalog.check():\n",
    "    print(\"ERROR: Catalog check failed.\")\n",
    "\n",
    "catalog.write_skyh5(catalog_savepath)"
   ]
  },
  {
   "cell_type": "code",
   "execution_count": 10,
   "id": "96f43259",
   "metadata": {},
   "outputs": [],
   "source": [
    "# Write beam model as beamfits file\n",
    "# Don't actually do this because there isn't enough space on my laptop\n",
    "#mwa_beam = pyuvdata.UVBeam()\n",
    "#mwa_beam.read_mwa_beam(\"/Users/ruby/Astro/polarized_source_sims_Feb2022/mwa_full_embedded_element_pattern.h5\")\n",
    "#mwa_beam.write_beamfits(\"/Users/ruby/Astro/polarized_source_sims_Feb2022/mwa_full_embedded_element_pattern.fits\")"
   ]
  },
  {
   "cell_type": "code",
   "execution_count": 11,
   "id": "ddccdfed",
   "metadata": {},
   "outputs": [],
   "source": [
    "# Also tough for my laptop, run on Wario instead\n",
    "#uv = pyuvdata.UVData()\n",
    "#uv.read_uvfits(\"/users/ruby/Astro/1061316296.uvfits\")\n",
    "#pyuvsim.uvdata_to_config_file(uv, path_out=\"/Users/ruby/Astro/polarized_source_sims_Feb2022/\")\n",
    "#pyuvsim.uvdata_to_telescope_config(uv, path_out=\"/Users/ruby/Astro/polarized_source_sims_Feb2022/\")"
   ]
  },
  {
   "cell_type": "code",
   "execution_count": 12,
   "id": "66390721",
   "metadata": {},
   "outputs": [
    {
     "data": {
      "text/plain": [
       "1.964296613420759"
      ]
     },
     "execution_count": 12,
     "metadata": {},
     "output_type": "execute_result"
    }
   ],
   "source": [
    "(2456528.2545138896-2456528.2532407343)*(24*60*60)/56."
   ]
  },
  {
   "cell_type": "code",
   "execution_count": null,
   "id": "5a53dc37",
   "metadata": {},
   "outputs": [],
   "source": []
  }
 ],
 "metadata": {
  "kernelspec": {
   "display_name": "Python 3 (ipykernel)",
   "language": "python",
   "name": "python3"
  },
  "language_info": {
   "codemirror_mode": {
    "name": "ipython",
    "version": 3
   },
   "file_extension": ".py",
   "mimetype": "text/x-python",
   "name": "python",
   "nbconvert_exporter": "python",
   "pygments_lexer": "ipython3",
   "version": "3.8.8"
  }
 },
 "nbformat": 4,
 "nbformat_minor": 5
}
