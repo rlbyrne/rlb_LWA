{
 "cells": [
  {
   "cell_type": "code",
   "execution_count": 1,
   "id": "9c948c7c",
   "metadata": {},
   "outputs": [],
   "source": [
    "import numpy as np\n",
    "import matplotlib.pyplot as plt\n",
    "import sys\n",
    "import scipy\n",
    "import scipy.optimize\n",
    "import pyuvdata\n",
    "import time"
   ]
  },
  {
   "cell_type": "code",
   "execution_count": 2,
   "id": "165bd270",
   "metadata": {},
   "outputs": [],
   "source": [
    "def get_test_data():\n",
    "\n",
    "    model_path = '/Users/ruby/Astro/fhd_rlb_model_GLEAM_Aug2021'\n",
    "    model_use_model = True\n",
    "    data_path = '/Users/ruby/Astro/fhd_rlb_model_GLEAM_Aug2021'\n",
    "    data_use_model = True\n",
    "    obsid = '1061316296'\n",
    "    pol = 'XX'\n",
    "\n",
    "    model_filelist = ['{}/{}'.format(model_path, file) for file in [\n",
    "        'vis_data/{}_vis_{}.sav'.format(obsid, pol),\n",
    "        'vis_data/{}_vis_model_{}.sav'.format(obsid, pol),\n",
    "        'vis_data/{}_flags.sav'.format(obsid),\n",
    "        'metadata/{}_params.sav'.format(obsid),\n",
    "        'metadata/{}_settings.txt'.format(obsid),\n",
    "        'metadata/{}_layout.sav'.format(obsid)\n",
    "    ]]\n",
    "    data_filelist = ['{}/{}'.format(data_path, file) for file in [\n",
    "        'vis_data/{}_vis_{}.sav'.format(obsid, pol),\n",
    "        'vis_data/{}_vis_model_{}.sav'.format(obsid, pol),\n",
    "        'vis_data/{}_flags.sav'.format(obsid),\n",
    "        'metadata/{}_params.sav'.format(obsid),\n",
    "        'metadata/{}_settings.txt'.format(obsid),\n",
    "        'metadata/{}_layout.sav'.format(obsid)\n",
    "    ]]\n",
    "\n",
    "    model = pyuvdata.UVData()\n",
    "    print('Reading model...')\n",
    "    model.read_fhd(model_filelist, use_model=model_use_model)\n",
    "    if data_path != model_path or model_use_model != data_use_model:\n",
    "        data = pyuvdata.UVData()\n",
    "        print('Reading data...')\n",
    "        data.read_fhd(data_filelist, use_model=data_use_model)\n",
    "        print('Done.')\n",
    "    else:\n",
    "        print('Using model for data')\n",
    "        data = model.copy()\n",
    "\n",
    "    # For testing, use one time and frequency only\n",
    "    use_time = data.time_array[200000]\n",
    "    #use_frequencies = data.freq_array[0, 100]\n",
    "    #data.select(times=use_time, frequencies=use_frequencies)\n",
    "    #model.select(times=use_time, frequencies=use_frequencies)\n",
    "    data.select(times=use_time)\n",
    "    model.select(times=use_time)\n",
    "\n",
    "    # Need to check that the baseline ordering agrees between model and data\n",
    "\n",
    "    return data, model"
   ]
  },
  {
   "cell_type": "code",
   "execution_count": 3,
   "id": "9a18e696",
   "metadata": {},
   "outputs": [],
   "source": [
    "def initialize_cal(data):\n",
    "\n",
    "    cal = pyuvdata.UVCal()\n",
    "    cal.Nants_data = data.Nants_data\n",
    "    cal.Nants_telescope = data.Nants_telescope\n",
    "    cal.Nfreqs = data.Nfreqs\n",
    "    cal.Njones = 1\n",
    "    cal.Nspws = 1\n",
    "    cal.Ntimes = 1\n",
    "    cal.ant_array = np.intersect1d(data.ant_1_array, data.ant_2_array)\n",
    "    cal.antenna_names = data.antenna_names\n",
    "    cal.antenna_numbers = data.antenna_numbers\n",
    "    cal.cal_style = 'sky'\n",
    "    cal.cal_type = 'gain'\n",
    "    cal.channel_width = data.channel_width\n",
    "    cal.freq_array = data.freq_array\n",
    "    cal.gain_convention = 'divide'\n",
    "    cal.history = ''\n",
    "    cal.integration_time = np.mean(data.integration_time)\n",
    "    cal.jones_array = np.array([-5])\n",
    "    cal.spw_array = data.spw_array\n",
    "    cal.telescope_name = data.telescope_name\n",
    "    cal.time_array = np.array([np.mean(data.time_array)])\n",
    "    cal.x_orientation = 'east'\n",
    "    cal.gain_array = np.full((\n",
    "        cal.Nants_data, cal.Nspws, cal.Nfreqs, cal.Ntimes, cal.Njones\n",
    "    ), 1, dtype=complex)\n",
    "    cal.flag_array = np.full((\n",
    "        cal.Nants_data, cal.Nspws, cal.Nfreqs, cal.Ntimes, cal.Njones\n",
    "    ), False, dtype=bool)\n",
    "    cal.quality_array = np.full((\n",
    "        cal.Nants_data, cal.Nspws, cal.Nfreqs, cal.Ntimes, cal.Njones\n",
    "    ), 1., dtype=float)\n",
    "    cal.ref_antenna_name = ''\n",
    "    cal.sky_catalog = 'GLEAM_bright_sources'\n",
    "    cal.sky_field = 'phase center (RA, Dec): ({}, {})'.format(\n",
    "        np.degrees(np.mean(data.phase_center_app_ra)),\n",
    "        np.degrees(np.mean(data.phase_center_app_dec))\n",
    "    )\n",
    "\n",
    "    if not cal.check():\n",
    "        print('ERROR: UVCal check failed.')\n",
    "        sys.exit(1)\n",
    "\n",
    "    return cal"
   ]
  },
  {
   "cell_type": "code",
   "execution_count": 4,
   "id": "35d1cf98",
   "metadata": {},
   "outputs": [
    {
     "name": "stdout",
     "output_type": "stream",
     "text": [
      "Reading model...\n"
     ]
    },
    {
     "name": "stderr",
     "output_type": "stream",
     "text": [
      "Telescope location derived from obs lat/lon/alt values does not match the location in the layout file. Using the value from known_telescopes.\n",
      "tile_names from obs structure does not match antenna_names from layout\n"
     ]
    },
    {
     "name": "stdout",
     "output_type": "stream",
     "text": [
      "Using model for data\n",
      "(8128, 384, 384)\n"
     ]
    }
   ],
   "source": [
    "data, model = get_test_data()\n",
    "\n",
    "cal = initialize_cal(data)\n",
    "\n",
    "# Create gains expand matrices\n",
    "gains_exp_mat_1 = np.zeros((data.Nblts, cal.Nants_data), dtype=int)\n",
    "gains_exp_mat_2 = np.zeros((data.Nblts, cal.Nants_data), dtype=int)\n",
    "antenna_list = np.unique([data.ant_1_array, data.ant_2_array])\n",
    "for baseline in range(data.Nblts):\n",
    "    gains_exp_mat_1[\n",
    "        baseline, np.where(antenna_list == data.ant_1_array[baseline])\n",
    "    ] = 1\n",
    "    gains_exp_mat_2[\n",
    "        baseline, np.where(antenna_list == data.ant_2_array[baseline])\n",
    "    ] = 1\n",
    "\n",
    "# Initialize gains\n",
    "gain_init_noise = .1\n",
    "gains_init = (np.random.normal(\n",
    "    1., gain_init_noise, size=(cal.Nants_data, cal.Nfreqs)\n",
    ") + 1.j*np.random.normal(\n",
    "    0., gain_init_noise, size=(cal.Nants_data, cal.Nfreqs)\n",
    "))\n",
    "\n",
    "# Define covariance matrix\n",
    "cov_mat = np.identity(cal.Nfreqs)\n",
    "cov_mat = np.repeat(cov_mat[np.newaxis, :, :], data.Nblts, axis=0)\n",
    "print(np.shape(cov_mat))\n",
    "\n",
    "# Ensure that the angle of the gains is mean-zero for each frequency\n",
    "#avg_angle = np.arctan2(\n",
    "#    np.mean(np.sin(np.angle(gains_fit)), axis=0),\n",
    "#    np.mean(np.cos(np.angle(gains_fit)), axis=0)\n",
    "#)\n",
    "#gains_fit *= np.cos(avg_angle) - 1j*np.sin(avg_angle)"
   ]
  },
  {
   "cell_type": "code",
   "execution_count": 5,
   "id": "34cf0d30",
   "metadata": {},
   "outputs": [],
   "source": [
    "gains = gains_init\n",
    "model_vis = np.squeeze(model.data_array, axis=(1,3)) # Remove spw and pol axes\n",
    "data_vis = np.squeeze(data.data_array, axis=(1,3))\n"
   ]
  },
  {
   "cell_type": "code",
   "execution_count": 6,
   "id": "bbbf8d38",
   "metadata": {},
   "outputs": [],
   "source": [
    "def calculate_grad_real(gains_exp_mat_1, gains_exp_mat_2, gains, data_vis, model_vis, cov_mat):\n",
    "    gains1_expanded = np.matmul(gains_exp_mat_1, gains)\n",
    "    gains2_expanded = np.matmul(gains_exp_mat_2, gains)\n",
    "    term1_part1 = -np.conj(gains1_expanded*model_vis)\n",
    "    term2_part1 = -gains2_expanded*np.conj(model_vis)\n",
    "    cost_term = data_vis - gains1_expanded*np.conj(gains2_expanded)*model_vis\n",
    "    weighted_part2 = np.squeeze(np.matmul(cost_term[:, np.newaxis, :], cov_mat))\n",
    "    term1 = np.matmul(gains_exp_mat_2.T, term1_part1*weighted_part2)\n",
    "    term2 = np.matmul(gains_exp_mat_1.T, term2_part1*weighted_part2)\n",
    "    grad = 2*np.real(term1 + term2)\n",
    "    return grad"
   ]
  },
  {
   "cell_type": "code",
   "execution_count": 7,
   "id": "bf7849aa",
   "metadata": {},
   "outputs": [],
   "source": [
    "def calculate_grad_imag(gains_exp_mat_1, gains_exp_mat_2, gains, data_vis, model_vis, cov_mat):\n",
    "    gains1_expanded = np.matmul(gains_exp_mat_1, gains)\n",
    "    gains2_expanded = np.matmul(gains_exp_mat_2, gains)\n",
    "    term1_part1 = -1.j*np.conj(gains1_expanded*model_vis)\n",
    "    term2_part1 = 1.j*gains2_expanded*np.conj(model_vis)\n",
    "    cost_term = data_vis - gains1_expanded*np.conj(gains2_expanded)*model_vis\n",
    "    weighted_part2 = np.squeeze(np.matmul(cost_term[:, np.newaxis, :], cov_mat))\n",
    "    term1 = np.matmul(gains_exp_mat_2.T, term1_part1*weighted_part2)\n",
    "    term2 = np.matmul(gains_exp_mat_1.T, term2_part1*weighted_part2)\n",
    "    grad = 2*np.real(term1 + term2)\n",
    "    return grad"
   ]
  },
  {
   "cell_type": "code",
   "execution_count": 8,
   "id": "db93a149",
   "metadata": {},
   "outputs": [],
   "source": [
    "def calculate_negloglikelihood(gains_exp_mat_1, gains_exp_mat_2, gains, data_vis, model_vis, cov_mat):\n",
    "    gains1_expanded = np.matmul(gains_exp_mat_1, gains)\n",
    "    gains2_expanded = np.matmul(gains_exp_mat_2, gains)\n",
    "    cost_term = data_vis - gains1_expanded*np.conj(gains2_expanded)*model_vis\n",
    "    weighted_part2 = np.squeeze(np.matmul(cost_term[:, np.newaxis, :], cov_mat))\n",
    "    negloglikelihood = np.real(np.sum(np.conj(cost_term)*weighted_part2))\n",
    "    return negloglikelihood"
   ]
  },
  {
   "cell_type": "code",
   "execution_count": 9,
   "id": "33ccb4e2",
   "metadata": {},
   "outputs": [
    {
     "name": "stdout",
     "output_type": "stream",
     "text": [
      "-555580.849647522\n",
      "-555580.8577801876\n"
     ]
    }
   ],
   "source": [
    "# Test real gradient calculation\n",
    "delta_gains = 0.0001\n",
    "gains0 = np.copy(gains)\n",
    "gains0[100, 200] -= delta_gains/2.\n",
    "gains1 = np.copy(gains)\n",
    "gains1[100, 200] += delta_gains/2.\n",
    "negloglikelihood0 = calculate_negloglikelihood(gains_exp_mat_1, gains_exp_mat_2, gains0, data_vis, model_vis, cov_mat)\n",
    "negloglikelihood1 = calculate_negloglikelihood(gains_exp_mat_1, gains_exp_mat_2, gains1, data_vis, model_vis, cov_mat)\n",
    "grad_real = calculate_grad_real(gains_exp_mat_1, gains_exp_mat_2, gains, data_vis, model_vis, cov_mat)\n",
    "print((negloglikelihood1-negloglikelihood0)/delta_gains)\n",
    "print(grad_real[100, 200])"
   ]
  },
  {
   "cell_type": "code",
   "execution_count": 10,
   "id": "e87bc081",
   "metadata": {},
   "outputs": [
    {
     "name": "stdout",
     "output_type": "stream",
     "text": [
      "106899.2805480957\n",
      "106899.27746565267\n"
     ]
    }
   ],
   "source": [
    "# Test imaginary gradient calculation\n",
    "delta_gains = 0.0001\n",
    "gains0 = np.copy(gains)\n",
    "gains0[100, 200] -= 1j*delta_gains/2.\n",
    "gains1 = np.copy(gains)\n",
    "gains1[100, 200] += 1j*delta_gains/2.\n",
    "negloglikelihood0 = calculate_negloglikelihood(gains_exp_mat_1, gains_exp_mat_2, gains0, data_vis, model_vis, cov_mat)\n",
    "negloglikelihood1 = calculate_negloglikelihood(gains_exp_mat_1, gains_exp_mat_2, gains1, data_vis, model_vis, cov_mat)\n",
    "grad_imag = calculate_grad_imag(gains_exp_mat_1, gains_exp_mat_2, gains, data_vis, model_vis, cov_mat)\n",
    "print((negloglikelihood1-negloglikelihood0)/delta_gains)\n",
    "print(grad_imag[100, 200])"
   ]
  },
  {
   "cell_type": "code",
   "execution_count": 11,
   "id": "cac0ab78",
   "metadata": {},
   "outputs": [
    {
     "data": {
      "text/plain": [
       "(8128, 384, 384)"
      ]
     },
     "execution_count": 11,
     "metadata": {},
     "output_type": "execute_result"
    }
   ],
   "source": [
    "np.shape(cov_mat)"
   ]
  },
  {
   "cell_type": "code",
   "execution_count": null,
   "id": "f5d2e5fc",
   "metadata": {},
   "outputs": [],
   "source": []
  }
 ],
 "metadata": {
  "kernelspec": {
   "display_name": "Python 3",
   "language": "python",
   "name": "python3"
  },
  "language_info": {
   "codemirror_mode": {
    "name": "ipython",
    "version": 3
   },
   "file_extension": ".py",
   "mimetype": "text/x-python",
   "name": "python",
   "nbconvert_exporter": "python",
   "pygments_lexer": "ipython3",
   "version": "3.8.8"
  }
 },
 "nbformat": 4,
 "nbformat_minor": 5
}
